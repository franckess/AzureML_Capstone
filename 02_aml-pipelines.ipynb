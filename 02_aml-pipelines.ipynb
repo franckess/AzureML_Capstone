{
 "cells": [
  {
   "cell_type": "markdown",
   "metadata": {},
   "source": [
    "Copyright (c) Microsoft Corporation. All rights reserved.  \n",
    "Licensed under the MIT License."
   ]
  },
  {
   "cell_type": "markdown",
   "metadata": {},
   "source": [
    "![Impressions](https://PixelServer20190423114238.azurewebsites.net/api/impressions/NotebookVM/how-to-use-azureml/machine-learning-pipelines/intro-to-pipelines/aml-pipelines-with-automated-machine-learning-step.png)"
   ]
  },
  {
   "cell_type": "markdown",
   "metadata": {},
   "source": [
    "# Udacity Capstone Project: Azure AutoML\n",
    "This notebook demonstrates the use of AutoML in Azure Machine Learning Pipeline for the Udacity capstone project."
   ]
  },
  {
   "cell_type": "markdown",
   "metadata": {},
   "source": [
    "## Introduction\n",
    "In this example we showcase how you can use AzureML Dataset to load data for AutoML via AML Pipeline. \n",
    "\n",
    "If you are using an Azure Machine Learning Notebook VM, you are all set. Otherwise, make sure you have executed the [configuration](https://aka.ms/pl-config) before running this notebook.\n",
    "\n",
    "In this notebook you will learn how to:\n",
    "1. Create an `Experiment` in an existing `Workspace`.\n",
    "2. Create or Attach existing AmlCompute to a workspace.\n",
    "3. Define data loading in a `TabularDataset`.\n",
    "4. Configure AutoML using `AutoMLConfig`.\n",
    "5. Use AutoMLStep\n",
    "6. Train the model using AmlCompute\n",
    "7. Explore the results.\n",
    "8. Test the best fitted model."
   ]
  },
  {
   "cell_type": "markdown",
   "metadata": {},
   "source": [
    "## Azure Machine Learning and Pipeline SDK-specific imports"
   ]
  },
  {
   "cell_type": "code",
   "execution_count": 2,
   "metadata": {},
   "outputs": [
    {
     "name": "stdout",
     "output_type": "stream",
     "text": [
      "System version: 3.6.13 |Anaconda, Inc.| (default, Feb 23 2021, 12:58:59) \n",
      "[GCC Clang 10.0.0 ]\n",
      "SDK version: 1.23.0\n"
     ]
    }
   ],
   "source": [
    "import os\n",
    "import sys\n",
    "import json\n",
    "import azureml\n",
    "import logging\n",
    "import pickle\n",
    "import requests\n",
    "import pandas as pd\n",
    "import numpy as np\n",
    "from io import BytesIO\n",
    "from sklearn.externals import joblib\n",
    "from sklearn.metrics import confusion_matrix\n",
    "from pprint import pprint\n",
    "from matplotlib import pyplot as plt\n",
    "from train import *\n",
    "\n",
    "\n",
    "import azureml.core\n",
    "from azureml.core.experiment import Experiment\n",
    "from azureml.core.workspace import Workspace\n",
    "from azureml.train.automl import AutoMLConfig\n",
    "from azureml.automl.core.featurization import FeaturizationConfig\n",
    "from azureml.core.authentication import InteractiveLoginAuthentication\n",
    "from azureml.core import Workspace, Dataset\n",
    "from azureml.data.datapath import DataPath\n",
    "\n",
    "from azureml.widgets import RunDetails\n",
    "from azureml.train.automl import constants\n",
    "from azureml.pipeline.steps import AutoMLStep\n",
    "from azureml.pipeline.core import PipelineData, TrainingOutput\n",
    "from azureml.pipeline.core import Pipeline\n",
    "\n",
    "# Model deployment\n",
    "from azureml.core.model import InferenceConfig\n",
    "from azureml.core.webservice import AciWebservice\n",
    "from azureml.core.webservice import Webservice\n",
    "from azureml.core.model import Model\n",
    "\n",
    "import warnings\n",
    "warnings.filterwarnings(\"ignore\")\n",
    "\n",
    "pd.set_option('display.max_rows', None)\n",
    "\n",
    "# Check system and core SDK version number\n",
    "print(\"System version: {}\".format(sys.version))\n",
    "print(\"SDK version:\", azureml.core.VERSION)"
   ]
  },
  {
   "cell_type": "markdown",
   "metadata": {},
   "source": [
    "## Initialize Workspace\n",
    "Initialize a workspace object from persisted configuration. Make sure the config file is present at .\\config.json"
   ]
  },
  {
   "cell_type": "code",
   "execution_count": 3,
   "metadata": {},
   "outputs": [
    {
     "data": {
      "text/html": [
       "<table style=\"width:100%\"><tr><th>Name</th><th>Workspace</th><th>Report Page</th><th>Docs Page</th></tr><tr><td>online_news_project</td><td>quick-starts-ws-142415</td><td><a href=\"https://ml.azure.com/experiments/online_news_project?wsid=/subscriptions/81cefad3-d2c9-4f77-a466-99a7f541c7bb/resourcegroups/aml-quickstarts-142415/workspaces/quick-starts-ws-142415\" target=\"_blank\" rel=\"noopener\">Link to Azure Machine Learning studio</a></td><td><a href=\"https://docs.microsoft.com/en-us/python/api/azureml-core/azureml.core.experiment.Experiment?view=azure-ml-py\" target=\"_blank\" rel=\"noopener\">Link to Documentation</a></td></tr></table>"
      ],
      "text/plain": [
       "Experiment(Name: online_news_project,\n",
       "Workspace: quick-starts-ws-142415)"
      ]
     },
     "execution_count": 3,
     "metadata": {},
     "output_type": "execute_result"
    }
   ],
   "source": [
    "interactive_auth = InteractiveLoginAuthentication(tenant_id=\"660b3398-b80e-49d2-bc5b-ac1dc93b5254\")\n",
    "ws = Workspace(subscription_id=\"81cefad3-d2c9-4f77-a466-99a7f541c7bb\",\n",
    "                   resource_group=\"aml-quickstarts-142415\",\n",
    "                   workspace_name=\"quick-starts-ws-142415\",\n",
    "                   auth=interactive_auth)\n",
    "\n",
    "experiment_name = 'online_news_project'\n",
    "experiment=Experiment(ws, experiment_name)\n",
    "experiment"
   ]
  },
  {
   "cell_type": "code",
   "execution_count": 4,
   "metadata": {},
   "outputs": [
    {
     "data": {
      "text/html": [
       "<div>\n",
       "<style scoped>\n",
       "    .dataframe tbody tr th:only-of-type {\n",
       "        vertical-align: middle;\n",
       "    }\n",
       "\n",
       "    .dataframe tbody tr th {\n",
       "        vertical-align: top;\n",
       "    }\n",
       "\n",
       "    .dataframe thead th {\n",
       "        text-align: right;\n",
       "    }\n",
       "</style>\n",
       "<table border=\"1\" class=\"dataframe\">\n",
       "  <thead>\n",
       "    <tr style=\"text-align: right;\">\n",
       "      <th></th>\n",
       "      <th></th>\n",
       "    </tr>\n",
       "  </thead>\n",
       "  <tbody>\n",
       "    <tr>\n",
       "      <th>Workspace name</th>\n",
       "      <td>quick-starts-ws-142415</td>\n",
       "    </tr>\n",
       "    <tr>\n",
       "      <th>Azure region</th>\n",
       "      <td>southcentralus</td>\n",
       "    </tr>\n",
       "    <tr>\n",
       "      <th>Subscription id</th>\n",
       "      <td>81cefad3-d2c9-4f77-a466-99a7f541c7bb</td>\n",
       "    </tr>\n",
       "    <tr>\n",
       "      <th>Resource group</th>\n",
       "      <td>aml-quickstarts-142415</td>\n",
       "    </tr>\n",
       "    <tr>\n",
       "      <th>Experiment Name</th>\n",
       "      <td>online_news_project</td>\n",
       "    </tr>\n",
       "  </tbody>\n",
       "</table>\n",
       "</div>"
      ],
      "text/plain": [
       "                                                     \n",
       "Workspace name                 quick-starts-ws-142415\n",
       "Azure region                           southcentralus\n",
       "Subscription id  81cefad3-d2c9-4f77-a466-99a7f541c7bb\n",
       "Resource group                 aml-quickstarts-142415\n",
       "Experiment Name                   online_news_project"
      ]
     },
     "execution_count": 4,
     "metadata": {},
     "output_type": "execute_result"
    }
   ],
   "source": [
    "dic_data = {'Workspace name': ws.name,\n",
    "            'Azure region': ws.location,\n",
    "            'Subscription id': ws.subscription_id,\n",
    "            'Resource group': ws.resource_group,\n",
    "            'Experiment Name': experiment.name}\n",
    "\n",
    "az_data = pd.DataFrame.from_dict(data = dic_data, orient='index')\n",
    "az_data.rename(columns={0:''}, inplace = True)\n",
    "az_data"
   ]
  },
  {
   "cell_type": "markdown",
   "metadata": {},
   "source": [
    "### Create or Attach an AmlCompute cluster\n",
    "You will need to create a [compute target](https://docs.microsoft.com/azure/machine-learning/service/concept-azure-machine-learning-architecture#compute-target) for your AutoML run. In this tutorial, you get the default `AmlCompute` as your training compute resource.\n",
    "\n",
    "**Udacity Note** There is no need to create a new compute target, it can re-use the previous cluster"
   ]
  },
  {
   "cell_type": "code",
   "execution_count": 5,
   "metadata": {},
   "outputs": [
    {
     "name": "stdout",
     "output_type": "stream",
     "text": [
      "Found existing cpu-cluster. Use it.\n",
      "Succeeded\n",
      "AmlCompute wait for completion finished\n",
      "\n",
      "Minimum number of nodes requested have been provisioned\n",
      "{'currentNodeCount': 1, 'targetNodeCount': 1, 'nodeStateCounts': {'preparingNodeCount': 0, 'runningNodeCount': 0, 'idleNodeCount': 1, 'unusableNodeCount': 0, 'leavingNodeCount': 0, 'preemptedNodeCount': 0}, 'allocationState': 'Steady', 'allocationStateTransitionTime': '2021-04-11T12:19:28.485000+00:00', 'errors': None, 'creationTime': '2021-04-11T12:18:03.615477+00:00', 'modifiedTime': '2021-04-11T12:18:18.955759+00:00', 'provisioningState': 'Succeeded', 'provisioningStateTransitionTime': None, 'scaleSettings': {'minNodeCount': 1, 'maxNodeCount': 4, 'nodeIdleTimeBeforeScaleDown': 'PT120S'}, 'vmPriority': 'Dedicated', 'vmSize': 'STANDARD_DS12_V2'}\n"
     ]
    }
   ],
   "source": [
    "from azureml.core.compute import AmlCompute\n",
    "from azureml.core.compute import ComputeTarget\n",
    "from azureml.core.compute_target import ComputeTargetException\n",
    "\n",
    "# Define CPU cluster name\n",
    "compute_target_name = \"cpu-cluster\"\n",
    "\n",
    "try:\n",
    "    compute_target = ComputeTarget(workspace=ws, name=compute_target_name)\n",
    "    print(\"Found existing cpu-cluster. Use it.\")\n",
    "except ComputeTargetException:\n",
    "    compute_config = AmlCompute.provisioning_configuration(vm_size=\"STANDARD_DS12_V2\",\n",
    "                                                           min_nodes=1, \n",
    "                                                           max_nodes=4) \n",
    "    compute_target = ComputeTarget.create(ws, compute_target_name, compute_config)\n",
    "\n",
    "compute_target.wait_for_completion(show_output=True)\n",
    "\n",
    "print(compute_target.get_status().serialize())"
   ]
  },
  {
   "cell_type": "code",
   "execution_count": 6,
   "metadata": {},
   "outputs": [
    {
     "name": "stdout",
     "output_type": "stream",
     "text": [
      "notebook142415 ComputeInstance Succeeded\n",
      "cpu-cluster AmlCompute Succeeded\n"
     ]
    }
   ],
   "source": [
    "# Check details about compute_targets (i.e. compute_target)\n",
    "compute_targets = ws.compute_targets\n",
    "for name, ct in compute_targets.items():\n",
    "    print(name, ct.type, ct.provisioning_state)"
   ]
  },
  {
   "cell_type": "markdown",
   "metadata": {},
   "source": [
    "## Dataset\n",
    "\n",
    "**Udacity note:** Make sure the `key` is the same name as the dataset that is uploaded, and that the description matches. If it is hard to find or unknown, loop over the `ws.datasets.keys()` and `print()` them.\n",
    "If it *isn't* found because it was deleted, it can be recreated with the link that has the CSV "
   ]
  },
  {
   "cell_type": "code",
   "execution_count": 7,
   "metadata": {},
   "outputs": [
    {
     "name": "stdout",
     "output_type": "stream",
     "text": [
      "31715 x 47 table of data:\n",
      "<class 'pandas.core.frame.DataFrame'>\n",
      "Int64Index: 31715 entries, 38512 to 35050\n",
      "Data columns (total 47 columns):\n",
      "n_tokens_title                   31715 non-null float64\n",
      "n_tokens_content                 31715 non-null float64\n",
      "n_unique_tokens                  31715 non-null float64\n",
      "num_hrefs                        31715 non-null float64\n",
      "num_self_hrefs                   31715 non-null float64\n",
      "num_imgs                         31715 non-null float64\n",
      "num_videos                       31715 non-null float64\n",
      "average_token_length             31715 non-null float64\n",
      "num_keywords                     31715 non-null float64\n",
      "data_channel_is_entertainment    31715 non-null int64\n",
      "data_channel_is_bus              31715 non-null int64\n",
      "data_channel_is_socmed           31715 non-null int64\n",
      "data_channel_is_tech             31715 non-null int64\n",
      "data_channel_is_world            31715 non-null int64\n",
      "kw_min_min                       31715 non-null float64\n",
      "kw_max_min                       31715 non-null float64\n",
      "kw_min_max                       31715 non-null float64\n",
      "kw_avg_max                       31715 non-null float64\n",
      "kw_min_avg                       31715 non-null float64\n",
      "kw_max_avg                       31715 non-null float64\n",
      "kw_avg_avg                       31715 non-null float64\n",
      "self_reference_min_shares        31715 non-null float64\n",
      "self_reference_max_shares        31715 non-null float64\n",
      "weekday_is_wednesday             31715 non-null int64\n",
      "weekday_is_saturday              31715 non-null int64\n",
      "weekday_is_sunday                31715 non-null int64\n",
      "is_weekend                       31715 non-null int64\n",
      "LDA_00                           31715 non-null float64\n",
      "LDA_01                           31715 non-null float64\n",
      "LDA_02                           31715 non-null float64\n",
      "LDA_03                           31715 non-null float64\n",
      "LDA_04                           31715 non-null float64\n",
      "global_subjectivity              31715 non-null float64\n",
      "global_sentiment_polarity        31715 non-null float64\n",
      "global_rate_positive_words       31715 non-null float64\n",
      "global_rate_negative_words       31715 non-null float64\n",
      "rate_positive_words              31715 non-null float64\n",
      "rate_negative_words              31715 non-null float64\n",
      "avg_positive_polarity            31715 non-null float64\n",
      "min_positive_polarity            31715 non-null float64\n",
      "max_positive_polarity            31715 non-null float64\n",
      "avg_negative_polarity            31715 non-null float64\n",
      "min_negative_polarity            31715 non-null float64\n",
      "max_negative_polarity            31715 non-null float64\n",
      "title_subjectivity               31715 non-null float64\n",
      "title_sentiment_polarity         31715 non-null float64\n",
      "abs_title_sentiment_polarity     31715 non-null float64\n",
      "dtypes: float64(38), int64(9)\n",
      "memory usage: 11.6 MB\n"
     ]
    }
   ],
   "source": [
    "DATA_LOC = \"https://raw.githubusercontent.com/franckess/AzureML_Capstone/main/data/OnlineNewsPopularity.csv\"\n",
    "BORUTA_LOC = \"https://github.com/franckess/AzureML_Capstone/releases/download/1.1/boruta_model_final.pkl\"\n",
    "\n",
    "# Loading data\n",
    "df = pd.read_csv(DATA_LOC)\n",
    "\n",
    "# Removing space character in the feature names\n",
    "df.columns=df.columns.str.replace(' ','')\n",
    "\n",
    "# Drop URL column\n",
    "df = df.drop(['url'], axis=1)\n",
    "\n",
    "# Perform Data pre-processing\n",
    "df = corr_drop_cols(df)\n",
    "df = create_label(df)\n",
    "df = scaling_num(df)\n",
    "df = feature_selection(df, BORUTA_LOC)\n",
    "    \n",
    "# Split train data into train & test\n",
    "X_train, X_test, y_train, y_test = split_train_test(df)\n",
    "\n",
    "m, k = X_train.shape\n",
    "print(\"{} x {} table of data:\".format(m, k))\n",
    "X_train.info()"
   ]
  },
  {
   "cell_type": "markdown",
   "metadata": {},
   "source": [
    "### Upload data to Azure Datastore"
   ]
  },
  {
   "cell_type": "code",
   "execution_count": 8,
   "metadata": {},
   "outputs": [
    {
     "name": "stdout",
     "output_type": "stream",
     "text": [
      "Uploading an estimated of 1 files\n",
      "Uploading ./data/train_data.csv\n",
      "Uploaded ./data/train_data.csv, 1 files out of an estimated total of 1\n",
      "Uploaded 1 files\n"
     ]
    }
   ],
   "source": [
    "# merge the output x and y dataframes into a single table for AutoML experiment\n",
    "train_data = pd.concat([X_train, y_train], axis=1)\n",
    "train_data.to_csv('./data/train_data.csv', index = None, header=True)\n",
    "\n",
    "datastore = ws.get_default_datastore()\n",
    "datastore.upload_files(files = ['./data/train_data.csv'],  target_path='data/', overwrite=True, show_progress=True)\n",
    "\n",
    "datastore_path =[\n",
    "    DataPath(datastore, 'data/train_data.csv')\n",
    "]\n",
    "\n",
    "# Upload the training data as a tabular dataset for access during training on remote compute\n",
    "train_data = Dataset.Tabular.from_delimited_files(path=datastore_path)"
   ]
  },
  {
   "cell_type": "code",
   "execution_count": 9,
   "metadata": {},
   "outputs": [
    {
     "name": "stdout",
     "output_type": "stream",
     "text": [
      "Datastore type: AzureBlob\n",
      "Account name: mlstrg142415\n",
      "Container name: azureml-blobstore-e3f99bb8-a492-4d55-add2-2ab0bb5281ce\n"
     ]
    }
   ],
   "source": [
    "print(\n",
    "    \"Datastore type: \" + datastore.datastore_type,\n",
    "    \"Account name: \" + datastore.account_name,\n",
    "    \"Container name: \" + datastore.container_name,\n",
    "    sep=\"\\n\",\n",
    ")"
   ]
  },
  {
   "cell_type": "code",
   "execution_count": 10,
   "metadata": {},
   "outputs": [
    {
     "data": {
      "text/plain": [
       "{\n",
       "  \"source\": [\n",
       "    \"('workspaceblobstore', 'data/train_data.csv')\"\n",
       "  ],\n",
       "  \"definition\": [\n",
       "    \"GetDatastoreFiles\",\n",
       "    \"ParseDelimited\",\n",
       "    \"DropColumns\",\n",
       "    \"SetColumnTypes\"\n",
       "  ]\n",
       "}"
      ]
     },
     "execution_count": 10,
     "metadata": {},
     "output_type": "execute_result"
    }
   ],
   "source": [
    "train_data"
   ]
  },
  {
   "cell_type": "markdown",
   "metadata": {},
   "source": [
    "## Train\n",
    "This creates a general AutoML settings object.\n",
    "**Udacity notes:** These inputs must match what was used when training in the portal. `label_column_name` has to be `y` for example."
   ]
  },
  {
   "cell_type": "code",
   "execution_count": 11,
   "metadata": {},
   "outputs": [],
   "source": [
    "automl_settings = {\n",
    "    \"experiment_timeout_minutes\": 60, # define the duration of the experiment (in minutes).\n",
    "    \"max_concurrent_iterations\": 9,\n",
    "    \"primary_metric\" : 'accuracy'\n",
    "}\n",
    "\n",
    "project_folder = './capstone-project'\n",
    "\n",
    "automl_config = AutoMLConfig(compute_target=compute_target,\n",
    "                             task = \"classification\",\n",
    "                             training_data=train_data,\n",
    "                             label_column_name=\"label\",   \n",
    "                             path = project_folder,\n",
    "                             enable_early_stopping= True,\n",
    "                             featurization= 'auto',\n",
    "                             debug_log = \"online_news_automl_errors.log\",\n",
    "                             n_cross_validations=5,\n",
    "                             max_cores_per_iteration=-1,\n",
    "                             verbosity=logging.INFO,\n",
    "                             **automl_settings)"
   ]
  },
  {
   "cell_type": "code",
   "execution_count": 12,
   "metadata": {},
   "outputs": [
    {
     "name": "stdout",
     "output_type": "stream",
     "text": [
      "Running on remote.\n",
      "No run_configuration provided, running on cpu-cluster with default configuration\n",
      "Running on remote compute: cpu-cluster\n",
      "Parent Run ID: AutoML_690cf95e-ea6f-40dc-b297-5261ea2009ed\n",
      "\n",
      "Current status: FeaturesGeneration. Generating features for the dataset.\n",
      "Current status: DatasetCrossValidationSplit. Generating individually featurized CV splits.\n",
      "Current status: ModelSelection. Beginning model selection.\n",
      "\n",
      "****************************************************************************************************\n",
      "DATA GUARDRAILS: \n",
      "\n",
      "TYPE:         Class balancing detection\n",
      "STATUS:       PASSED\n",
      "DESCRIPTION:  Your inputs were analyzed, and all classes are balanced in your training data.\n",
      "              Learn more about imbalanced data: https://aka.ms/AutomatedMLImbalancedData\n",
      "\n",
      "****************************************************************************************************\n",
      "\n",
      "TYPE:         Missing feature values imputation\n",
      "STATUS:       PASSED\n",
      "DESCRIPTION:  No feature missing values were detected in the training data.\n",
      "              Learn more about missing value imputation: https://aka.ms/AutomatedMLFeaturization\n",
      "\n",
      "****************************************************************************************************\n",
      "\n",
      "TYPE:         High cardinality feature detection\n",
      "STATUS:       PASSED\n",
      "DESCRIPTION:  Your inputs were analyzed, and no high cardinality features were detected.\n",
      "              Learn more about high cardinality feature handling: https://aka.ms/AutomatedMLFeaturization\n",
      "\n",
      "****************************************************************************************************\n",
      "\n",
      "****************************************************************************************************\n",
      "ITERATION: The iteration being evaluated.\n",
      "PIPELINE: A summary description of the pipeline being evaluated.\n",
      "DURATION: Time taken for the current iteration.\n",
      "METRIC: The result of computing score on the fitted pipeline.\n",
      "BEST: The best observed score thus far.\n",
      "****************************************************************************************************\n",
      "\n",
      " ITERATION   PIPELINE                                       DURATION      METRIC      BEST\n",
      "         3   MinMaxScaler RandomForest                      0:00:45       0.6354    0.6354\n",
      "         7   StandardScalerWrapper XGBoostClassifier        0:00:57       0.6525    0.6525\n",
      "         4   MinMaxScaler RandomForest                      0:00:51       0.6526    0.6526\n",
      "         0   MaxAbsScaler LightGBM                          0:00:51       0.6706    0.6706\n",
      "         6   StandardScalerWrapper XGBoostClassifier        0:01:50       0.6600    0.6706\n",
      "         2   MinMaxScaler RandomForest                      0:01:59       0.6439    0.6706\n",
      "         5   SparseNormalizer XGBoostClassifier             0:01:02       0.6631    0.6706\n",
      "         8   StandardScalerWrapper XGBoostClassifier        0:02:05       0.6614    0.6706\n",
      "         1   MaxAbsScaler XGBoostClassifier                 0:01:00       0.6642    0.6706\n",
      "        10   MaxAbsScaler LogisticRegression                0:01:06       0.6468    0.6706\n",
      "        11   SparseNormalizer XGBoostClassifier             0:00:58       0.6677    0.6706\n",
      "         9   MaxAbsScaler ExtremeRandomTrees                0:00:59       0.6424    0.6706\n",
      "        12   MaxAbsScaler LightGBM                          0:00:47       0.6513    0.6706\n",
      "        13   SparseNormalizer LightGBM                      0:00:57       0.6464    0.6706\n",
      "        14   SparseNormalizer XGBoostClassifier             0:01:12       0.6684    0.6706\n",
      "        15   StandardScalerWrapper RandomForest             0:01:03       0.6473    0.6706\n",
      "        16   StandardScalerWrapper XGBoostClassifier        0:00:49       0.6601    0.6706\n",
      "        17   SparseNormalizer XGBoostClassifier             0:00:45       0.6312    0.6706\n",
      "        18   SparseNormalizer LightGBM                      0:00:54       0.6687    0.6706\n",
      "        19   MaxAbsScaler GradientBoosting                  0:00:53       0.6516    0.6706\n",
      "        20   SparseNormalizer XGBoostClassifier             0:01:29       0.6642    0.6706\n",
      "        21   SparseNormalizer LightGBM                      0:00:49       0.6481    0.6706\n",
      "        22   SparseNormalizer XGBoostClassifier             0:00:58       0.6585    0.6706\n",
      "        23   RobustScaler LightGBM                          0:00:57       0.6660    0.6706\n",
      "        24   MinMaxScaler LogisticRegression                0:00:57       0.6460    0.6706\n",
      "        25   RobustScaler LightGBM                          0:00:46       0.5768    0.6706\n",
      "        26   MinMaxScaler LightGBM                          0:00:52       0.6703    0.6706\n",
      "        27   MaxAbsScaler RandomForest                      0:00:55       0.6433    0.6706\n",
      "        28   StandardScalerWrapper ExtremeRandomTrees       0:00:58       0.6370    0.6706\n",
      "        29   SparseNormalizer XGBoostClassifier             0:00:57       0.6629    0.6706\n",
      "        30   SparseNormalizer LightGBM                      0:00:46       0.5336    0.6706\n",
      "        31   MaxAbsScaler ExtremeRandomTrees                0:01:05       0.6409    0.6706\n",
      "        32   StandardScalerWrapper ExtremeRandomTrees       0:00:54       0.6394    0.6706\n",
      "        33   SparseNormalizer XGBoostClassifier             0:01:16       0.6570    0.6706\n",
      "        34   StandardScalerWrapper GradientBoosting         0:00:54       0.6294    0.6706\n",
      "        35   RobustScaler LightGBM                          0:00:48       0.5336    0.6706\n",
      "        36   SparseNormalizer XGBoostClassifier             0:01:27       0.6638    0.6706\n",
      "        37   SparseNormalizer RandomForest                  0:01:06       0.6471    0.6706\n",
      "        38   SparseNormalizer XGBoostClassifier             0:00:58       0.6656    0.6706\n",
      "        39   StandardScalerWrapper LightGBM                 0:00:50       0.6419    0.6706\n",
      "        40                                                  0:02:09          nan    0.6706\n",
      "        41                                                  0:01:55          nan    0.6706\n",
      "        42                                                  0:01:30          nan    0.6706\n",
      "        43                                                  0:01:14          nan    0.6706\n",
      "        44                                                  0:01:05          nan    0.6706\n",
      "        45                                                  0:00:16          nan    0.6706\n",
      "        46    VotingEnsemble                                0:01:25       0.6748    0.6748\n",
      "        47    StackEnsemble                                 0:01:35       0.6736    0.6748\n"
     ]
    },
    {
     "data": {
      "application/vnd.jupyter.widget-view+json": {
       "model_id": "e3c3c58270d44497a3d6dc71099e195b",
       "version_major": 2,
       "version_minor": 0
      },
      "text/plain": [
       "_AutoMLWidget(widget_settings={'childWidgetDisplay': 'popup', 'send_telemetry': False, 'log_level': 'INFO', 's…"
      ]
     },
     "metadata": {},
     "output_type": "display_data"
    },
    {
     "data": {
      "application/aml.mini.widget.v1": "{\"status\": \"Completed\", \"workbench_run_details_uri\": \"https://ml.azure.com/experiments/Udacity_capstone_AutoML/runs/AutoML_690cf95e-ea6f-40dc-b297-5261ea2009ed?wsid=/subscriptions/81cefad3-d2c9-4f77-a466-99a7f541c7bb/resourcegroups/aml-quickstarts-142415/workspaces/quick-starts-ws-142415\", \"run_id\": \"AutoML_690cf95e-ea6f-40dc-b297-5261ea2009ed\", \"run_properties\": {\"run_id\": \"AutoML_690cf95e-ea6f-40dc-b297-5261ea2009ed\", \"created_utc\": \"2021-04-11T12:38:50.957177Z\", \"properties\": {\"num_iterations\": \"1000\", \"training_type\": \"TrainFull\", \"acquisition_function\": \"EI\", \"primary_metric\": \"accuracy\", \"train_split\": \"0\", \"acquisition_parameter\": \"0\", \"num_cross_validation\": \"5\", \"target\": \"cpu-cluster\", \"AMLSettingsJsonString\": \"{\\\"path\\\":null,\\\"name\\\":\\\"Udacity_capstone_AutoML\\\",\\\"subscription_id\\\":\\\"81cefad3-d2c9-4f77-a466-99a7f541c7bb\\\",\\\"resource_group\\\":\\\"aml-quickstarts-142415\\\",\\\"workspace_name\\\":\\\"quick-starts-ws-142415\\\",\\\"region\\\":\\\"southcentralus\\\",\\\"compute_target\\\":\\\"cpu-cluster\\\",\\\"spark_service\\\":null,\\\"azure_service\\\":\\\"remote\\\",\\\"many_models\\\":false,\\\"pipeline_fetch_max_batch_size\\\":1,\\\"iterations\\\":1000,\\\"primary_metric\\\":\\\"accuracy\\\",\\\"task_type\\\":\\\"classification\\\",\\\"data_script\\\":null,\\\"validation_size\\\":0.0,\\\"n_cross_validations\\\":5,\\\"y_min\\\":null,\\\"y_max\\\":null,\\\"num_classes\\\":null,\\\"featurization\\\":\\\"auto\\\",\\\"_ignore_package_version_incompatibilities\\\":false,\\\"is_timeseries\\\":false,\\\"max_cores_per_iteration\\\":-1,\\\"max_concurrent_iterations\\\":9,\\\"iteration_timeout_minutes\\\":null,\\\"mem_in_mb\\\":null,\\\"enforce_time_on_windows\\\":false,\\\"experiment_timeout_minutes\\\":60,\\\"experiment_exit_score\\\":null,\\\"whitelist_models\\\":null,\\\"blacklist_algos\\\":[\\\"TensorFlowLinearClassifier\\\",\\\"TensorFlowDNN\\\"],\\\"supported_models\\\":[\\\"AveragedPerceptronClassifier\\\",\\\"BernoulliNaiveBayes\\\",\\\"LinearSVM\\\",\\\"LogisticRegression\\\",\\\"XGBoostClassifier\\\",\\\"TensorFlowDNN\\\",\\\"RandomForest\\\",\\\"TensorFlowLinearClassifier\\\",\\\"LightGBM\\\",\\\"ExtremeRandomTrees\\\",\\\"KNN\\\",\\\"SGD\\\",\\\"DecisionTree\\\",\\\"SVM\\\",\\\"GradientBoosting\\\",\\\"MultinomialNaiveBayes\\\"],\\\"private_models\\\":[],\\\"auto_blacklist\\\":true,\\\"blacklist_samples_reached\\\":false,\\\"exclude_nan_labels\\\":true,\\\"verbosity\\\":20,\\\"_debug_log\\\":\\\"azureml_automl.log\\\",\\\"show_warnings\\\":false,\\\"model_explainability\\\":true,\\\"service_url\\\":null,\\\"sdk_url\\\":null,\\\"sdk_packages\\\":null,\\\"enable_onnx_compatible_models\\\":false,\\\"enable_split_onnx_featurizer_estimator_models\\\":false,\\\"vm_type\\\":\\\"STANDARD_DS12_V2\\\",\\\"telemetry_verbosity\\\":20,\\\"send_telemetry\\\":true,\\\"enable_dnn\\\":false,\\\"scenario\\\":\\\"SDK-1.13.0\\\",\\\"environment_label\\\":null,\\\"force_text_dnn\\\":false,\\\"enable_feature_sweeping\\\":true,\\\"enable_early_stopping\\\":true,\\\"early_stopping_n_iters\\\":10,\\\"metrics\\\":null,\\\"enable_ensembling\\\":true,\\\"enable_stack_ensembling\\\":true,\\\"ensemble_iterations\\\":15,\\\"enable_tf\\\":false,\\\"enable_subsampling\\\":null,\\\"subsample_seed\\\":null,\\\"enable_nimbusml\\\":false,\\\"enable_streaming\\\":false,\\\"force_streaming\\\":false,\\\"track_child_runs\\\":true,\\\"allowed_private_models\\\":[],\\\"label_column_name\\\":\\\"label\\\",\\\"weight_column_name\\\":null,\\\"cv_split_column_names\\\":null,\\\"enable_local_managed\\\":false,\\\"_local_managed_run_id\\\":null,\\\"cost_mode\\\":1,\\\"lag_length\\\":0,\\\"metric_operation\\\":\\\"maximize\\\",\\\"preprocess\\\":true}\", \"DataPrepJsonString\": \"{\\\\\\\"training_data\\\\\\\": \\\\\\\"{\\\\\\\\\\\\\\\"blocks\\\\\\\\\\\\\\\": [{\\\\\\\\\\\\\\\"id\\\\\\\\\\\\\\\": \\\\\\\\\\\\\\\"5314e080-abe3-4da7-acf1-c105bcd56e1e\\\\\\\\\\\\\\\", \\\\\\\\\\\\\\\"type\\\\\\\\\\\\\\\": \\\\\\\\\\\\\\\"Microsoft.DPrep.GetDatastoreFilesBlock\\\\\\\\\\\\\\\", \\\\\\\\\\\\\\\"arguments\\\\\\\\\\\\\\\": {\\\\\\\\\\\\\\\"datastores\\\\\\\\\\\\\\\": [{\\\\\\\\\\\\\\\"datastoreName\\\\\\\\\\\\\\\": \\\\\\\\\\\\\\\"workspaceblobstore\\\\\\\\\\\\\\\", \\\\\\\\\\\\\\\"path\\\\\\\\\\\\\\\": \\\\\\\\\\\\\\\"data/train_data.csv\\\\\\\\\\\\\\\", \\\\\\\\\\\\\\\"resourceGroup\\\\\\\\\\\\\\\": \\\\\\\\\\\\\\\"aml-quickstarts-142415\\\\\\\\\\\\\\\", \\\\\\\\\\\\\\\"subscription\\\\\\\\\\\\\\\": \\\\\\\\\\\\\\\"81cefad3-d2c9-4f77-a466-99a7f541c7bb\\\\\\\\\\\\\\\", \\\\\\\\\\\\\\\"workspaceName\\\\\\\\\\\\\\\": \\\\\\\\\\\\\\\"quick-starts-ws-142415\\\\\\\\\\\\\\\"}]}, \\\\\\\\\\\\\\\"localData\\\\\\\\\\\\\\\": {}, \\\\\\\\\\\\\\\"isEnabled\\\\\\\\\\\\\\\": true, \\\\\\\\\\\\\\\"name\\\\\\\\\\\\\\\": null, \\\\\\\\\\\\\\\"annotation\\\\\\\\\\\\\\\": null}, {\\\\\\\\\\\\\\\"id\\\\\\\\\\\\\\\": \\\\\\\\\\\\\\\"c1e21876-5eb0-4b69-8b6a-5993e7dacd7a\\\\\\\\\\\\\\\", \\\\\\\\\\\\\\\"type\\\\\\\\\\\\\\\": \\\\\\\\\\\\\\\"Microsoft.DPrep.ParseDelimitedBlock\\\\\\\\\\\\\\\", \\\\\\\\\\\\\\\"arguments\\\\\\\\\\\\\\\": {\\\\\\\\\\\\\\\"columnHeadersMode\\\\\\\\\\\\\\\": 3, \\\\\\\\\\\\\\\"fileEncoding\\\\\\\\\\\\\\\": 0, \\\\\\\\\\\\\\\"handleQuotedLineBreaks\\\\\\\\\\\\\\\": false, \\\\\\\\\\\\\\\"preview\\\\\\\\\\\\\\\": false, \\\\\\\\\\\\\\\"separator\\\\\\\\\\\\\\\": \\\\\\\\\\\\\\\",\\\\\\\\\\\\\\\", \\\\\\\\\\\\\\\"skipRows\\\\\\\\\\\\\\\": 0, \\\\\\\\\\\\\\\"skipRowsMode\\\\\\\\\\\\\\\": 0}, \\\\\\\\\\\\\\\"localData\\\\\\\\\\\\\\\": {}, \\\\\\\\\\\\\\\"isEnabled\\\\\\\\\\\\\\\": true, \\\\\\\\\\\\\\\"name\\\\\\\\\\\\\\\": null, \\\\\\\\\\\\\\\"annotation\\\\\\\\\\\\\\\": null}, {\\\\\\\\\\\\\\\"id\\\\\\\\\\\\\\\": \\\\\\\\\\\\\\\"c4cda628-c6fd-4d0c-8ae3-448ba2bb9c38\\\\\\\\\\\\\\\", \\\\\\\\\\\\\\\"type\\\\\\\\\\\\\\\": \\\\\\\\\\\\\\\"Microsoft.DPrep.DropColumnsBlock\\\\\\\\\\\\\\\", \\\\\\\\\\\\\\\"arguments\\\\\\\\\\\\\\\": {\\\\\\\\\\\\\\\"columns\\\\\\\\\\\\\\\": {\\\\\\\\\\\\\\\"type\\\\\\\\\\\\\\\": 0, \\\\\\\\\\\\\\\"details\\\\\\\\\\\\\\\": {\\\\\\\\\\\\\\\"selectedColumns\\\\\\\\\\\\\\\": [\\\\\\\\\\\\\\\"Path\\\\\\\\\\\\\\\"]}}}, \\\\\\\\\\\\\\\"localData\\\\\\\\\\\\\\\": {}, \\\\\\\\\\\\\\\"isEnabled\\\\\\\\\\\\\\\": true, \\\\\\\\\\\\\\\"name\\\\\\\\\\\\\\\": null, \\\\\\\\\\\\\\\"annotation\\\\\\\\\\\\\\\": null}, {\\\\\\\\\\\\\\\"id\\\\\\\\\\\\\\\": \\\\\\\\\\\\\\\"e8704fcd-d8cf-4712-bde6-f01a5c1775a4\\\\\\\\\\\\\\\", \\\\\\\\\\\\\\\"type\\\\\\\\\\\\\\\": \\\\\\\\\\\\\\\"Microsoft.DPrep.SetColumnTypesBlock\\\\\\\\\\\\\\\", \\\\\\\\\\\\\\\"arguments\\\\\\\\\\\\\\\": {\\\\\\\\\\\\\\\"columnConversion\\\\\\\\\\\\\\\": [{\\\\\\\\\\\\\\\"column\\\\\\\\\\\\\\\": {\\\\\\\\\\\\\\\"type\\\\\\\\\\\\\\\": 2, \\\\\\\\\\\\\\\"details\\\\\\\\\\\\\\\": {\\\\\\\\\\\\\\\"selectedColumn\\\\\\\\\\\\\\\": \\\\\\\\\\\\\\\"n_tokens_title\\\\\\\\\\\\\\\"}}, \\\\\\\\\\\\\\\"typeProperty\\\\\\\\\\\\\\\": 3}, {\\\\\\\\\\\\\\\"column\\\\\\\\\\\\\\\": {\\\\\\\\\\\\\\\"type\\\\\\\\\\\\\\\": 2, \\\\\\\\\\\\\\\"details\\\\\\\\\\\\\\\": {\\\\\\\\\\\\\\\"selectedColumn\\\\\\\\\\\\\\\": \\\\\\\\\\\\\\\"n_tokens_content\\\\\\\\\\\\\\\"}}, \\\\\\\\\\\\\\\"typeProperty\\\\\\\\\\\\\\\": 3}, {\\\\\\\\\\\\\\\"column\\\\\\\\\\\\\\\": {\\\\\\\\\\\\\\\"type\\\\\\\\\\\\\\\": 2, \\\\\\\\\\\\\\\"details\\\\\\\\\\\\\\\": {\\\\\\\\\\\\\\\"selectedColumn\\\\\\\\\\\\\\\": \\\\\\\\\\\\\\\"n_unique_tokens\\\\\\\\\\\\\\\"}}, \\\\\\\\\\\\\\\"typeProperty\\\\\\\\\\\\\\\": 3}, {\\\\\\\\\\\\\\\"column\\\\\\\\\\\\\\\": {\\\\\\\\\\\\\\\"type\\\\\\\\\\\\\\\": 2, \\\\\\\\\\\\\\\"details\\\\\\\\\\\\\\\": {\\\\\\\\\\\\\\\"selectedColumn\\\\\\\\\\\\\\\": \\\\\\\\\\\\\\\"num_hrefs\\\\\\\\\\\\\\\"}}, \\\\\\\\\\\\\\\"typeProperty\\\\\\\\\\\\\\\": 3}, {\\\\\\\\\\\\\\\"column\\\\\\\\\\\\\\\": {\\\\\\\\\\\\\\\"type\\\\\\\\\\\\\\\": 2, \\\\\\\\\\\\\\\"details\\\\\\\\\\\\\\\": {\\\\\\\\\\\\\\\"selectedColumn\\\\\\\\\\\\\\\": \\\\\\\\\\\\\\\"num_self_hrefs\\\\\\\\\\\\\\\"}}, \\\\\\\\\\\\\\\"typeProperty\\\\\\\\\\\\\\\": 3}, {\\\\\\\\\\\\\\\"column\\\\\\\\\\\\\\\": {\\\\\\\\\\\\\\\"type\\\\\\\\\\\\\\\": 2, \\\\\\\\\\\\\\\"details\\\\\\\\\\\\\\\": {\\\\\\\\\\\\\\\"selectedColumn\\\\\\\\\\\\\\\": \\\\\\\\\\\\\\\"num_imgs\\\\\\\\\\\\\\\"}}, \\\\\\\\\\\\\\\"typeProperty\\\\\\\\\\\\\\\": 3}, {\\\\\\\\\\\\\\\"column\\\\\\\\\\\\\\\": {\\\\\\\\\\\\\\\"type\\\\\\\\\\\\\\\": 2, \\\\\\\\\\\\\\\"details\\\\\\\\\\\\\\\": {\\\\\\\\\\\\\\\"selectedColumn\\\\\\\\\\\\\\\": \\\\\\\\\\\\\\\"num_videos\\\\\\\\\\\\\\\"}}, \\\\\\\\\\\\\\\"typeProperty\\\\\\\\\\\\\\\": 3}, {\\\\\\\\\\\\\\\"column\\\\\\\\\\\\\\\": {\\\\\\\\\\\\\\\"type\\\\\\\\\\\\\\\": 2, \\\\\\\\\\\\\\\"details\\\\\\\\\\\\\\\": {\\\\\\\\\\\\\\\"selectedColumn\\\\\\\\\\\\\\\": \\\\\\\\\\\\\\\"average_token_length\\\\\\\\\\\\\\\"}}, \\\\\\\\\\\\\\\"typeProperty\\\\\\\\\\\\\\\": 3}, {\\\\\\\\\\\\\\\"column\\\\\\\\\\\\\\\": {\\\\\\\\\\\\\\\"type\\\\\\\\\\\\\\\": 2, \\\\\\\\\\\\\\\"details\\\\\\\\\\\\\\\": {\\\\\\\\\\\\\\\"selectedColumn\\\\\\\\\\\\\\\": \\\\\\\\\\\\\\\"num_keywords\\\\\\\\\\\\\\\"}}, \\\\\\\\\\\\\\\"typeProperty\\\\\\\\\\\\\\\": 3}, {\\\\\\\\\\\\\\\"column\\\\\\\\\\\\\\\": {\\\\\\\\\\\\\\\"type\\\\\\\\\\\\\\\": 2, \\\\\\\\\\\\\\\"details\\\\\\\\\\\\\\\": {\\\\\\\\\\\\\\\"selectedColumn\\\\\\\\\\\\\\\": \\\\\\\\\\\\\\\"data_channel_is_entertainment\\\\\\\\\\\\\\\"}}, \\\\\\\\\\\\\\\"typeProperty\\\\\\\\\\\\\\\": 2}, {\\\\\\\\\\\\\\\"column\\\\\\\\\\\\\\\": {\\\\\\\\\\\\\\\"type\\\\\\\\\\\\\\\": 2, \\\\\\\\\\\\\\\"details\\\\\\\\\\\\\\\": {\\\\\\\\\\\\\\\"selectedColumn\\\\\\\\\\\\\\\": \\\\\\\\\\\\\\\"data_channel_is_bus\\\\\\\\\\\\\\\"}}, \\\\\\\\\\\\\\\"typeProperty\\\\\\\\\\\\\\\": 2}, {\\\\\\\\\\\\\\\"column\\\\\\\\\\\\\\\": {\\\\\\\\\\\\\\\"type\\\\\\\\\\\\\\\": 2, \\\\\\\\\\\\\\\"details\\\\\\\\\\\\\\\": {\\\\\\\\\\\\\\\"selectedColumn\\\\\\\\\\\\\\\": \\\\\\\\\\\\\\\"data_channel_is_socmed\\\\\\\\\\\\\\\"}}, \\\\\\\\\\\\\\\"typeProperty\\\\\\\\\\\\\\\": 2}, {\\\\\\\\\\\\\\\"column\\\\\\\\\\\\\\\": {\\\\\\\\\\\\\\\"type\\\\\\\\\\\\\\\": 2, \\\\\\\\\\\\\\\"details\\\\\\\\\\\\\\\": {\\\\\\\\\\\\\\\"selectedColumn\\\\\\\\\\\\\\\": \\\\\\\\\\\\\\\"data_channel_is_tech\\\\\\\\\\\\\\\"}}, \\\\\\\\\\\\\\\"typeProperty\\\\\\\\\\\\\\\": 2}, {\\\\\\\\\\\\\\\"column\\\\\\\\\\\\\\\": {\\\\\\\\\\\\\\\"type\\\\\\\\\\\\\\\": 2, \\\\\\\\\\\\\\\"details\\\\\\\\\\\\\\\": {\\\\\\\\\\\\\\\"selectedColumn\\\\\\\\\\\\\\\": \\\\\\\\\\\\\\\"data_channel_is_world\\\\\\\\\\\\\\\"}}, \\\\\\\\\\\\\\\"typeProperty\\\\\\\\\\\\\\\": 2}, {\\\\\\\\\\\\\\\"column\\\\\\\\\\\\\\\": {\\\\\\\\\\\\\\\"type\\\\\\\\\\\\\\\": 2, \\\\\\\\\\\\\\\"details\\\\\\\\\\\\\\\": {\\\\\\\\\\\\\\\"selectedColumn\\\\\\\\\\\\\\\": \\\\\\\\\\\\\\\"kw_min_min\\\\\\\\\\\\\\\"}}, \\\\\\\\\\\\\\\"typeProperty\\\\\\\\\\\\\\\": 3}, {\\\\\\\\\\\\\\\"column\\\\\\\\\\\\\\\": {\\\\\\\\\\\\\\\"type\\\\\\\\\\\\\\\": 2, \\\\\\\\\\\\\\\"details\\\\\\\\\\\\\\\": {\\\\\\\\\\\\\\\"selectedColumn\\\\\\\\\\\\\\\": \\\\\\\\\\\\\\\"kw_max_min\\\\\\\\\\\\\\\"}}, \\\\\\\\\\\\\\\"typeProperty\\\\\\\\\\\\\\\": 3}, {\\\\\\\\\\\\\\\"column\\\\\\\\\\\\\\\": {\\\\\\\\\\\\\\\"type\\\\\\\\\\\\\\\": 2, \\\\\\\\\\\\\\\"details\\\\\\\\\\\\\\\": {\\\\\\\\\\\\\\\"selectedColumn\\\\\\\\\\\\\\\": \\\\\\\\\\\\\\\"kw_min_max\\\\\\\\\\\\\\\"}}, \\\\\\\\\\\\\\\"typeProperty\\\\\\\\\\\\\\\": 3}, {\\\\\\\\\\\\\\\"column\\\\\\\\\\\\\\\": {\\\\\\\\\\\\\\\"type\\\\\\\\\\\\\\\": 2, \\\\\\\\\\\\\\\"details\\\\\\\\\\\\\\\": {\\\\\\\\\\\\\\\"selectedColumn\\\\\\\\\\\\\\\": \\\\\\\\\\\\\\\"kw_avg_max\\\\\\\\\\\\\\\"}}, \\\\\\\\\\\\\\\"typeProperty\\\\\\\\\\\\\\\": 3}, {\\\\\\\\\\\\\\\"column\\\\\\\\\\\\\\\": {\\\\\\\\\\\\\\\"type\\\\\\\\\\\\\\\": 2, \\\\\\\\\\\\\\\"details\\\\\\\\\\\\\\\": {\\\\\\\\\\\\\\\"selectedColumn\\\\\\\\\\\\\\\": \\\\\\\\\\\\\\\"kw_min_avg\\\\\\\\\\\\\\\"}}, \\\\\\\\\\\\\\\"typeProperty\\\\\\\\\\\\\\\": 3}, {\\\\\\\\\\\\\\\"column\\\\\\\\\\\\\\\": {\\\\\\\\\\\\\\\"type\\\\\\\\\\\\\\\": 2, \\\\\\\\\\\\\\\"details\\\\\\\\\\\\\\\": {\\\\\\\\\\\\\\\"selectedColumn\\\\\\\\\\\\\\\": \\\\\\\\\\\\\\\"kw_max_avg\\\\\\\\\\\\\\\"}}, \\\\\\\\\\\\\\\"typeProperty\\\\\\\\\\\\\\\": 3}, {\\\\\\\\\\\\\\\"column\\\\\\\\\\\\\\\": {\\\\\\\\\\\\\\\"type\\\\\\\\\\\\\\\": 2, \\\\\\\\\\\\\\\"details\\\\\\\\\\\\\\\": {\\\\\\\\\\\\\\\"selectedColumn\\\\\\\\\\\\\\\": \\\\\\\\\\\\\\\"kw_avg_avg\\\\\\\\\\\\\\\"}}, \\\\\\\\\\\\\\\"typeProperty\\\\\\\\\\\\\\\": 3}, {\\\\\\\\\\\\\\\"column\\\\\\\\\\\\\\\": {\\\\\\\\\\\\\\\"type\\\\\\\\\\\\\\\": 2, \\\\\\\\\\\\\\\"details\\\\\\\\\\\\\\\": {\\\\\\\\\\\\\\\"selectedColumn\\\\\\\\\\\\\\\": \\\\\\\\\\\\\\\"self_reference_min_shares\\\\\\\\\\\\\\\"}}, \\\\\\\\\\\\\\\"typeProperty\\\\\\\\\\\\\\\": 3}, {\\\\\\\\\\\\\\\"column\\\\\\\\\\\\\\\": {\\\\\\\\\\\\\\\"type\\\\\\\\\\\\\\\": 2, \\\\\\\\\\\\\\\"details\\\\\\\\\\\\\\\": {\\\\\\\\\\\\\\\"selectedColumn\\\\\\\\\\\\\\\": \\\\\\\\\\\\\\\"self_reference_max_shares\\\\\\\\\\\\\\\"}}, \\\\\\\\\\\\\\\"typeProperty\\\\\\\\\\\\\\\": 3}, {\\\\\\\\\\\\\\\"column\\\\\\\\\\\\\\\": {\\\\\\\\\\\\\\\"type\\\\\\\\\\\\\\\": 2, \\\\\\\\\\\\\\\"details\\\\\\\\\\\\\\\": {\\\\\\\\\\\\\\\"selectedColumn\\\\\\\\\\\\\\\": \\\\\\\\\\\\\\\"weekday_is_wednesday\\\\\\\\\\\\\\\"}}, \\\\\\\\\\\\\\\"typeProperty\\\\\\\\\\\\\\\": 2}, {\\\\\\\\\\\\\\\"column\\\\\\\\\\\\\\\": {\\\\\\\\\\\\\\\"type\\\\\\\\\\\\\\\": 2, \\\\\\\\\\\\\\\"details\\\\\\\\\\\\\\\": {\\\\\\\\\\\\\\\"selectedColumn\\\\\\\\\\\\\\\": \\\\\\\\\\\\\\\"weekday_is_saturday\\\\\\\\\\\\\\\"}}, \\\\\\\\\\\\\\\"typeProperty\\\\\\\\\\\\\\\": 2}, {\\\\\\\\\\\\\\\"column\\\\\\\\\\\\\\\": {\\\\\\\\\\\\\\\"type\\\\\\\\\\\\\\\": 2, \\\\\\\\\\\\\\\"details\\\\\\\\\\\\\\\": {\\\\\\\\\\\\\\\"selectedColumn\\\\\\\\\\\\\\\": \\\\\\\\\\\\\\\"weekday_is_sunday\\\\\\\\\\\\\\\"}}, \\\\\\\\\\\\\\\"typeProperty\\\\\\\\\\\\\\\": 2}, {\\\\\\\\\\\\\\\"column\\\\\\\\\\\\\\\": {\\\\\\\\\\\\\\\"type\\\\\\\\\\\\\\\": 2, \\\\\\\\\\\\\\\"details\\\\\\\\\\\\\\\": {\\\\\\\\\\\\\\\"selectedColumn\\\\\\\\\\\\\\\": \\\\\\\\\\\\\\\"is_weekend\\\\\\\\\\\\\\\"}}, \\\\\\\\\\\\\\\"typeProperty\\\\\\\\\\\\\\\": 2}, {\\\\\\\\\\\\\\\"column\\\\\\\\\\\\\\\": {\\\\\\\\\\\\\\\"type\\\\\\\\\\\\\\\": 2, \\\\\\\\\\\\\\\"details\\\\\\\\\\\\\\\": {\\\\\\\\\\\\\\\"selectedColumn\\\\\\\\\\\\\\\": \\\\\\\\\\\\\\\"LDA_00\\\\\\\\\\\\\\\"}}, \\\\\\\\\\\\\\\"typeProperty\\\\\\\\\\\\\\\": 3}, {\\\\\\\\\\\\\\\"column\\\\\\\\\\\\\\\": {\\\\\\\\\\\\\\\"type\\\\\\\\\\\\\\\": 2, \\\\\\\\\\\\\\\"details\\\\\\\\\\\\\\\": {\\\\\\\\\\\\\\\"selectedColumn\\\\\\\\\\\\\\\": \\\\\\\\\\\\\\\"LDA_01\\\\\\\\\\\\\\\"}}, \\\\\\\\\\\\\\\"typeProperty\\\\\\\\\\\\\\\": 3}, {\\\\\\\\\\\\\\\"column\\\\\\\\\\\\\\\": {\\\\\\\\\\\\\\\"type\\\\\\\\\\\\\\\": 2, \\\\\\\\\\\\\\\"details\\\\\\\\\\\\\\\": {\\\\\\\\\\\\\\\"selectedColumn\\\\\\\\\\\\\\\": \\\\\\\\\\\\\\\"LDA_02\\\\\\\\\\\\\\\"}}, \\\\\\\\\\\\\\\"typeProperty\\\\\\\\\\\\\\\": 3}, {\\\\\\\\\\\\\\\"column\\\\\\\\\\\\\\\": {\\\\\\\\\\\\\\\"type\\\\\\\\\\\\\\\": 2, \\\\\\\\\\\\\\\"details\\\\\\\\\\\\\\\": {\\\\\\\\\\\\\\\"selectedColumn\\\\\\\\\\\\\\\": \\\\\\\\\\\\\\\"LDA_03\\\\\\\\\\\\\\\"}}, \\\\\\\\\\\\\\\"typeProperty\\\\\\\\\\\\\\\": 3}, {\\\\\\\\\\\\\\\"column\\\\\\\\\\\\\\\": {\\\\\\\\\\\\\\\"type\\\\\\\\\\\\\\\": 2, \\\\\\\\\\\\\\\"details\\\\\\\\\\\\\\\": {\\\\\\\\\\\\\\\"selectedColumn\\\\\\\\\\\\\\\": \\\\\\\\\\\\\\\"LDA_04\\\\\\\\\\\\\\\"}}, \\\\\\\\\\\\\\\"typeProperty\\\\\\\\\\\\\\\": 3}, {\\\\\\\\\\\\\\\"column\\\\\\\\\\\\\\\": {\\\\\\\\\\\\\\\"type\\\\\\\\\\\\\\\": 2, \\\\\\\\\\\\\\\"details\\\\\\\\\\\\\\\": {\\\\\\\\\\\\\\\"selectedColumn\\\\\\\\\\\\\\\": \\\\\\\\\\\\\\\"global_subjectivity\\\\\\\\\\\\\\\"}}, \\\\\\\\\\\\\\\"typeProperty\\\\\\\\\\\\\\\": 3}, {\\\\\\\\\\\\\\\"column\\\\\\\\\\\\\\\": {\\\\\\\\\\\\\\\"type\\\\\\\\\\\\\\\": 2, \\\\\\\\\\\\\\\"details\\\\\\\\\\\\\\\": {\\\\\\\\\\\\\\\"selectedColumn\\\\\\\\\\\\\\\": \\\\\\\\\\\\\\\"global_sentiment_polarity\\\\\\\\\\\\\\\"}}, \\\\\\\\\\\\\\\"typeProperty\\\\\\\\\\\\\\\": 3}, {\\\\\\\\\\\\\\\"column\\\\\\\\\\\\\\\": {\\\\\\\\\\\\\\\"type\\\\\\\\\\\\\\\": 2, \\\\\\\\\\\\\\\"details\\\\\\\\\\\\\\\": {\\\\\\\\\\\\\\\"selectedColumn\\\\\\\\\\\\\\\": \\\\\\\\\\\\\\\"global_rate_positive_words\\\\\\\\\\\\\\\"}}, \\\\\\\\\\\\\\\"typeProperty\\\\\\\\\\\\\\\": 3}, {\\\\\\\\\\\\\\\"column\\\\\\\\\\\\\\\": {\\\\\\\\\\\\\\\"type\\\\\\\\\\\\\\\": 2, \\\\\\\\\\\\\\\"details\\\\\\\\\\\\\\\": {\\\\\\\\\\\\\\\"selectedColumn\\\\\\\\\\\\\\\": \\\\\\\\\\\\\\\"global_rate_negative_words\\\\\\\\\\\\\\\"}}, \\\\\\\\\\\\\\\"typeProperty\\\\\\\\\\\\\\\": 3}, {\\\\\\\\\\\\\\\"column\\\\\\\\\\\\\\\": {\\\\\\\\\\\\\\\"type\\\\\\\\\\\\\\\": 2, \\\\\\\\\\\\\\\"details\\\\\\\\\\\\\\\": {\\\\\\\\\\\\\\\"selectedColumn\\\\\\\\\\\\\\\": \\\\\\\\\\\\\\\"rate_positive_words\\\\\\\\\\\\\\\"}}, \\\\\\\\\\\\\\\"typeProperty\\\\\\\\\\\\\\\": 3}, {\\\\\\\\\\\\\\\"column\\\\\\\\\\\\\\\": {\\\\\\\\\\\\\\\"type\\\\\\\\\\\\\\\": 2, \\\\\\\\\\\\\\\"details\\\\\\\\\\\\\\\": {\\\\\\\\\\\\\\\"selectedColumn\\\\\\\\\\\\\\\": \\\\\\\\\\\\\\\"rate_negative_words\\\\\\\\\\\\\\\"}}, \\\\\\\\\\\\\\\"typeProperty\\\\\\\\\\\\\\\": 3}, {\\\\\\\\\\\\\\\"column\\\\\\\\\\\\\\\": {\\\\\\\\\\\\\\\"type\\\\\\\\\\\\\\\": 2, \\\\\\\\\\\\\\\"details\\\\\\\\\\\\\\\": {\\\\\\\\\\\\\\\"selectedColumn\\\\\\\\\\\\\\\": \\\\\\\\\\\\\\\"avg_positive_polarity\\\\\\\\\\\\\\\"}}, \\\\\\\\\\\\\\\"typeProperty\\\\\\\\\\\\\\\": 3}, {\\\\\\\\\\\\\\\"column\\\\\\\\\\\\\\\": {\\\\\\\\\\\\\\\"type\\\\\\\\\\\\\\\": 2, \\\\\\\\\\\\\\\"details\\\\\\\\\\\\\\\": {\\\\\\\\\\\\\\\"selectedColumn\\\\\\\\\\\\\\\": \\\\\\\\\\\\\\\"min_positive_polarity\\\\\\\\\\\\\\\"}}, \\\\\\\\\\\\\\\"typeProperty\\\\\\\\\\\\\\\": 3}, {\\\\\\\\\\\\\\\"column\\\\\\\\\\\\\\\": {\\\\\\\\\\\\\\\"type\\\\\\\\\\\\\\\": 2, \\\\\\\\\\\\\\\"details\\\\\\\\\\\\\\\": {\\\\\\\\\\\\\\\"selectedColumn\\\\\\\\\\\\\\\": \\\\\\\\\\\\\\\"max_positive_polarity\\\\\\\\\\\\\\\"}}, \\\\\\\\\\\\\\\"typeProperty\\\\\\\\\\\\\\\": 3}, {\\\\\\\\\\\\\\\"column\\\\\\\\\\\\\\\": {\\\\\\\\\\\\\\\"type\\\\\\\\\\\\\\\": 2, \\\\\\\\\\\\\\\"details\\\\\\\\\\\\\\\": {\\\\\\\\\\\\\\\"selectedColumn\\\\\\\\\\\\\\\": \\\\\\\\\\\\\\\"avg_negative_polarity\\\\\\\\\\\\\\\"}}, \\\\\\\\\\\\\\\"typeProperty\\\\\\\\\\\\\\\": 3}, {\\\\\\\\\\\\\\\"column\\\\\\\\\\\\\\\": {\\\\\\\\\\\\\\\"type\\\\\\\\\\\\\\\": 2, \\\\\\\\\\\\\\\"details\\\\\\\\\\\\\\\": {\\\\\\\\\\\\\\\"selectedColumn\\\\\\\\\\\\\\\": \\\\\\\\\\\\\\\"min_negative_polarity\\\\\\\\\\\\\\\"}}, \\\\\\\\\\\\\\\"typeProperty\\\\\\\\\\\\\\\": 3}, {\\\\\\\\\\\\\\\"column\\\\\\\\\\\\\\\": {\\\\\\\\\\\\\\\"type\\\\\\\\\\\\\\\": 2, \\\\\\\\\\\\\\\"details\\\\\\\\\\\\\\\": {\\\\\\\\\\\\\\\"selectedColumn\\\\\\\\\\\\\\\": \\\\\\\\\\\\\\\"max_negative_polarity\\\\\\\\\\\\\\\"}}, \\\\\\\\\\\\\\\"typeProperty\\\\\\\\\\\\\\\": 3}, {\\\\\\\\\\\\\\\"column\\\\\\\\\\\\\\\": {\\\\\\\\\\\\\\\"type\\\\\\\\\\\\\\\": 2, \\\\\\\\\\\\\\\"details\\\\\\\\\\\\\\\": {\\\\\\\\\\\\\\\"selectedColumn\\\\\\\\\\\\\\\": \\\\\\\\\\\\\\\"title_subjectivity\\\\\\\\\\\\\\\"}}, \\\\\\\\\\\\\\\"typeProperty\\\\\\\\\\\\\\\": 3}, {\\\\\\\\\\\\\\\"column\\\\\\\\\\\\\\\": {\\\\\\\\\\\\\\\"type\\\\\\\\\\\\\\\": 2, \\\\\\\\\\\\\\\"details\\\\\\\\\\\\\\\": {\\\\\\\\\\\\\\\"selectedColumn\\\\\\\\\\\\\\\": \\\\\\\\\\\\\\\"title_sentiment_polarity\\\\\\\\\\\\\\\"}}, \\\\\\\\\\\\\\\"typeProperty\\\\\\\\\\\\\\\": 3}, {\\\\\\\\\\\\\\\"column\\\\\\\\\\\\\\\": {\\\\\\\\\\\\\\\"type\\\\\\\\\\\\\\\": 2, \\\\\\\\\\\\\\\"details\\\\\\\\\\\\\\\": {\\\\\\\\\\\\\\\"selectedColumn\\\\\\\\\\\\\\\": \\\\\\\\\\\\\\\"abs_title_sentiment_polarity\\\\\\\\\\\\\\\"}}, \\\\\\\\\\\\\\\"typeProperty\\\\\\\\\\\\\\\": 3}, {\\\\\\\\\\\\\\\"column\\\\\\\\\\\\\\\": {\\\\\\\\\\\\\\\"type\\\\\\\\\\\\\\\": 2, \\\\\\\\\\\\\\\"details\\\\\\\\\\\\\\\": {\\\\\\\\\\\\\\\"selectedColumn\\\\\\\\\\\\\\\": \\\\\\\\\\\\\\\"label\\\\\\\\\\\\\\\"}}, \\\\\\\\\\\\\\\"typeProperty\\\\\\\\\\\\\\\": 2}]}, \\\\\\\\\\\\\\\"localData\\\\\\\\\\\\\\\": {}, \\\\\\\\\\\\\\\"isEnabled\\\\\\\\\\\\\\\": true, \\\\\\\\\\\\\\\"name\\\\\\\\\\\\\\\": null, \\\\\\\\\\\\\\\"annotation\\\\\\\\\\\\\\\": null}], \\\\\\\\\\\\\\\"inspectors\\\\\\\\\\\\\\\": [], \\\\\\\\\\\\\\\"meta\\\\\\\\\\\\\\\": {\\\\\\\\\\\\\\\"savedDatasetId\\\\\\\\\\\\\\\": \\\\\\\\\\\\\\\"4a893a8e-32ea-4ec9-9849-2b44a15b59a3\\\\\\\\\\\\\\\", \\\\\\\\\\\\\\\"datasetType\\\\\\\\\\\\\\\": \\\\\\\\\\\\\\\"tabular\\\\\\\\\\\\\\\", \\\\\\\\\\\\\\\"subscriptionId\\\\\\\\\\\\\\\": \\\\\\\\\\\\\\\"81cefad3-d2c9-4f77-a466-99a7f541c7bb\\\\\\\\\\\\\\\", \\\\\\\\\\\\\\\"workspaceId\\\\\\\\\\\\\\\": \\\\\\\\\\\\\\\"e3f99bb8-a492-4d55-add2-2ab0bb5281ce\\\\\\\\\\\\\\\", \\\\\\\\\\\\\\\"workspaceLocation\\\\\\\\\\\\\\\": \\\\\\\\\\\\\\\"southcentralus\\\\\\\\\\\\\\\"}}\\\\\\\", \\\\\\\"activities\\\\\\\": 0}\", \"EnableSubsampling\": null, \"runTemplate\": \"AutoML\", \"azureml.runsource\": \"automl\", \"display_task_type\": \"classification\", \"dependencies_versions\": \"{\\\"azureml-widgets\\\": \\\"1.23.0\\\", \\\"azureml-train\\\": \\\"1.23.0\\\", \\\"azureml-train-restclients-hyperdrive\\\": \\\"1.23.0\\\", \\\"azureml-train-core\\\": \\\"1.23.0\\\", \\\"azureml-train-automl\\\": \\\"1.23.0\\\", \\\"azureml-train-automl-runtime\\\": \\\"1.23.0.post1\\\", \\\"azureml-train-automl-client\\\": \\\"1.23.0.post1\\\", \\\"azureml-telemetry\\\": \\\"1.23.0\\\", \\\"azureml-sdk\\\": \\\"1.23.0\\\", \\\"azureml-pipeline\\\": \\\"1.23.0\\\", \\\"azureml-pipeline-steps\\\": \\\"1.23.0\\\", \\\"azureml-pipeline-core\\\": \\\"1.23.0\\\", \\\"azureml-model-management-sdk\\\": \\\"1.0.1b6.post1\\\", \\\"azureml-interpret\\\": \\\"1.23.0\\\", \\\"azureml-defaults\\\": \\\"1.23.0\\\", \\\"azureml-dataset-runtime\\\": \\\"1.23.0\\\", \\\"azureml-dataprep\\\": \\\"2.10.1\\\", \\\"azureml-dataprep-rslex\\\": \\\"1.8.1\\\", \\\"azureml-dataprep-native\\\": \\\"30.0.0\\\", \\\"azureml-core\\\": \\\"1.23.0\\\", \\\"azureml-contrib-services\\\": \\\"1.23.0\\\", \\\"azureml-contrib-server\\\": \\\"1.23.0\\\", \\\"azureml-contrib-pipeline-steps\\\": \\\"1.23.0\\\", \\\"azureml-contrib-notebook\\\": \\\"1.23.0\\\", \\\"azureml-automl-runtime\\\": \\\"1.23.0\\\", \\\"azureml-automl-core\\\": \\\"1.23.0\\\"}\", \"_aml_system_scenario_identification\": \"Remote.Parent\", \"ClientType\": \"SDK\", \"environment_cpu_name\": \"AzureML-AutoML\", \"environment_cpu_label\": \"prod\", \"environment_gpu_name\": \"AzureML-AutoML-GPU\", \"environment_gpu_label\": \"prod\", \"root_attribution\": \"automl\", \"attribution\": \"AutoML\", \"Orchestrator\": \"AutoML\", \"CancelUri\": \"https://southcentralus.experiments.azureml.net/jasmine/v1.0/subscriptions/81cefad3-d2c9-4f77-a466-99a7f541c7bb/resourceGroups/aml-quickstarts-142415/providers/Microsoft.MachineLearningServices/workspaces/quick-starts-ws-142415/experimentids/f6ec2d0f-b440-49ac-959f-c68b52b60663/cancel/AutoML_690cf95e-ea6f-40dc-b297-5261ea2009ed\", \"ClientSdkVersion\": \"1.25.0\", \"snapshotId\": \"00000000-0000-0000-0000-000000000000\", \"SetupRunId\": \"AutoML_690cf95e-ea6f-40dc-b297-5261ea2009ed_setup\", \"SetupRunContainerId\": \"dcid.AutoML_690cf95e-ea6f-40dc-b297-5261ea2009ed_setup\", \"FeaturizationRunJsonPath\": \"featurizer_container.json\", \"FeaturizationRunId\": \"AutoML_690cf95e-ea6f-40dc-b297-5261ea2009ed_featurize\", \"ProblemInfoJsonString\": \"{\\\"dataset_num_categorical\\\": 0, \\\"is_sparse\\\": false, \\\"subsampling\\\": false, \\\"dataset_classes\\\": 2, \\\"dataset_features\\\": 47, \\\"dataset_samples\\\": 31715, \\\"single_frequency_class_detected\\\": false}\", \"ModelExplainRunId\": \"AutoML_690cf95e-ea6f-40dc-b297-5261ea2009ed_ModelExplain\", \"azureml.git.repository_uri\": \"https://github.com/franckess/AzureML_Capstone.git\", \"mlflow.source.git.repoURL\": \"https://github.com/franckess/AzureML_Capstone.git\", \"azureml.git.branch\": \"main\", \"mlflow.source.git.branch\": \"main\", \"azureml.git.commit\": \"c66260586f300cb352c9bcdc64e310777f0438a6\", \"mlflow.source.git.commit\": \"c66260586f300cb352c9bcdc64e310777f0438a6\", \"azureml.git.dirty\": \"False\"}, \"tags\": {\"model_explain_run\": \"best_run\", \"_aml_system_azureml.automlComponent\": \"AutoML\", \"pipeline_id\": \"\", \"score\": \"\", \"predicted_cost\": \"\", \"fit_time\": \"\", \"training_percent\": \"\", \"iteration\": \"\", \"run_preprocessor\": \"\", \"run_algorithm\": \"\", \"dynamic_whitelisting_iterations\": \"<25>;<30>;<35>;<40>;<45>;\", \"automl_best_child_run_id\": \"AutoML_690cf95e-ea6f-40dc-b297-5261ea2009ed_46\", \"model_explain_best_run_child_id\": \"AutoML_690cf95e-ea6f-40dc-b297-5261ea2009ed_46\"}, \"end_time_utc\": \"2021-04-11T12:59:50.012852Z\", \"status\": \"Completed\", \"log_files\": {}, \"log_groups\": [], \"run_duration\": \"0:20:59\", \"run_number\": \"1\", \"run_queued_details\": {\"status\": \"Completed\", \"details\": null}}, \"child_runs\": [{\"run_id\": \"AutoML_690cf95e-ea6f-40dc-b297-5261ea2009ed_2\", \"run_number\": 5, \"metric\": null, \"status\": \"Completed\", \"run_type\": \"azureml.scriptrun\", \"training_percent\": \"100\", \"start_time\": \"2021-04-11T12:45:51.324348Z\", \"end_time\": \"2021-04-11T12:47:49.926011Z\", \"created_time\": \"2021-04-11T12:42:35.288346Z\", \"created_time_dt\": \"2021-04-11T12:42:35.288346Z\", \"duration\": \"0:05:14\", \"iteration\": \"2\", \"goal\": \"accuracy_max\", \"run_name\": \"MinMaxScaler, RandomForest\", \"run_properties\": \"copy=True, feature_range=(0, 1\", \"primary_metric\": 0.64392243, \"best_metric\": 0.67056598}, {\"run_id\": \"AutoML_690cf95e-ea6f-40dc-b297-5261ea2009ed_8\", \"run_number\": 6, \"metric\": null, \"status\": \"Completed\", \"run_type\": \"azureml.scriptrun\", \"training_percent\": \"100\", \"start_time\": \"2021-04-11T12:45:51.082441Z\", \"end_time\": \"2021-04-11T12:47:56.18836Z\", \"created_time\": \"2021-04-11T12:42:35.307714Z\", \"created_time_dt\": \"2021-04-11T12:42:35.307714Z\", \"duration\": \"0:05:20\", \"iteration\": \"8\", \"goal\": \"accuracy_max\", \"run_name\": \"StandardScalerWrapper, XGBoostClassifier\", \"run_properties\": \"<azureml.automl.runtime.shared.model_wrappers.StandardScalerWrapper object at 0x7f1c8be491d0\", \"primary_metric\": 0.66142204, \"best_metric\": 0.67056598}, {\"run_id\": \"AutoML_690cf95e-ea6f-40dc-b297-5261ea2009ed_3\", \"run_number\": 7, \"metric\": null, \"status\": \"Completed\", \"run_type\": \"azureml.scriptrun\", \"training_percent\": \"100\", \"start_time\": \"2021-04-11T12:42:48.468684Z\", \"end_time\": \"2021-04-11T12:43:33.730875Z\", \"created_time\": \"2021-04-11T12:42:35.309707Z\", \"created_time_dt\": \"2021-04-11T12:42:35.309707Z\", \"duration\": \"0:00:58\", \"iteration\": \"3\", \"goal\": \"accuracy_max\", \"run_name\": \"MinMaxScaler, RandomForest\", \"run_properties\": \"copy=True, feature_range=(0, 1\", \"primary_metric\": 0.63544064, \"best_metric\": 0.67056598}, {\"run_id\": \"AutoML_690cf95e-ea6f-40dc-b297-5261ea2009ed_5\", \"run_number\": 8, \"metric\": null, \"status\": \"Completed\", \"run_type\": \"azureml.scriptrun\", \"training_percent\": \"100\", \"start_time\": \"2021-04-11T12:47:18.292717Z\", \"end_time\": \"2021-04-11T12:48:20.152342Z\", \"created_time\": \"2021-04-11T12:42:35.329938Z\", \"created_time_dt\": \"2021-04-11T12:42:35.329938Z\", \"duration\": \"0:05:44\", \"iteration\": \"5\", \"goal\": \"accuracy_max\", \"run_name\": \"SparseNormalizer, XGBoostClassifier\", \"run_properties\": \"<azureml.automl.runtime.shared.model_wrappers.SparseNormalizer object at 0x7fb170092320\", \"primary_metric\": 0.6631247, \"best_metric\": 0.67056598}, {\"run_id\": \"AutoML_690cf95e-ea6f-40dc-b297-5261ea2009ed_7\", \"run_number\": 9, \"metric\": null, \"status\": \"Completed\", \"run_type\": \"azureml.scriptrun\", \"training_percent\": \"100\", \"start_time\": \"2021-04-11T12:43:51.900394Z\", \"end_time\": \"2021-04-11T12:44:49.311972Z\", \"created_time\": \"2021-04-11T12:42:35.339134Z\", \"created_time_dt\": \"2021-04-11T12:42:35.339134Z\", \"duration\": \"0:02:13\", \"iteration\": \"7\", \"goal\": \"accuracy_max\", \"run_name\": \"StandardScalerWrapper, XGBoostClassifier\", \"run_properties\": \"<azureml.automl.runtime.shared.model_wrappers.StandardScalerWrapper object at 0x7f466de47fd0\", \"primary_metric\": 0.65253035, \"best_metric\": 0.67056598}, {\"run_id\": \"AutoML_690cf95e-ea6f-40dc-b297-5261ea2009ed_6\", \"run_number\": 10, \"metric\": null, \"status\": \"Completed\", \"run_type\": \"azureml.scriptrun\", \"training_percent\": \"100\", \"start_time\": \"2021-04-11T12:45:50.838448Z\", \"end_time\": \"2021-04-11T12:47:41.305881Z\", \"created_time\": \"2021-04-11T12:42:35.347506Z\", \"created_time_dt\": \"2021-04-11T12:42:35.347506Z\", \"duration\": \"0:05:05\", \"iteration\": \"6\", \"goal\": \"accuracy_max\", \"run_name\": \"StandardScalerWrapper, XGBoostClassifier\", \"run_properties\": \"<azureml.automl.runtime.shared.model_wrappers.StandardScalerWrapper object at 0x7fbf965baa58\", \"primary_metric\": 0.65997162, \"best_metric\": 0.67056598}, {\"run_id\": \"AutoML_690cf95e-ea6f-40dc-b297-5261ea2009ed_4\", \"run_number\": 11, \"metric\": null, \"status\": \"Completed\", \"run_type\": \"azureml.scriptrun\", \"training_percent\": \"100\", \"start_time\": \"2021-04-11T12:45:05.916184Z\", \"end_time\": \"2021-04-11T12:45:57.368504Z\", \"created_time\": \"2021-04-11T12:42:35.310046Z\", \"created_time_dt\": \"2021-04-11T12:42:35.310046Z\", \"duration\": \"0:03:22\", \"iteration\": \"4\", \"goal\": \"accuracy_max\", \"run_name\": \"MinMaxScaler, RandomForest\", \"run_properties\": \"copy=True, feature_range=(0, 1\", \"primary_metric\": 0.65262494, \"best_metric\": 0.67056598}, {\"run_id\": \"AutoML_690cf95e-ea6f-40dc-b297-5261ea2009ed_1\", \"run_number\": 12, \"metric\": null, \"status\": \"Completed\", \"run_type\": \"azureml.scriptrun\", \"training_percent\": \"100\", \"start_time\": \"2021-04-11T12:47:55.153109Z\", \"end_time\": \"2021-04-11T12:48:54.806601Z\", \"created_time\": \"2021-04-11T12:42:35.330991Z\", \"created_time_dt\": \"2021-04-11T12:42:35.330991Z\", \"duration\": \"0:06:19\", \"iteration\": \"1\", \"goal\": \"accuracy_max\", \"run_name\": \"MaxAbsScaler, XGBoostClassifier\", \"run_properties\": \"copy=True\", \"primary_metric\": 0.66422828, \"best_metric\": 0.67056598}, {\"run_id\": \"AutoML_690cf95e-ea6f-40dc-b297-5261ea2009ed_0\", \"run_number\": 13, \"metric\": null, \"status\": \"Completed\", \"run_type\": \"azureml.scriptrun\", \"training_percent\": \"100\", \"start_time\": \"2021-04-11T12:46:10.56018Z\", \"end_time\": \"2021-04-11T12:47:01.268472Z\", \"created_time\": \"2021-04-11T12:42:35.282496Z\", \"created_time_dt\": \"2021-04-11T12:42:35.282496Z\", \"duration\": \"0:04:25\", \"iteration\": \"0\", \"goal\": \"accuracy_max\", \"run_name\": \"MaxAbsScaler, LightGBM\", \"run_properties\": \"copy=True\", \"primary_metric\": 0.67056598, \"best_metric\": 0.67056598}, {\"run_id\": \"AutoML_690cf95e-ea6f-40dc-b297-5261ea2009ed_9\", \"run_number\": 14, \"metric\": null, \"status\": \"Completed\", \"run_type\": \"azureml.scriptrun\", \"training_percent\": \"100\", \"start_time\": \"2021-04-11T12:48:01.161077Z\", \"end_time\": \"2021-04-11T12:49:00.022832Z\", \"created_time\": \"2021-04-11T12:43:38.473188Z\", \"created_time_dt\": \"2021-04-11T12:43:38.473188Z\", \"duration\": \"0:05:21\", \"iteration\": \"9\", \"goal\": \"accuracy_max\", \"run_name\": \"MaxAbsScaler, ExtremeRandomTrees\", \"run_properties\": \"copy=True\", \"primary_metric\": 0.64237742, \"best_metric\": 0.67056598}, {\"run_id\": \"AutoML_690cf95e-ea6f-40dc-b297-5261ea2009ed_10\", \"run_number\": 15, \"metric\": null, \"status\": \"Completed\", \"run_type\": \"azureml.scriptrun\", \"training_percent\": \"100\", \"start_time\": \"2021-04-11T12:48:10.097643Z\", \"end_time\": \"2021-04-11T12:49:16.345009Z\", \"created_time\": \"2021-04-11T12:44:52.377728Z\", \"created_time_dt\": \"2021-04-11T12:44:52.377728Z\", \"duration\": \"0:04:23\", \"iteration\": \"10\", \"goal\": \"accuracy_max\", \"run_name\": \"MaxAbsScaler, LogisticRegression\", \"run_properties\": \"copy=True\", \"primary_metric\": 0.64682327, \"best_metric\": 0.67056598}, {\"run_id\": \"AutoML_690cf95e-ea6f-40dc-b297-5261ea2009ed_11\", \"run_number\": 16, \"metric\": null, \"status\": \"Completed\", \"run_type\": \"azureml.scriptrun\", \"training_percent\": \"100\", \"start_time\": \"2021-04-11T12:48:34.932866Z\", \"end_time\": \"2021-04-11T12:49:32.848509Z\", \"created_time\": \"2021-04-11T12:46:00.114287Z\", \"created_time_dt\": \"2021-04-11T12:46:00.114287Z\", \"duration\": \"0:03:32\", \"iteration\": \"11\", \"goal\": \"accuracy_max\", \"run_name\": \"SparseNormalizer, XGBoostClassifier\", \"run_properties\": \"<azureml.automl.runtime.shared.model_wrappers.SparseNormalizer object at 0x7fb6aa965e48\", \"primary_metric\": 0.66769667, \"best_metric\": 0.67056598}, {\"run_id\": \"AutoML_690cf95e-ea6f-40dc-b297-5261ea2009ed_12\", \"run_number\": 17, \"metric\": null, \"status\": \"Completed\", \"run_type\": \"azureml.scriptrun\", \"training_percent\": \"100\", \"start_time\": \"2021-04-11T12:49:08.831742Z\", \"end_time\": \"2021-04-11T12:49:56.296728Z\", \"created_time\": \"2021-04-11T12:47:03.264743Z\", \"created_time_dt\": \"2021-04-11T12:47:03.264743Z\", \"duration\": \"0:02:53\", \"iteration\": \"12\", \"goal\": \"accuracy_max\", \"run_name\": \"MaxAbsScaler, LightGBM\", \"run_properties\": \"copy=True\", \"primary_metric\": 0.65126912, \"best_metric\": 0.67056598}, {\"run_id\": \"AutoML_690cf95e-ea6f-40dc-b297-5261ea2009ed_13\", \"run_number\": 18, \"metric\": null, \"status\": \"Completed\", \"run_type\": \"azureml.scriptrun\", \"training_percent\": \"100\", \"start_time\": \"2021-04-11T12:49:13.519877Z\", \"end_time\": \"2021-04-11T12:50:10.399442Z\", \"created_time\": \"2021-04-11T12:47:43.499109Z\", \"created_time_dt\": \"2021-04-11T12:47:43.499109Z\", \"duration\": \"0:02:26\", \"iteration\": \"13\", \"goal\": \"accuracy_max\", \"run_name\": \"SparseNormalizer, LightGBM\", \"run_properties\": \"<azureml.automl.runtime.shared.model_wrappers.SparseNormalizer object at 0x7fe0a7e70b00\", \"primary_metric\": 0.64638184, \"best_metric\": 0.67056598}, {\"run_id\": \"AutoML_690cf95e-ea6f-40dc-b297-5261ea2009ed_14\", \"run_number\": 19, \"metric\": null, \"status\": \"Completed\", \"run_type\": \"azureml.scriptrun\", \"training_percent\": \"100\", \"start_time\": \"2021-04-11T12:49:26.261541Z\", \"end_time\": \"2021-04-11T12:50:38.438127Z\", \"created_time\": \"2021-04-11T12:47:51.792762Z\", \"created_time_dt\": \"2021-04-11T12:47:51.792762Z\", \"duration\": \"0:02:46\", \"iteration\": \"14\", \"goal\": \"accuracy_max\", \"run_name\": \"SparseNormalizer, XGBoostClassifier\", \"run_properties\": \"<azureml.automl.runtime.shared.model_wrappers.SparseNormalizer object at 0x7fd13b53d2e8\", \"primary_metric\": 0.66839035, \"best_metric\": 0.67056598}, {\"run_id\": \"AutoML_690cf95e-ea6f-40dc-b297-5261ea2009ed_15\", \"run_number\": 20, \"metric\": null, \"status\": \"Completed\", \"run_type\": \"azureml.scriptrun\", \"training_percent\": \"100\", \"start_time\": \"2021-04-11T12:49:47.505309Z\", \"end_time\": \"2021-04-11T12:50:50.471096Z\", \"created_time\": \"2021-04-11T12:47:57.932081Z\", \"created_time_dt\": \"2021-04-11T12:47:57.932081Z\", \"duration\": \"0:02:52\", \"iteration\": \"15\", \"goal\": \"accuracy_max\", \"run_name\": \"StandardScalerWrapper, RandomForest\", \"run_properties\": \"<azureml.automl.runtime.shared.model_wrappers.StandardScalerWrapper object at 0x7efeeb9774a8\", \"primary_metric\": 0.64732776, \"best_metric\": 0.67056598}, {\"run_id\": \"AutoML_690cf95e-ea6f-40dc-b297-5261ea2009ed_16\", \"run_number\": 21, \"metric\": null, \"status\": \"Completed\", \"run_type\": \"azureml.scriptrun\", \"training_percent\": \"100\", \"start_time\": \"2021-04-11T12:50:12.780504Z\", \"end_time\": \"2021-04-11T12:51:01.840754Z\", \"created_time\": \"2021-04-11T12:48:21.9551Z\", \"created_time_dt\": \"2021-04-11T12:48:21.9551Z\", \"duration\": \"0:02:39\", \"iteration\": \"16\", \"goal\": \"accuracy_max\", \"run_name\": \"StandardScalerWrapper, XGBoostClassifier\", \"run_properties\": \"<azureml.automl.runtime.shared.model_wrappers.StandardScalerWrapper object at 0x7f05e3dbe550\", \"primary_metric\": 0.66006621, \"best_metric\": 0.67056598}, {\"run_id\": \"AutoML_690cf95e-ea6f-40dc-b297-5261ea2009ed_17\", \"run_number\": 22, \"metric\": null, \"status\": \"Completed\", \"run_type\": \"azureml.scriptrun\", \"training_percent\": \"100\", \"start_time\": \"2021-04-11T12:50:27.629986Z\", \"end_time\": \"2021-04-11T12:51:13.048923Z\", \"created_time\": \"2021-04-11T12:48:56.567794Z\", \"created_time_dt\": \"2021-04-11T12:48:56.567794Z\", \"duration\": \"0:02:16\", \"iteration\": \"17\", \"goal\": \"accuracy_max\", \"run_name\": \"SparseNormalizer, XGBoostClassifier\", \"run_properties\": \"<azureml.automl.runtime.shared.model_wrappers.SparseNormalizer object at 0x7fbd2df33630\", \"primary_metric\": 0.63124704, \"best_metric\": 0.67056598}, {\"run_id\": \"AutoML_690cf95e-ea6f-40dc-b297-5261ea2009ed_18\", \"run_number\": 23, \"metric\": null, \"status\": \"Completed\", \"run_type\": \"azureml.scriptrun\", \"training_percent\": \"100\", \"start_time\": \"2021-04-11T12:50:52.110996Z\", \"end_time\": \"2021-04-11T12:51:45.893683Z\", \"created_time\": \"2021-04-11T12:49:01.948511Z\", \"created_time_dt\": \"2021-04-11T12:49:01.948511Z\", \"duration\": \"0:02:43\", \"iteration\": \"18\", \"goal\": \"accuracy_max\", \"run_name\": \"SparseNormalizer, LightGBM\", \"run_properties\": \"<azureml.automl.runtime.shared.model_wrappers.SparseNormalizer object at 0x7f01a3af0358\", \"primary_metric\": 0.66867413, \"best_metric\": 0.67056598}, {\"run_id\": \"AutoML_690cf95e-ea6f-40dc-b297-5261ea2009ed_19\", \"run_number\": 24, \"metric\": null, \"status\": \"Completed\", \"run_type\": \"azureml.scriptrun\", \"training_percent\": \"100\", \"start_time\": \"2021-04-11T12:51:04.027739Z\", \"end_time\": \"2021-04-11T12:51:56.572344Z\", \"created_time\": \"2021-04-11T12:49:18.361739Z\", \"created_time_dt\": \"2021-04-11T12:49:18.361739Z\", \"duration\": \"0:02:38\", \"iteration\": \"19\", \"goal\": \"accuracy_max\", \"run_name\": \"MaxAbsScaler, GradientBoosting\", \"run_properties\": \"copy=True\", \"primary_metric\": 0.65158442, \"best_metric\": 0.67056598}, {\"run_id\": \"AutoML_690cf95e-ea6f-40dc-b297-5261ea2009ed_20\", \"run_number\": 25, \"metric\": null, \"status\": \"Completed\", \"run_type\": \"azureml.scriptrun\", \"training_percent\": \"100\", \"start_time\": \"2021-04-11T12:51:17.423043Z\", \"end_time\": \"2021-04-11T12:52:46.337821Z\", \"created_time\": \"2021-04-11T12:49:34.910Z\", \"created_time_dt\": \"2021-04-11T12:49:34.910Z\", \"duration\": \"0:03:11\", \"iteration\": \"20\", \"goal\": \"accuracy_max\", \"run_name\": \"SparseNormalizer, XGBoostClassifier\", \"run_properties\": \"<azureml.automl.runtime.shared.model_wrappers.SparseNormalizer object at 0x7f3a1d2f1e10\", \"primary_metric\": 0.66422828, \"best_metric\": 0.67056598}, {\"run_id\": \"AutoML_690cf95e-ea6f-40dc-b297-5261ea2009ed_21\", \"run_number\": 26, \"metric\": null, \"status\": \"Completed\", \"run_type\": \"azureml.scriptrun\", \"training_percent\": \"100\", \"start_time\": \"2021-04-11T12:51:29.965324Z\", \"end_time\": \"2021-04-11T12:52:18.984869Z\", \"created_time\": \"2021-04-11T12:49:58.44935Z\", \"created_time_dt\": \"2021-04-11T12:49:58.44935Z\", \"duration\": \"0:02:20\", \"iteration\": \"21\", \"goal\": \"accuracy_max\", \"run_name\": \"SparseNormalizer, LightGBM\", \"run_properties\": \"<azureml.automl.runtime.shared.model_wrappers.SparseNormalizer object at 0x7f070aa48400\", \"primary_metric\": 0.64811603, \"best_metric\": 0.67056598}, {\"run_id\": \"AutoML_690cf95e-ea6f-40dc-b297-5261ea2009ed_22\", \"run_number\": 27, \"metric\": null, \"status\": \"Completed\", \"run_type\": \"azureml.scriptrun\", \"training_percent\": \"100\", \"start_time\": \"2021-04-11T12:52:02.879588Z\", \"end_time\": \"2021-04-11T12:53:00.974514Z\", \"created_time\": \"2021-04-11T12:50:12.190802Z\", \"created_time_dt\": \"2021-04-11T12:50:12.190802Z\", \"duration\": \"0:02:48\", \"iteration\": \"22\", \"goal\": \"accuracy_max\", \"run_name\": \"SparseNormalizer, XGBoostClassifier\", \"run_properties\": \"<azureml.automl.runtime.shared.model_wrappers.SparseNormalizer object at 0x7fb3771b5c50\", \"primary_metric\": 0.6585212, \"best_metric\": 0.67056598}, {\"run_id\": \"AutoML_690cf95e-ea6f-40dc-b297-5261ea2009ed_23\", \"run_number\": 28, \"metric\": null, \"status\": \"Completed\", \"run_type\": \"azureml.scriptrun\", \"training_percent\": \"100\", \"start_time\": \"2021-04-11T12:52:11.364811Z\", \"end_time\": \"2021-04-11T12:53:08.185342Z\", \"created_time\": \"2021-04-11T12:50:40.914701Z\", \"created_time_dt\": \"2021-04-11T12:50:40.914701Z\", \"duration\": \"0:02:27\", \"iteration\": \"23\", \"goal\": \"accuracy_max\", \"run_name\": \"RobustScaler, LightGBM\", \"run_properties\": \"copy=True, quantile_range=[25, 75], with_centering=False,\\n             with_scaling=False\", \"primary_metric\": 0.66602554, \"best_metric\": 0.67056598}, {\"run_id\": \"AutoML_690cf95e-ea6f-40dc-b297-5261ea2009ed_24\", \"run_number\": 29, \"metric\": null, \"status\": \"Completed\", \"run_type\": \"azureml.scriptrun\", \"training_percent\": \"100\", \"start_time\": \"2021-04-11T12:52:36.558527Z\", \"end_time\": \"2021-04-11T12:53:33.133726Z\", \"created_time\": \"2021-04-11T12:50:52.349254Z\", \"created_time_dt\": \"2021-04-11T12:50:52.349254Z\", \"duration\": \"0:02:40\", \"iteration\": \"24\", \"goal\": \"accuracy_max\", \"run_name\": \"MinMaxScaler, LogisticRegression\", \"run_properties\": \"copy=True, feature_range=(0, 1\", \"primary_metric\": 0.64600347, \"best_metric\": 0.67056598}, {\"run_id\": \"AutoML_690cf95e-ea6f-40dc-b297-5261ea2009ed_25\", \"run_number\": 30, \"metric\": null, \"status\": \"Completed\", \"run_type\": \"azureml.scriptrun\", \"training_percent\": \"100\", \"start_time\": \"2021-04-11T12:53:01.474598Z\", \"end_time\": \"2021-04-11T12:53:46.978216Z\", \"created_time\": \"2021-04-11T12:51:04.641608Z\", \"created_time_dt\": \"2021-04-11T12:51:04.641608Z\", \"duration\": \"0:02:42\", \"iteration\": \"25\", \"goal\": \"accuracy_max\", \"run_name\": \"RobustScaler, LightGBM\", \"run_properties\": \"copy=True, quantile_range=[25, 75], with_centering=True,\\n             with_scaling=True\", \"primary_metric\": 0.57676178, \"best_metric\": 0.67056598}, {\"run_id\": \"AutoML_690cf95e-ea6f-40dc-b297-5261ea2009ed_26\", \"run_number\": 31, \"metric\": null, \"status\": \"Completed\", \"run_type\": \"azureml.scriptrun\", \"training_percent\": \"100\", \"start_time\": \"2021-04-11T12:53:17.903463Z\", \"end_time\": \"2021-04-11T12:54:09.543333Z\", \"created_time\": \"2021-04-11T12:51:14.949014Z\", \"created_time_dt\": \"2021-04-11T12:51:14.949014Z\", \"duration\": \"0:02:54\", \"iteration\": \"26\", \"goal\": \"accuracy_max\", \"run_name\": \"MinMaxScaler, LightGBM\", \"run_properties\": \"copy=True, feature_range=(0, 1\", \"primary_metric\": 0.67034526, \"best_metric\": 0.67056598}, {\"run_id\": \"AutoML_690cf95e-ea6f-40dc-b297-5261ea2009ed_27\", \"run_number\": 32, \"metric\": null, \"status\": \"Completed\", \"run_type\": \"azureml.scriptrun\", \"training_percent\": \"100\", \"start_time\": \"2021-04-11T12:53:21.816776Z\", \"end_time\": \"2021-04-11T12:54:16.805238Z\", \"created_time\": \"2021-04-11T12:51:47.757023Z\", \"created_time_dt\": \"2021-04-11T12:51:47.757023Z\", \"duration\": \"0:02:29\", \"iteration\": \"27\", \"goal\": \"accuracy_max\", \"run_name\": \"MaxAbsScaler, RandomForest\", \"run_properties\": \"copy=True\", \"primary_metric\": 0.64329182, \"best_metric\": 0.67056598}, {\"run_id\": \"AutoML_690cf95e-ea6f-40dc-b297-5261ea2009ed_28\", \"run_number\": 33, \"metric\": null, \"status\": \"Completed\", \"run_type\": \"azureml.scriptrun\", \"training_percent\": \"100\", \"start_time\": \"2021-04-11T12:53:47.295612Z\", \"end_time\": \"2021-04-11T12:54:45.147502Z\", \"created_time\": \"2021-04-11T12:51:58.36918Z\", \"created_time_dt\": \"2021-04-11T12:51:58.36918Z\", \"duration\": \"0:02:46\", \"iteration\": \"28\", \"goal\": \"accuracy_max\", \"run_name\": \"StandardScalerWrapper, ExtremeRandomTrees\", \"run_properties\": \"<azureml.automl.runtime.shared.model_wrappers.StandardScalerWrapper object at 0x7f9cfefb4a20\", \"primary_metric\": 0.63698565, \"best_metric\": 0.67056598}, {\"run_id\": \"AutoML_690cf95e-ea6f-40dc-b297-5261ea2009ed_29\", \"run_number\": 34, \"metric\": null, \"status\": \"Completed\", \"run_type\": \"azureml.scriptrun\", \"training_percent\": \"100\", \"start_time\": \"2021-04-11T12:54:06.465063Z\", \"end_time\": \"2021-04-11T12:55:03.701851Z\", \"created_time\": \"2021-04-11T12:52:21.016811Z\", \"created_time_dt\": \"2021-04-11T12:52:21.016811Z\", \"duration\": \"0:02:42\", \"iteration\": \"29\", \"goal\": \"accuracy_max\", \"run_name\": \"SparseNormalizer, XGBoostClassifier\", \"run_properties\": \"<azureml.automl.runtime.shared.model_wrappers.SparseNormalizer object at 0x7f73ac062898\", \"primary_metric\": 0.66287246, \"best_metric\": 0.67056598}, {\"run_id\": \"AutoML_690cf95e-ea6f-40dc-b297-5261ea2009ed_30\", \"run_number\": 35, \"metric\": null, \"status\": \"Completed\", \"run_type\": \"azureml.scriptrun\", \"training_percent\": \"100\", \"start_time\": \"2021-04-11T12:54:23.66863Z\", \"end_time\": \"2021-04-11T12:55:10.092308Z\", \"created_time\": \"2021-04-11T12:52:48.869247Z\", \"created_time_dt\": \"2021-04-11T12:52:48.869247Z\", \"duration\": \"0:02:21\", \"iteration\": \"30\", \"goal\": \"accuracy_max\", \"run_name\": \"SparseNormalizer, LightGBM\", \"run_properties\": \"<azureml.automl.runtime.shared.model_wrappers.SparseNormalizer object at 0x7efea22b7d68\", \"primary_metric\": 0.53359609, \"best_metric\": 0.67056598}, {\"run_id\": \"AutoML_690cf95e-ea6f-40dc-b297-5261ea2009ed_31\", \"run_number\": 36, \"metric\": null, \"status\": \"Completed\", \"run_type\": \"azureml.scriptrun\", \"training_percent\": \"100\", \"start_time\": \"2021-04-11T12:54:33.146379Z\", \"end_time\": \"2021-04-11T12:55:38.575833Z\", \"created_time\": \"2021-04-11T12:53:03.889844Z\", \"created_time_dt\": \"2021-04-11T12:53:03.889844Z\", \"duration\": \"0:02:34\", \"iteration\": \"31\", \"goal\": \"accuracy_max\", \"run_name\": \"MaxAbsScaler, ExtremeRandomTrees\", \"run_properties\": \"copy=True\", \"primary_metric\": 0.64089548, \"best_metric\": 0.67056598}, {\"run_id\": \"AutoML_690cf95e-ea6f-40dc-b297-5261ea2009ed_32\", \"run_number\": 37, \"metric\": null, \"status\": \"Completed\", \"run_type\": \"azureml.scriptrun\", \"training_percent\": \"100\", \"start_time\": \"2021-04-11T12:54:59.75218Z\", \"end_time\": \"2021-04-11T12:55:53.497546Z\", \"created_time\": \"2021-04-11T12:53:10.873058Z\", \"created_time_dt\": \"2021-04-11T12:53:10.873058Z\", \"duration\": \"0:02:42\", \"iteration\": \"32\", \"goal\": \"accuracy_max\", \"run_name\": \"StandardScalerWrapper, ExtremeRandomTrees\", \"run_properties\": \"<azureml.automl.runtime.shared.model_wrappers.StandardScalerWrapper object at 0x7fe97f522c88\", \"primary_metric\": 0.639382, \"best_metric\": 0.67056598}, {\"run_id\": \"AutoML_690cf95e-ea6f-40dc-b297-5261ea2009ed_33\", \"run_number\": 38, \"metric\": null, \"status\": \"Completed\", \"run_type\": \"azureml.scriptrun\", \"training_percent\": \"100\", \"start_time\": \"2021-04-11T12:55:18.990465Z\", \"end_time\": \"2021-04-11T12:56:34.717882Z\", \"created_time\": \"2021-04-11T12:53:35.491474Z\", \"created_time_dt\": \"2021-04-11T12:53:35.491474Z\", \"duration\": \"0:02:59\", \"iteration\": \"33\", \"goal\": \"accuracy_max\", \"run_name\": \"SparseNormalizer, XGBoostClassifier\", \"run_properties\": \"<azureml.automl.runtime.shared.model_wrappers.SparseNormalizer object at 0x7f881c303da0\", \"primary_metric\": 0.65703926, \"best_metric\": 0.67056598}, {\"run_id\": \"AutoML_690cf95e-ea6f-40dc-b297-5261ea2009ed_34\", \"run_number\": 39, \"metric\": null, \"status\": \"Completed\", \"run_type\": \"azureml.scriptrun\", \"training_percent\": \"100\", \"start_time\": \"2021-04-11T12:55:23.915194Z\", \"end_time\": \"2021-04-11T12:56:18.211385Z\", \"created_time\": \"2021-04-11T12:53:48.822902Z\", \"created_time_dt\": \"2021-04-11T12:53:48.822902Z\", \"duration\": \"0:02:29\", \"iteration\": \"34\", \"goal\": \"accuracy_max\", \"run_name\": \"StandardScalerWrapper, GradientBoosting\", \"run_properties\": \"<azureml.automl.runtime.shared.model_wrappers.StandardScalerWrapper object at 0x7fdf9227c4a8\", \"primary_metric\": 0.62941826, \"best_metric\": 0.67056598}, {\"run_id\": \"AutoML_690cf95e-ea6f-40dc-b297-5261ea2009ed_35\", \"run_number\": 40, \"metric\": null, \"status\": \"Completed\", \"run_type\": \"azureml.scriptrun\", \"training_percent\": \"100\", \"start_time\": \"2021-04-11T12:55:56.17781Z\", \"end_time\": \"2021-04-11T12:56:43.848423Z\", \"created_time\": \"2021-04-11T12:54:12.184415Z\", \"created_time_dt\": \"2021-04-11T12:54:12.184415Z\", \"duration\": \"0:02:31\", \"iteration\": \"35\", \"goal\": \"accuracy_max\", \"run_name\": \"RobustScaler, LightGBM\", \"run_properties\": \"copy=True, quantile_range=[10, 90], with_centering=False,\\n             with_scaling=True\", \"primary_metric\": 0.53359609, \"best_metric\": 0.67056598}, {\"run_id\": \"AutoML_690cf95e-ea6f-40dc-b297-5261ea2009ed_36\", \"run_number\": 41, \"metric\": null, \"status\": \"Completed\", \"run_type\": \"azureml.scriptrun\", \"training_percent\": \"100\", \"start_time\": \"2021-04-11T12:56:12.225427Z\", \"end_time\": \"2021-04-11T12:57:39.590514Z\", \"created_time\": \"2021-04-11T12:54:18.745428Z\", \"created_time_dt\": \"2021-04-11T12:54:18.745428Z\", \"duration\": \"0:03:20\", \"iteration\": \"36\", \"goal\": \"accuracy_max\", \"run_name\": \"SparseNormalizer, XGBoostClassifier\", \"run_properties\": \"<azureml.automl.runtime.shared.model_wrappers.SparseNormalizer object at 0x7fa48379dac8\", \"primary_metric\": 0.66381838, \"best_metric\": 0.67056598}, {\"run_id\": \"AutoML_690cf95e-ea6f-40dc-b297-5261ea2009ed_37\", \"run_number\": 42, \"metric\": null, \"status\": \"Completed\", \"run_type\": \"azureml.scriptrun\", \"training_percent\": \"100\", \"start_time\": \"2021-04-11T12:56:33.760635Z\", \"end_time\": \"2021-04-11T12:57:39.797822Z\", \"created_time\": \"2021-04-11T12:54:46.999124Z\", \"created_time_dt\": \"2021-04-11T12:54:46.999124Z\", \"duration\": \"0:02:52\", \"iteration\": \"37\", \"goal\": \"accuracy_max\", \"run_name\": \"SparseNormalizer, RandomForest\", \"run_properties\": \"<azureml.automl.runtime.shared.model_wrappers.SparseNormalizer object at 0x7f021cb877f0\", \"primary_metric\": 0.64710705, \"best_metric\": 0.67056598}, {\"run_id\": \"AutoML_690cf95e-ea6f-40dc-b297-5261ea2009ed_38\", \"run_number\": 43, \"metric\": null, \"status\": \"Canceled\", \"run_type\": \"azureml.scriptrun\", \"training_percent\": \"100\", \"start_time\": \"2021-04-11T12:56:47.638748Z\", \"end_time\": \"2021-04-11T12:57:45.254846Z\", \"created_time\": \"2021-04-11T12:55:05.562971Z\", \"created_time_dt\": \"2021-04-11T12:55:05.562971Z\", \"duration\": \"0:02:39\", \"iteration\": \"38\", \"goal\": \"accuracy_max\", \"run_name\": \"SparseNormalizer, XGBoostClassifier\", \"run_properties\": \"<azureml.automl.runtime.shared.model_wrappers.SparseNormalizer object at 0x7ff3edd44fd0\", \"primary_metric\": 0.66561564, \"best_metric\": 0.67056598}, {\"run_id\": \"AutoML_690cf95e-ea6f-40dc-b297-5261ea2009ed_39\", \"run_number\": 44, \"metric\": null, \"status\": \"Canceled\", \"run_type\": \"azureml.scriptrun\", \"training_percent\": \"100\", \"start_time\": \"2021-04-11T12:57:01.044749Z\", \"end_time\": \"2021-04-11T12:57:50.631364Z\", \"created_time\": \"2021-04-11T12:55:11.840017Z\", \"created_time_dt\": \"2021-04-11T12:55:11.840017Z\", \"duration\": \"0:02:38\", \"iteration\": \"39\", \"goal\": \"accuracy_max\", \"run_name\": \"StandardScalerWrapper, LightGBM\", \"run_properties\": \"<azureml.automl.runtime.shared.model_wrappers.StandardScalerWrapper object at 0x7f3bf741c908\", \"primary_metric\": 0.64193599, \"best_metric\": 0.67056598}, {\"run_id\": \"AutoML_690cf95e-ea6f-40dc-b297-5261ea2009ed_40\", \"run_number\": 45, \"metric\": null, \"status\": \"Canceled\", \"run_type\": \"azureml.scriptrun\", \"training_percent\": \"100\", \"start_time\": \"2021-04-11T12:55:41.483224Z\", \"end_time\": \"2021-04-11T12:57:50.686006Z\", \"created_time\": \"2021-04-11T12:55:41.483224Z\", \"created_time_dt\": \"2021-04-11T12:55:41.483224Z\", \"duration\": \"0:02:09\", \"iteration\": \"40\", \"goal\": null, \"run_name\": \"Canceled\", \"run_properties\": null}, {\"run_id\": \"AutoML_690cf95e-ea6f-40dc-b297-5261ea2009ed_41\", \"run_number\": 46, \"metric\": null, \"status\": \"Canceled\", \"run_type\": \"azureml.scriptrun\", \"training_percent\": \"100\", \"start_time\": \"2021-04-11T12:55:55.422238Z\", \"end_time\": \"2021-04-11T12:57:50.751351Z\", \"created_time\": \"2021-04-11T12:55:55.422238Z\", \"created_time_dt\": \"2021-04-11T12:55:55.422238Z\", \"duration\": \"0:01:55\", \"iteration\": \"41\", \"goal\": null, \"run_name\": \"Canceled\", \"run_properties\": null}, {\"run_id\": \"AutoML_690cf95e-ea6f-40dc-b297-5261ea2009ed_42\", \"run_number\": 47, \"metric\": null, \"status\": \"Canceled\", \"run_type\": \"azureml.scriptrun\", \"training_percent\": \"100\", \"start_time\": \"2021-04-11T12:56:20.39163Z\", \"end_time\": \"2021-04-11T12:57:50.531932Z\", \"created_time\": \"2021-04-11T12:56:20.39163Z\", \"created_time_dt\": \"2021-04-11T12:56:20.39163Z\", \"duration\": \"0:01:30\", \"iteration\": \"42\", \"goal\": null, \"run_name\": \"Canceled\", \"run_properties\": null}, {\"run_id\": \"AutoML_690cf95e-ea6f-40dc-b297-5261ea2009ed_43\", \"run_number\": 48, \"metric\": null, \"status\": \"Canceled\", \"run_type\": \"azureml.scriptrun\", \"training_percent\": \"100\", \"start_time\": \"2021-04-11T12:56:36.417162Z\", \"end_time\": \"2021-04-11T12:57:50.810807Z\", \"created_time\": \"2021-04-11T12:56:36.417162Z\", \"created_time_dt\": \"2021-04-11T12:56:36.417162Z\", \"duration\": \"0:01:14\", \"iteration\": \"43\", \"goal\": null, \"run_name\": \"Canceled\", \"run_properties\": null}, {\"run_id\": \"AutoML_690cf95e-ea6f-40dc-b297-5261ea2009ed_44\", \"run_number\": 49, \"metric\": null, \"status\": \"Canceled\", \"run_type\": \"azureml.scriptrun\", \"training_percent\": \"100\", \"start_time\": \"2021-04-11T12:56:45.610909Z\", \"end_time\": \"2021-04-11T12:57:50.508746Z\", \"created_time\": \"2021-04-11T12:56:45.610909Z\", \"created_time_dt\": \"2021-04-11T12:56:45.610909Z\", \"duration\": \"0:01:04\", \"iteration\": \"44\", \"goal\": null, \"run_name\": \"Canceled\", \"run_properties\": null}, {\"run_id\": \"AutoML_690cf95e-ea6f-40dc-b297-5261ea2009ed_45\", \"run_number\": 50, \"metric\": null, \"status\": \"Canceled\", \"run_type\": \"azureml.scriptrun\", \"training_percent\": \"100\", \"start_time\": \"2021-04-11T12:57:42.364516Z\", \"end_time\": \"2021-04-11T12:57:57.907915Z\", \"created_time\": \"2021-04-11T12:57:42.364516Z\", \"created_time_dt\": \"2021-04-11T12:57:42.364516Z\", \"duration\": \"0:00:15\", \"iteration\": \"45\", \"goal\": null, \"run_name\": \"Canceled\", \"run_properties\": null}, {\"run_id\": \"AutoML_690cf95e-ea6f-40dc-b297-5261ea2009ed_46\", \"run_number\": 51, \"metric\": null, \"status\": \"Completed\", \"run_type\": \"azureml.scriptrun\", \"training_percent\": \"100\", \"start_time\": \"2021-04-11T12:58:11.185375Z\", \"end_time\": \"2021-04-11T12:59:35.992599Z\", \"created_time\": \"2021-04-11T12:57:58.888996Z\", \"created_time_dt\": \"2021-04-11T12:57:58.888996Z\", \"duration\": \"0:01:37\", \"iteration\": \"46\", \"goal\": \"accuracy_max\", \"run_name\": \"VotingEnsemble\", \"run_properties\": \"classification_labels=None,\\n                              estimators=[('0',\\n                                           Pipeline(memory=None,\\n                                                    steps=[('maxabsscaler',\\n                                                            MaxAbsScaler(copy=True\", \"primary_metric\": 0.67475958, \"best_metric\": 0.67475958}, {\"run_id\": \"AutoML_690cf95e-ea6f-40dc-b297-5261ea2009ed_47\", \"run_number\": 52, \"metric\": null, \"status\": \"Completed\", \"run_type\": \"azureml.scriptrun\", \"training_percent\": \"100\", \"start_time\": \"2021-04-11T12:58:11.297163Z\", \"end_time\": \"2021-04-11T12:59:46.646468Z\", \"created_time\": \"2021-04-11T12:57:58.914437Z\", \"created_time_dt\": \"2021-04-11T12:57:58.914437Z\", \"duration\": \"0:01:47\", \"iteration\": \"47\", \"goal\": \"accuracy_max\", \"run_name\": \"StackEnsemble\", \"run_properties\": \"base_learners=[('0',\\n                                        Pipeline(memory=None,\\n                                                 steps=[('maxabsscaler',\\n                                                         MaxAbsScaler(copy=True\", \"primary_metric\": 0.67356141, \"best_metric\": 0.67475958}], \"children_metrics\": {\"categories\": [0], \"series\": {\"precision_score_macro\": [{\"categories\": [\"0\", \"1\", \"2\", \"3\", \"4\", \"5\", \"6\", \"7\", \"8\", \"9\", \"10\", \"11\", \"12\", \"13\", \"14\", \"15\", \"16\", \"17\", \"18\", \"19\", \"20\", \"21\", \"22\", \"23\", \"24\", \"25\", \"26\", \"27\", \"28\", \"29\", \"30\", \"31\", \"32\", \"33\", \"34\", \"35\", \"36\", \"37\", \"38\", \"39\", \"46\", \"47\"], \"mode\": \"markers\", \"name\": \"precision_score_macro\", \"stepped\": false, \"type\": \"scatter\", \"data\": [0.6689865918957112, 0.6626732687062017, 0.64425000594981, 0.6361750472243006, 0.6512309971466456, 0.6614020375366778, 0.6587169025031478, 0.65110684509994, 0.6600656846116802, 0.6403272640166714, 0.6468676304026829, 0.6661598101400594, 0.6524665661021996, 0.6459459496324772, 0.6668553961442777, 0.6471676413523147, 0.6588619897811384, 0.6322746124380303, 0.6673457948613575, 0.6514729519197415, 0.6625778812377268, 0.6535575224841282, 0.6567273462208103, 0.6650442993559429, 0.6440882271768384, 0.6588753754820532, 0.6692388078865634, 0.6447271096008471, 0.635440606341198, 0.6613831824057413, 0.26679804508907456, 0.6391191024446295, 0.6375546792623246, 0.6552482706178913, 0.6298260933008386, 0.26679804508907456, 0.6620830058461376, 0.6464728699622848, 0.6641600628340399, 0.6420287525996062, 0.6734429713250007, 0.6721943697174453]}, {\"categories\": [\"0\", \"1\", \"2\", \"3\", \"4\", \"5\", \"6\", \"7\", \"8\", \"9\", \"10\", \"11\", \"12\", \"13\", \"14\", \"15\", \"16\", \"17\", \"18\", \"19\", \"20\", \"21\", \"22\", \"23\", \"24\", \"25\", \"26\", \"27\", \"28\", \"29\", \"30\", \"31\", \"32\", \"33\", \"34\", \"35\", \"36\", \"37\", \"38\", \"39\", \"46\", \"47\"], \"mode\": \"lines\", \"name\": \"precision_score_macro_max\", \"stepped\": true, \"type\": \"scatter\", \"data\": [0.6689865918957112, 0.6689865918957112, 0.6689865918957112, 0.6689865918957112, 0.6689865918957112, 0.6689865918957112, 0.6689865918957112, 0.6689865918957112, 0.6689865918957112, 0.6689865918957112, 0.6689865918957112, 0.6689865918957112, 0.6689865918957112, 0.6689865918957112, 0.6689865918957112, 0.6689865918957112, 0.6689865918957112, 0.6689865918957112, 0.6689865918957112, 0.6689865918957112, 0.6689865918957112, 0.6689865918957112, 0.6689865918957112, 0.6689865918957112, 0.6689865918957112, 0.6689865918957112, 0.6692388078865634, 0.6692388078865634, 0.6692388078865634, 0.6692388078865634, 0.6692388078865634, 0.6692388078865634, 0.6692388078865634, 0.6692388078865634, 0.6692388078865634, 0.6692388078865634, 0.6692388078865634, 0.6692388078865634, 0.6692388078865634, 0.6692388078865634, 0.6734429713250007, 0.6734429713250007]}], \"recall_score_macro\": [{\"categories\": [\"0\", \"1\", \"2\", \"3\", \"4\", \"5\", \"6\", \"7\", \"8\", \"9\", \"10\", \"11\", \"12\", \"13\", \"14\", \"15\", \"16\", \"17\", \"18\", \"19\", \"20\", \"21\", \"22\", \"23\", \"24\", \"25\", \"26\", \"27\", \"28\", \"29\", \"30\", \"31\", \"32\", \"33\", \"34\", \"35\", \"36\", \"37\", \"38\", \"39\", \"46\", \"47\"], \"mode\": \"markers\", \"name\": \"recall_score_macro\", \"stepped\": false, \"type\": \"scatter\", \"data\": [0.6672425986154177, 0.6604024976518487, 0.6365110828806786, 0.6270385952983115, 0.6514694791703561, 0.6597866059920051, 0.6551983789225846, 0.6477601078314326, 0.6568194219700281, 0.6390648864553304, 0.6475167169856938, 0.6639555021717439, 0.6435343715514954, 0.6397717535824385, 0.6646693958310143, 0.6404358171879416, 0.655203810233147, 0.6226632453238043, 0.6645378896682473, 0.6448973924145333, 0.6607512416441823, 0.6378069367968359, 0.6550461690141144, 0.6612430924913677, 0.6420588889762986, 0.5491238940487886, 0.6658424404035708, 0.6349542520505291, 0.6316425988350252, 0.6587248769075594, 0.5, 0.6361606810797156, 0.6344210446449237, 0.6536045903883977, 0.6208949095961052, 0.5, 0.6606501549640182, 0.6470684426999183, 0.6614966211995531, 0.6345072386175687, 0.6707844424548772, 0.669802610446736]}, {\"categories\": [\"0\", \"1\", \"2\", \"3\", \"4\", \"5\", \"6\", \"7\", \"8\", \"9\", \"10\", \"11\", \"12\", \"13\", \"14\", \"15\", \"16\", \"17\", \"18\", \"19\", \"20\", \"21\", \"22\", \"23\", \"24\", \"25\", \"26\", \"27\", \"28\", \"29\", \"30\", \"31\", \"32\", \"33\", \"34\", \"35\", \"36\", \"37\", \"38\", \"39\", \"46\", \"47\"], \"mode\": \"lines\", \"name\": \"recall_score_macro_max\", \"stepped\": true, \"type\": \"scatter\", \"data\": [0.6672425986154177, 0.6672425986154177, 0.6672425986154177, 0.6672425986154177, 0.6672425986154177, 0.6672425986154177, 0.6672425986154177, 0.6672425986154177, 0.6672425986154177, 0.6672425986154177, 0.6672425986154177, 0.6672425986154177, 0.6672425986154177, 0.6672425986154177, 0.6672425986154177, 0.6672425986154177, 0.6672425986154177, 0.6672425986154177, 0.6672425986154177, 0.6672425986154177, 0.6672425986154177, 0.6672425986154177, 0.6672425986154177, 0.6672425986154177, 0.6672425986154177, 0.6672425986154177, 0.6672425986154177, 0.6672425986154177, 0.6672425986154177, 0.6672425986154177, 0.6672425986154177, 0.6672425986154177, 0.6672425986154177, 0.6672425986154177, 0.6672425986154177, 0.6672425986154177, 0.6672425986154177, 0.6672425986154177, 0.6672425986154177, 0.6672425986154177, 0.6707844424548772, 0.6707844424548772]}], \"balanced_accuracy\": [{\"categories\": [\"0\", \"1\", \"2\", \"3\", \"4\", \"5\", \"6\", \"7\", \"8\", \"9\", \"10\", \"11\", \"12\", \"13\", \"14\", \"15\", \"16\", \"17\", \"18\", \"19\", \"20\", \"21\", \"22\", \"23\", \"24\", \"25\", \"26\", \"27\", \"28\", \"29\", \"30\", \"31\", \"32\", \"33\", \"34\", \"35\", \"36\", \"37\", \"38\", \"39\", \"46\", \"47\"], \"mode\": \"markers\", \"name\": \"balanced_accuracy\", \"stepped\": false, \"type\": \"scatter\", \"data\": [0.6672425986154177, 0.6604024976518487, 0.6365110828806786, 0.6270385952983115, 0.6514694791703561, 0.6597866059920051, 0.6551983789225846, 0.6477601078314326, 0.6568194219700281, 0.6390648864553304, 0.6475167169856938, 0.6639555021717439, 0.6435343715514954, 0.6397717535824385, 0.6646693958310143, 0.6404358171879416, 0.655203810233147, 0.6226632453238043, 0.6645378896682473, 0.6448973924145333, 0.6607512416441823, 0.6378069367968359, 0.6550461690141144, 0.6612430924913677, 0.6420588889762986, 0.5491238940487886, 0.6658424404035708, 0.6349542520505291, 0.6316425988350252, 0.6587248769075594, 0.5, 0.6361606810797156, 0.6344210446449237, 0.6536045903883977, 0.6208949095961052, 0.5, 0.6606501549640182, 0.6470684426999183, 0.6614966211995531, 0.6345072386175687, 0.6707844424548772, 0.669802610446736]}, {\"categories\": [\"0\", \"1\", \"2\", \"3\", \"4\", \"5\", \"6\", \"7\", \"8\", \"9\", \"10\", \"11\", \"12\", \"13\", \"14\", \"15\", \"16\", \"17\", \"18\", \"19\", \"20\", \"21\", \"22\", \"23\", \"24\", \"25\", \"26\", \"27\", \"28\", \"29\", \"30\", \"31\", \"32\", \"33\", \"34\", \"35\", \"36\", \"37\", \"38\", \"39\", \"46\", \"47\"], \"mode\": \"lines\", \"name\": \"balanced_accuracy_max\", \"stepped\": true, \"type\": \"scatter\", \"data\": [0.6672425986154177, 0.6672425986154177, 0.6672425986154177, 0.6672425986154177, 0.6672425986154177, 0.6672425986154177, 0.6672425986154177, 0.6672425986154177, 0.6672425986154177, 0.6672425986154177, 0.6672425986154177, 0.6672425986154177, 0.6672425986154177, 0.6672425986154177, 0.6672425986154177, 0.6672425986154177, 0.6672425986154177, 0.6672425986154177, 0.6672425986154177, 0.6672425986154177, 0.6672425986154177, 0.6672425986154177, 0.6672425986154177, 0.6672425986154177, 0.6672425986154177, 0.6672425986154177, 0.6672425986154177, 0.6672425986154177, 0.6672425986154177, 0.6672425986154177, 0.6672425986154177, 0.6672425986154177, 0.6672425986154177, 0.6672425986154177, 0.6672425986154177, 0.6672425986154177, 0.6672425986154177, 0.6672425986154177, 0.6672425986154177, 0.6672425986154177, 0.6707844424548772, 0.6707844424548772]}], \"accuracy\": [{\"categories\": [\"0\", \"1\", \"2\", \"3\", \"4\", \"5\", \"6\", \"7\", \"8\", \"9\", \"10\", \"11\", \"12\", \"13\", \"14\", \"15\", \"16\", \"17\", \"18\", \"19\", \"20\", \"21\", \"22\", \"23\", \"24\", \"25\", \"26\", \"27\", \"28\", \"29\", \"30\", \"31\", \"32\", \"33\", \"34\", \"35\", \"36\", \"37\", \"38\", \"39\", \"46\", \"47\"], \"mode\": \"markers\", \"name\": \"accuracy\", \"stepped\": false, \"type\": \"scatter\", \"data\": [0.6705659782437333, 0.6642282831467761, 0.6439224341794104, 0.6354406432287562, 0.6526249408797099, 0.6631247043985496, 0.6599716222607598, 0.6525303484155762, 0.6614220400441431, 0.6423774239318935, 0.6468232697461769, 0.6676966734983447, 0.6512691155604603, 0.6463818382468863, 0.6683903515686584, 0.6473277628882232, 0.6600662147248937, 0.6312470439854958, 0.6686741289610595, 0.6515844237742393, 0.6642282831467761, 0.6481160334226707, 0.6585212044773766, 0.6660255399653161, 0.6460034683903515, 0.5767617846444899, 0.670345262494088, 0.6432918177518525, 0.636985653476273, 0.6628724578275265, 0.5335960901781491, 0.6408954753271322, 0.6393819959009932, 0.6570392558726155, 0.6294182563455778, 0.5335960901781491, 0.6638183824688633, 0.6471070471385779, 0.6656156392874035, 0.6419359924326029, 0.6747595774869936, 0.6735614062746333]}, {\"categories\": [\"0\", \"1\", \"2\", \"3\", \"4\", \"5\", \"6\", \"7\", \"8\", \"9\", \"10\", \"11\", \"12\", \"13\", \"14\", \"15\", \"16\", \"17\", \"18\", \"19\", \"20\", \"21\", \"22\", \"23\", \"24\", \"25\", \"26\", \"27\", \"28\", \"29\", \"30\", \"31\", \"32\", \"33\", \"34\", \"35\", \"36\", \"37\", \"38\", \"39\", \"46\", \"47\"], \"mode\": \"lines\", \"name\": \"accuracy_max\", \"stepped\": true, \"type\": \"scatter\", \"data\": [0.6705659782437333, 0.6705659782437333, 0.6705659782437333, 0.6705659782437333, 0.6705659782437333, 0.6705659782437333, 0.6705659782437333, 0.6705659782437333, 0.6705659782437333, 0.6705659782437333, 0.6705659782437333, 0.6705659782437333, 0.6705659782437333, 0.6705659782437333, 0.6705659782437333, 0.6705659782437333, 0.6705659782437333, 0.6705659782437333, 0.6705659782437333, 0.6705659782437333, 0.6705659782437333, 0.6705659782437333, 0.6705659782437333, 0.6705659782437333, 0.6705659782437333, 0.6705659782437333, 0.6705659782437333, 0.6705659782437333, 0.6705659782437333, 0.6705659782437333, 0.6705659782437333, 0.6705659782437333, 0.6705659782437333, 0.6705659782437333, 0.6705659782437333, 0.6705659782437333, 0.6705659782437333, 0.6705659782437333, 0.6705659782437333, 0.6705659782437333, 0.6747595774869936, 0.6747595774869936]}], \"AUC_macro\": [{\"categories\": [\"0\", \"1\", \"2\", \"3\", \"4\", \"5\", \"6\", \"7\", \"8\", \"9\", \"10\", \"11\", \"12\", \"13\", \"14\", \"15\", \"16\", \"17\", \"18\", \"19\", \"20\", \"21\", \"22\", \"23\", \"24\", \"25\", \"26\", \"27\", \"28\", \"29\", \"30\", \"31\", \"32\", \"33\", \"34\", \"35\", \"36\", \"37\", \"38\", \"39\", \"46\", \"47\"], \"mode\": \"markers\", \"name\": \"AUC_macro\", \"stepped\": false, \"type\": \"scatter\", \"data\": [0.7293441988330767, 0.7262205440665036, 0.6987530959242456, 0.6871922578028511, 0.7078596138281185, 0.722996137000418, 0.7183003417910783, 0.7087483430913286, 0.7225902988137781, 0.683581304456635, 0.7022027763403657, 0.727519233781108, 0.7065540510458165, 0.6996003310093031, 0.7293797461417755, 0.7029320788438869, 0.7182408799460964, 0.6807148956760004, 0.7297669132078498, 0.7099017349800871, 0.7231389070348604, 0.7061551080480086, 0.7157560817803044, 0.7241661041886266, 0.6984797040789841, 0.6871627824231892, 0.7293174176776215, 0.6973684209473759, 0.6749202701224544, 0.7203773302695655, 0.6861863315601309, 0.6753569502755379, 0.6748835751602633, 0.7174113514360482, 0.6774980086744377, 0.6632588850205192, 0.7215665352597448, 0.7008367348736001, 0.725189103759632, 0.6938553076740519, 0.7345171260890029, 0.7346458152683703]}, {\"categories\": [\"0\", \"1\", \"2\", \"3\", \"4\", \"5\", \"6\", \"7\", \"8\", \"9\", \"10\", \"11\", \"12\", \"13\", \"14\", \"15\", \"16\", \"17\", \"18\", \"19\", \"20\", \"21\", \"22\", \"23\", \"24\", \"25\", \"26\", \"27\", \"28\", \"29\", \"30\", \"31\", \"32\", \"33\", \"34\", \"35\", \"36\", \"37\", \"38\", \"39\", \"46\", \"47\"], \"mode\": \"lines\", \"name\": \"AUC_macro_max\", \"stepped\": true, \"type\": \"scatter\", \"data\": [0.7293441988330767, 0.7293441988330767, 0.7293441988330767, 0.7293441988330767, 0.7293441988330767, 0.7293441988330767, 0.7293441988330767, 0.7293441988330767, 0.7293441988330767, 0.7293441988330767, 0.7293441988330767, 0.7293441988330767, 0.7293441988330767, 0.7293441988330767, 0.7293797461417755, 0.7293797461417755, 0.7293797461417755, 0.7293797461417755, 0.7297669132078498, 0.7297669132078498, 0.7297669132078498, 0.7297669132078498, 0.7297669132078498, 0.7297669132078498, 0.7297669132078498, 0.7297669132078498, 0.7297669132078498, 0.7297669132078498, 0.7297669132078498, 0.7297669132078498, 0.7297669132078498, 0.7297669132078498, 0.7297669132078498, 0.7297669132078498, 0.7297669132078498, 0.7297669132078498, 0.7297669132078498, 0.7297669132078498, 0.7297669132078498, 0.7297669132078498, 0.7345171260890029, 0.7346458152683703]}], \"f1_score_weighted\": [{\"categories\": [\"0\", \"1\", \"2\", \"3\", \"4\", \"5\", \"6\", \"7\", \"8\", \"9\", \"10\", \"11\", \"12\", \"13\", \"14\", \"15\", \"16\", \"17\", \"18\", \"19\", \"20\", \"21\", \"22\", \"23\", \"24\", \"25\", \"26\", \"27\", \"28\", \"29\", \"30\", \"31\", \"32\", \"33\", \"34\", \"35\", \"36\", \"37\", \"38\", \"39\", \"46\", \"47\"], \"mode\": \"markers\", \"name\": \"f1_score_weighted\", \"stepped\": false, \"type\": \"scatter\", \"data\": [0.669718299701219, 0.6630571203713669, 0.639002135678034, 0.6291583040507678, 0.6527629837630867, 0.6622704105041202, 0.658079745916894, 0.6505852380984751, 0.6596886334030526, 0.6415592322383936, 0.64721535659408, 0.6665946459414964, 0.6460585957329283, 0.6425720456843695, 0.6672991766673336, 0.6432516836018867, 0.6581021595242929, 0.6243980895786408, 0.6672811046269882, 0.6477454373812421, 0.6632820213236736, 0.638766041225223, 0.6576014109535981, 0.6640971654547195, 0.6447551153949014, 0.48539421427135193, 0.6686822109625206, 0.637133554286017, 0.6344102823382585, 0.6614767968835132, 0.37133324903971276, 0.6389632303392462, 0.6372997359996726, 0.6561297914006989, 0.6228666137366894, 0.37133324903971276, 0.6630676205666269, 0.6474650021825229, 0.664252051807991, 0.6371059322577712, 0.6735074409036265, 0.6724290020186502]}, {\"categories\": [\"0\", \"1\", \"2\", \"3\", \"4\", \"5\", \"6\", \"7\", \"8\", \"9\", \"10\", \"11\", \"12\", \"13\", \"14\", \"15\", \"16\", \"17\", \"18\", \"19\", \"20\", \"21\", \"22\", \"23\", \"24\", \"25\", \"26\", \"27\", \"28\", \"29\", \"30\", \"31\", \"32\", \"33\", \"34\", \"35\", \"36\", \"37\", \"38\", \"39\", \"46\", \"47\"], \"mode\": \"lines\", \"name\": \"f1_score_weighted_max\", \"stepped\": true, \"type\": \"scatter\", \"data\": [0.669718299701219, 0.669718299701219, 0.669718299701219, 0.669718299701219, 0.669718299701219, 0.669718299701219, 0.669718299701219, 0.669718299701219, 0.669718299701219, 0.669718299701219, 0.669718299701219, 0.669718299701219, 0.669718299701219, 0.669718299701219, 0.669718299701219, 0.669718299701219, 0.669718299701219, 0.669718299701219, 0.669718299701219, 0.669718299701219, 0.669718299701219, 0.669718299701219, 0.669718299701219, 0.669718299701219, 0.669718299701219, 0.669718299701219, 0.669718299701219, 0.669718299701219, 0.669718299701219, 0.669718299701219, 0.669718299701219, 0.669718299701219, 0.669718299701219, 0.669718299701219, 0.669718299701219, 0.669718299701219, 0.669718299701219, 0.669718299701219, 0.669718299701219, 0.669718299701219, 0.6735074409036265, 0.6735074409036265]}], \"AUC_weighted\": [{\"categories\": [\"0\", \"1\", \"2\", \"3\", \"4\", \"5\", \"6\", \"7\", \"8\", \"9\", \"10\", \"11\", \"12\", \"13\", \"14\", \"15\", \"16\", \"17\", \"18\", \"19\", \"20\", \"21\", \"22\", \"23\", \"24\", \"25\", \"26\", \"27\", \"28\", \"29\", \"30\", \"31\", \"32\", \"33\", \"34\", \"35\", \"36\", \"37\", \"38\", \"39\", \"46\", \"47\"], \"mode\": \"markers\", \"name\": \"AUC_weighted\", \"stepped\": false, \"type\": \"scatter\", \"data\": [0.7293441988330768, 0.7262205440665036, 0.6987530959242454, 0.6871922578028511, 0.7078596138281185, 0.7229961375712527, 0.7183003417910784, 0.7087483430913286, 0.7225902994623514, 0.6835813044566349, 0.7022027763403657, 0.7275192340586112, 0.7065540510458165, 0.6996003310093031, 0.7293797461417756, 0.7029320788438868, 0.7182408797901048, 0.6807148956760003, 0.7297669132078498, 0.709901734980087, 0.7231389073123633, 0.7061551080480086, 0.7157560814204176, 0.7241661041886267, 0.6984797040789841, 0.6871627824231892, 0.7293174176776215, 0.6973684209473759, 0.6749202701224541, 0.7203773299143241, 0.6861863315601309, 0.6753569502755379, 0.6748835751602633, 0.7174113510025534, 0.6774980086744375, 0.6632588850205191, 0.7215665352597448, 0.7008367348736001, 0.725189103759632, 0.6938553076740519, 0.7345171260890029, 0.7346458152683701]}, {\"categories\": [\"0\", \"1\", \"2\", \"3\", \"4\", \"5\", \"6\", \"7\", \"8\", \"9\", \"10\", \"11\", \"12\", \"13\", \"14\", \"15\", \"16\", \"17\", \"18\", \"19\", \"20\", \"21\", \"22\", \"23\", \"24\", \"25\", \"26\", \"27\", \"28\", \"29\", \"30\", \"31\", \"32\", \"33\", \"34\", \"35\", \"36\", \"37\", \"38\", \"39\", \"46\", \"47\"], \"mode\": \"lines\", \"name\": \"AUC_weighted_max\", \"stepped\": true, \"type\": \"scatter\", \"data\": [0.7293441988330768, 0.7293441988330768, 0.7293441988330768, 0.7293441988330768, 0.7293441988330768, 0.7293441988330768, 0.7293441988330768, 0.7293441988330768, 0.7293441988330768, 0.7293441988330768, 0.7293441988330768, 0.7293441988330768, 0.7293441988330768, 0.7293441988330768, 0.7293797461417756, 0.7293797461417756, 0.7293797461417756, 0.7293797461417756, 0.7297669132078498, 0.7297669132078498, 0.7297669132078498, 0.7297669132078498, 0.7297669132078498, 0.7297669132078498, 0.7297669132078498, 0.7297669132078498, 0.7297669132078498, 0.7297669132078498, 0.7297669132078498, 0.7297669132078498, 0.7297669132078498, 0.7297669132078498, 0.7297669132078498, 0.7297669132078498, 0.7297669132078498, 0.7297669132078498, 0.7297669132078498, 0.7297669132078498, 0.7297669132078498, 0.7297669132078498, 0.7345171260890029, 0.7346458152683701]}], \"average_precision_score_weighted\": [{\"categories\": [\"0\", \"1\", \"2\", \"3\", \"4\", \"5\", \"6\", \"7\", \"8\", \"9\", \"10\", \"11\", \"12\", \"13\", \"14\", \"15\", \"16\", \"17\", \"18\", \"19\", \"20\", \"21\", \"22\", \"23\", \"24\", \"25\", \"26\", \"27\", \"28\", \"29\", \"30\", \"31\", \"32\", \"33\", \"34\", \"35\", \"36\", \"37\", \"38\", \"39\", \"46\", \"47\"], \"mode\": \"markers\", \"name\": \"average_precision_score_weighted\", \"stepped\": false, \"type\": \"scatter\", \"data\": [0.7217108972797465, 0.7191508971502351, 0.6889715972719422, 0.6763760219976553, 0.6978752530078014, 0.7150453667127203, 0.709441391311209, 0.6978384691346411, 0.7138464230237667, 0.6705174260433084, 0.6879127791108262, 0.7204773535220396, 0.6969847052689023, 0.6894879614307339, 0.7223096575971885, 0.6921828574125899, 0.7095704163043133, 0.6635268228699568, 0.722972059915533, 0.7004337333604127, 0.7164245164558432, 0.6953947088146052, 0.7065087828075611, 0.7150877990349834, 0.6841166531902155, 0.675140451254169, 0.7205088651404712, 0.687269843535512, 0.6593238347739214, 0.7117770568206918, 0.6730680745871377, 0.6613758415768214, 0.6579870230033141, 0.709482623738994, 0.6637042165409114, 0.6492169942867723, 0.7131310741175667, 0.6895365332542147, 0.7173780156368273, 0.6830016502646925, 0.72765665441517, 0.727827903622457]}, {\"categories\": [\"0\", \"1\", \"2\", \"3\", \"4\", \"5\", \"6\", \"7\", \"8\", \"9\", \"10\", \"11\", \"12\", \"13\", \"14\", \"15\", \"16\", \"17\", \"18\", \"19\", \"20\", \"21\", \"22\", \"23\", \"24\", \"25\", \"26\", \"27\", \"28\", \"29\", \"30\", \"31\", \"32\", \"33\", \"34\", \"35\", \"36\", \"37\", \"38\", \"39\", \"46\", \"47\"], \"mode\": \"lines\", \"name\": \"average_precision_score_weighted_max\", \"stepped\": true, \"type\": \"scatter\", \"data\": [0.7217108972797465, 0.7217108972797465, 0.7217108972797465, 0.7217108972797465, 0.7217108972797465, 0.7217108972797465, 0.7217108972797465, 0.7217108972797465, 0.7217108972797465, 0.7217108972797465, 0.7217108972797465, 0.7217108972797465, 0.7217108972797465, 0.7217108972797465, 0.7223096575971885, 0.7223096575971885, 0.7223096575971885, 0.7223096575971885, 0.722972059915533, 0.722972059915533, 0.722972059915533, 0.722972059915533, 0.722972059915533, 0.722972059915533, 0.722972059915533, 0.722972059915533, 0.722972059915533, 0.722972059915533, 0.722972059915533, 0.722972059915533, 0.722972059915533, 0.722972059915533, 0.722972059915533, 0.722972059915533, 0.722972059915533, 0.722972059915533, 0.722972059915533, 0.722972059915533, 0.722972059915533, 0.722972059915533, 0.72765665441517, 0.727827903622457]}], \"precision_score_weighted\": [{\"categories\": [\"0\", \"1\", \"2\", \"3\", \"4\", \"5\", \"6\", \"7\", \"8\", \"9\", \"10\", \"11\", \"12\", \"13\", \"14\", \"15\", \"16\", \"17\", \"18\", \"19\", \"20\", \"21\", \"22\", \"23\", \"24\", \"25\", \"26\", \"27\", \"28\", \"29\", \"30\", \"31\", \"32\", \"33\", \"34\", \"35\", \"36\", \"37\", \"38\", \"39\", \"46\", \"47\"], \"mode\": \"markers\", \"name\": \"precision_score_weighted\", \"stepped\": false, \"type\": \"scatter\", \"data\": [0.6699276031834301, 0.6635068719846625, 0.6442483389064286, 0.6360516052257346, 0.6529964442023266, 0.6624133730546944, 0.6592872066476726, 0.6517773697797464, 0.6606875521523335, 0.6415385198176836, 0.6491895327045178, 0.6669914946027614, 0.652225605505535, 0.6461479379759709, 0.6676864196640745, 0.6472614829794984, 0.6594036278173581, 0.6321717242361721, 0.6680333019513094, 0.6515628346498513, 0.6635345716058615, 0.6525113983135621, 0.6577383161093235, 0.6655404658092852, 0.6450799997057786, 0.6523142558531256, 0.669779721577093, 0.64445547414939, 0.6361429372443588, 0.6621345583247937, 0.2847550268184723, 0.6399455421787772, 0.6383340728159592, 0.6562857164616731, 0.6297938243100486, 0.2847550268184723, 0.6631417023742694, 0.6485847305551531, 0.6648905523958802, 0.6420607611928352, 0.6741156063021823, 0.6729538516935868]}, {\"categories\": [\"0\", \"1\", \"2\", \"3\", \"4\", \"5\", \"6\", \"7\", \"8\", \"9\", \"10\", \"11\", \"12\", \"13\", \"14\", \"15\", \"16\", \"17\", \"18\", \"19\", \"20\", \"21\", \"22\", \"23\", \"24\", \"25\", \"26\", \"27\", \"28\", \"29\", \"30\", \"31\", \"32\", \"33\", \"34\", \"35\", \"36\", \"37\", \"38\", \"39\", \"46\", \"47\"], \"mode\": \"lines\", \"name\": \"precision_score_weighted_max\", \"stepped\": true, \"type\": \"scatter\", \"data\": [0.6699276031834301, 0.6699276031834301, 0.6699276031834301, 0.6699276031834301, 0.6699276031834301, 0.6699276031834301, 0.6699276031834301, 0.6699276031834301, 0.6699276031834301, 0.6699276031834301, 0.6699276031834301, 0.6699276031834301, 0.6699276031834301, 0.6699276031834301, 0.6699276031834301, 0.6699276031834301, 0.6699276031834301, 0.6699276031834301, 0.6699276031834301, 0.6699276031834301, 0.6699276031834301, 0.6699276031834301, 0.6699276031834301, 0.6699276031834301, 0.6699276031834301, 0.6699276031834301, 0.6699276031834301, 0.6699276031834301, 0.6699276031834301, 0.6699276031834301, 0.6699276031834301, 0.6699276031834301, 0.6699276031834301, 0.6699276031834301, 0.6699276031834301, 0.6699276031834301, 0.6699276031834301, 0.6699276031834301, 0.6699276031834301, 0.6699276031834301, 0.6741156063021823, 0.6741156063021823]}], \"f1_score_macro\": [{\"categories\": [\"0\", \"1\", \"2\", \"3\", \"4\", \"5\", \"6\", \"7\", \"8\", \"9\", \"10\", \"11\", \"12\", \"13\", \"14\", \"15\", \"16\", \"17\", \"18\", \"19\", \"20\", \"21\", \"22\", \"23\", \"24\", \"25\", \"26\", \"27\", \"28\", \"29\", \"30\", \"31\", \"32\", \"33\", \"34\", \"35\", \"36\", \"37\", \"38\", \"39\", \"46\", \"47\"], \"mode\": \"markers\", \"name\": \"f1_score_macro\", \"stepped\": false, \"type\": \"scatter\", \"data\": [0.6675810642841186, 0.6607191292346911, 0.635220446664628, 0.6249124496000674, 0.6513022881807695, 0.6600909582879201, 0.6553903366171113, 0.6478476256117018, 0.6570608783775372, 0.6392935695254389, 0.646398524411538, 0.664300815542154, 0.6422244777647107, 0.6391155315643541, 0.6650157056158189, 0.6397002198617103, 0.6553810570756797, 0.6200405212146796, 0.6648580455465101, 0.6443035817412424, 0.6610593444756201, 0.6339135528841245, 0.6553533270483666, 0.6614388421158524, 0.6422792545503819, 0.4694344425406136, 0.6661450001603991, 0.6329933077536687, 0.6313626165024909, 0.659016350507083, 0.3479294656582928, 0.6361661903154708, 0.634412177646533, 0.6538886548723206, 0.6185140075236302, 0.3479294656582928, 0.660950199993912, 0.646388176739465, 0.6618167656917768, 0.6333032344640512, 0.671173660124625, 0.6701615123000975]}, {\"categories\": [\"0\", \"1\", \"2\", \"3\", \"4\", \"5\", \"6\", \"7\", \"8\", \"9\", \"10\", \"11\", \"12\", \"13\", \"14\", \"15\", \"16\", \"17\", \"18\", \"19\", \"20\", \"21\", \"22\", \"23\", \"24\", \"25\", \"26\", \"27\", \"28\", \"29\", \"30\", \"31\", \"32\", \"33\", \"34\", \"35\", \"36\", \"37\", \"38\", \"39\", \"46\", \"47\"], \"mode\": \"lines\", \"name\": \"f1_score_macro_max\", \"stepped\": true, \"type\": \"scatter\", \"data\": [0.6675810642841186, 0.6675810642841186, 0.6675810642841186, 0.6675810642841186, 0.6675810642841186, 0.6675810642841186, 0.6675810642841186, 0.6675810642841186, 0.6675810642841186, 0.6675810642841186, 0.6675810642841186, 0.6675810642841186, 0.6675810642841186, 0.6675810642841186, 0.6675810642841186, 0.6675810642841186, 0.6675810642841186, 0.6675810642841186, 0.6675810642841186, 0.6675810642841186, 0.6675810642841186, 0.6675810642841186, 0.6675810642841186, 0.6675810642841186, 0.6675810642841186, 0.6675810642841186, 0.6675810642841186, 0.6675810642841186, 0.6675810642841186, 0.6675810642841186, 0.6675810642841186, 0.6675810642841186, 0.6675810642841186, 0.6675810642841186, 0.6675810642841186, 0.6675810642841186, 0.6675810642841186, 0.6675810642841186, 0.6675810642841186, 0.6675810642841186, 0.671173660124625, 0.671173660124625]}], \"AUC_micro\": [{\"categories\": [\"0\", \"1\", \"2\", \"3\", \"4\", \"5\", \"6\", \"7\", \"8\", \"9\", \"10\", \"11\", \"12\", \"13\", \"14\", \"15\", \"16\", \"17\", \"18\", \"19\", \"20\", \"21\", \"22\", \"23\", \"24\", \"25\", \"26\", \"27\", \"28\", \"29\", \"30\", \"31\", \"32\", \"33\", \"34\", \"35\", \"36\", \"37\", \"38\", \"39\", \"46\", \"47\"], \"mode\": \"markers\", \"name\": \"AUC_micro\", \"stepped\": false, \"type\": \"scatter\", \"data\": [0.7314330002729805, 0.7282573425045289, 0.7003909936183019, 0.6887652521897778, 0.7082800518541085, 0.7250236785631847, 0.7203372753985103, 0.7110996892178484, 0.7245106527623184, 0.6819173622556584, 0.7013400151698892, 0.7296000320527726, 0.7075296202937, 0.7016149889859605, 0.7313390092954284, 0.7046872084607587, 0.7201248437595109, 0.6827865998433301, 0.7318756049196532, 0.7115191913117302, 0.7252854470147612, 0.703869425316108, 0.7182631607687386, 0.726459680552465, 0.7009192927044723, 0.634388006914312, 0.731500023773633, 0.6985899688094411, 0.6772259210194929, 0.7225792594651308, 0.6262574791563151, 0.6775241490027415, 0.6773399250960309, 0.7195089314419381, 0.6788882509761917, 0.6148480144070452, 0.7236488691343905, 0.7008425907379169, 0.7272696269731835, 0.6962474917450316, 0.7364665233322485, 0.7365794437387472]}, {\"categories\": [\"0\", \"1\", \"2\", \"3\", \"4\", \"5\", \"6\", \"7\", \"8\", \"9\", \"10\", \"11\", \"12\", \"13\", \"14\", \"15\", \"16\", \"17\", \"18\", \"19\", \"20\", \"21\", \"22\", \"23\", \"24\", \"25\", \"26\", \"27\", \"28\", \"29\", \"30\", \"31\", \"32\", \"33\", \"34\", \"35\", \"36\", \"37\", \"38\", \"39\", \"46\", \"47\"], \"mode\": \"lines\", \"name\": \"AUC_micro_max\", \"stepped\": true, \"type\": \"scatter\", \"data\": [0.7314330002729805, 0.7314330002729805, 0.7314330002729805, 0.7314330002729805, 0.7314330002729805, 0.7314330002729805, 0.7314330002729805, 0.7314330002729805, 0.7314330002729805, 0.7314330002729805, 0.7314330002729805, 0.7314330002729805, 0.7314330002729805, 0.7314330002729805, 0.7314330002729805, 0.7314330002729805, 0.7314330002729805, 0.7314330002729805, 0.7318756049196532, 0.7318756049196532, 0.7318756049196532, 0.7318756049196532, 0.7318756049196532, 0.7318756049196532, 0.7318756049196532, 0.7318756049196532, 0.7318756049196532, 0.7318756049196532, 0.7318756049196532, 0.7318756049196532, 0.7318756049196532, 0.7318756049196532, 0.7318756049196532, 0.7318756049196532, 0.7318756049196532, 0.7318756049196532, 0.7318756049196532, 0.7318756049196532, 0.7318756049196532, 0.7318756049196532, 0.7364665233322485, 0.7365794437387472]}], \"recall_score_weighted\": [{\"categories\": [\"0\", \"1\", \"2\", \"3\", \"4\", \"5\", \"6\", \"7\", \"8\", \"9\", \"10\", \"11\", \"12\", \"13\", \"14\", \"15\", \"16\", \"17\", \"18\", \"19\", \"20\", \"21\", \"22\", \"23\", \"24\", \"25\", \"26\", \"27\", \"28\", \"29\", \"30\", \"31\", \"32\", \"33\", \"34\", \"35\", \"36\", \"37\", \"38\", \"39\", \"46\", \"47\"], \"mode\": \"markers\", \"name\": \"recall_score_weighted\", \"stepped\": false, \"type\": \"scatter\", \"data\": [0.6705659782437333, 0.6642282831467761, 0.6439224341794104, 0.6354406432287562, 0.6526249408797099, 0.6631247043985496, 0.6599716222607598, 0.6525303484155762, 0.6614220400441431, 0.6423774239318935, 0.6468232697461769, 0.6676966734983447, 0.6512691155604603, 0.6463818382468863, 0.6683903515686584, 0.6473277628882232, 0.6600662147248937, 0.6312470439854958, 0.6686741289610595, 0.6515844237742393, 0.6642282831467761, 0.6481160334226707, 0.6585212044773766, 0.6660255399653161, 0.6460034683903515, 0.5767617846444899, 0.670345262494088, 0.6432918177518525, 0.636985653476273, 0.6628724578275265, 0.5335960901781491, 0.6408954753271322, 0.6393819959009932, 0.6570392558726155, 0.6294182563455778, 0.5335960901781491, 0.6638183824688633, 0.6471070471385779, 0.6656156392874035, 0.6419359924326029, 0.6747595774869936, 0.6735614062746333]}, {\"categories\": [\"0\", \"1\", \"2\", \"3\", \"4\", \"5\", \"6\", \"7\", \"8\", \"9\", \"10\", \"11\", \"12\", \"13\", \"14\", \"15\", \"16\", \"17\", \"18\", \"19\", \"20\", \"21\", \"22\", \"23\", \"24\", \"25\", \"26\", \"27\", \"28\", \"29\", \"30\", \"31\", \"32\", \"33\", \"34\", \"35\", \"36\", \"37\", \"38\", \"39\", \"46\", \"47\"], \"mode\": \"lines\", \"name\": \"recall_score_weighted_max\", \"stepped\": true, \"type\": \"scatter\", \"data\": [0.6705659782437333, 0.6705659782437333, 0.6705659782437333, 0.6705659782437333, 0.6705659782437333, 0.6705659782437333, 0.6705659782437333, 0.6705659782437333, 0.6705659782437333, 0.6705659782437333, 0.6705659782437333, 0.6705659782437333, 0.6705659782437333, 0.6705659782437333, 0.6705659782437333, 0.6705659782437333, 0.6705659782437333, 0.6705659782437333, 0.6705659782437333, 0.6705659782437333, 0.6705659782437333, 0.6705659782437333, 0.6705659782437333, 0.6705659782437333, 0.6705659782437333, 0.6705659782437333, 0.6705659782437333, 0.6705659782437333, 0.6705659782437333, 0.6705659782437333, 0.6705659782437333, 0.6705659782437333, 0.6705659782437333, 0.6705659782437333, 0.6705659782437333, 0.6705659782437333, 0.6705659782437333, 0.6705659782437333, 0.6705659782437333, 0.6705659782437333, 0.6747595774869936, 0.6747595774869936]}], \"log_loss\": [{\"categories\": [\"0\", \"1\", \"2\", \"3\", \"4\", \"5\", \"6\", \"7\", \"8\", \"9\", \"10\", \"11\", \"12\", \"13\", \"14\", \"15\", \"16\", \"17\", \"18\", \"19\", \"20\", \"21\", \"22\", \"23\", \"24\", \"25\", \"26\", \"27\", \"28\", \"29\", \"30\", \"31\", \"32\", \"33\", \"34\", \"35\", \"36\", \"37\", \"38\", \"39\", \"46\", \"47\"], \"mode\": \"markers\", \"name\": \"log_loss\", \"stepped\": false, \"type\": \"scatter\", \"data\": [0.6055891352328832, 0.6083189971485465, 0.6364165188298073, 0.6447215033362222, 0.6327605964457603, 0.6109151418642951, 0.6165569285353, 0.6376958313330994, 0.6154077356787147, 0.6523037340397452, 0.6310616258533341, 0.6065973721635861, 0.6368072660685232, 0.6320420644741651, 0.6055636992462343, 0.6329185634458996, 0.6164661885608277, 0.6590629745548269, 0.6052802701177058, 0.628128599166492, 0.6136846975889153, 0.6447018500223909, 0.6162974302861628, 0.6104548495714985, 0.6311442848803731, 0.6777660301318336, 0.6064168204209979, 0.6399626726442432, 0.647511764501393, 0.613505650570099, 0.6908845970691079, 0.6469742364925349, 0.6463443504410179, 0.6228594852491321, 0.6511638960307735, 0.6888151497424367, 0.6149199885512592, 0.6343736838240692, 0.6092937596893868, 0.638074144882708, 0.6017872784082372, 0.6025713411465161]}, {\"categories\": [\"0\", \"1\", \"2\", \"3\", \"4\", \"5\", \"6\", \"7\", \"8\", \"9\", \"10\", \"11\", \"12\", \"13\", \"14\", \"15\", \"16\", \"17\", \"18\", \"19\", \"20\", \"21\", \"22\", \"23\", \"24\", \"25\", \"26\", \"27\", \"28\", \"29\", \"30\", \"31\", \"32\", \"33\", \"34\", \"35\", \"36\", \"37\", \"38\", \"39\", \"46\", \"47\"], \"mode\": \"lines\", \"name\": \"log_loss_min\", \"stepped\": true, \"type\": \"scatter\", \"data\": [0.6055891352328832, 0.6055891352328832, 0.6055891352328832, 0.6055891352328832, 0.6055891352328832, 0.6055891352328832, 0.6055891352328832, 0.6055891352328832, 0.6055891352328832, 0.6055891352328832, 0.6055891352328832, 0.6055891352328832, 0.6055891352328832, 0.6055891352328832, 0.6055636992462343, 0.6055636992462343, 0.6055636992462343, 0.6055636992462343, 0.6052802701177058, 0.6052802701177058, 0.6052802701177058, 0.6052802701177058, 0.6052802701177058, 0.6052802701177058, 0.6052802701177058, 0.6052802701177058, 0.6052802701177058, 0.6052802701177058, 0.6052802701177058, 0.6052802701177058, 0.6052802701177058, 0.6052802701177058, 0.6052802701177058, 0.6052802701177058, 0.6052802701177058, 0.6052802701177058, 0.6052802701177058, 0.6052802701177058, 0.6052802701177058, 0.6052802701177058, 0.6017872784082372, 0.6017872784082372]}], \"recall_score_micro\": [{\"categories\": [\"0\", \"1\", \"2\", \"3\", \"4\", \"5\", \"6\", \"7\", \"8\", \"9\", \"10\", \"11\", \"12\", \"13\", \"14\", \"15\", \"16\", \"17\", \"18\", \"19\", \"20\", \"21\", \"22\", \"23\", \"24\", \"25\", \"26\", \"27\", \"28\", \"29\", \"30\", \"31\", \"32\", \"33\", \"34\", \"35\", \"36\", \"37\", \"38\", \"39\", \"46\", \"47\"], \"mode\": \"markers\", \"name\": \"recall_score_micro\", \"stepped\": false, \"type\": \"scatter\", \"data\": [0.6705659782437333, 0.6642282831467761, 0.6439224341794104, 0.6354406432287562, 0.6526249408797099, 0.6631247043985496, 0.6599716222607598, 0.6525303484155762, 0.6614220400441431, 0.6423774239318935, 0.6468232697461769, 0.6676966734983447, 0.6512691155604603, 0.6463818382468863, 0.6683903515686584, 0.6473277628882232, 0.6600662147248937, 0.6312470439854958, 0.6686741289610595, 0.6515844237742393, 0.6642282831467761, 0.6481160334226707, 0.6585212044773766, 0.6660255399653161, 0.6460034683903515, 0.5767617846444899, 0.670345262494088, 0.6432918177518525, 0.636985653476273, 0.6628724578275265, 0.5335960901781491, 0.6408954753271322, 0.6393819959009932, 0.6570392558726155, 0.6294182563455778, 0.5335960901781491, 0.6638183824688633, 0.6471070471385779, 0.6656156392874035, 0.6419359924326029, 0.6747595774869936, 0.6735614062746333]}, {\"categories\": [\"0\", \"1\", \"2\", \"3\", \"4\", \"5\", \"6\", \"7\", \"8\", \"9\", \"10\", \"11\", \"12\", \"13\", \"14\", \"15\", \"16\", \"17\", \"18\", \"19\", \"20\", \"21\", \"22\", \"23\", \"24\", \"25\", \"26\", \"27\", \"28\", \"29\", \"30\", \"31\", \"32\", \"33\", \"34\", \"35\", \"36\", \"37\", \"38\", \"39\", \"46\", \"47\"], \"mode\": \"lines\", \"name\": \"recall_score_micro_max\", \"stepped\": true, \"type\": \"scatter\", \"data\": [0.6705659782437333, 0.6705659782437333, 0.6705659782437333, 0.6705659782437333, 0.6705659782437333, 0.6705659782437333, 0.6705659782437333, 0.6705659782437333, 0.6705659782437333, 0.6705659782437333, 0.6705659782437333, 0.6705659782437333, 0.6705659782437333, 0.6705659782437333, 0.6705659782437333, 0.6705659782437333, 0.6705659782437333, 0.6705659782437333, 0.6705659782437333, 0.6705659782437333, 0.6705659782437333, 0.6705659782437333, 0.6705659782437333, 0.6705659782437333, 0.6705659782437333, 0.6705659782437333, 0.6705659782437333, 0.6705659782437333, 0.6705659782437333, 0.6705659782437333, 0.6705659782437333, 0.6705659782437333, 0.6705659782437333, 0.6705659782437333, 0.6705659782437333, 0.6705659782437333, 0.6705659782437333, 0.6705659782437333, 0.6705659782437333, 0.6705659782437333, 0.6747595774869936, 0.6747595774869936]}], \"average_precision_score_micro\": [{\"categories\": [\"0\", \"1\", \"2\", \"3\", \"4\", \"5\", \"6\", \"7\", \"8\", \"9\", \"10\", \"11\", \"12\", \"13\", \"14\", \"15\", \"16\", \"17\", \"18\", \"19\", \"20\", \"21\", \"22\", \"23\", \"24\", \"25\", \"26\", \"27\", \"28\", \"29\", \"30\", \"31\", \"32\", \"33\", \"34\", \"35\", \"36\", \"37\", \"38\", \"39\", \"46\", \"47\"], \"mode\": \"markers\", \"name\": \"average_precision_score_micro\", \"stepped\": false, \"type\": \"scatter\", \"data\": [0.7239524261539938, 0.7212724669393034, 0.6900640314042303, 0.6766716398088668, 0.696227305548703, 0.7177016434853865, 0.7114751767949304, 0.7001771841399239, 0.7161436353349514, 0.6672111884284452, 0.6882477149710151, 0.7227433867953439, 0.697121993772442, 0.6908847664115539, 0.7245304755917641, 0.6938505808625288, 0.7117445551166299, 0.665191238485163, 0.7248837670710986, 0.7019683154156438, 0.7185242767313029, 0.692951291767452, 0.7083752882928055, 0.7166577325107457, 0.6878155381526654, 0.6350219002007252, 0.7220258609637293, 0.6875552911157744, 0.6619473218978674, 0.7138549590176211, 0.6304443760574523, 0.663398373038198, 0.6624131219410139, 0.7117556470559177, 0.6640984169345192, 0.6122027699590586, 0.7153884407511664, 0.6880136752486254, 0.7195671284635607, 0.6838563181817966, 0.7297984381846834, 0.7299132232787768]}, {\"categories\": [\"0\", \"1\", \"2\", \"3\", \"4\", \"5\", \"6\", \"7\", \"8\", \"9\", \"10\", \"11\", \"12\", \"13\", \"14\", \"15\", \"16\", \"17\", \"18\", \"19\", \"20\", \"21\", \"22\", \"23\", \"24\", \"25\", \"26\", \"27\", \"28\", \"29\", \"30\", \"31\", \"32\", \"33\", \"34\", \"35\", \"36\", \"37\", \"38\", \"39\", \"46\", \"47\"], \"mode\": \"lines\", \"name\": \"average_precision_score_micro_max\", \"stepped\": true, \"type\": \"scatter\", \"data\": [0.7239524261539938, 0.7239524261539938, 0.7239524261539938, 0.7239524261539938, 0.7239524261539938, 0.7239524261539938, 0.7239524261539938, 0.7239524261539938, 0.7239524261539938, 0.7239524261539938, 0.7239524261539938, 0.7239524261539938, 0.7239524261539938, 0.7239524261539938, 0.7245304755917641, 0.7245304755917641, 0.7245304755917641, 0.7245304755917641, 0.7248837670710986, 0.7248837670710986, 0.7248837670710986, 0.7248837670710986, 0.7248837670710986, 0.7248837670710986, 0.7248837670710986, 0.7248837670710986, 0.7248837670710986, 0.7248837670710986, 0.7248837670710986, 0.7248837670710986, 0.7248837670710986, 0.7248837670710986, 0.7248837670710986, 0.7248837670710986, 0.7248837670710986, 0.7248837670710986, 0.7248837670710986, 0.7248837670710986, 0.7248837670710986, 0.7248837670710986, 0.7297984381846834, 0.7299132232787768]}], \"precision_score_micro\": [{\"categories\": [\"0\", \"1\", \"2\", \"3\", \"4\", \"5\", \"6\", \"7\", \"8\", \"9\", \"10\", \"11\", \"12\", \"13\", \"14\", \"15\", \"16\", \"17\", \"18\", \"19\", \"20\", \"21\", \"22\", \"23\", \"24\", \"25\", \"26\", \"27\", \"28\", \"29\", \"30\", \"31\", \"32\", \"33\", \"34\", \"35\", \"36\", \"37\", \"38\", \"39\", \"46\", \"47\"], \"mode\": \"markers\", \"name\": \"precision_score_micro\", \"stepped\": false, \"type\": \"scatter\", \"data\": [0.6705659782437333, 0.6642282831467761, 0.6439224341794104, 0.6354406432287562, 0.6526249408797099, 0.6631247043985496, 0.6599716222607598, 0.6525303484155762, 0.6614220400441431, 0.6423774239318935, 0.6468232697461769, 0.6676966734983447, 0.6512691155604603, 0.6463818382468863, 0.6683903515686584, 0.6473277628882232, 0.6600662147248937, 0.6312470439854958, 0.6686741289610595, 0.6515844237742393, 0.6642282831467761, 0.6481160334226707, 0.6585212044773766, 0.6660255399653161, 0.6460034683903515, 0.5767617846444899, 0.670345262494088, 0.6432918177518525, 0.636985653476273, 0.6628724578275265, 0.5335960901781491, 0.6408954753271322, 0.6393819959009932, 0.6570392558726155, 0.6294182563455778, 0.5335960901781491, 0.6638183824688633, 0.6471070471385779, 0.6656156392874035, 0.6419359924326029, 0.6747595774869936, 0.6735614062746333]}, {\"categories\": [\"0\", \"1\", \"2\", \"3\", \"4\", \"5\", \"6\", \"7\", \"8\", \"9\", \"10\", \"11\", \"12\", \"13\", \"14\", \"15\", \"16\", \"17\", \"18\", \"19\", \"20\", \"21\", \"22\", \"23\", \"24\", \"25\", \"26\", \"27\", \"28\", \"29\", \"30\", \"31\", \"32\", \"33\", \"34\", \"35\", \"36\", \"37\", \"38\", \"39\", \"46\", \"47\"], \"mode\": \"lines\", \"name\": \"precision_score_micro_max\", \"stepped\": true, \"type\": \"scatter\", \"data\": [0.6705659782437333, 0.6705659782437333, 0.6705659782437333, 0.6705659782437333, 0.6705659782437333, 0.6705659782437333, 0.6705659782437333, 0.6705659782437333, 0.6705659782437333, 0.6705659782437333, 0.6705659782437333, 0.6705659782437333, 0.6705659782437333, 0.6705659782437333, 0.6705659782437333, 0.6705659782437333, 0.6705659782437333, 0.6705659782437333, 0.6705659782437333, 0.6705659782437333, 0.6705659782437333, 0.6705659782437333, 0.6705659782437333, 0.6705659782437333, 0.6705659782437333, 0.6705659782437333, 0.6705659782437333, 0.6705659782437333, 0.6705659782437333, 0.6705659782437333, 0.6705659782437333, 0.6705659782437333, 0.6705659782437333, 0.6705659782437333, 0.6705659782437333, 0.6705659782437333, 0.6705659782437333, 0.6705659782437333, 0.6705659782437333, 0.6705659782437333, 0.6747595774869936, 0.6747595774869936]}], \"norm_macro_recall\": [{\"categories\": [\"0\", \"1\", \"2\", \"3\", \"4\", \"5\", \"6\", \"7\", \"8\", \"9\", \"10\", \"11\", \"12\", \"13\", \"14\", \"15\", \"16\", \"17\", \"18\", \"19\", \"20\", \"21\", \"22\", \"23\", \"24\", \"25\", \"26\", \"27\", \"28\", \"29\", \"30\", \"31\", \"32\", \"33\", \"34\", \"35\", \"36\", \"37\", \"38\", \"39\", \"46\", \"47\"], \"mode\": \"markers\", \"name\": \"norm_macro_recall\", \"stepped\": false, \"type\": \"scatter\", \"data\": [0.33448519723083525, 0.3208049953036974, 0.27302216576135735, 0.25407719059662315, 0.30293895834071227, 0.31957321198401034, 0.3103967578451693, 0.29552021566286524, 0.3136388439400562, 0.2781297729106608, 0.2950334339713875, 0.32791100434348774, 0.28706874310299085, 0.27954350716487725, 0.32933879166202856, 0.28087163437588325, 0.31040762046629405, 0.24532649064760853, 0.32907577933649457, 0.2897947848290665, 0.32150248328836456, 0.2756138735936717, 0.31009233802822866, 0.3224861849827354, 0.28411777795259735, 0.09824778809757721, 0.33168488080714165, 0.2699085041010582, 0.2632851976700502, 0.3174497538151188, 0.0, 0.2723213621594312, 0.2688420892898473, 0.30720918077679527, 0.24178981919221024, 0.0, 0.32130030992803643, 0.2941368853998365, 0.3229932423991063, 0.2690144772351374, 0.3415688849097545, 0.33960522089347195]}, {\"categories\": [\"0\", \"1\", \"2\", \"3\", \"4\", \"5\", \"6\", \"7\", \"8\", \"9\", \"10\", \"11\", \"12\", \"13\", \"14\", \"15\", \"16\", \"17\", \"18\", \"19\", \"20\", \"21\", \"22\", \"23\", \"24\", \"25\", \"26\", \"27\", \"28\", \"29\", \"30\", \"31\", \"32\", \"33\", \"34\", \"35\", \"36\", \"37\", \"38\", \"39\", \"46\", \"47\"], \"mode\": \"lines\", \"name\": \"norm_macro_recall_max\", \"stepped\": true, \"type\": \"scatter\", \"data\": [0.33448519723083525, 0.33448519723083525, 0.33448519723083525, 0.33448519723083525, 0.33448519723083525, 0.33448519723083525, 0.33448519723083525, 0.33448519723083525, 0.33448519723083525, 0.33448519723083525, 0.33448519723083525, 0.33448519723083525, 0.33448519723083525, 0.33448519723083525, 0.33448519723083525, 0.33448519723083525, 0.33448519723083525, 0.33448519723083525, 0.33448519723083525, 0.33448519723083525, 0.33448519723083525, 0.33448519723083525, 0.33448519723083525, 0.33448519723083525, 0.33448519723083525, 0.33448519723083525, 0.33448519723083525, 0.33448519723083525, 0.33448519723083525, 0.33448519723083525, 0.33448519723083525, 0.33448519723083525, 0.33448519723083525, 0.33448519723083525, 0.33448519723083525, 0.33448519723083525, 0.33448519723083525, 0.33448519723083525, 0.33448519723083525, 0.33448519723083525, 0.3415688849097545, 0.3415688849097545]}], \"f1_score_micro\": [{\"categories\": [\"0\", \"1\", \"2\", \"3\", \"4\", \"5\", \"6\", \"7\", \"8\", \"9\", \"10\", \"11\", \"12\", \"13\", \"14\", \"15\", \"16\", \"17\", \"18\", \"19\", \"20\", \"21\", \"22\", \"23\", \"24\", \"25\", \"26\", \"27\", \"28\", \"29\", \"30\", \"31\", \"32\", \"33\", \"34\", \"35\", \"36\", \"37\", \"38\", \"39\", \"46\", \"47\"], \"mode\": \"markers\", \"name\": \"f1_score_micro\", \"stepped\": false, \"type\": \"scatter\", \"data\": [0.6705659782437333, 0.6642282831467761, 0.6439224341794104, 0.6354406432287562, 0.6526249408797099, 0.6631247043985496, 0.6599716222607598, 0.6525303484155762, 0.6614220400441431, 0.6423774239318935, 0.6468232697461769, 0.6676966734983447, 0.6512691155604603, 0.6463818382468863, 0.6683903515686584, 0.6473277628882232, 0.6600662147248937, 0.6312470439854958, 0.6686741289610595, 0.6515844237742393, 0.6642282831467761, 0.6481160334226707, 0.6585212044773766, 0.6660255399653161, 0.6460034683903515, 0.5767617846444899, 0.670345262494088, 0.6432918177518525, 0.636985653476273, 0.6628724578275265, 0.5335960901781491, 0.6408954753271322, 0.6393819959009932, 0.6570392558726155, 0.6294182563455778, 0.5335960901781491, 0.6638183824688633, 0.6471070471385779, 0.6656156392874035, 0.6419359924326029, 0.6747595774869936, 0.6735614062746333]}, {\"categories\": [\"0\", \"1\", \"2\", \"3\", \"4\", \"5\", \"6\", \"7\", \"8\", \"9\", \"10\", \"11\", \"12\", \"13\", \"14\", \"15\", \"16\", \"17\", \"18\", \"19\", \"20\", \"21\", \"22\", \"23\", \"24\", \"25\", \"26\", \"27\", \"28\", \"29\", \"30\", \"31\", \"32\", \"33\", \"34\", \"35\", \"36\", \"37\", \"38\", \"39\", \"46\", \"47\"], \"mode\": \"lines\", \"name\": \"f1_score_micro_max\", \"stepped\": true, \"type\": \"scatter\", \"data\": [0.6705659782437333, 0.6705659782437333, 0.6705659782437333, 0.6705659782437333, 0.6705659782437333, 0.6705659782437333, 0.6705659782437333, 0.6705659782437333, 0.6705659782437333, 0.6705659782437333, 0.6705659782437333, 0.6705659782437333, 0.6705659782437333, 0.6705659782437333, 0.6705659782437333, 0.6705659782437333, 0.6705659782437333, 0.6705659782437333, 0.6705659782437333, 0.6705659782437333, 0.6705659782437333, 0.6705659782437333, 0.6705659782437333, 0.6705659782437333, 0.6705659782437333, 0.6705659782437333, 0.6705659782437333, 0.6705659782437333, 0.6705659782437333, 0.6705659782437333, 0.6705659782437333, 0.6705659782437333, 0.6705659782437333, 0.6705659782437333, 0.6705659782437333, 0.6705659782437333, 0.6705659782437333, 0.6705659782437333, 0.6705659782437333, 0.6705659782437333, 0.6747595774869936, 0.6747595774869936]}], \"matthews_correlation\": [{\"categories\": [\"0\", \"1\", \"2\", \"3\", \"4\", \"5\", \"6\", \"7\", \"8\", \"9\", \"10\", \"11\", \"12\", \"13\", \"14\", \"15\", \"16\", \"17\", \"18\", \"19\", \"20\", \"21\", \"22\", \"23\", \"24\", \"25\", \"26\", \"27\", \"28\", \"29\", \"30\", \"31\", \"32\", \"33\", \"34\", \"35\", \"36\", \"37\", \"38\", \"39\", \"46\", \"47\"], \"mode\": \"markers\", \"name\": \"matthews_correlation\", \"stepped\": false, \"type\": \"scatter\", \"data\": [0.3362241724846601, 0.3230671531229344, 0.28064549531409694, 0.26305066284288686, 0.30270034900111137, 0.321184124069927, 0.31389512799909364, 0.2988472683261495, 0.31686797679475004, 0.27938899088436087, 0.29438352866518686, 0.33010775401134934, 0.2958652802987856, 0.28564961581409554, 0.331517135935895, 0.28752300096169425, 0.3140437376750736, 0.254742417674128, 0.33187132008401554, 0.2962970168356899, 0.32332331650139323, 0.29093659491489676, 0.3117687980228928, 0.3262643035569046, 0.28613975430300387, 0.1765277039310073, 0.335063546092832, 0.279509478126028, 0.26705308466654426, 0.32009632134806854, 0.0, 0.275261893541586, 0.2719575097706304, 0.30884804060882953, 0.25055979777629867, 0.0, 0.32272945002209596, 0.2935406779765818, 0.32564550083961563, 0.27643286766948194, 0.3442168227031201, 0.3419879747961238]}, {\"categories\": [\"0\", \"1\", \"2\", \"3\", \"4\", \"5\", \"6\", \"7\", \"8\", \"9\", \"10\", \"11\", \"12\", \"13\", \"14\", \"15\", \"16\", \"17\", \"18\", \"19\", \"20\", \"21\", \"22\", \"23\", \"24\", \"25\", \"26\", \"27\", \"28\", \"29\", \"30\", \"31\", \"32\", \"33\", \"34\", \"35\", \"36\", \"37\", \"38\", \"39\", \"46\", \"47\"], \"mode\": \"lines\", \"name\": \"matthews_correlation_max\", \"stepped\": true, \"type\": \"scatter\", \"data\": [0.3362241724846601, 0.3362241724846601, 0.3362241724846601, 0.3362241724846601, 0.3362241724846601, 0.3362241724846601, 0.3362241724846601, 0.3362241724846601, 0.3362241724846601, 0.3362241724846601, 0.3362241724846601, 0.3362241724846601, 0.3362241724846601, 0.3362241724846601, 0.3362241724846601, 0.3362241724846601, 0.3362241724846601, 0.3362241724846601, 0.3362241724846601, 0.3362241724846601, 0.3362241724846601, 0.3362241724846601, 0.3362241724846601, 0.3362241724846601, 0.3362241724846601, 0.3362241724846601, 0.3362241724846601, 0.3362241724846601, 0.3362241724846601, 0.3362241724846601, 0.3362241724846601, 0.3362241724846601, 0.3362241724846601, 0.3362241724846601, 0.3362241724846601, 0.3362241724846601, 0.3362241724846601, 0.3362241724846601, 0.3362241724846601, 0.3362241724846601, 0.3442168227031201, 0.3442168227031201]}], \"weighted_accuracy\": [{\"categories\": [\"0\", \"1\", \"2\", \"3\", \"4\", \"5\", \"6\", \"7\", \"8\", \"9\", \"10\", \"11\", \"12\", \"13\", \"14\", \"15\", \"16\", \"17\", \"18\", \"19\", \"20\", \"21\", \"22\", \"23\", \"24\", \"25\", \"26\", \"27\", \"28\", \"29\", \"30\", \"31\", \"32\", \"33\", \"34\", \"35\", \"36\", \"37\", \"38\", \"39\", \"46\", \"47\"], \"mode\": \"markers\", \"name\": \"weighted_accuracy\", \"stepped\": false, \"type\": \"scatter\", \"data\": [0.6738569774591212, 0.668016805040342, 0.6512621906455388, 0.6437605982192877, 0.6537680802537256, 0.6664298429436726, 0.664698390414579, 0.6572550293183242, 0.6659793526031972, 0.6456564722829145, 0.6461359255046344, 0.6714014265827147, 0.6589294853618879, 0.6529279644387398, 0.6720747803060247, 0.6541520225672731, 0.6648811922700902, 0.6397491140230864, 0.6727705171121336, 0.6582064066566459, 0.6676715218689973, 0.6583257597453482, 0.661961755659896, 0.6707625433388439, 0.6499094834607934, 0.6041327143228895, 0.6748045625551626, 0.6515493106115964, 0.6422784351499036, 0.6669794034602398, 0.5668651931036401, 0.6455838750696363, 0.6442941566647554, 0.6604403427526258, 0.6378589117799718, 0.5668651931036401, 0.6669551986399578, 0.6471440685930199, 0.6696942940960411, 0.6492926193014816, 0.6786956145476052, 0.6772841035449211]}, {\"categories\": [\"0\", \"1\", \"2\", \"3\", \"4\", \"5\", \"6\", \"7\", \"8\", \"9\", \"10\", \"11\", \"12\", \"13\", \"14\", \"15\", \"16\", \"17\", \"18\", \"19\", \"20\", \"21\", \"22\", \"23\", \"24\", \"25\", \"26\", \"27\", \"28\", \"29\", \"30\", \"31\", \"32\", \"33\", \"34\", \"35\", \"36\", \"37\", \"38\", \"39\", \"46\", \"47\"], \"mode\": \"lines\", \"name\": \"weighted_accuracy_max\", \"stepped\": true, \"type\": \"scatter\", \"data\": [0.6738569774591212, 0.6738569774591212, 0.6738569774591212, 0.6738569774591212, 0.6738569774591212, 0.6738569774591212, 0.6738569774591212, 0.6738569774591212, 0.6738569774591212, 0.6738569774591212, 0.6738569774591212, 0.6738569774591212, 0.6738569774591212, 0.6738569774591212, 0.6738569774591212, 0.6738569774591212, 0.6738569774591212, 0.6738569774591212, 0.6738569774591212, 0.6738569774591212, 0.6738569774591212, 0.6738569774591212, 0.6738569774591212, 0.6738569774591212, 0.6738569774591212, 0.6738569774591212, 0.6748045625551626, 0.6748045625551626, 0.6748045625551626, 0.6748045625551626, 0.6748045625551626, 0.6748045625551626, 0.6748045625551626, 0.6748045625551626, 0.6748045625551626, 0.6748045625551626, 0.6748045625551626, 0.6748045625551626, 0.6748045625551626, 0.6748045625551626, 0.6786956145476052, 0.6786956145476052]}], \"average_precision_score_macro\": [{\"categories\": [\"0\", \"1\", \"2\", \"3\", \"4\", \"5\", \"6\", \"7\", \"8\", \"9\", \"10\", \"11\", \"12\", \"13\", \"14\", \"15\", \"16\", \"17\", \"18\", \"19\", \"20\", \"21\", \"22\", \"23\", \"24\", \"25\", \"26\", \"27\", \"28\", \"29\", \"30\", \"31\", \"32\", \"33\", \"34\", \"35\", \"36\", \"37\", \"38\", \"39\", \"46\", \"47\"], \"mode\": \"markers\", \"name\": \"average_precision_score_macro\", \"stepped\": false, \"type\": \"scatter\", \"data\": [0.7196089819509025, 0.7170085482554336, 0.6869020764589062, 0.6744008952586598, 0.6958721481924275, 0.7127515623762996, 0.7073034329959547, 0.6957392368595541, 0.7116580677587085, 0.6680326520302552, 0.685550837638146, 0.7183400039499153, 0.6949961837803056, 0.6874675414343968, 0.7201594502139707, 0.6900714747404859, 0.7073667375525851, 0.6615730844371328, 0.7209282175424001, 0.6983424055571233, 0.7142795967106601, 0.6934131789859448, 0.7045185056771073, 0.7131389741700784, 0.6817346010714973, 0.6731857857173409, 0.7185714694755412, 0.6853294570840083, 0.6570089212942024, 0.7096721304758218, 0.6709596589650987, 0.6590568523372394, 0.6554515663052239, 0.7072458012342067, 0.6616512825294061, 0.64760172301315, 0.7109462041664468, 0.6874259013638542, 0.7152189677895073, 0.6811182989283371, 0.7255510660155645, 0.725734409506218]}, {\"categories\": [\"0\", \"1\", \"2\", \"3\", \"4\", \"5\", \"6\", \"7\", \"8\", \"9\", \"10\", \"11\", \"12\", \"13\", \"14\", \"15\", \"16\", \"17\", \"18\", \"19\", \"20\", \"21\", \"22\", \"23\", \"24\", \"25\", \"26\", \"27\", \"28\", \"29\", \"30\", \"31\", \"32\", \"33\", \"34\", \"35\", \"36\", \"37\", \"38\", \"39\", \"46\", \"47\"], \"mode\": \"lines\", \"name\": \"average_precision_score_macro_max\", \"stepped\": true, \"type\": \"scatter\", \"data\": [0.7196089819509025, 0.7196089819509025, 0.7196089819509025, 0.7196089819509025, 0.7196089819509025, 0.7196089819509025, 0.7196089819509025, 0.7196089819509025, 0.7196089819509025, 0.7196089819509025, 0.7196089819509025, 0.7196089819509025, 0.7196089819509025, 0.7196089819509025, 0.7201594502139707, 0.7201594502139707, 0.7201594502139707, 0.7201594502139707, 0.7209282175424001, 0.7209282175424001, 0.7209282175424001, 0.7209282175424001, 0.7209282175424001, 0.7209282175424001, 0.7209282175424001, 0.7209282175424001, 0.7209282175424001, 0.7209282175424001, 0.7209282175424001, 0.7209282175424001, 0.7209282175424001, 0.7209282175424001, 0.7209282175424001, 0.7209282175424001, 0.7209282175424001, 0.7209282175424001, 0.7209282175424001, 0.7209282175424001, 0.7209282175424001, 0.7209282175424001, 0.7255510660155645, 0.725734409506218]}]}, \"metricName\": null, \"primaryMetricName\": \"accuracy\", \"showLegend\": false}, \"run_metrics\": [{\"name\": \"experiment_status\", \"run_id\": \"AutoML_690cf95e-ea6f-40dc-b297-5261ea2009ed\", \"categories\": [0, 1, 2, 3, 4, 5, 6, 7, 8, 9, 10, 11, 12, 13], \"series\": [{\"data\": [\"DatasetEvaluation\", \"FeaturesGeneration\", \"DatasetFeaturization\", \"DatasetFeaturizationCompleted\", \"DatasetCrossValidationSplit\", \"ModelSelection\", \"BestRunExplainModel\", \"ModelExplanationDataSetSetup\", \"PickSurrogateModel\", \"EngineeredFeatureExplanations\", \"EngineeredFeatureExplanations\", \"RawFeaturesExplanations\", \"RawFeaturesExplanations\", \"BestRunExplainModel\"]}]}, {\"name\": \"experiment_status_description\", \"run_id\": \"AutoML_690cf95e-ea6f-40dc-b297-5261ea2009ed\", \"categories\": [0, 1, 2, 3, 4, 5, 6, 7, 8, 9, 10, 11, 12, 13], \"series\": [{\"data\": [\"Gathering dataset statistics.\", \"Generating features for the dataset.\", \"Beginning to fit featurizers and featurize the dataset.\", \"Completed fit featurizers and featurizing the dataset.\", \"Generating individually featurized CV splits.\", \"Beginning model selection.\", \"Best run model explanations started\", \"Model explanations data setup completed\", \"Choosing LightGBM as the surrogate model for explanations\", \"Computation of engineered features started\", \"Computation of engineered features completed\", \"Computation of raw features started\", \"Computation of raw features completed\", \"Best run model explanations completed\"]}]}, {\"name\": \"balanced_accuracy\", \"run_id\": \"AutoML_690cf95e-ea6f-40dc-b297-5261ea2009ed\", \"categories\": [0], \"series\": [{\"data\": [0.6707844424548772]}]}, {\"name\": \"average_precision_score_macro\", \"run_id\": \"AutoML_690cf95e-ea6f-40dc-b297-5261ea2009ed\", \"categories\": [0], \"series\": [{\"data\": [0.7255510660155645]}]}, {\"name\": \"log_loss\", \"run_id\": \"AutoML_690cf95e-ea6f-40dc-b297-5261ea2009ed\", \"categories\": [0], \"series\": [{\"data\": [0.6017872784082372]}]}, {\"name\": \"matthews_correlation\", \"run_id\": \"AutoML_690cf95e-ea6f-40dc-b297-5261ea2009ed\", \"categories\": [0], \"series\": [{\"data\": [0.3442168227031201]}]}, {\"name\": \"average_precision_score_weighted\", \"run_id\": \"AutoML_690cf95e-ea6f-40dc-b297-5261ea2009ed\", \"categories\": [0], \"series\": [{\"data\": [0.72765665441517]}]}, {\"name\": \"average_precision_score_micro\", \"run_id\": \"AutoML_690cf95e-ea6f-40dc-b297-5261ea2009ed\", \"categories\": [0], \"series\": [{\"data\": [0.7297984381846834]}]}, {\"name\": \"f1_score_macro\", \"run_id\": \"AutoML_690cf95e-ea6f-40dc-b297-5261ea2009ed\", \"categories\": [0], \"series\": [{\"data\": [0.671173660124625]}]}, {\"name\": \"AUC_macro\", \"run_id\": \"AutoML_690cf95e-ea6f-40dc-b297-5261ea2009ed\", \"categories\": [0], \"series\": [{\"data\": [0.7345171260890029]}]}, {\"name\": \"precision_score_weighted\", \"run_id\": \"AutoML_690cf95e-ea6f-40dc-b297-5261ea2009ed\", \"categories\": [0], \"series\": [{\"data\": [0.6741156063021823]}]}, {\"name\": \"norm_macro_recall\", \"run_id\": \"AutoML_690cf95e-ea6f-40dc-b297-5261ea2009ed\", \"categories\": [0], \"series\": [{\"data\": [0.3415688849097545]}]}, {\"name\": \"precision_score_micro\", \"run_id\": \"AutoML_690cf95e-ea6f-40dc-b297-5261ea2009ed\", \"categories\": [0], \"series\": [{\"data\": [0.6747595774869936]}]}, {\"name\": \"recall_score_weighted\", \"run_id\": \"AutoML_690cf95e-ea6f-40dc-b297-5261ea2009ed\", \"categories\": [0], \"series\": [{\"data\": [0.6747595774869936]}]}, {\"name\": \"f1_score_micro\", \"run_id\": \"AutoML_690cf95e-ea6f-40dc-b297-5261ea2009ed\", \"categories\": [0], \"series\": [{\"data\": [0.6747595774869936]}]}, {\"name\": \"accuracy\", \"run_id\": \"AutoML_690cf95e-ea6f-40dc-b297-5261ea2009ed\", \"categories\": [0], \"series\": [{\"data\": [0.6747595774869936]}]}, {\"name\": \"precision_score_macro\", \"run_id\": \"AutoML_690cf95e-ea6f-40dc-b297-5261ea2009ed\", \"categories\": [0], \"series\": [{\"data\": [0.6734429713250007]}]}, {\"name\": \"AUC_weighted\", \"run_id\": \"AutoML_690cf95e-ea6f-40dc-b297-5261ea2009ed\", \"categories\": [0], \"series\": [{\"data\": [0.7345171260890029]}]}, {\"name\": \"AUC_micro\", \"run_id\": \"AutoML_690cf95e-ea6f-40dc-b297-5261ea2009ed\", \"categories\": [0], \"series\": [{\"data\": [0.7364665233322485]}]}, {\"name\": \"weighted_accuracy\", \"run_id\": \"AutoML_690cf95e-ea6f-40dc-b297-5261ea2009ed\", \"categories\": [0], \"series\": [{\"data\": [0.6786956145476052]}]}, {\"name\": \"recall_score_macro\", \"run_id\": \"AutoML_690cf95e-ea6f-40dc-b297-5261ea2009ed\", \"categories\": [0], \"series\": [{\"data\": [0.6707844424548772]}]}, {\"name\": \"recall_score_micro\", \"run_id\": \"AutoML_690cf95e-ea6f-40dc-b297-5261ea2009ed\", \"categories\": [0], \"series\": [{\"data\": [0.6747595774869936]}]}, {\"name\": \"f1_score_weighted\", \"run_id\": \"AutoML_690cf95e-ea6f-40dc-b297-5261ea2009ed\", \"categories\": [0], \"series\": [{\"data\": [0.6735074409036265]}]}], \"run_logs\": \"\\nRun is completed.\", \"graph\": {}, \"widget_settings\": {\"childWidgetDisplay\": \"popup\", \"send_telemetry\": false, \"log_level\": \"INFO\", \"sdk_version\": \"1.23.0\"}, \"loading\": false}"
     },
     "metadata": {},
     "output_type": "display_data"
    },
    {
     "name": "stdout",
     "output_type": "stream",
     "text": [
      "\n",
      "\n",
      "****************************************************************************************************\n",
      "DATA GUARDRAILS: \n",
      "\n",
      "TYPE:         Class balancing detection\n",
      "STATUS:       PASSED\n",
      "DESCRIPTION:  Your inputs were analyzed, and all classes are balanced in your training data.\n",
      "              Learn more about imbalanced data: https://aka.ms/AutomatedMLImbalancedData\n",
      "\n",
      "****************************************************************************************************\n",
      "\n",
      "TYPE:         Missing feature values imputation\n",
      "STATUS:       PASSED\n",
      "DESCRIPTION:  No feature missing values were detected in the training data.\n",
      "              Learn more about missing value imputation: https://aka.ms/AutomatedMLFeaturization\n",
      "\n",
      "****************************************************************************************************\n",
      "\n",
      "TYPE:         High cardinality feature detection\n",
      "STATUS:       PASSED\n",
      "DESCRIPTION:  Your inputs were analyzed, and no high cardinality features were detected.\n",
      "              Learn more about high cardinality feature handling: https://aka.ms/AutomatedMLFeaturization\n",
      "\n",
      "****************************************************************************************************\n",
      "\n",
      "****************************************************************************************************\n",
      "ITERATION: The iteration being evaluated.\n",
      "PIPELINE: A summary description of the pipeline being evaluated.\n",
      "DURATION: Time taken for the current iteration.\n",
      "METRIC: The result of computing score on the fitted pipeline.\n",
      "BEST: The best observed score thus far.\n",
      "****************************************************************************************************\n",
      "\n",
      " ITERATION   PIPELINE                                       DURATION      METRIC      BEST\n",
      "         0   MaxAbsScaler LightGBM                          0:00:51       0.6706    0.6706\n",
      "         1   MaxAbsScaler XGBoostClassifier                 0:01:00       0.6642    0.6706\n",
      "         2   MinMaxScaler RandomForest                      0:01:59       0.6439    0.6706\n",
      "         3   MinMaxScaler RandomForest                      0:00:45       0.6354    0.6706\n",
      "         4   MinMaxScaler RandomForest                      0:00:51       0.6526    0.6706\n",
      "         5   SparseNormalizer XGBoostClassifier             0:01:02       0.6631    0.6706\n",
      "         6   StandardScalerWrapper XGBoostClassifier        0:01:50       0.6600    0.6706\n",
      "         7   StandardScalerWrapper XGBoostClassifier        0:00:57       0.6525    0.6706\n",
      "         8   StandardScalerWrapper XGBoostClassifier        0:02:05       0.6614    0.6706\n",
      "        10   MaxAbsScaler LogisticRegression                0:01:06       0.6468    0.6706\n",
      "        11   SparseNormalizer XGBoostClassifier             0:00:58       0.6677    0.6706\n",
      "        12   MaxAbsScaler LightGBM                          0:00:47       0.6513    0.6706\n",
      "        13   SparseNormalizer LightGBM                      0:00:57       0.6464    0.6706\n",
      "        14   SparseNormalizer XGBoostClassifier             0:01:12       0.6684    0.6706\n",
      "        15   StandardScalerWrapper RandomForest             0:01:03       0.6473    0.6706\n",
      "        16   StandardScalerWrapper XGBoostClassifier        0:00:49       0.6601    0.6706\n",
      "        17   SparseNormalizer XGBoostClassifier             0:00:45       0.6312    0.6706\n",
      "         9   MaxAbsScaler ExtremeRandomTrees                0:00:59       0.6424    0.6706\n",
      "        18   SparseNormalizer LightGBM                      0:00:54       0.6687    0.6706\n",
      "        19   MaxAbsScaler GradientBoosting                  0:00:53       0.6516    0.6706\n",
      "        20   SparseNormalizer XGBoostClassifier             0:01:29       0.6642    0.6706\n",
      "        21   SparseNormalizer LightGBM                      0:00:49       0.6481    0.6706\n",
      "        22   SparseNormalizer XGBoostClassifier             0:00:58       0.6585    0.6706\n",
      "        23   RobustScaler LightGBM                          0:00:57       0.6660    0.6706\n",
      "        24   MinMaxScaler LogisticRegression                0:00:57       0.6460    0.6706\n",
      "        25   RobustScaler LightGBM                          0:00:46       0.5768    0.6706\n",
      "        26   MinMaxScaler LightGBM                          0:00:52       0.6703    0.6706\n",
      "        27   MaxAbsScaler RandomForest                      0:00:55       0.6433    0.6706\n",
      "        28   StandardScalerWrapper ExtremeRandomTrees       0:00:58       0.6370    0.6706\n",
      "        29   SparseNormalizer XGBoostClassifier             0:00:57       0.6629    0.6706\n",
      "        30   SparseNormalizer LightGBM                      0:00:46       0.5336    0.6706\n",
      "        31   MaxAbsScaler ExtremeRandomTrees                0:01:05       0.6409    0.6706\n",
      "        32   StandardScalerWrapper ExtremeRandomTrees       0:00:54       0.6394    0.6706\n",
      "        33   SparseNormalizer XGBoostClassifier             0:01:16       0.6570    0.6706\n",
      "        34   StandardScalerWrapper GradientBoosting         0:00:54       0.6294    0.6706\n",
      "        35   RobustScaler LightGBM                          0:00:48       0.5336    0.6706\n",
      "        36   SparseNormalizer XGBoostClassifier             0:01:27       0.6638    0.6706\n",
      "        37   SparseNormalizer RandomForest                  0:01:06       0.6471    0.6706\n",
      "        38   SparseNormalizer XGBoostClassifier             0:00:58       0.6656    0.6706\n",
      "        39   StandardScalerWrapper LightGBM                 0:00:50       0.6419    0.6706\n",
      "        40                                                  0:02:09          nan    0.6706\n",
      "        41                                                  0:01:55          nan    0.6706\n",
      "        42                                                  0:01:30          nan    0.6706\n",
      "        43                                                  0:01:14          nan    0.6706\n",
      "        44                                                  0:01:05          nan    0.6706\n",
      "        45                                                  0:00:16          nan    0.6706\n",
      "        46    VotingEnsemble                                0:01:25       0.6748    0.6748\n",
      "        47    StackEnsemble                                 0:01:35       0.6736    0.6748\n"
     ]
    },
    {
     "data": {
      "text/plain": [
       "{'runId': 'AutoML_690cf95e-ea6f-40dc-b297-5261ea2009ed',\n",
       " 'target': 'cpu-cluster',\n",
       " 'status': 'Completed',\n",
       " 'startTimeUtc': '2021-04-11T12:39:14.341114Z',\n",
       " 'endTimeUtc': '2021-04-11T12:59:50.012852Z',\n",
       " 'properties': {'num_iterations': '1000',\n",
       "  'training_type': 'TrainFull',\n",
       "  'acquisition_function': 'EI',\n",
       "  'primary_metric': 'accuracy',\n",
       "  'train_split': '0',\n",
       "  'acquisition_parameter': '0',\n",
       "  'num_cross_validation': '5',\n",
       "  'target': 'cpu-cluster',\n",
       "  'AMLSettingsJsonString': '{\"path\":null,\"name\":\"Udacity_capstone_AutoML\",\"subscription_id\":\"81cefad3-d2c9-4f77-a466-99a7f541c7bb\",\"resource_group\":\"aml-quickstarts-142415\",\"workspace_name\":\"quick-starts-ws-142415\",\"region\":\"southcentralus\",\"compute_target\":\"cpu-cluster\",\"spark_service\":null,\"azure_service\":\"remote\",\"many_models\":false,\"pipeline_fetch_max_batch_size\":1,\"iterations\":1000,\"primary_metric\":\"accuracy\",\"task_type\":\"classification\",\"data_script\":null,\"validation_size\":0.0,\"n_cross_validations\":5,\"y_min\":null,\"y_max\":null,\"num_classes\":null,\"featurization\":\"auto\",\"_ignore_package_version_incompatibilities\":false,\"is_timeseries\":false,\"max_cores_per_iteration\":-1,\"max_concurrent_iterations\":9,\"iteration_timeout_minutes\":null,\"mem_in_mb\":null,\"enforce_time_on_windows\":false,\"experiment_timeout_minutes\":60,\"experiment_exit_score\":null,\"whitelist_models\":null,\"blacklist_algos\":[\"TensorFlowLinearClassifier\",\"TensorFlowDNN\"],\"supported_models\":[\"AveragedPerceptronClassifier\",\"BernoulliNaiveBayes\",\"LinearSVM\",\"LogisticRegression\",\"XGBoostClassifier\",\"TensorFlowDNN\",\"RandomForest\",\"TensorFlowLinearClassifier\",\"LightGBM\",\"ExtremeRandomTrees\",\"KNN\",\"SGD\",\"DecisionTree\",\"SVM\",\"GradientBoosting\",\"MultinomialNaiveBayes\"],\"private_models\":[],\"auto_blacklist\":true,\"blacklist_samples_reached\":false,\"exclude_nan_labels\":true,\"verbosity\":20,\"_debug_log\":\"azureml_automl.log\",\"show_warnings\":false,\"model_explainability\":true,\"service_url\":null,\"sdk_url\":null,\"sdk_packages\":null,\"enable_onnx_compatible_models\":false,\"enable_split_onnx_featurizer_estimator_models\":false,\"vm_type\":\"STANDARD_DS12_V2\",\"telemetry_verbosity\":20,\"send_telemetry\":true,\"enable_dnn\":false,\"scenario\":\"SDK-1.13.0\",\"environment_label\":null,\"force_text_dnn\":false,\"enable_feature_sweeping\":true,\"enable_early_stopping\":true,\"early_stopping_n_iters\":10,\"metrics\":null,\"enable_ensembling\":true,\"enable_stack_ensembling\":true,\"ensemble_iterations\":15,\"enable_tf\":false,\"enable_subsampling\":null,\"subsample_seed\":null,\"enable_nimbusml\":false,\"enable_streaming\":false,\"force_streaming\":false,\"track_child_runs\":true,\"allowed_private_models\":[],\"label_column_name\":\"label\",\"weight_column_name\":null,\"cv_split_column_names\":null,\"enable_local_managed\":false,\"_local_managed_run_id\":null,\"cost_mode\":1,\"lag_length\":0,\"metric_operation\":\"maximize\",\"preprocess\":true}',\n",
       "  'DataPrepJsonString': '{\\\\\"training_data\\\\\": \\\\\"{\\\\\\\\\\\\\"blocks\\\\\\\\\\\\\": [{\\\\\\\\\\\\\"id\\\\\\\\\\\\\": \\\\\\\\\\\\\"5314e080-abe3-4da7-acf1-c105bcd56e1e\\\\\\\\\\\\\", \\\\\\\\\\\\\"type\\\\\\\\\\\\\": \\\\\\\\\\\\\"Microsoft.DPrep.GetDatastoreFilesBlock\\\\\\\\\\\\\", \\\\\\\\\\\\\"arguments\\\\\\\\\\\\\": {\\\\\\\\\\\\\"datastores\\\\\\\\\\\\\": [{\\\\\\\\\\\\\"datastoreName\\\\\\\\\\\\\": \\\\\\\\\\\\\"workspaceblobstore\\\\\\\\\\\\\", \\\\\\\\\\\\\"path\\\\\\\\\\\\\": \\\\\\\\\\\\\"data/train_data.csv\\\\\\\\\\\\\", \\\\\\\\\\\\\"resourceGroup\\\\\\\\\\\\\": \\\\\\\\\\\\\"aml-quickstarts-142415\\\\\\\\\\\\\", \\\\\\\\\\\\\"subscription\\\\\\\\\\\\\": \\\\\\\\\\\\\"81cefad3-d2c9-4f77-a466-99a7f541c7bb\\\\\\\\\\\\\", \\\\\\\\\\\\\"workspaceName\\\\\\\\\\\\\": \\\\\\\\\\\\\"quick-starts-ws-142415\\\\\\\\\\\\\"}]}, \\\\\\\\\\\\\"localData\\\\\\\\\\\\\": {}, \\\\\\\\\\\\\"isEnabled\\\\\\\\\\\\\": true, \\\\\\\\\\\\\"name\\\\\\\\\\\\\": null, \\\\\\\\\\\\\"annotation\\\\\\\\\\\\\": null}, {\\\\\\\\\\\\\"id\\\\\\\\\\\\\": \\\\\\\\\\\\\"c1e21876-5eb0-4b69-8b6a-5993e7dacd7a\\\\\\\\\\\\\", \\\\\\\\\\\\\"type\\\\\\\\\\\\\": \\\\\\\\\\\\\"Microsoft.DPrep.ParseDelimitedBlock\\\\\\\\\\\\\", \\\\\\\\\\\\\"arguments\\\\\\\\\\\\\": {\\\\\\\\\\\\\"columnHeadersMode\\\\\\\\\\\\\": 3, \\\\\\\\\\\\\"fileEncoding\\\\\\\\\\\\\": 0, \\\\\\\\\\\\\"handleQuotedLineBreaks\\\\\\\\\\\\\": false, \\\\\\\\\\\\\"preview\\\\\\\\\\\\\": false, \\\\\\\\\\\\\"separator\\\\\\\\\\\\\": \\\\\\\\\\\\\",\\\\\\\\\\\\\", \\\\\\\\\\\\\"skipRows\\\\\\\\\\\\\": 0, \\\\\\\\\\\\\"skipRowsMode\\\\\\\\\\\\\": 0}, \\\\\\\\\\\\\"localData\\\\\\\\\\\\\": {}, \\\\\\\\\\\\\"isEnabled\\\\\\\\\\\\\": true, \\\\\\\\\\\\\"name\\\\\\\\\\\\\": null, \\\\\\\\\\\\\"annotation\\\\\\\\\\\\\": null}, {\\\\\\\\\\\\\"id\\\\\\\\\\\\\": \\\\\\\\\\\\\"c4cda628-c6fd-4d0c-8ae3-448ba2bb9c38\\\\\\\\\\\\\", \\\\\\\\\\\\\"type\\\\\\\\\\\\\": \\\\\\\\\\\\\"Microsoft.DPrep.DropColumnsBlock\\\\\\\\\\\\\", \\\\\\\\\\\\\"arguments\\\\\\\\\\\\\": {\\\\\\\\\\\\\"columns\\\\\\\\\\\\\": {\\\\\\\\\\\\\"type\\\\\\\\\\\\\": 0, \\\\\\\\\\\\\"details\\\\\\\\\\\\\": {\\\\\\\\\\\\\"selectedColumns\\\\\\\\\\\\\": [\\\\\\\\\\\\\"Path\\\\\\\\\\\\\"]}}}, \\\\\\\\\\\\\"localData\\\\\\\\\\\\\": {}, \\\\\\\\\\\\\"isEnabled\\\\\\\\\\\\\": true, \\\\\\\\\\\\\"name\\\\\\\\\\\\\": null, \\\\\\\\\\\\\"annotation\\\\\\\\\\\\\": null}, {\\\\\\\\\\\\\"id\\\\\\\\\\\\\": \\\\\\\\\\\\\"e8704fcd-d8cf-4712-bde6-f01a5c1775a4\\\\\\\\\\\\\", \\\\\\\\\\\\\"type\\\\\\\\\\\\\": \\\\\\\\\\\\\"Microsoft.DPrep.SetColumnTypesBlock\\\\\\\\\\\\\", \\\\\\\\\\\\\"arguments\\\\\\\\\\\\\": {\\\\\\\\\\\\\"columnConversion\\\\\\\\\\\\\": [{\\\\\\\\\\\\\"column\\\\\\\\\\\\\": {\\\\\\\\\\\\\"type\\\\\\\\\\\\\": 2, \\\\\\\\\\\\\"details\\\\\\\\\\\\\": {\\\\\\\\\\\\\"selectedColumn\\\\\\\\\\\\\": \\\\\\\\\\\\\"n_tokens_title\\\\\\\\\\\\\"}}, \\\\\\\\\\\\\"typeProperty\\\\\\\\\\\\\": 3}, {\\\\\\\\\\\\\"column\\\\\\\\\\\\\": {\\\\\\\\\\\\\"type\\\\\\\\\\\\\": 2, \\\\\\\\\\\\\"details\\\\\\\\\\\\\": {\\\\\\\\\\\\\"selectedColumn\\\\\\\\\\\\\": \\\\\\\\\\\\\"n_tokens_content\\\\\\\\\\\\\"}}, \\\\\\\\\\\\\"typeProperty\\\\\\\\\\\\\": 3}, {\\\\\\\\\\\\\"column\\\\\\\\\\\\\": {\\\\\\\\\\\\\"type\\\\\\\\\\\\\": 2, \\\\\\\\\\\\\"details\\\\\\\\\\\\\": {\\\\\\\\\\\\\"selectedColumn\\\\\\\\\\\\\": \\\\\\\\\\\\\"n_unique_tokens\\\\\\\\\\\\\"}}, \\\\\\\\\\\\\"typeProperty\\\\\\\\\\\\\": 3}, {\\\\\\\\\\\\\"column\\\\\\\\\\\\\": {\\\\\\\\\\\\\"type\\\\\\\\\\\\\": 2, \\\\\\\\\\\\\"details\\\\\\\\\\\\\": {\\\\\\\\\\\\\"selectedColumn\\\\\\\\\\\\\": \\\\\\\\\\\\\"num_hrefs\\\\\\\\\\\\\"}}, \\\\\\\\\\\\\"typeProperty\\\\\\\\\\\\\": 3}, {\\\\\\\\\\\\\"column\\\\\\\\\\\\\": {\\\\\\\\\\\\\"type\\\\\\\\\\\\\": 2, \\\\\\\\\\\\\"details\\\\\\\\\\\\\": {\\\\\\\\\\\\\"selectedColumn\\\\\\\\\\\\\": \\\\\\\\\\\\\"num_self_hrefs\\\\\\\\\\\\\"}}, \\\\\\\\\\\\\"typeProperty\\\\\\\\\\\\\": 3}, {\\\\\\\\\\\\\"column\\\\\\\\\\\\\": {\\\\\\\\\\\\\"type\\\\\\\\\\\\\": 2, \\\\\\\\\\\\\"details\\\\\\\\\\\\\": {\\\\\\\\\\\\\"selectedColumn\\\\\\\\\\\\\": \\\\\\\\\\\\\"num_imgs\\\\\\\\\\\\\"}}, \\\\\\\\\\\\\"typeProperty\\\\\\\\\\\\\": 3}, {\\\\\\\\\\\\\"column\\\\\\\\\\\\\": {\\\\\\\\\\\\\"type\\\\\\\\\\\\\": 2, \\\\\\\\\\\\\"details\\\\\\\\\\\\\": {\\\\\\\\\\\\\"selectedColumn\\\\\\\\\\\\\": \\\\\\\\\\\\\"num_videos\\\\\\\\\\\\\"}}, \\\\\\\\\\\\\"typeProperty\\\\\\\\\\\\\": 3}, {\\\\\\\\\\\\\"column\\\\\\\\\\\\\": {\\\\\\\\\\\\\"type\\\\\\\\\\\\\": 2, \\\\\\\\\\\\\"details\\\\\\\\\\\\\": {\\\\\\\\\\\\\"selectedColumn\\\\\\\\\\\\\": \\\\\\\\\\\\\"average_token_length\\\\\\\\\\\\\"}}, \\\\\\\\\\\\\"typeProperty\\\\\\\\\\\\\": 3}, {\\\\\\\\\\\\\"column\\\\\\\\\\\\\": {\\\\\\\\\\\\\"type\\\\\\\\\\\\\": 2, \\\\\\\\\\\\\"details\\\\\\\\\\\\\": {\\\\\\\\\\\\\"selectedColumn\\\\\\\\\\\\\": \\\\\\\\\\\\\"num_keywords\\\\\\\\\\\\\"}}, \\\\\\\\\\\\\"typeProperty\\\\\\\\\\\\\": 3}, {\\\\\\\\\\\\\"column\\\\\\\\\\\\\": {\\\\\\\\\\\\\"type\\\\\\\\\\\\\": 2, \\\\\\\\\\\\\"details\\\\\\\\\\\\\": {\\\\\\\\\\\\\"selectedColumn\\\\\\\\\\\\\": \\\\\\\\\\\\\"data_channel_is_entertainment\\\\\\\\\\\\\"}}, \\\\\\\\\\\\\"typeProperty\\\\\\\\\\\\\": 2}, {\\\\\\\\\\\\\"column\\\\\\\\\\\\\": {\\\\\\\\\\\\\"type\\\\\\\\\\\\\": 2, \\\\\\\\\\\\\"details\\\\\\\\\\\\\": {\\\\\\\\\\\\\"selectedColumn\\\\\\\\\\\\\": \\\\\\\\\\\\\"data_channel_is_bus\\\\\\\\\\\\\"}}, \\\\\\\\\\\\\"typeProperty\\\\\\\\\\\\\": 2}, {\\\\\\\\\\\\\"column\\\\\\\\\\\\\": {\\\\\\\\\\\\\"type\\\\\\\\\\\\\": 2, \\\\\\\\\\\\\"details\\\\\\\\\\\\\": {\\\\\\\\\\\\\"selectedColumn\\\\\\\\\\\\\": \\\\\\\\\\\\\"data_channel_is_socmed\\\\\\\\\\\\\"}}, \\\\\\\\\\\\\"typeProperty\\\\\\\\\\\\\": 2}, {\\\\\\\\\\\\\"column\\\\\\\\\\\\\": {\\\\\\\\\\\\\"type\\\\\\\\\\\\\": 2, \\\\\\\\\\\\\"details\\\\\\\\\\\\\": {\\\\\\\\\\\\\"selectedColumn\\\\\\\\\\\\\": \\\\\\\\\\\\\"data_channel_is_tech\\\\\\\\\\\\\"}}, \\\\\\\\\\\\\"typeProperty\\\\\\\\\\\\\": 2}, {\\\\\\\\\\\\\"column\\\\\\\\\\\\\": {\\\\\\\\\\\\\"type\\\\\\\\\\\\\": 2, \\\\\\\\\\\\\"details\\\\\\\\\\\\\": {\\\\\\\\\\\\\"selectedColumn\\\\\\\\\\\\\": \\\\\\\\\\\\\"data_channel_is_world\\\\\\\\\\\\\"}}, \\\\\\\\\\\\\"typeProperty\\\\\\\\\\\\\": 2}, {\\\\\\\\\\\\\"column\\\\\\\\\\\\\": {\\\\\\\\\\\\\"type\\\\\\\\\\\\\": 2, \\\\\\\\\\\\\"details\\\\\\\\\\\\\": {\\\\\\\\\\\\\"selectedColumn\\\\\\\\\\\\\": \\\\\\\\\\\\\"kw_min_min\\\\\\\\\\\\\"}}, \\\\\\\\\\\\\"typeProperty\\\\\\\\\\\\\": 3}, {\\\\\\\\\\\\\"column\\\\\\\\\\\\\": {\\\\\\\\\\\\\"type\\\\\\\\\\\\\": 2, \\\\\\\\\\\\\"details\\\\\\\\\\\\\": {\\\\\\\\\\\\\"selectedColumn\\\\\\\\\\\\\": \\\\\\\\\\\\\"kw_max_min\\\\\\\\\\\\\"}}, \\\\\\\\\\\\\"typeProperty\\\\\\\\\\\\\": 3}, {\\\\\\\\\\\\\"column\\\\\\\\\\\\\": {\\\\\\\\\\\\\"type\\\\\\\\\\\\\": 2, \\\\\\\\\\\\\"details\\\\\\\\\\\\\": {\\\\\\\\\\\\\"selectedColumn\\\\\\\\\\\\\": \\\\\\\\\\\\\"kw_min_max\\\\\\\\\\\\\"}}, \\\\\\\\\\\\\"typeProperty\\\\\\\\\\\\\": 3}, {\\\\\\\\\\\\\"column\\\\\\\\\\\\\": {\\\\\\\\\\\\\"type\\\\\\\\\\\\\": 2, \\\\\\\\\\\\\"details\\\\\\\\\\\\\": {\\\\\\\\\\\\\"selectedColumn\\\\\\\\\\\\\": \\\\\\\\\\\\\"kw_avg_max\\\\\\\\\\\\\"}}, \\\\\\\\\\\\\"typeProperty\\\\\\\\\\\\\": 3}, {\\\\\\\\\\\\\"column\\\\\\\\\\\\\": {\\\\\\\\\\\\\"type\\\\\\\\\\\\\": 2, \\\\\\\\\\\\\"details\\\\\\\\\\\\\": {\\\\\\\\\\\\\"selectedColumn\\\\\\\\\\\\\": \\\\\\\\\\\\\"kw_min_avg\\\\\\\\\\\\\"}}, \\\\\\\\\\\\\"typeProperty\\\\\\\\\\\\\": 3}, {\\\\\\\\\\\\\"column\\\\\\\\\\\\\": {\\\\\\\\\\\\\"type\\\\\\\\\\\\\": 2, \\\\\\\\\\\\\"details\\\\\\\\\\\\\": {\\\\\\\\\\\\\"selectedColumn\\\\\\\\\\\\\": \\\\\\\\\\\\\"kw_max_avg\\\\\\\\\\\\\"}}, \\\\\\\\\\\\\"typeProperty\\\\\\\\\\\\\": 3}, {\\\\\\\\\\\\\"column\\\\\\\\\\\\\": {\\\\\\\\\\\\\"type\\\\\\\\\\\\\": 2, \\\\\\\\\\\\\"details\\\\\\\\\\\\\": {\\\\\\\\\\\\\"selectedColumn\\\\\\\\\\\\\": \\\\\\\\\\\\\"kw_avg_avg\\\\\\\\\\\\\"}}, \\\\\\\\\\\\\"typeProperty\\\\\\\\\\\\\": 3}, {\\\\\\\\\\\\\"column\\\\\\\\\\\\\": {\\\\\\\\\\\\\"type\\\\\\\\\\\\\": 2, \\\\\\\\\\\\\"details\\\\\\\\\\\\\": {\\\\\\\\\\\\\"selectedColumn\\\\\\\\\\\\\": \\\\\\\\\\\\\"self_reference_min_shares\\\\\\\\\\\\\"}}, \\\\\\\\\\\\\"typeProperty\\\\\\\\\\\\\": 3}, {\\\\\\\\\\\\\"column\\\\\\\\\\\\\": {\\\\\\\\\\\\\"type\\\\\\\\\\\\\": 2, \\\\\\\\\\\\\"details\\\\\\\\\\\\\": {\\\\\\\\\\\\\"selectedColumn\\\\\\\\\\\\\": \\\\\\\\\\\\\"self_reference_max_shares\\\\\\\\\\\\\"}}, \\\\\\\\\\\\\"typeProperty\\\\\\\\\\\\\": 3}, {\\\\\\\\\\\\\"column\\\\\\\\\\\\\": {\\\\\\\\\\\\\"type\\\\\\\\\\\\\": 2, \\\\\\\\\\\\\"details\\\\\\\\\\\\\": {\\\\\\\\\\\\\"selectedColumn\\\\\\\\\\\\\": \\\\\\\\\\\\\"weekday_is_wednesday\\\\\\\\\\\\\"}}, \\\\\\\\\\\\\"typeProperty\\\\\\\\\\\\\": 2}, {\\\\\\\\\\\\\"column\\\\\\\\\\\\\": {\\\\\\\\\\\\\"type\\\\\\\\\\\\\": 2, \\\\\\\\\\\\\"details\\\\\\\\\\\\\": {\\\\\\\\\\\\\"selectedColumn\\\\\\\\\\\\\": \\\\\\\\\\\\\"weekday_is_saturday\\\\\\\\\\\\\"}}, \\\\\\\\\\\\\"typeProperty\\\\\\\\\\\\\": 2}, {\\\\\\\\\\\\\"column\\\\\\\\\\\\\": {\\\\\\\\\\\\\"type\\\\\\\\\\\\\": 2, \\\\\\\\\\\\\"details\\\\\\\\\\\\\": {\\\\\\\\\\\\\"selectedColumn\\\\\\\\\\\\\": \\\\\\\\\\\\\"weekday_is_sunday\\\\\\\\\\\\\"}}, \\\\\\\\\\\\\"typeProperty\\\\\\\\\\\\\": 2}, {\\\\\\\\\\\\\"column\\\\\\\\\\\\\": {\\\\\\\\\\\\\"type\\\\\\\\\\\\\": 2, \\\\\\\\\\\\\"details\\\\\\\\\\\\\": {\\\\\\\\\\\\\"selectedColumn\\\\\\\\\\\\\": \\\\\\\\\\\\\"is_weekend\\\\\\\\\\\\\"}}, \\\\\\\\\\\\\"typeProperty\\\\\\\\\\\\\": 2}, {\\\\\\\\\\\\\"column\\\\\\\\\\\\\": {\\\\\\\\\\\\\"type\\\\\\\\\\\\\": 2, \\\\\\\\\\\\\"details\\\\\\\\\\\\\": {\\\\\\\\\\\\\"selectedColumn\\\\\\\\\\\\\": \\\\\\\\\\\\\"LDA_00\\\\\\\\\\\\\"}}, \\\\\\\\\\\\\"typeProperty\\\\\\\\\\\\\": 3}, {\\\\\\\\\\\\\"column\\\\\\\\\\\\\": {\\\\\\\\\\\\\"type\\\\\\\\\\\\\": 2, \\\\\\\\\\\\\"details\\\\\\\\\\\\\": {\\\\\\\\\\\\\"selectedColumn\\\\\\\\\\\\\": \\\\\\\\\\\\\"LDA_01\\\\\\\\\\\\\"}}, \\\\\\\\\\\\\"typeProperty\\\\\\\\\\\\\": 3}, {\\\\\\\\\\\\\"column\\\\\\\\\\\\\": {\\\\\\\\\\\\\"type\\\\\\\\\\\\\": 2, \\\\\\\\\\\\\"details\\\\\\\\\\\\\": {\\\\\\\\\\\\\"selectedColumn\\\\\\\\\\\\\": \\\\\\\\\\\\\"LDA_02\\\\\\\\\\\\\"}}, \\\\\\\\\\\\\"typeProperty\\\\\\\\\\\\\": 3}, {\\\\\\\\\\\\\"column\\\\\\\\\\\\\": {\\\\\\\\\\\\\"type\\\\\\\\\\\\\": 2, \\\\\\\\\\\\\"details\\\\\\\\\\\\\": {\\\\\\\\\\\\\"selectedColumn\\\\\\\\\\\\\": \\\\\\\\\\\\\"LDA_03\\\\\\\\\\\\\"}}, \\\\\\\\\\\\\"typeProperty\\\\\\\\\\\\\": 3}, {\\\\\\\\\\\\\"column\\\\\\\\\\\\\": {\\\\\\\\\\\\\"type\\\\\\\\\\\\\": 2, \\\\\\\\\\\\\"details\\\\\\\\\\\\\": {\\\\\\\\\\\\\"selectedColumn\\\\\\\\\\\\\": \\\\\\\\\\\\\"LDA_04\\\\\\\\\\\\\"}}, \\\\\\\\\\\\\"typeProperty\\\\\\\\\\\\\": 3}, {\\\\\\\\\\\\\"column\\\\\\\\\\\\\": {\\\\\\\\\\\\\"type\\\\\\\\\\\\\": 2, \\\\\\\\\\\\\"details\\\\\\\\\\\\\": {\\\\\\\\\\\\\"selectedColumn\\\\\\\\\\\\\": \\\\\\\\\\\\\"global_subjectivity\\\\\\\\\\\\\"}}, \\\\\\\\\\\\\"typeProperty\\\\\\\\\\\\\": 3}, {\\\\\\\\\\\\\"column\\\\\\\\\\\\\": {\\\\\\\\\\\\\"type\\\\\\\\\\\\\": 2, \\\\\\\\\\\\\"details\\\\\\\\\\\\\": {\\\\\\\\\\\\\"selectedColumn\\\\\\\\\\\\\": \\\\\\\\\\\\\"global_sentiment_polarity\\\\\\\\\\\\\"}}, \\\\\\\\\\\\\"typeProperty\\\\\\\\\\\\\": 3}, {\\\\\\\\\\\\\"column\\\\\\\\\\\\\": {\\\\\\\\\\\\\"type\\\\\\\\\\\\\": 2, \\\\\\\\\\\\\"details\\\\\\\\\\\\\": {\\\\\\\\\\\\\"selectedColumn\\\\\\\\\\\\\": \\\\\\\\\\\\\"global_rate_positive_words\\\\\\\\\\\\\"}}, \\\\\\\\\\\\\"typeProperty\\\\\\\\\\\\\": 3}, {\\\\\\\\\\\\\"column\\\\\\\\\\\\\": {\\\\\\\\\\\\\"type\\\\\\\\\\\\\": 2, \\\\\\\\\\\\\"details\\\\\\\\\\\\\": {\\\\\\\\\\\\\"selectedColumn\\\\\\\\\\\\\": \\\\\\\\\\\\\"global_rate_negative_words\\\\\\\\\\\\\"}}, \\\\\\\\\\\\\"typeProperty\\\\\\\\\\\\\": 3}, {\\\\\\\\\\\\\"column\\\\\\\\\\\\\": {\\\\\\\\\\\\\"type\\\\\\\\\\\\\": 2, \\\\\\\\\\\\\"details\\\\\\\\\\\\\": {\\\\\\\\\\\\\"selectedColumn\\\\\\\\\\\\\": \\\\\\\\\\\\\"rate_positive_words\\\\\\\\\\\\\"}}, \\\\\\\\\\\\\"typeProperty\\\\\\\\\\\\\": 3}, {\\\\\\\\\\\\\"column\\\\\\\\\\\\\": {\\\\\\\\\\\\\"type\\\\\\\\\\\\\": 2, \\\\\\\\\\\\\"details\\\\\\\\\\\\\": {\\\\\\\\\\\\\"selectedColumn\\\\\\\\\\\\\": \\\\\\\\\\\\\"rate_negative_words\\\\\\\\\\\\\"}}, \\\\\\\\\\\\\"typeProperty\\\\\\\\\\\\\": 3}, {\\\\\\\\\\\\\"column\\\\\\\\\\\\\": {\\\\\\\\\\\\\"type\\\\\\\\\\\\\": 2, \\\\\\\\\\\\\"details\\\\\\\\\\\\\": {\\\\\\\\\\\\\"selectedColumn\\\\\\\\\\\\\": \\\\\\\\\\\\\"avg_positive_polarity\\\\\\\\\\\\\"}}, \\\\\\\\\\\\\"typeProperty\\\\\\\\\\\\\": 3}, {\\\\\\\\\\\\\"column\\\\\\\\\\\\\": {\\\\\\\\\\\\\"type\\\\\\\\\\\\\": 2, \\\\\\\\\\\\\"details\\\\\\\\\\\\\": {\\\\\\\\\\\\\"selectedColumn\\\\\\\\\\\\\": \\\\\\\\\\\\\"min_positive_polarity\\\\\\\\\\\\\"}}, \\\\\\\\\\\\\"typeProperty\\\\\\\\\\\\\": 3}, {\\\\\\\\\\\\\"column\\\\\\\\\\\\\": {\\\\\\\\\\\\\"type\\\\\\\\\\\\\": 2, \\\\\\\\\\\\\"details\\\\\\\\\\\\\": {\\\\\\\\\\\\\"selectedColumn\\\\\\\\\\\\\": \\\\\\\\\\\\\"max_positive_polarity\\\\\\\\\\\\\"}}, \\\\\\\\\\\\\"typeProperty\\\\\\\\\\\\\": 3}, {\\\\\\\\\\\\\"column\\\\\\\\\\\\\": {\\\\\\\\\\\\\"type\\\\\\\\\\\\\": 2, \\\\\\\\\\\\\"details\\\\\\\\\\\\\": {\\\\\\\\\\\\\"selectedColumn\\\\\\\\\\\\\": \\\\\\\\\\\\\"avg_negative_polarity\\\\\\\\\\\\\"}}, \\\\\\\\\\\\\"typeProperty\\\\\\\\\\\\\": 3}, {\\\\\\\\\\\\\"column\\\\\\\\\\\\\": {\\\\\\\\\\\\\"type\\\\\\\\\\\\\": 2, \\\\\\\\\\\\\"details\\\\\\\\\\\\\": {\\\\\\\\\\\\\"selectedColumn\\\\\\\\\\\\\": \\\\\\\\\\\\\"min_negative_polarity\\\\\\\\\\\\\"}}, \\\\\\\\\\\\\"typeProperty\\\\\\\\\\\\\": 3}, {\\\\\\\\\\\\\"column\\\\\\\\\\\\\": {\\\\\\\\\\\\\"type\\\\\\\\\\\\\": 2, \\\\\\\\\\\\\"details\\\\\\\\\\\\\": {\\\\\\\\\\\\\"selectedColumn\\\\\\\\\\\\\": \\\\\\\\\\\\\"max_negative_polarity\\\\\\\\\\\\\"}}, \\\\\\\\\\\\\"typeProperty\\\\\\\\\\\\\": 3}, {\\\\\\\\\\\\\"column\\\\\\\\\\\\\": {\\\\\\\\\\\\\"type\\\\\\\\\\\\\": 2, \\\\\\\\\\\\\"details\\\\\\\\\\\\\": {\\\\\\\\\\\\\"selectedColumn\\\\\\\\\\\\\": \\\\\\\\\\\\\"title_subjectivity\\\\\\\\\\\\\"}}, \\\\\\\\\\\\\"typeProperty\\\\\\\\\\\\\": 3}, {\\\\\\\\\\\\\"column\\\\\\\\\\\\\": {\\\\\\\\\\\\\"type\\\\\\\\\\\\\": 2, \\\\\\\\\\\\\"details\\\\\\\\\\\\\": {\\\\\\\\\\\\\"selectedColumn\\\\\\\\\\\\\": \\\\\\\\\\\\\"title_sentiment_polarity\\\\\\\\\\\\\"}}, \\\\\\\\\\\\\"typeProperty\\\\\\\\\\\\\": 3}, {\\\\\\\\\\\\\"column\\\\\\\\\\\\\": {\\\\\\\\\\\\\"type\\\\\\\\\\\\\": 2, \\\\\\\\\\\\\"details\\\\\\\\\\\\\": {\\\\\\\\\\\\\"selectedColumn\\\\\\\\\\\\\": \\\\\\\\\\\\\"abs_title_sentiment_polarity\\\\\\\\\\\\\"}}, \\\\\\\\\\\\\"typeProperty\\\\\\\\\\\\\": 3}, {\\\\\\\\\\\\\"column\\\\\\\\\\\\\": {\\\\\\\\\\\\\"type\\\\\\\\\\\\\": 2, \\\\\\\\\\\\\"details\\\\\\\\\\\\\": {\\\\\\\\\\\\\"selectedColumn\\\\\\\\\\\\\": \\\\\\\\\\\\\"label\\\\\\\\\\\\\"}}, \\\\\\\\\\\\\"typeProperty\\\\\\\\\\\\\": 2}]}, \\\\\\\\\\\\\"localData\\\\\\\\\\\\\": {}, \\\\\\\\\\\\\"isEnabled\\\\\\\\\\\\\": true, \\\\\\\\\\\\\"name\\\\\\\\\\\\\": null, \\\\\\\\\\\\\"annotation\\\\\\\\\\\\\": null}], \\\\\\\\\\\\\"inspectors\\\\\\\\\\\\\": [], \\\\\\\\\\\\\"meta\\\\\\\\\\\\\": {\\\\\\\\\\\\\"savedDatasetId\\\\\\\\\\\\\": \\\\\\\\\\\\\"4a893a8e-32ea-4ec9-9849-2b44a15b59a3\\\\\\\\\\\\\", \\\\\\\\\\\\\"datasetType\\\\\\\\\\\\\": \\\\\\\\\\\\\"tabular\\\\\\\\\\\\\", \\\\\\\\\\\\\"subscriptionId\\\\\\\\\\\\\": \\\\\\\\\\\\\"81cefad3-d2c9-4f77-a466-99a7f541c7bb\\\\\\\\\\\\\", \\\\\\\\\\\\\"workspaceId\\\\\\\\\\\\\": \\\\\\\\\\\\\"e3f99bb8-a492-4d55-add2-2ab0bb5281ce\\\\\\\\\\\\\", \\\\\\\\\\\\\"workspaceLocation\\\\\\\\\\\\\": \\\\\\\\\\\\\"southcentralus\\\\\\\\\\\\\"}}\\\\\", \\\\\"activities\\\\\": 0}',\n",
       "  'EnableSubsampling': None,\n",
       "  'runTemplate': 'AutoML',\n",
       "  'azureml.runsource': 'automl',\n",
       "  'display_task_type': 'classification',\n",
       "  'dependencies_versions': '{\"azureml-widgets\": \"1.23.0\", \"azureml-train\": \"1.23.0\", \"azureml-train-restclients-hyperdrive\": \"1.23.0\", \"azureml-train-core\": \"1.23.0\", \"azureml-train-automl\": \"1.23.0\", \"azureml-train-automl-runtime\": \"1.23.0.post1\", \"azureml-train-automl-client\": \"1.23.0.post1\", \"azureml-telemetry\": \"1.23.0\", \"azureml-sdk\": \"1.23.0\", \"azureml-pipeline\": \"1.23.0\", \"azureml-pipeline-steps\": \"1.23.0\", \"azureml-pipeline-core\": \"1.23.0\", \"azureml-model-management-sdk\": \"1.0.1b6.post1\", \"azureml-interpret\": \"1.23.0\", \"azureml-defaults\": \"1.23.0\", \"azureml-dataset-runtime\": \"1.23.0\", \"azureml-dataprep\": \"2.10.1\", \"azureml-dataprep-rslex\": \"1.8.1\", \"azureml-dataprep-native\": \"30.0.0\", \"azureml-core\": \"1.23.0\", \"azureml-contrib-services\": \"1.23.0\", \"azureml-contrib-server\": \"1.23.0\", \"azureml-contrib-pipeline-steps\": \"1.23.0\", \"azureml-contrib-notebook\": \"1.23.0\", \"azureml-automl-runtime\": \"1.23.0\", \"azureml-automl-core\": \"1.23.0\"}',\n",
       "  '_aml_system_scenario_identification': 'Remote.Parent',\n",
       "  'ClientType': 'SDK',\n",
       "  'environment_cpu_name': 'AzureML-AutoML',\n",
       "  'environment_cpu_label': 'prod',\n",
       "  'environment_gpu_name': 'AzureML-AutoML-GPU',\n",
       "  'environment_gpu_label': 'prod',\n",
       "  'root_attribution': 'automl',\n",
       "  'attribution': 'AutoML',\n",
       "  'Orchestrator': 'AutoML',\n",
       "  'CancelUri': 'https://southcentralus.experiments.azureml.net/jasmine/v1.0/subscriptions/81cefad3-d2c9-4f77-a466-99a7f541c7bb/resourceGroups/aml-quickstarts-142415/providers/Microsoft.MachineLearningServices/workspaces/quick-starts-ws-142415/experimentids/f6ec2d0f-b440-49ac-959f-c68b52b60663/cancel/AutoML_690cf95e-ea6f-40dc-b297-5261ea2009ed',\n",
       "  'ClientSdkVersion': '1.25.0',\n",
       "  'snapshotId': '00000000-0000-0000-0000-000000000000',\n",
       "  'SetupRunId': 'AutoML_690cf95e-ea6f-40dc-b297-5261ea2009ed_setup',\n",
       "  'SetupRunContainerId': 'dcid.AutoML_690cf95e-ea6f-40dc-b297-5261ea2009ed_setup',\n",
       "  'FeaturizationRunJsonPath': 'featurizer_container.json',\n",
       "  'FeaturizationRunId': 'AutoML_690cf95e-ea6f-40dc-b297-5261ea2009ed_featurize',\n",
       "  'ProblemInfoJsonString': '{\"dataset_num_categorical\": 0, \"is_sparse\": false, \"subsampling\": false, \"dataset_classes\": 2, \"dataset_features\": 47, \"dataset_samples\": 31715, \"single_frequency_class_detected\": false}',\n",
       "  'ModelExplainRunId': 'AutoML_690cf95e-ea6f-40dc-b297-5261ea2009ed_ModelExplain',\n",
       "  'azureml.git.repository_uri': 'https://github.com/franckess/AzureML_Capstone.git',\n",
       "  'mlflow.source.git.repoURL': 'https://github.com/franckess/AzureML_Capstone.git',\n",
       "  'azureml.git.branch': 'main',\n",
       "  'mlflow.source.git.branch': 'main',\n",
       "  'azureml.git.commit': 'c66260586f300cb352c9bcdc64e310777f0438a6',\n",
       "  'mlflow.source.git.commit': 'c66260586f300cb352c9bcdc64e310777f0438a6',\n",
       "  'azureml.git.dirty': 'False'},\n",
       " 'inputDatasets': [{'dataset': {'id': '4a893a8e-32ea-4ec9-9849-2b44a15b59a3'}, 'consumptionDetails': {'type': 'RunInput', 'inputName': 'training_data', 'mechanism': 'Direct'}}],\n",
       " 'outputDatasets': [],\n",
       " 'logFiles': {},\n",
       " 'submittedBy': 'ODL_User 142415'}"
      ]
     },
     "execution_count": 12,
     "metadata": {},
     "output_type": "execute_result"
    }
   ],
   "source": [
    "# Submit your automl run\n",
    "automl_exp = Experiment(workspace=ws, name=\"Udacity_capstone_AutoML\")  \n",
    "automl_run = automl_exp.submit(automl_config, show_output = True)\n",
    "RunDetails(automl_run).show()\n",
    "automl_run.wait_for_completion(show_output=True)"
   ]
  },
  {
   "cell_type": "markdown",
   "metadata": {},
   "source": [
    "## Examine Results"
   ]
  },
  {
   "cell_type": "markdown",
   "metadata": {},
   "source": [
    "### Retrieve the Best Model"
   ]
  },
  {
   "cell_type": "code",
   "execution_count": null,
   "metadata": {},
   "outputs": [],
   "source": [
    "best_run, best_model = automl_run.get_output()\n",
    "print(best_model.steps)"
   ]
  },
  {
   "cell_type": "code",
   "execution_count": null,
   "metadata": {},
   "outputs": [],
   "source": [
    "get_best_autoML_metrics = best_run.get_metrics()\n",
    "for run_metric in get_best_autoML_metrics:\n",
    "    metric = get_best_autoML_metrics[run_metric]\n",
    "    print(run_metric,metric)"
   ]
  },
  {
   "cell_type": "code",
   "execution_count": null,
   "metadata": {},
   "outputs": [],
   "source": [
    "best_run.get_file_names()"
   ]
  },
  {
   "cell_type": "code",
   "execution_count": null,
   "metadata": {},
   "outputs": [],
   "source": [
    "# Save the best model\n",
    "automl_model_name = best_run.properties['model_name']\n",
    "joblib.dump(best_model, filename=\"output/automl_model.pkl\")\n",
    "print(\"Model saved successfully!\")"
   ]
  },
  {
   "cell_type": "code",
   "execution_count": null,
   "metadata": {},
   "outputs": [],
   "source": [
    "# Register best model\n",
    "AutoML_model = best_run.register_model(model_name = 'best_autoML_model', model_path =  'outputs/model.pkl')\n",
    "AutoML_model"
   ]
  },
  {
   "cell_type": "code",
   "execution_count": null,
   "metadata": {},
   "outputs": [],
   "source": [
    "best_run"
   ]
  },
  {
   "cell_type": "code",
   "execution_count": null,
   "metadata": {},
   "outputs": [],
   "source": [
    "def print_model(model, prefix=\"\"):\n",
    "    for step in model.steps:\n",
    "        print(prefix + step[0])\n",
    "        if hasattr(step[1], 'estimators') and hasattr(step[1], 'weights'):\n",
    "            pprint({'estimators': list(e[0] for e in step[1].estimators), 'weights': step[1].weights})\n",
    "            print()\n",
    "            for estimator in step[1].estimators:\n",
    "                print_model(estimator[1], estimator[0]+ ' - ')\n",
    "        elif hasattr(step[1], '_base_learners') and hasattr(step[1], '_meta_learner'):\n",
    "            print(\"\\nMeta Learner\")\n",
    "            pprint(step[1]._meta_learner)\n",
    "            print()\n",
    "            for estimator in step[1]._base_learners:\n",
    "                print_model(estimator[1], estimator[0]+ ' - ')\n",
    "        else:\n",
    "            pprint(step[1].get_params())\n",
    "            print()\n",
    "            \n",
    "print_model(best_model)"
   ]
  },
  {
   "cell_type": "code",
   "execution_count": null,
   "metadata": {},
   "outputs": [],
   "source": [
    "# Download scoring file \n",
    "best_run.download_file('outputs/scoring_file_v_1_0_0.py', './automl_score.py')\n",
    "# script_file_name = './score.py'"
   ]
  },
  {
   "cell_type": "code",
   "execution_count": null,
   "metadata": {},
   "outputs": [],
   "source": [
    "# Download environment file\n",
    "best_run.download_file('outputs/conda_env_v_1_0_0.yml', './AzureML_envFile.yml')"
   ]
  },
  {
   "cell_type": "markdown",
   "metadata": {},
   "source": [
    "## Model Deployment\n",
    "\n",
    "Create an inference config and deploy the model as a web service."
   ]
  },
  {
   "cell_type": "code",
   "execution_count": null,
   "metadata": {},
   "outputs": [],
   "source": [
    "inference_config = InferenceConfig(entry_script=script_file_name)\n",
    "\n",
    "aciconfig = AciWebservice.deploy_configuration(cpu_cores = 2, \n",
    "                                               memory_gb = 2, \n",
    "                                               tags = {'Company': \"Mashable\", 'type': \"capstone_Classifier\"}, \n",
    "                                               description = 'sample service for Capstone Project AutoML Classifier for Online News popularity')"
   ]
  },
  {
   "cell_type": "code",
   "execution_count": null,
   "metadata": {},
   "outputs": [],
   "source": [
    "aci_service_name = 'capstone-automl'\n",
    "print(aci_service_name)\n",
    "aci_service = Model.deploy(ws, aci_service_name, [AutoML_model], inference_config, aciconfig)\n",
    "aci_service.wait_for_deployment(True)\n",
    "print(aci_service.state)\n",
    "print(aci_service.scoring_uri)\n",
    "print(aci_service.swagger_uri)"
   ]
  },
  {
   "cell_type": "markdown",
   "metadata": {},
   "source": [
    "Testing our deployment web service"
   ]
  },
  {
   "cell_type": "code",
   "execution_count": null,
   "metadata": {},
   "outputs": [],
   "source": [
    "test_data = pd.concat([X_test, y_test], axis=1)\n",
    "test_data = test_data[10:15]\n",
    "display(test_data)"
   ]
  },
  {
   "cell_type": "code",
   "execution_count": null,
   "metadata": {},
   "outputs": [],
   "source": [
    "# remove label column\n",
    "label_data = test_data.pop('label')\n",
    "\n",
    "# convert test input data to dictionary form\n",
    "input_data = json.dumps({'data': test_data.to_dict(orient='records')})\n",
    "\n",
    "# print test input data\n",
    "print(input_data)"
   ]
  },
  {
   "cell_type": "code",
   "execution_count": null,
   "metadata": {},
   "outputs": [],
   "source": [
    "output = aci_service.run(input_data)\n",
    "print(output)"
   ]
  },
  {
   "cell_type": "code",
   "execution_count": null,
   "metadata": {},
   "outputs": [],
   "source": [
    "print(aci_service.get_logs())"
   ]
  },
  {
   "cell_type": "markdown",
   "metadata": {},
   "source": [
    "### Create Pipeline and AutoMLStep\n",
    "\n",
    "Define outputs for the AutoMLStep using TrainingOutput."
   ]
  },
  {
   "cell_type": "code",
   "execution_count": null,
   "metadata": {},
   "outputs": [],
   "source": [
    "ds = ws.get_default_datastore()\n",
    "metrics_output_name = 'metrics_output'\n",
    "best_model_output_name = 'best_model_output'\n",
    "\n",
    "metrics_data = PipelineData(name='metrics_data',\n",
    "                           datastore=ds,\n",
    "                           pipeline_output_name=metrics_output_name,\n",
    "                           training_output=TrainingOutput(type='Metrics'))\n",
    "model_data = PipelineData(name='model_data',\n",
    "                           datastore=ds,\n",
    "                           pipeline_output_name=best_model_output_name,\n",
    "                           training_output=TrainingOutput(type='Model'))"
   ]
  },
  {
   "cell_type": "code",
   "execution_count": null,
   "metadata": {},
   "outputs": [],
   "source": [
    "# Create AutoMLStep\n",
    "automl_step = AutoMLStep(name='automl_module',\n",
    "                         automl_config=automl_config,\n",
    "                         outputs=[metrics_data, model_data],\n",
    "                         allow_reuse=True)"
   ]
  },
  {
   "cell_type": "code",
   "execution_count": null,
   "metadata": {},
   "outputs": [],
   "source": [
    "pipeline = Pipeline(description=\"pipeline_with_automlstep\",\n",
    "                    workspace=ws,    \n",
    "                    steps=[automl_step])\n",
    "\n",
    "pipeline_run = experiment.submit(pipeline)"
   ]
  },
  {
   "cell_type": "code",
   "execution_count": null,
   "metadata": {},
   "outputs": [],
   "source": [
    "RunDetails(pipeline_run).show()\n",
    "pipeline_run.wait_for_completion()"
   ]
  },
  {
   "cell_type": "markdown",
   "metadata": {},
   "source": [
    "## Examine Results"
   ]
  },
  {
   "cell_type": "markdown",
   "metadata": {},
   "source": [
    "### Retrieve the metrics of all child runs\n",
    "\n",
    "Outputs of above run can be used as inputs of other steps in pipeline. In this tutorial, we will examine the outputs by retrieve output data and running some tests."
   ]
  },
  {
   "cell_type": "code",
   "execution_count": null,
   "metadata": {},
   "outputs": [],
   "source": [
    "metrics_output = pipeline_run.get_pipeline_output(metrics_output_name)\n",
    "num_file_downloaded = metrics_output.download('.', show_progress=True)"
   ]
  },
  {
   "cell_type": "code",
   "execution_count": null,
   "metadata": {},
   "outputs": [],
   "source": [
    "with open(metrics_output._path_on_datastore) as f:\n",
    "    metrics_output_result = f.read()\n",
    "    \n",
    "deserialized_metrics_output = json.loads(metrics_output_result)\n",
    "df = pd.DataFrame(deserialized_metrics_output)\n",
    "df"
   ]
  },
  {
   "cell_type": "markdown",
   "metadata": {},
   "source": [
    "### Retrieve the Best Model"
   ]
  },
  {
   "cell_type": "code",
   "execution_count": null,
   "metadata": {},
   "outputs": [],
   "source": [
    "# Retrieve best model from Pipeline Run\n",
    "best_model_output = pipeline_run.get_pipeline_output(best_model_output_name)\n",
    "num_file_downloaded = best_model_output.download('.', show_progress=True)"
   ]
  },
  {
   "cell_type": "code",
   "execution_count": null,
   "metadata": {},
   "outputs": [],
   "source": [
    "with open(best_model_output._path_on_datastore, \"rb\" ) as f:\n",
    "    best_model = pickle.load(f)\n",
    "best_model"
   ]
  },
  {
   "cell_type": "code",
   "execution_count": null,
   "metadata": {},
   "outputs": [],
   "source": [
    "best_model.steps"
   ]
  },
  {
   "cell_type": "markdown",
   "metadata": {},
   "source": [
    "### Test Model\n",
    "\n",
    "Testing our best fitted model"
   ]
  },
  {
   "cell_type": "code",
   "execution_count": null,
   "metadata": {},
   "outputs": [],
   "source": [
    "ypred = best_model.predict(X_test)\n",
    "cm = confusion_matrix(y_test, ypred)"
   ]
  },
  {
   "cell_type": "code",
   "execution_count": null,
   "metadata": {},
   "outputs": [],
   "source": [
    "# Visualize the confusion matrix\n",
    "pd.DataFrame(cm).style.background_gradient(cmap='Blues', low=0, high=0.9)"
   ]
  }
 ],
 "metadata": {
  "authors": [
   {
    "name": "sanpil"
   }
  ],
  "categories": [
   "how-to-use-azureml",
   "machine-learning-pipelines",
   "intro-to-pipelines"
  ],
  "category": "tutorial",
  "compute": [
   "AML Compute"
  ],
  "datasets": [
   "Custom"
  ],
  "deployment": [
   "None"
  ],
  "exclude_from_index": false,
  "framework": [
   "Automated Machine Learning"
  ],
  "friendly_name": "How to use AutoMLStep with AML Pipelines",
  "kernel_info": {
   "name": "python3"
  },
  "kernelspec": {
   "display_name": "UdacityEnv",
   "language": "python",
   "name": "udacityenv"
  },
  "language_info": {
   "codemirror_mode": {
    "name": "ipython",
    "version": 3
   },
   "file_extension": ".py",
   "mimetype": "text/x-python",
   "name": "python",
   "nbconvert_exporter": "python",
   "pygments_lexer": "ipython3",
   "version": "3.6.13"
  },
  "nteract": {
   "version": "nteract-front-end@1.0.0"
  },
  "order_index": 11,
  "star_tag": [
   "featured"
  ],
  "tags": [
   "None"
  ],
  "task": "Demonstrates the use of AutoMLStep"
 },
 "nbformat": 4,
 "nbformat_minor": 2
}
