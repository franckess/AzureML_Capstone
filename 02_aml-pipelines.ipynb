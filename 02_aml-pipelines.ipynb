{
 "cells": [
  {
   "cell_type": "markdown",
   "metadata": {},
   "source": [
    "Copyright (c) Microsoft Corporation. All rights reserved.  \n",
    "Licensed under the MIT License."
   ]
  },
  {
   "cell_type": "markdown",
   "metadata": {},
   "source": [
    "![Impressions](https://PixelServer20190423114238.azurewebsites.net/api/impressions/NotebookVM/how-to-use-azureml/machine-learning-pipelines/intro-to-pipelines/aml-pipelines-with-automated-machine-learning-step.png)"
   ]
  },
  {
   "cell_type": "markdown",
   "metadata": {},
   "source": [
    "# Udacity Capstone Project: Azure AutoML\n",
    "This notebook demonstrates the use of AutoML in Azure Machine Learning Pipeline for the Udacity capstone project."
   ]
  },
  {
   "cell_type": "markdown",
   "metadata": {},
   "source": [
    "## Introduction\n",
    "In this example we showcase how you can use AzureML Dataset to load data for AutoML via AML Pipeline. \n",
    "\n",
    "If you are using an Azure Machine Learning Notebook VM, you are all set. Otherwise, make sure you have executed the [configuration](https://aka.ms/pl-config) before running this notebook.\n",
    "\n",
    "In this notebook you will learn how to:\n",
    "1. Create an `Experiment` in an existing `Workspace`.\n",
    "2. Create or Attach existing AmlCompute to a workspace.\n",
    "3. Define data loading in a `TabularDataset`.\n",
    "4. Configure AutoML using `AutoMLConfig`.\n",
    "5. Use AutoMLStep\n",
    "6. Train the model using AmlCompute\n",
    "7. Explore the results.\n",
    "8. Test the best fitted model."
   ]
  },
  {
   "cell_type": "markdown",
   "metadata": {},
   "source": [
    "## Azure Machine Learning and Pipeline SDK-specific imports"
   ]
  },
  {
   "cell_type": "code",
   "execution_count": 28,
   "metadata": {},
   "outputs": [
    {
     "name": "stdout",
     "output_type": "stream",
     "text": [
      "System version: 3.6.13 |Anaconda, Inc.| (default, Feb 23 2021, 12:58:59) \n",
      "[GCC Clang 10.0.0 ]\n",
      "SDK version: 1.23.0\n"
     ]
    }
   ],
   "source": [
    "import os\n",
    "import sys\n",
    "import json\n",
    "import azureml\n",
    "import logging\n",
    "import pickle\n",
    "import requests\n",
    "import pandas as pd\n",
    "import numpy as np\n",
    "from io import BytesIO\n",
    "from sklearn.externals import joblib\n",
    "from sklearn.metrics import confusion_matrix\n",
    "from pprint import pprint\n",
    "from matplotlib import pyplot as plt\n",
    "from train import *\n",
    "\n",
    "\n",
    "import azureml.core\n",
    "from azureml.core.experiment import Experiment\n",
    "from azureml.core.workspace import Workspace\n",
    "from azureml.train.automl import AutoMLConfig\n",
    "from azureml.automl.core.featurization import FeaturizationConfig\n",
    "from azureml.core.authentication import InteractiveLoginAuthentication\n",
    "from azureml.core import Workspace, Dataset\n",
    "from azureml.data.datapath import DataPath\n",
    "\n",
    "from azureml.widgets import RunDetails\n",
    "from azureml.train.automl import constants\n",
    "from azureml.pipeline.steps import AutoMLStep\n",
    "from azureml.pipeline.core import PipelineData, TrainingOutput\n",
    "from azureml.pipeline.core import Pipeline\n",
    "\n",
    "# Model deployment\n",
    "from azureml.core.model import InferenceConfig\n",
    "from azureml.core.webservice import AciWebservice\n",
    "from azureml.core.webservice import Webservice\n",
    "from azureml.core.model import Model\n",
    "\n",
    "import warnings\n",
    "warnings.filterwarnings(\"ignore\")\n",
    "\n",
    "pd.set_option('display.max_rows', None)\n",
    "\n",
    "# Check system and core SDK version number\n",
    "print(\"System version: {}\".format(sys.version))\n",
    "print(\"SDK version:\", azureml.core.VERSION)"
   ]
  },
  {
   "cell_type": "markdown",
   "metadata": {},
   "source": [
    "## Initialize Workspace\n",
    "Initialize a workspace object from persisted configuration. Make sure the config file is present at .\\config.json"
   ]
  },
  {
   "cell_type": "code",
   "execution_count": 29,
   "metadata": {},
   "outputs": [
    {
     "name": "stderr",
     "output_type": "stream",
     "text": [
      "WARNING:root:Warning: Falling back to use azure cli login credentials.\n",
      "If you run your code in unattended mode, i.e., where you can't give a user input, then we recommend to use ServicePrincipalAuthentication or MsiAuthentication.\n",
      "Please refer to aka.ms/aml-notebook-auth for different authentication mechanisms in azureml-sdk.\n"
     ]
    },
    {
     "data": {
      "text/html": [
       "<table style=\"width:100%\"><tr><th>Name</th><th>Workspace</th><th>Report Page</th><th>Docs Page</th></tr><tr><td>online_news_project</td><td>quick-starts-ws-142985</td><td><a href=\"https://ml.azure.com/experiments/online_news_project?wsid=/subscriptions/2c48c51c-bd47-40d4-abbe-fb8eabd19c8c/resourcegroups/aml-quickstarts-142985/workspaces/quick-starts-ws-142985\" target=\"_blank\" rel=\"noopener\">Link to Azure Machine Learning studio</a></td><td><a href=\"https://docs.microsoft.com/en-us/python/api/azureml-core/azureml.core.experiment.Experiment?view=azure-ml-py\" target=\"_blank\" rel=\"noopener\">Link to Documentation</a></td></tr></table>"
      ],
      "text/plain": [
       "Experiment(Name: online_news_project,\n",
       "Workspace: quick-starts-ws-142985)"
      ]
     },
     "execution_count": 29,
     "metadata": {},
     "output_type": "execute_result"
    }
   ],
   "source": [
    "interactive_auth = InteractiveLoginAuthentication(tenant_id=\"660b3398-b80e-49d2-bc5b-ac1dc93b5254\")\n",
    "ws = Workspace.get(subscription_id=\"2c48c51c-bd47-40d4-abbe-fb8eabd19c8c\",\n",
    "                   resource_group=\"aml-quickstarts-142985\",\n",
    "                   name=\"quick-starts-ws-142985\",\n",
    "                   auth=interactive_auth)\n",
    "\n",
    "experiment_name = 'online_news_project'\n",
    "experiment=Experiment(ws, experiment_name)\n",
    "experiment"
   ]
  },
  {
   "cell_type": "code",
   "execution_count": 30,
   "metadata": {},
   "outputs": [
    {
     "data": {
      "text/html": [
       "<div>\n",
       "<style scoped>\n",
       "    .dataframe tbody tr th:only-of-type {\n",
       "        vertical-align: middle;\n",
       "    }\n",
       "\n",
       "    .dataframe tbody tr th {\n",
       "        vertical-align: top;\n",
       "    }\n",
       "\n",
       "    .dataframe thead th {\n",
       "        text-align: right;\n",
       "    }\n",
       "</style>\n",
       "<table border=\"1\" class=\"dataframe\">\n",
       "  <thead>\n",
       "    <tr style=\"text-align: right;\">\n",
       "      <th></th>\n",
       "      <th></th>\n",
       "    </tr>\n",
       "  </thead>\n",
       "  <tbody>\n",
       "    <tr>\n",
       "      <th>Workspace name</th>\n",
       "      <td>quick-starts-ws-142985</td>\n",
       "    </tr>\n",
       "    <tr>\n",
       "      <th>Azure region</th>\n",
       "      <td>southcentralus</td>\n",
       "    </tr>\n",
       "    <tr>\n",
       "      <th>Subscription id</th>\n",
       "      <td>2c48c51c-bd47-40d4-abbe-fb8eabd19c8c</td>\n",
       "    </tr>\n",
       "    <tr>\n",
       "      <th>Resource group</th>\n",
       "      <td>aml-quickstarts-142985</td>\n",
       "    </tr>\n",
       "    <tr>\n",
       "      <th>Experiment Name</th>\n",
       "      <td>online_news_project</td>\n",
       "    </tr>\n",
       "  </tbody>\n",
       "</table>\n",
       "</div>"
      ],
      "text/plain": [
       "                                                     \n",
       "Workspace name                 quick-starts-ws-142985\n",
       "Azure region                           southcentralus\n",
       "Subscription id  2c48c51c-bd47-40d4-abbe-fb8eabd19c8c\n",
       "Resource group                 aml-quickstarts-142985\n",
       "Experiment Name                   online_news_project"
      ]
     },
     "execution_count": 30,
     "metadata": {},
     "output_type": "execute_result"
    }
   ],
   "source": [
    "dic_data = {'Workspace name': ws.name,\n",
    "            'Azure region': ws.location,\n",
    "            'Subscription id': ws.subscription_id,\n",
    "            'Resource group': ws.resource_group,\n",
    "            'Experiment Name': experiment.name}\n",
    "\n",
    "az_data = pd.DataFrame.from_dict(data = dic_data, orient='index')\n",
    "az_data.rename(columns={0:''}, inplace = True)\n",
    "az_data"
   ]
  },
  {
   "cell_type": "markdown",
   "metadata": {},
   "source": [
    "### Create or Attach an AmlCompute cluster\n",
    "You will need to create a [compute target](https://docs.microsoft.com/azure/machine-learning/service/concept-azure-machine-learning-architecture#compute-target) for your AutoML run. In this tutorial, you get the default `AmlCompute` as your training compute resource.\n",
    "\n",
    "**Udacity Note** There is no need to create a new compute target, it can re-use the previous cluster"
   ]
  },
  {
   "cell_type": "code",
   "execution_count": 31,
   "metadata": {},
   "outputs": [
    {
     "name": "stdout",
     "output_type": "stream",
     "text": [
      "Found existing cpu-cluster. Use it.\n",
      "Succeeded\n",
      "AmlCompute wait for completion finished\n",
      "\n",
      "Minimum number of nodes requested have been provisioned\n",
      "{'currentNodeCount': 1, 'targetNodeCount': 1, 'nodeStateCounts': {'preparingNodeCount': 0, 'runningNodeCount': 0, 'idleNodeCount': 1, 'unusableNodeCount': 0, 'leavingNodeCount': 0, 'preemptedNodeCount': 0}, 'allocationState': 'Steady', 'allocationStateTransitionTime': '2021-04-18T01:00:23.900000+00:00', 'errors': None, 'creationTime': '2021-04-18T00:58:49.540122+00:00', 'modifiedTime': '2021-04-18T00:59:05.307569+00:00', 'provisioningState': 'Succeeded', 'provisioningStateTransitionTime': None, 'scaleSettings': {'minNodeCount': 1, 'maxNodeCount': 4, 'nodeIdleTimeBeforeScaleDown': 'PT120S'}, 'vmPriority': 'Dedicated', 'vmSize': 'STANDARD_DS12_V2'}\n"
     ]
    }
   ],
   "source": [
    "from azureml.core.compute import AmlCompute\n",
    "from azureml.core.compute import ComputeTarget\n",
    "from azureml.core.compute_target import ComputeTargetException\n",
    "\n",
    "# Define CPU cluster name\n",
    "compute_target_name = \"cpu-cluster\"\n",
    "\n",
    "try:\n",
    "    compute_target = ComputeTarget(workspace=ws, name=compute_target_name)\n",
    "    print(\"Found existing cpu-cluster. Use it.\")\n",
    "except ComputeTargetException:\n",
    "    compute_config = AmlCompute.provisioning_configuration(vm_size=\"STANDARD_DS12_V2\",\n",
    "                                                           min_nodes=1, \n",
    "                                                           max_nodes=4) \n",
    "    compute_target = ComputeTarget.create(ws, compute_target_name, compute_config)\n",
    "\n",
    "compute_target.wait_for_completion(show_output=True)\n",
    "\n",
    "print(compute_target.get_status().serialize())"
   ]
  },
  {
   "cell_type": "code",
   "execution_count": 6,
   "metadata": {},
   "outputs": [
    {
     "name": "stdout",
     "output_type": "stream",
     "text": [
      "notebook142816 ComputeInstance Succeeded\n",
      "cpu-cluster AmlCompute Succeeded\n"
     ]
    }
   ],
   "source": [
    "# Check details about compute_targets (i.e. compute_target)\n",
    "compute_targets = ws.compute_targets\n",
    "for name, ct in compute_targets.items():\n",
    "    print(name, ct.type, ct.provisioning_state)"
   ]
  },
  {
   "cell_type": "markdown",
   "metadata": {},
   "source": [
    "## Dataset\n",
    "\n",
    "**Udacity note:** Make sure the `key` is the same name as the dataset that is uploaded, and that the description matches. If it is hard to find or unknown, loop over the `ws.datasets.keys()` and `print()` them.\n",
    "If it *isn't* found because it was deleted, it can be recreated with the link that has the CSV "
   ]
  },
  {
   "cell_type": "code",
   "execution_count": 32,
   "metadata": {},
   "outputs": [
    {
     "name": "stdout",
     "output_type": "stream",
     "text": [
      "31715 x 47 table of data:\n",
      "<class 'pandas.core.frame.DataFrame'>\n",
      "Int64Index: 31715 entries, 38512 to 35050\n",
      "Data columns (total 47 columns):\n",
      "n_tokens_title                   31715 non-null float64\n",
      "n_tokens_content                 31715 non-null float64\n",
      "n_unique_tokens                  31715 non-null float64\n",
      "num_hrefs                        31715 non-null float64\n",
      "num_self_hrefs                   31715 non-null float64\n",
      "num_imgs                         31715 non-null float64\n",
      "num_videos                       31715 non-null float64\n",
      "average_token_length             31715 non-null float64\n",
      "num_keywords                     31715 non-null float64\n",
      "data_channel_is_entertainment    31715 non-null int64\n",
      "data_channel_is_bus              31715 non-null int64\n",
      "data_channel_is_socmed           31715 non-null int64\n",
      "data_channel_is_tech             31715 non-null int64\n",
      "data_channel_is_world            31715 non-null int64\n",
      "kw_min_min                       31715 non-null float64\n",
      "kw_max_min                       31715 non-null float64\n",
      "kw_min_max                       31715 non-null float64\n",
      "kw_avg_max                       31715 non-null float64\n",
      "kw_min_avg                       31715 non-null float64\n",
      "kw_max_avg                       31715 non-null float64\n",
      "kw_avg_avg                       31715 non-null float64\n",
      "self_reference_min_shares        31715 non-null float64\n",
      "self_reference_max_shares        31715 non-null float64\n",
      "weekday_is_wednesday             31715 non-null int64\n",
      "weekday_is_saturday              31715 non-null int64\n",
      "weekday_is_sunday                31715 non-null int64\n",
      "is_weekend                       31715 non-null int64\n",
      "LDA_00                           31715 non-null float64\n",
      "LDA_01                           31715 non-null float64\n",
      "LDA_02                           31715 non-null float64\n",
      "LDA_03                           31715 non-null float64\n",
      "LDA_04                           31715 non-null float64\n",
      "global_subjectivity              31715 non-null float64\n",
      "global_sentiment_polarity        31715 non-null float64\n",
      "global_rate_positive_words       31715 non-null float64\n",
      "global_rate_negative_words       31715 non-null float64\n",
      "rate_positive_words              31715 non-null float64\n",
      "rate_negative_words              31715 non-null float64\n",
      "avg_positive_polarity            31715 non-null float64\n",
      "min_positive_polarity            31715 non-null float64\n",
      "max_positive_polarity            31715 non-null float64\n",
      "avg_negative_polarity            31715 non-null float64\n",
      "min_negative_polarity            31715 non-null float64\n",
      "max_negative_polarity            31715 non-null float64\n",
      "title_subjectivity               31715 non-null float64\n",
      "title_sentiment_polarity         31715 non-null float64\n",
      "abs_title_sentiment_polarity     31715 non-null float64\n",
      "dtypes: float64(38), int64(9)\n",
      "memory usage: 11.6 MB\n"
     ]
    }
   ],
   "source": [
    "DATA_LOC = \"https://raw.githubusercontent.com/franckess/AzureML_Capstone/main/data/OnlineNewsPopularity.csv\"\n",
    "BORUTA_LOC = \"https://github.com/franckess/AzureML_Capstone/releases/download/1.1/boruta_model_final.pkl\"\n",
    "\n",
    "# Loading data\n",
    "df = pd.read_csv(DATA_LOC)\n",
    "\n",
    "# Removing space character in the feature names\n",
    "df.columns=df.columns.str.replace(' ','')\n",
    "\n",
    "# Drop URL column\n",
    "df = df.drop(['url'], axis=1)\n",
    "\n",
    "# Perform Data pre-processing\n",
    "df = corr_drop_cols(df)\n",
    "df = create_label(df)\n",
    "df = scaling_num(df)\n",
    "df = feature_selection(df, BORUTA_LOC)\n",
    "    \n",
    "# Split train data into train & test\n",
    "X_train, X_test, y_train, y_test = split_train_test(df)\n",
    "\n",
    "m, k = X_train.shape\n",
    "print(\"{} x {} table of data:\".format(m, k))\n",
    "X_train.info()"
   ]
  },
  {
   "cell_type": "markdown",
   "metadata": {},
   "source": [
    "### Upload data to Azure Datastore"
   ]
  },
  {
   "cell_type": "code",
   "execution_count": null,
   "metadata": {},
   "outputs": [
    {
     "name": "stdout",
     "output_type": "stream",
     "text": [
      "Uploading an estimated of 1 files\n"
     ]
    }
   ],
   "source": [
    "# merge the output x and y dataframes into a single table for AutoML experiment\n",
    "train_data = pd.concat([X_train, y_train], axis=1)\n",
    "train_data.to_csv('./data/train_data.csv', index = None, header=True)\n",
    "\n",
    "datastore = ws.get_default_datastore()\n",
    "datastore.upload_files(files = ['./data/train_data.csv'],  target_path='data/', overwrite=True, show_progress=True)\n",
    "\n",
    "datastore_path =[\n",
    "    DataPath(datastore, 'data/train_data.csv')\n",
    "]\n",
    "\n",
    "# Upload the training data as a tabular dataset for access during training on remote compute\n",
    "train_data = Dataset.Tabular.from_delimited_files(path=datastore_path)"
   ]
  },
  {
   "cell_type": "code",
   "execution_count": 9,
   "metadata": {},
   "outputs": [
    {
     "name": "stdout",
     "output_type": "stream",
     "text": [
      "Datastore type: AzureBlob\n",
      "Account name: mlstrg142816\n",
      "Container name: azureml-blobstore-0e7b02d1-7b9f-428a-a5eb-3c05c9619fbe\n"
     ]
    }
   ],
   "source": [
    "print(\n",
    "    \"Datastore type: \" + datastore.datastore_type,\n",
    "    \"Account name: \" + datastore.account_name,\n",
    "    \"Container name: \" + datastore.container_name,\n",
    "    sep=\"\\n\",\n",
    ")"
   ]
  },
  {
   "cell_type": "code",
   "execution_count": 10,
   "metadata": {},
   "outputs": [
    {
     "data": {
      "text/plain": [
       "{\n",
       "  \"source\": [\n",
       "    \"('workspaceblobstore', 'data/train_data.csv')\"\n",
       "  ],\n",
       "  \"definition\": [\n",
       "    \"GetDatastoreFiles\",\n",
       "    \"ParseDelimited\",\n",
       "    \"DropColumns\",\n",
       "    \"SetColumnTypes\"\n",
       "  ]\n",
       "}"
      ]
     },
     "execution_count": 10,
     "metadata": {},
     "output_type": "execute_result"
    }
   ],
   "source": [
    "train_data"
   ]
  },
  {
   "cell_type": "markdown",
   "metadata": {},
   "source": [
    "## Train\n",
    "This creates a general AutoML settings object.\n",
    "**Udacity notes:** These inputs must match what was used when training in the portal. `label_column_name` has to be `y` for example."
   ]
  },
  {
   "cell_type": "code",
   "execution_count": 11,
   "metadata": {},
   "outputs": [],
   "source": [
    "automl_settings = {\n",
    "    \"experiment_timeout_minutes\": 60, # define the duration of the experiment (in minutes).\n",
    "    \"max_concurrent_iterations\": 9,\n",
    "    \"primary_metric\" : 'accuracy'\n",
    "}\n",
    "\n",
    "project_folder = './capstone-project'\n",
    "\n",
    "automl_config = AutoMLConfig(compute_target=compute_target,\n",
    "                             task = \"classification\",\n",
    "                             training_data=train_data,\n",
    "                             label_column_name=\"label\",   \n",
    "                             path = project_folder,\n",
    "                             enable_early_stopping= True,\n",
    "                             featurization= 'auto',\n",
    "                             debug_log = \"online_news_automl_errors.log\",\n",
    "                             n_cross_validations=5,\n",
    "                             max_cores_per_iteration=-1,\n",
    "                             verbosity=logging.INFO,\n",
    "                             **automl_settings)"
   ]
  },
  {
   "cell_type": "code",
   "execution_count": 12,
   "metadata": {},
   "outputs": [
    {
     "name": "stdout",
     "output_type": "stream",
     "text": [
      "Running on remote.\n",
      "No run_configuration provided, running on cpu-cluster with default configuration\n",
      "Running on remote compute: cpu-cluster\n",
      "Parent Run ID: AutoML_2cff4705-e70a-47d8-b6a8-71c6bc8122df\n",
      "\n",
      "Current status: FeaturesGeneration. Generating features for the dataset.\n",
      "Current status: DatasetCrossValidationSplit. Generating individually featurized CV splits.\n",
      "Current status: ModelSelection. Beginning model selection.\n",
      "\n",
      "****************************************************************************************************\n",
      "DATA GUARDRAILS: \n",
      "\n",
      "TYPE:         Class balancing detection\n",
      "STATUS:       PASSED\n",
      "DESCRIPTION:  Your inputs were analyzed, and all classes are balanced in your training data.\n",
      "              Learn more about imbalanced data: https://aka.ms/AutomatedMLImbalancedData\n",
      "\n",
      "****************************************************************************************************\n",
      "\n",
      "TYPE:         Missing feature values imputation\n",
      "STATUS:       PASSED\n",
      "DESCRIPTION:  No feature missing values were detected in the training data.\n",
      "              Learn more about missing value imputation: https://aka.ms/AutomatedMLFeaturization\n",
      "\n",
      "****************************************************************************************************\n",
      "\n",
      "TYPE:         High cardinality feature detection\n",
      "STATUS:       PASSED\n",
      "DESCRIPTION:  Your inputs were analyzed, and no high cardinality features were detected.\n",
      "              Learn more about high cardinality feature handling: https://aka.ms/AutomatedMLFeaturization\n",
      "\n",
      "****************************************************************************************************\n",
      "\n",
      "****************************************************************************************************\n",
      "ITERATION: The iteration being evaluated.\n",
      "PIPELINE: A summary description of the pipeline being evaluated.\n",
      "DURATION: Time taken for the current iteration.\n",
      "METRIC: The result of computing score on the fitted pipeline.\n",
      "BEST: The best observed score thus far.\n",
      "****************************************************************************************************\n",
      "\n",
      " ITERATION   PIPELINE                                       DURATION      METRIC      BEST\n",
      "         1   MaxAbsScaler XGBoostClassifier                 0:01:02       0.6642    0.6642\n",
      "         3   MinMaxScaler RandomForest                      0:01:56       0.6417    0.6642\n",
      "         6   StandardScalerWrapper LogisticRegression       0:01:52       0.6506    0.6642\n",
      "         7   RobustScaler RandomForest                      0:01:01       0.6334    0.6642\n",
      "         0   MaxAbsScaler LightGBM                          0:01:06       0.6706    0.6706\n",
      "         5   MinMaxScaler LogisticRegression                0:01:54       0.6501    0.6706\n",
      "         8   StandardScalerWrapper LightGBM                 0:00:58       0.6698    0.6706\n",
      "         2   MinMaxScaler RandomForest                      0:01:04       0.6467    0.6706\n",
      "         4   MinMaxScaler RandomForest                      0:01:08       0.6526    0.6706\n",
      "         9   StandardScalerWrapper LightGBM                 0:00:54       0.6348    0.6706\n",
      "        10   SparseNormalizer XGBoostClassifier             0:01:12       0.6525    0.6706\n",
      "        11   MaxAbsScaler LightGBM                          0:00:51       0.6513    0.6706\n",
      "        12   SparseNormalizer LightGBM                      0:00:58       0.6464    0.6706\n",
      "        13   SparseNormalizer XGBoostClassifier             0:01:03       0.6542    0.6706\n",
      "        14   StandardScalerWrapper RandomForest             0:01:13       0.6502    0.6706\n",
      "        15   SparseNormalizer XGBoostClassifier             0:00:58       0.6312    0.6706\n",
      "        16   StandardScalerWrapper XGBoostClassifier        0:01:05       0.6416    0.6706\n",
      "        17   MinMaxScaler LightGBM                          0:01:10       0.6409    0.6706\n",
      "        18   MaxAbsScaler GradientBoosting                  0:01:03       0.6546    0.6706\n",
      "        19   StandardScalerWrapper XGBoostClassifier        0:00:53       0.6601    0.6706\n",
      "        20   SparseNormalizer XGBoostClassifier             0:01:05       0.6512    0.6706\n",
      "        21   MinMaxScaler LightGBM                          0:00:46       0.6451    0.6706\n",
      "        22   SparseNormalizer XGBoostClassifier             0:01:00       0.6464    0.6706\n",
      "        24   MaxAbsScaler LogisticRegression                0:01:13       0.6499    0.6706\n",
      "        25   MaxAbsScaler LightGBM                          0:01:00       0.6469    0.6706\n",
      "        23   MinMaxScaler LogisticRegression                0:01:31       0.6506    0.6706\n",
      "        26   RobustScaler LightGBM                          0:01:02       0.6698    0.6706\n",
      "        27   MaxAbsScaler LightGBM                          0:01:10       0.6672    0.6706\n",
      "        28   StandardScalerWrapper XGBoostClassifier        0:00:59       0.6555    0.6706\n",
      "        29   RobustScaler LightGBM                          0:01:08       0.6511    0.6706\n",
      "        30   StandardScalerWrapper LightGBM                 0:01:02       0.5336    0.6706\n",
      "        31   StandardScalerWrapper LightGBM                 0:00:56       0.6471    0.6706\n",
      "        32   SparseNormalizer XGBoostClassifier             0:01:10       0.6540    0.6706\n",
      "        33   MinMaxScaler GradientBoosting                  0:01:12       0.6352    0.6706\n",
      "        34   SparseNormalizer XGBoostClassifier             0:00:55       0.6591    0.6706\n",
      "        35   MaxAbsScaler LightGBM                          0:01:03       0.5828    0.6706\n",
      "        36   StandardScalerWrapper XGBoostClassifier        0:01:10       0.6572    0.6706\n",
      "        37   StandardScalerWrapper LightGBM                 0:01:07       0.6497    0.6706\n",
      "        38   MaxAbsScaler RandomForest                      0:00:53          nan    0.6706\n",
      "        39   StandardScalerWrapper LightGBM                 0:00:28          nan    0.6706\n",
      "        40                                                  0:01:54          nan    0.6706\n",
      "        41                                                  0:01:40          nan    0.6706\n",
      "        42                                                  0:01:27          nan    0.6706\n",
      "        43                                                  0:01:06          nan    0.6706\n",
      "        44                                                  0:00:41          nan    0.6706\n",
      "        45                                                  0:00:18          nan    0.6706\n",
      "        46    VotingEnsemble                                0:02:08       0.6735    0.6735\n",
      "        47    StackEnsemble                                 0:02:15       0.6726    0.6735\n"
     ]
    },
    {
     "data": {
      "application/vnd.jupyter.widget-view+json": {
       "model_id": "52017c0db5564824b5efe1721bb1d794",
       "version_major": 2,
       "version_minor": 0
      },
      "text/plain": [
       "_AutoMLWidget(widget_settings={'childWidgetDisplay': 'popup', 'send_telemetry': False, 'log_level': 'INFO', 's…"
      ]
     },
     "metadata": {},
     "output_type": "display_data"
    },
    {
     "data": {
      "application/aml.mini.widget.v1": "\"ServiceException:\\n\\tCode: 404\\n\\tMessage: (UserError) Workspace quick-starts-ws-142816 not found\\n\\tDetails:\\n\\n\\tHeaders: {\\n\\t    \\\"Date\\\": \\\"Fri, 16 Apr 2021 06:27:37 GMT\\\",\\n\\t    \\\"Content-Type\\\": \\\"application/json; charset=utf-8\\\",\\n\\t    \\\"Transfer-Encoding\\\": \\\"chunked\\\",\\n\\t    \\\"Connection\\\": \\\"keep-alive\\\",\\n\\t    \\\"Vary\\\": \\\"Accept-Encoding\\\",\\n\\t    \\\"Request-Context\\\": \\\"appId=cid-v1:2d2e8e63-272e-4b3c-8598-4ee570a0e70d\\\",\\n\\t    \\\"x-ms-response-type\\\": \\\"error\\\",\\n\\t    \\\"Strict-Transport-Security\\\": \\\"max-age=15724800; includeSubDomains; preload\\\",\\n\\t    \\\"X-Content-Type-Options\\\": \\\"nosniff\\\",\\n\\t    \\\"x-request-time\\\": \\\"0.197\\\",\\n\\t    \\\"Content-Encoding\\\": \\\"gzip\\\"\\n\\t}\\n\\tInnerException: {\\n    \\\"additional_properties\\\": {},\\n    \\\"error\\\": {\\n        \\\"additional_properties\\\": {\\n            \\\"debugInfo\\\": null\\n        },\\n        \\\"code\\\": \\\"UserError\\\",\\n        \\\"severity\\\": null,\\n        \\\"message\\\": \\\"Workspace quick-starts-ws-142816 not found\\\",\\n        \\\"message_format\\\": \\\"Workspace {workspaceName} not found\\\",\\n        \\\"message_parameters\\\": {\\n            \\\"workspaceName\\\": \\\"quick-starts-ws-142816\\\"\\n        },\\n        \\\"reference_code\\\": null,\\n        \\\"details_uri\\\": null,\\n        \\\"target\\\": null,\\n        \\\"details\\\": [],\\n        \\\"inner_error\\\": {\\n            \\\"additional_properties\\\": {},\\n            \\\"code\\\": \\\"NotFound\\\",\\n            \\\"inner_error\\\": {\\n                \\\"additional_properties\\\": {},\\n                \\\"code\\\": \\\"WorkspaceNotFound\\\",\\n                \\\"inner_error\\\": null\\n            }\\n        }\\n    },\\n    \\\"correlation\\\": {\\n        \\\"operation\\\": \\\"67d681e7319f734bab6c21224092d80d\\\",\\n        \\\"request\\\": \\\"71c2c93f16839e4f\\\"\\n    },\\n    \\\"environment\\\": \\\"southcentralus\\\",\\n    \\\"location\\\": \\\"southcentralus\\\",\\n    \\\"time\\\": {},\\n    \\\"component_name\\\": \\\"run-history\\\"\\n}\""
     },
     "metadata": {},
     "output_type": "display_data"
    },
    {
     "name": "stdout",
     "output_type": "stream",
     "text": [
      "\n",
      "\n",
      "****************************************************************************************************\n",
      "DATA GUARDRAILS: \n",
      "\n",
      "TYPE:         Class balancing detection\n",
      "STATUS:       PASSED\n",
      "DESCRIPTION:  Your inputs were analyzed, and all classes are balanced in your training data.\n",
      "              Learn more about imbalanced data: https://aka.ms/AutomatedMLImbalancedData\n",
      "\n",
      "****************************************************************************************************\n",
      "\n",
      "TYPE:         Missing feature values imputation\n",
      "STATUS:       PASSED\n",
      "DESCRIPTION:  No feature missing values were detected in the training data.\n",
      "              Learn more about missing value imputation: https://aka.ms/AutomatedMLFeaturization\n",
      "\n",
      "****************************************************************************************************\n",
      "\n",
      "TYPE:         High cardinality feature detection\n",
      "STATUS:       PASSED\n",
      "DESCRIPTION:  Your inputs were analyzed, and no high cardinality features were detected.\n",
      "              Learn more about high cardinality feature handling: https://aka.ms/AutomatedMLFeaturization\n",
      "\n",
      "****************************************************************************************************\n",
      "\n",
      "****************************************************************************************************\n",
      "ITERATION: The iteration being evaluated.\n",
      "PIPELINE: A summary description of the pipeline being evaluated.\n",
      "DURATION: Time taken for the current iteration.\n",
      "METRIC: The result of computing score on the fitted pipeline.\n",
      "BEST: The best observed score thus far.\n",
      "****************************************************************************************************\n",
      "\n",
      " ITERATION   PIPELINE                                       DURATION      METRIC      BEST\n",
      "         0   MaxAbsScaler LightGBM                          0:01:06       0.6706    0.6706\n",
      "         1   MaxAbsScaler XGBoostClassifier                 0:01:02       0.6642    0.6706\n",
      "         2   MinMaxScaler RandomForest                      0:01:04       0.6467    0.6706\n",
      "         3   MinMaxScaler RandomForest                      0:01:56       0.6417    0.6706\n",
      "         4   MinMaxScaler RandomForest                      0:01:08       0.6526    0.6706\n",
      "         5   MinMaxScaler LogisticRegression                0:01:54       0.6501    0.6706\n",
      "         6   StandardScalerWrapper LogisticRegression       0:01:52       0.6506    0.6706\n",
      "         7   RobustScaler RandomForest                      0:01:01       0.6334    0.6706\n",
      "         8   StandardScalerWrapper LightGBM                 0:00:58       0.6698    0.6706\n",
      "        10   SparseNormalizer XGBoostClassifier             0:01:12       0.6525    0.6706\n",
      "        11   MaxAbsScaler LightGBM                          0:00:51       0.6513    0.6706\n",
      "        12   SparseNormalizer LightGBM                      0:00:58       0.6464    0.6706\n",
      "        13   SparseNormalizer XGBoostClassifier             0:01:03       0.6542    0.6706\n",
      "        14   StandardScalerWrapper RandomForest             0:01:13       0.6502    0.6706\n",
      "        15   SparseNormalizer XGBoostClassifier             0:00:58       0.6312    0.6706\n",
      "        16   StandardScalerWrapper XGBoostClassifier        0:01:05       0.6416    0.6706\n",
      "        17   MinMaxScaler LightGBM                          0:01:10       0.6409    0.6706\n",
      "         9   StandardScalerWrapper LightGBM                 0:00:54       0.6348    0.6706\n",
      "        18   MaxAbsScaler GradientBoosting                  0:01:03       0.6546    0.6706\n",
      "        19   StandardScalerWrapper XGBoostClassifier        0:00:53       0.6601    0.6706\n",
      "        20   SparseNormalizer XGBoostClassifier             0:01:05       0.6512    0.6706\n",
      "        21   MinMaxScaler LightGBM                          0:00:46       0.6451    0.6706\n",
      "        22   SparseNormalizer XGBoostClassifier             0:01:00       0.6464    0.6706\n",
      "        23   MinMaxScaler LogisticRegression                0:01:31       0.6506    0.6706\n",
      "        24   MaxAbsScaler LogisticRegression                0:01:13       0.6499    0.6706\n",
      "        25   MaxAbsScaler LightGBM                          0:01:00       0.6469    0.6706\n",
      "        26   RobustScaler LightGBM                          0:01:02       0.6698    0.6706\n",
      "        27   MaxAbsScaler LightGBM                          0:01:10       0.6672    0.6706\n",
      "        28   StandardScalerWrapper XGBoostClassifier        0:00:59       0.6555    0.6706\n",
      "        29   RobustScaler LightGBM                          0:01:08       0.6511    0.6706\n",
      "        30   StandardScalerWrapper LightGBM                 0:01:02       0.5336    0.6706\n",
      "        31   StandardScalerWrapper LightGBM                 0:00:56       0.6471    0.6706\n",
      "        32   SparseNormalizer XGBoostClassifier             0:01:10       0.6540    0.6706\n",
      "        33   MinMaxScaler GradientBoosting                  0:01:12       0.6352    0.6706\n",
      "        34   SparseNormalizer XGBoostClassifier             0:00:55       0.6591    0.6706\n",
      "        35   MaxAbsScaler LightGBM                          0:01:03       0.5828    0.6706\n",
      "        36   StandardScalerWrapper XGBoostClassifier        0:01:10       0.6572    0.6706\n",
      "        37   StandardScalerWrapper LightGBM                 0:01:07       0.6497    0.6706\n",
      "        38   MaxAbsScaler RandomForest                      0:00:53          nan    0.6706\n",
      "        39   StandardScalerWrapper LightGBM                 0:00:28          nan    0.6706\n",
      "        40                                                  0:01:54          nan    0.6706\n",
      "        41                                                  0:01:40          nan    0.6706\n",
      "        42                                                  0:01:27          nan    0.6706\n",
      "        43                                                  0:01:06          nan    0.6706\n",
      "        44                                                  0:00:41          nan    0.6706\n",
      "        45                                                  0:00:18          nan    0.6706\n",
      "        46    VotingEnsemble                                0:02:08       0.6735    0.6735\n",
      "        47    StackEnsemble                                 0:02:15       0.6726    0.6735\n"
     ]
    },
    {
     "data": {
      "text/plain": [
       "{'runId': 'AutoML_2cff4705-e70a-47d8-b6a8-71c6bc8122df',\n",
       " 'target': 'cpu-cluster',\n",
       " 'status': 'Completed',\n",
       " 'startTimeUtc': '2021-04-16T02:54:35.759543Z',\n",
       " 'endTimeUtc': '2021-04-16T03:22:18.446413Z',\n",
       " 'properties': {'num_iterations': '1000',\n",
       "  'training_type': 'TrainFull',\n",
       "  'acquisition_function': 'EI',\n",
       "  'primary_metric': 'accuracy',\n",
       "  'train_split': '0',\n",
       "  'acquisition_parameter': '0',\n",
       "  'num_cross_validation': '5',\n",
       "  'target': 'cpu-cluster',\n",
       "  'AMLSettingsJsonString': '{\"path\":null,\"name\":\"Udacity_capstone_AutoML\",\"subscription_id\":\"48a74bb7-9950-4cc1-9caa-5d50f995cc55\",\"resource_group\":\"aml-quickstarts-142816\",\"workspace_name\":\"quick-starts-ws-142816\",\"region\":\"southcentralus\",\"compute_target\":\"cpu-cluster\",\"spark_service\":null,\"azure_service\":\"remote\",\"many_models\":false,\"pipeline_fetch_max_batch_size\":1,\"iterations\":1000,\"primary_metric\":\"accuracy\",\"task_type\":\"classification\",\"data_script\":null,\"validation_size\":0.0,\"n_cross_validations\":5,\"y_min\":null,\"y_max\":null,\"num_classes\":null,\"featurization\":\"auto\",\"_ignore_package_version_incompatibilities\":false,\"is_timeseries\":false,\"max_cores_per_iteration\":-1,\"max_concurrent_iterations\":9,\"iteration_timeout_minutes\":null,\"mem_in_mb\":null,\"enforce_time_on_windows\":false,\"experiment_timeout_minutes\":60,\"experiment_exit_score\":null,\"whitelist_models\":null,\"blacklist_algos\":[\"TensorFlowLinearClassifier\",\"TensorFlowDNN\"],\"supported_models\":[\"DecisionTree\",\"MultinomialNaiveBayes\",\"LogisticRegression\",\"LightGBM\",\"ExtremeRandomTrees\",\"AveragedPerceptronClassifier\",\"XGBoostClassifier\",\"LinearSVM\",\"SGD\",\"KNN\",\"GradientBoosting\",\"TensorFlowDNN\",\"TensorFlowLinearClassifier\",\"RandomForest\",\"BernoulliNaiveBayes\",\"SVM\"],\"private_models\":[],\"auto_blacklist\":true,\"blacklist_samples_reached\":false,\"exclude_nan_labels\":true,\"verbosity\":20,\"_debug_log\":\"azureml_automl.log\",\"show_warnings\":false,\"model_explainability\":true,\"service_url\":null,\"sdk_url\":null,\"sdk_packages\":null,\"enable_onnx_compatible_models\":false,\"enable_split_onnx_featurizer_estimator_models\":false,\"vm_type\":\"STANDARD_DS12_V2\",\"telemetry_verbosity\":20,\"send_telemetry\":true,\"enable_dnn\":false,\"scenario\":\"SDK-1.13.0\",\"environment_label\":null,\"force_text_dnn\":false,\"enable_feature_sweeping\":true,\"enable_early_stopping\":true,\"early_stopping_n_iters\":10,\"metrics\":null,\"enable_ensembling\":true,\"enable_stack_ensembling\":true,\"ensemble_iterations\":15,\"enable_tf\":false,\"enable_subsampling\":null,\"subsample_seed\":null,\"enable_nimbusml\":false,\"enable_streaming\":false,\"force_streaming\":false,\"track_child_runs\":true,\"allowed_private_models\":[],\"label_column_name\":\"label\",\"weight_column_name\":null,\"cv_split_column_names\":null,\"enable_local_managed\":false,\"_local_managed_run_id\":null,\"cost_mode\":1,\"lag_length\":0,\"metric_operation\":\"maximize\",\"preprocess\":true}',\n",
       "  'DataPrepJsonString': '{\\\\\"training_data\\\\\": \\\\\"{\\\\\\\\\\\\\"blocks\\\\\\\\\\\\\": [{\\\\\\\\\\\\\"id\\\\\\\\\\\\\": \\\\\\\\\\\\\"ce428cc9-1284-498c-b28e-86e7e551d37d\\\\\\\\\\\\\", \\\\\\\\\\\\\"type\\\\\\\\\\\\\": \\\\\\\\\\\\\"Microsoft.DPrep.GetDatastoreFilesBlock\\\\\\\\\\\\\", \\\\\\\\\\\\\"arguments\\\\\\\\\\\\\": {\\\\\\\\\\\\\"datastores\\\\\\\\\\\\\": [{\\\\\\\\\\\\\"datastoreName\\\\\\\\\\\\\": \\\\\\\\\\\\\"workspaceblobstore\\\\\\\\\\\\\", \\\\\\\\\\\\\"path\\\\\\\\\\\\\": \\\\\\\\\\\\\"data/train_data.csv\\\\\\\\\\\\\", \\\\\\\\\\\\\"resourceGroup\\\\\\\\\\\\\": \\\\\\\\\\\\\"aml-quickstarts-142816\\\\\\\\\\\\\", \\\\\\\\\\\\\"subscription\\\\\\\\\\\\\": \\\\\\\\\\\\\"48a74bb7-9950-4cc1-9caa-5d50f995cc55\\\\\\\\\\\\\", \\\\\\\\\\\\\"workspaceName\\\\\\\\\\\\\": \\\\\\\\\\\\\"quick-starts-ws-142816\\\\\\\\\\\\\"}]}, \\\\\\\\\\\\\"localData\\\\\\\\\\\\\": {}, \\\\\\\\\\\\\"isEnabled\\\\\\\\\\\\\": true, \\\\\\\\\\\\\"name\\\\\\\\\\\\\": null, \\\\\\\\\\\\\"annotation\\\\\\\\\\\\\": null}, {\\\\\\\\\\\\\"id\\\\\\\\\\\\\": \\\\\\\\\\\\\"618ad09d-4d49-4eec-918f-ca53e57ed79a\\\\\\\\\\\\\", \\\\\\\\\\\\\"type\\\\\\\\\\\\\": \\\\\\\\\\\\\"Microsoft.DPrep.ParseDelimitedBlock\\\\\\\\\\\\\", \\\\\\\\\\\\\"arguments\\\\\\\\\\\\\": {\\\\\\\\\\\\\"columnHeadersMode\\\\\\\\\\\\\": 3, \\\\\\\\\\\\\"fileEncoding\\\\\\\\\\\\\": 0, \\\\\\\\\\\\\"handleQuotedLineBreaks\\\\\\\\\\\\\": false, \\\\\\\\\\\\\"preview\\\\\\\\\\\\\": false, \\\\\\\\\\\\\"separator\\\\\\\\\\\\\": \\\\\\\\\\\\\",\\\\\\\\\\\\\", \\\\\\\\\\\\\"skipRows\\\\\\\\\\\\\": 0, \\\\\\\\\\\\\"skipRowsMode\\\\\\\\\\\\\": 0}, \\\\\\\\\\\\\"localData\\\\\\\\\\\\\": {}, \\\\\\\\\\\\\"isEnabled\\\\\\\\\\\\\": true, \\\\\\\\\\\\\"name\\\\\\\\\\\\\": null, \\\\\\\\\\\\\"annotation\\\\\\\\\\\\\": null}, {\\\\\\\\\\\\\"id\\\\\\\\\\\\\": \\\\\\\\\\\\\"13b46fd7-1d83-4e22-923c-651c042a170a\\\\\\\\\\\\\", \\\\\\\\\\\\\"type\\\\\\\\\\\\\": \\\\\\\\\\\\\"Microsoft.DPrep.DropColumnsBlock\\\\\\\\\\\\\", \\\\\\\\\\\\\"arguments\\\\\\\\\\\\\": {\\\\\\\\\\\\\"columns\\\\\\\\\\\\\": {\\\\\\\\\\\\\"type\\\\\\\\\\\\\": 0, \\\\\\\\\\\\\"details\\\\\\\\\\\\\": {\\\\\\\\\\\\\"selectedColumns\\\\\\\\\\\\\": [\\\\\\\\\\\\\"Path\\\\\\\\\\\\\"]}}}, \\\\\\\\\\\\\"localData\\\\\\\\\\\\\": {}, \\\\\\\\\\\\\"isEnabled\\\\\\\\\\\\\": true, \\\\\\\\\\\\\"name\\\\\\\\\\\\\": null, \\\\\\\\\\\\\"annotation\\\\\\\\\\\\\": null}, {\\\\\\\\\\\\\"id\\\\\\\\\\\\\": \\\\\\\\\\\\\"ab5a26eb-6498-48b9-a1eb-e0f0e3d6d1ed\\\\\\\\\\\\\", \\\\\\\\\\\\\"type\\\\\\\\\\\\\": \\\\\\\\\\\\\"Microsoft.DPrep.SetColumnTypesBlock\\\\\\\\\\\\\", \\\\\\\\\\\\\"arguments\\\\\\\\\\\\\": {\\\\\\\\\\\\\"columnConversion\\\\\\\\\\\\\": [{\\\\\\\\\\\\\"column\\\\\\\\\\\\\": {\\\\\\\\\\\\\"type\\\\\\\\\\\\\": 2, \\\\\\\\\\\\\"details\\\\\\\\\\\\\": {\\\\\\\\\\\\\"selectedColumn\\\\\\\\\\\\\": \\\\\\\\\\\\\"n_tokens_title\\\\\\\\\\\\\"}}, \\\\\\\\\\\\\"typeProperty\\\\\\\\\\\\\": 3}, {\\\\\\\\\\\\\"column\\\\\\\\\\\\\": {\\\\\\\\\\\\\"type\\\\\\\\\\\\\": 2, \\\\\\\\\\\\\"details\\\\\\\\\\\\\": {\\\\\\\\\\\\\"selectedColumn\\\\\\\\\\\\\": \\\\\\\\\\\\\"n_tokens_content\\\\\\\\\\\\\"}}, \\\\\\\\\\\\\"typeProperty\\\\\\\\\\\\\": 3}, {\\\\\\\\\\\\\"column\\\\\\\\\\\\\": {\\\\\\\\\\\\\"type\\\\\\\\\\\\\": 2, \\\\\\\\\\\\\"details\\\\\\\\\\\\\": {\\\\\\\\\\\\\"selectedColumn\\\\\\\\\\\\\": \\\\\\\\\\\\\"n_unique_tokens\\\\\\\\\\\\\"}}, \\\\\\\\\\\\\"typeProperty\\\\\\\\\\\\\": 3}, {\\\\\\\\\\\\\"column\\\\\\\\\\\\\": {\\\\\\\\\\\\\"type\\\\\\\\\\\\\": 2, \\\\\\\\\\\\\"details\\\\\\\\\\\\\": {\\\\\\\\\\\\\"selectedColumn\\\\\\\\\\\\\": \\\\\\\\\\\\\"num_hrefs\\\\\\\\\\\\\"}}, \\\\\\\\\\\\\"typeProperty\\\\\\\\\\\\\": 3}, {\\\\\\\\\\\\\"column\\\\\\\\\\\\\": {\\\\\\\\\\\\\"type\\\\\\\\\\\\\": 2, \\\\\\\\\\\\\"details\\\\\\\\\\\\\": {\\\\\\\\\\\\\"selectedColumn\\\\\\\\\\\\\": \\\\\\\\\\\\\"num_self_hrefs\\\\\\\\\\\\\"}}, \\\\\\\\\\\\\"typeProperty\\\\\\\\\\\\\": 3}, {\\\\\\\\\\\\\"column\\\\\\\\\\\\\": {\\\\\\\\\\\\\"type\\\\\\\\\\\\\": 2, \\\\\\\\\\\\\"details\\\\\\\\\\\\\": {\\\\\\\\\\\\\"selectedColumn\\\\\\\\\\\\\": \\\\\\\\\\\\\"num_imgs\\\\\\\\\\\\\"}}, \\\\\\\\\\\\\"typeProperty\\\\\\\\\\\\\": 3}, {\\\\\\\\\\\\\"column\\\\\\\\\\\\\": {\\\\\\\\\\\\\"type\\\\\\\\\\\\\": 2, \\\\\\\\\\\\\"details\\\\\\\\\\\\\": {\\\\\\\\\\\\\"selectedColumn\\\\\\\\\\\\\": \\\\\\\\\\\\\"num_videos\\\\\\\\\\\\\"}}, \\\\\\\\\\\\\"typeProperty\\\\\\\\\\\\\": 3}, {\\\\\\\\\\\\\"column\\\\\\\\\\\\\": {\\\\\\\\\\\\\"type\\\\\\\\\\\\\": 2, \\\\\\\\\\\\\"details\\\\\\\\\\\\\": {\\\\\\\\\\\\\"selectedColumn\\\\\\\\\\\\\": \\\\\\\\\\\\\"average_token_length\\\\\\\\\\\\\"}}, \\\\\\\\\\\\\"typeProperty\\\\\\\\\\\\\": 3}, {\\\\\\\\\\\\\"column\\\\\\\\\\\\\": {\\\\\\\\\\\\\"type\\\\\\\\\\\\\": 2, \\\\\\\\\\\\\"details\\\\\\\\\\\\\": {\\\\\\\\\\\\\"selectedColumn\\\\\\\\\\\\\": \\\\\\\\\\\\\"num_keywords\\\\\\\\\\\\\"}}, \\\\\\\\\\\\\"typeProperty\\\\\\\\\\\\\": 3}, {\\\\\\\\\\\\\"column\\\\\\\\\\\\\": {\\\\\\\\\\\\\"type\\\\\\\\\\\\\": 2, \\\\\\\\\\\\\"details\\\\\\\\\\\\\": {\\\\\\\\\\\\\"selectedColumn\\\\\\\\\\\\\": \\\\\\\\\\\\\"data_channel_is_entertainment\\\\\\\\\\\\\"}}, \\\\\\\\\\\\\"typeProperty\\\\\\\\\\\\\": 2}, {\\\\\\\\\\\\\"column\\\\\\\\\\\\\": {\\\\\\\\\\\\\"type\\\\\\\\\\\\\": 2, \\\\\\\\\\\\\"details\\\\\\\\\\\\\": {\\\\\\\\\\\\\"selectedColumn\\\\\\\\\\\\\": \\\\\\\\\\\\\"data_channel_is_bus\\\\\\\\\\\\\"}}, \\\\\\\\\\\\\"typeProperty\\\\\\\\\\\\\": 2}, {\\\\\\\\\\\\\"column\\\\\\\\\\\\\": {\\\\\\\\\\\\\"type\\\\\\\\\\\\\": 2, \\\\\\\\\\\\\"details\\\\\\\\\\\\\": {\\\\\\\\\\\\\"selectedColumn\\\\\\\\\\\\\": \\\\\\\\\\\\\"data_channel_is_socmed\\\\\\\\\\\\\"}}, \\\\\\\\\\\\\"typeProperty\\\\\\\\\\\\\": 2}, {\\\\\\\\\\\\\"column\\\\\\\\\\\\\": {\\\\\\\\\\\\\"type\\\\\\\\\\\\\": 2, \\\\\\\\\\\\\"details\\\\\\\\\\\\\": {\\\\\\\\\\\\\"selectedColumn\\\\\\\\\\\\\": \\\\\\\\\\\\\"data_channel_is_tech\\\\\\\\\\\\\"}}, \\\\\\\\\\\\\"typeProperty\\\\\\\\\\\\\": 2}, {\\\\\\\\\\\\\"column\\\\\\\\\\\\\": {\\\\\\\\\\\\\"type\\\\\\\\\\\\\": 2, \\\\\\\\\\\\\"details\\\\\\\\\\\\\": {\\\\\\\\\\\\\"selectedColumn\\\\\\\\\\\\\": \\\\\\\\\\\\\"data_channel_is_world\\\\\\\\\\\\\"}}, \\\\\\\\\\\\\"typeProperty\\\\\\\\\\\\\": 2}, {\\\\\\\\\\\\\"column\\\\\\\\\\\\\": {\\\\\\\\\\\\\"type\\\\\\\\\\\\\": 2, \\\\\\\\\\\\\"details\\\\\\\\\\\\\": {\\\\\\\\\\\\\"selectedColumn\\\\\\\\\\\\\": \\\\\\\\\\\\\"kw_min_min\\\\\\\\\\\\\"}}, \\\\\\\\\\\\\"typeProperty\\\\\\\\\\\\\": 3}, {\\\\\\\\\\\\\"column\\\\\\\\\\\\\": {\\\\\\\\\\\\\"type\\\\\\\\\\\\\": 2, \\\\\\\\\\\\\"details\\\\\\\\\\\\\": {\\\\\\\\\\\\\"selectedColumn\\\\\\\\\\\\\": \\\\\\\\\\\\\"kw_max_min\\\\\\\\\\\\\"}}, \\\\\\\\\\\\\"typeProperty\\\\\\\\\\\\\": 3}, {\\\\\\\\\\\\\"column\\\\\\\\\\\\\": {\\\\\\\\\\\\\"type\\\\\\\\\\\\\": 2, \\\\\\\\\\\\\"details\\\\\\\\\\\\\": {\\\\\\\\\\\\\"selectedColumn\\\\\\\\\\\\\": \\\\\\\\\\\\\"kw_min_max\\\\\\\\\\\\\"}}, \\\\\\\\\\\\\"typeProperty\\\\\\\\\\\\\": 3}, {\\\\\\\\\\\\\"column\\\\\\\\\\\\\": {\\\\\\\\\\\\\"type\\\\\\\\\\\\\": 2, \\\\\\\\\\\\\"details\\\\\\\\\\\\\": {\\\\\\\\\\\\\"selectedColumn\\\\\\\\\\\\\": \\\\\\\\\\\\\"kw_avg_max\\\\\\\\\\\\\"}}, \\\\\\\\\\\\\"typeProperty\\\\\\\\\\\\\": 3}, {\\\\\\\\\\\\\"column\\\\\\\\\\\\\": {\\\\\\\\\\\\\"type\\\\\\\\\\\\\": 2, \\\\\\\\\\\\\"details\\\\\\\\\\\\\": {\\\\\\\\\\\\\"selectedColumn\\\\\\\\\\\\\": \\\\\\\\\\\\\"kw_min_avg\\\\\\\\\\\\\"}}, \\\\\\\\\\\\\"typeProperty\\\\\\\\\\\\\": 3}, {\\\\\\\\\\\\\"column\\\\\\\\\\\\\": {\\\\\\\\\\\\\"type\\\\\\\\\\\\\": 2, \\\\\\\\\\\\\"details\\\\\\\\\\\\\": {\\\\\\\\\\\\\"selectedColumn\\\\\\\\\\\\\": \\\\\\\\\\\\\"kw_max_avg\\\\\\\\\\\\\"}}, \\\\\\\\\\\\\"typeProperty\\\\\\\\\\\\\": 3}, {\\\\\\\\\\\\\"column\\\\\\\\\\\\\": {\\\\\\\\\\\\\"type\\\\\\\\\\\\\": 2, \\\\\\\\\\\\\"details\\\\\\\\\\\\\": {\\\\\\\\\\\\\"selectedColumn\\\\\\\\\\\\\": \\\\\\\\\\\\\"kw_avg_avg\\\\\\\\\\\\\"}}, \\\\\\\\\\\\\"typeProperty\\\\\\\\\\\\\": 3}, {\\\\\\\\\\\\\"column\\\\\\\\\\\\\": {\\\\\\\\\\\\\"type\\\\\\\\\\\\\": 2, \\\\\\\\\\\\\"details\\\\\\\\\\\\\": {\\\\\\\\\\\\\"selectedColumn\\\\\\\\\\\\\": \\\\\\\\\\\\\"self_reference_min_shares\\\\\\\\\\\\\"}}, \\\\\\\\\\\\\"typeProperty\\\\\\\\\\\\\": 3}, {\\\\\\\\\\\\\"column\\\\\\\\\\\\\": {\\\\\\\\\\\\\"type\\\\\\\\\\\\\": 2, \\\\\\\\\\\\\"details\\\\\\\\\\\\\": {\\\\\\\\\\\\\"selectedColumn\\\\\\\\\\\\\": \\\\\\\\\\\\\"self_reference_max_shares\\\\\\\\\\\\\"}}, \\\\\\\\\\\\\"typeProperty\\\\\\\\\\\\\": 3}, {\\\\\\\\\\\\\"column\\\\\\\\\\\\\": {\\\\\\\\\\\\\"type\\\\\\\\\\\\\": 2, \\\\\\\\\\\\\"details\\\\\\\\\\\\\": {\\\\\\\\\\\\\"selectedColumn\\\\\\\\\\\\\": \\\\\\\\\\\\\"weekday_is_wednesday\\\\\\\\\\\\\"}}, \\\\\\\\\\\\\"typeProperty\\\\\\\\\\\\\": 2}, {\\\\\\\\\\\\\"column\\\\\\\\\\\\\": {\\\\\\\\\\\\\"type\\\\\\\\\\\\\": 2, \\\\\\\\\\\\\"details\\\\\\\\\\\\\": {\\\\\\\\\\\\\"selectedColumn\\\\\\\\\\\\\": \\\\\\\\\\\\\"weekday_is_saturday\\\\\\\\\\\\\"}}, \\\\\\\\\\\\\"typeProperty\\\\\\\\\\\\\": 2}, {\\\\\\\\\\\\\"column\\\\\\\\\\\\\": {\\\\\\\\\\\\\"type\\\\\\\\\\\\\": 2, \\\\\\\\\\\\\"details\\\\\\\\\\\\\": {\\\\\\\\\\\\\"selectedColumn\\\\\\\\\\\\\": \\\\\\\\\\\\\"weekday_is_sunday\\\\\\\\\\\\\"}}, \\\\\\\\\\\\\"typeProperty\\\\\\\\\\\\\": 2}, {\\\\\\\\\\\\\"column\\\\\\\\\\\\\": {\\\\\\\\\\\\\"type\\\\\\\\\\\\\": 2, \\\\\\\\\\\\\"details\\\\\\\\\\\\\": {\\\\\\\\\\\\\"selectedColumn\\\\\\\\\\\\\": \\\\\\\\\\\\\"is_weekend\\\\\\\\\\\\\"}}, \\\\\\\\\\\\\"typeProperty\\\\\\\\\\\\\": 2}, {\\\\\\\\\\\\\"column\\\\\\\\\\\\\": {\\\\\\\\\\\\\"type\\\\\\\\\\\\\": 2, \\\\\\\\\\\\\"details\\\\\\\\\\\\\": {\\\\\\\\\\\\\"selectedColumn\\\\\\\\\\\\\": \\\\\\\\\\\\\"LDA_00\\\\\\\\\\\\\"}}, \\\\\\\\\\\\\"typeProperty\\\\\\\\\\\\\": 3}, {\\\\\\\\\\\\\"column\\\\\\\\\\\\\": {\\\\\\\\\\\\\"type\\\\\\\\\\\\\": 2, \\\\\\\\\\\\\"details\\\\\\\\\\\\\": {\\\\\\\\\\\\\"selectedColumn\\\\\\\\\\\\\": \\\\\\\\\\\\\"LDA_01\\\\\\\\\\\\\"}}, \\\\\\\\\\\\\"typeProperty\\\\\\\\\\\\\": 3}, {\\\\\\\\\\\\\"column\\\\\\\\\\\\\": {\\\\\\\\\\\\\"type\\\\\\\\\\\\\": 2, \\\\\\\\\\\\\"details\\\\\\\\\\\\\": {\\\\\\\\\\\\\"selectedColumn\\\\\\\\\\\\\": \\\\\\\\\\\\\"LDA_02\\\\\\\\\\\\\"}}, \\\\\\\\\\\\\"typeProperty\\\\\\\\\\\\\": 3}, {\\\\\\\\\\\\\"column\\\\\\\\\\\\\": {\\\\\\\\\\\\\"type\\\\\\\\\\\\\": 2, \\\\\\\\\\\\\"details\\\\\\\\\\\\\": {\\\\\\\\\\\\\"selectedColumn\\\\\\\\\\\\\": \\\\\\\\\\\\\"LDA_03\\\\\\\\\\\\\"}}, \\\\\\\\\\\\\"typeProperty\\\\\\\\\\\\\": 3}, {\\\\\\\\\\\\\"column\\\\\\\\\\\\\": {\\\\\\\\\\\\\"type\\\\\\\\\\\\\": 2, \\\\\\\\\\\\\"details\\\\\\\\\\\\\": {\\\\\\\\\\\\\"selectedColumn\\\\\\\\\\\\\": \\\\\\\\\\\\\"LDA_04\\\\\\\\\\\\\"}}, \\\\\\\\\\\\\"typeProperty\\\\\\\\\\\\\": 3}, {\\\\\\\\\\\\\"column\\\\\\\\\\\\\": {\\\\\\\\\\\\\"type\\\\\\\\\\\\\": 2, \\\\\\\\\\\\\"details\\\\\\\\\\\\\": {\\\\\\\\\\\\\"selectedColumn\\\\\\\\\\\\\": \\\\\\\\\\\\\"global_subjectivity\\\\\\\\\\\\\"}}, \\\\\\\\\\\\\"typeProperty\\\\\\\\\\\\\": 3}, {\\\\\\\\\\\\\"column\\\\\\\\\\\\\": {\\\\\\\\\\\\\"type\\\\\\\\\\\\\": 2, \\\\\\\\\\\\\"details\\\\\\\\\\\\\": {\\\\\\\\\\\\\"selectedColumn\\\\\\\\\\\\\": \\\\\\\\\\\\\"global_sentiment_polarity\\\\\\\\\\\\\"}}, \\\\\\\\\\\\\"typeProperty\\\\\\\\\\\\\": 3}, {\\\\\\\\\\\\\"column\\\\\\\\\\\\\": {\\\\\\\\\\\\\"type\\\\\\\\\\\\\": 2, \\\\\\\\\\\\\"details\\\\\\\\\\\\\": {\\\\\\\\\\\\\"selectedColumn\\\\\\\\\\\\\": \\\\\\\\\\\\\"global_rate_positive_words\\\\\\\\\\\\\"}}, \\\\\\\\\\\\\"typeProperty\\\\\\\\\\\\\": 3}, {\\\\\\\\\\\\\"column\\\\\\\\\\\\\": {\\\\\\\\\\\\\"type\\\\\\\\\\\\\": 2, \\\\\\\\\\\\\"details\\\\\\\\\\\\\": {\\\\\\\\\\\\\"selectedColumn\\\\\\\\\\\\\": \\\\\\\\\\\\\"global_rate_negative_words\\\\\\\\\\\\\"}}, \\\\\\\\\\\\\"typeProperty\\\\\\\\\\\\\": 3}, {\\\\\\\\\\\\\"column\\\\\\\\\\\\\": {\\\\\\\\\\\\\"type\\\\\\\\\\\\\": 2, \\\\\\\\\\\\\"details\\\\\\\\\\\\\": {\\\\\\\\\\\\\"selectedColumn\\\\\\\\\\\\\": \\\\\\\\\\\\\"rate_positive_words\\\\\\\\\\\\\"}}, \\\\\\\\\\\\\"typeProperty\\\\\\\\\\\\\": 3}, {\\\\\\\\\\\\\"column\\\\\\\\\\\\\": {\\\\\\\\\\\\\"type\\\\\\\\\\\\\": 2, \\\\\\\\\\\\\"details\\\\\\\\\\\\\": {\\\\\\\\\\\\\"selectedColumn\\\\\\\\\\\\\": \\\\\\\\\\\\\"rate_negative_words\\\\\\\\\\\\\"}}, \\\\\\\\\\\\\"typeProperty\\\\\\\\\\\\\": 3}, {\\\\\\\\\\\\\"column\\\\\\\\\\\\\": {\\\\\\\\\\\\\"type\\\\\\\\\\\\\": 2, \\\\\\\\\\\\\"details\\\\\\\\\\\\\": {\\\\\\\\\\\\\"selectedColumn\\\\\\\\\\\\\": \\\\\\\\\\\\\"avg_positive_polarity\\\\\\\\\\\\\"}}, \\\\\\\\\\\\\"typeProperty\\\\\\\\\\\\\": 3}, {\\\\\\\\\\\\\"column\\\\\\\\\\\\\": {\\\\\\\\\\\\\"type\\\\\\\\\\\\\": 2, \\\\\\\\\\\\\"details\\\\\\\\\\\\\": {\\\\\\\\\\\\\"selectedColumn\\\\\\\\\\\\\": \\\\\\\\\\\\\"min_positive_polarity\\\\\\\\\\\\\"}}, \\\\\\\\\\\\\"typeProperty\\\\\\\\\\\\\": 3}, {\\\\\\\\\\\\\"column\\\\\\\\\\\\\": {\\\\\\\\\\\\\"type\\\\\\\\\\\\\": 2, \\\\\\\\\\\\\"details\\\\\\\\\\\\\": {\\\\\\\\\\\\\"selectedColumn\\\\\\\\\\\\\": \\\\\\\\\\\\\"max_positive_polarity\\\\\\\\\\\\\"}}, \\\\\\\\\\\\\"typeProperty\\\\\\\\\\\\\": 3}, {\\\\\\\\\\\\\"column\\\\\\\\\\\\\": {\\\\\\\\\\\\\"type\\\\\\\\\\\\\": 2, \\\\\\\\\\\\\"details\\\\\\\\\\\\\": {\\\\\\\\\\\\\"selectedColumn\\\\\\\\\\\\\": \\\\\\\\\\\\\"avg_negative_polarity\\\\\\\\\\\\\"}}, \\\\\\\\\\\\\"typeProperty\\\\\\\\\\\\\": 3}, {\\\\\\\\\\\\\"column\\\\\\\\\\\\\": {\\\\\\\\\\\\\"type\\\\\\\\\\\\\": 2, \\\\\\\\\\\\\"details\\\\\\\\\\\\\": {\\\\\\\\\\\\\"selectedColumn\\\\\\\\\\\\\": \\\\\\\\\\\\\"min_negative_polarity\\\\\\\\\\\\\"}}, \\\\\\\\\\\\\"typeProperty\\\\\\\\\\\\\": 3}, {\\\\\\\\\\\\\"column\\\\\\\\\\\\\": {\\\\\\\\\\\\\"type\\\\\\\\\\\\\": 2, \\\\\\\\\\\\\"details\\\\\\\\\\\\\": {\\\\\\\\\\\\\"selectedColumn\\\\\\\\\\\\\": \\\\\\\\\\\\\"max_negative_polarity\\\\\\\\\\\\\"}}, \\\\\\\\\\\\\"typeProperty\\\\\\\\\\\\\": 3}, {\\\\\\\\\\\\\"column\\\\\\\\\\\\\": {\\\\\\\\\\\\\"type\\\\\\\\\\\\\": 2, \\\\\\\\\\\\\"details\\\\\\\\\\\\\": {\\\\\\\\\\\\\"selectedColumn\\\\\\\\\\\\\": \\\\\\\\\\\\\"title_subjectivity\\\\\\\\\\\\\"}}, \\\\\\\\\\\\\"typeProperty\\\\\\\\\\\\\": 3}, {\\\\\\\\\\\\\"column\\\\\\\\\\\\\": {\\\\\\\\\\\\\"type\\\\\\\\\\\\\": 2, \\\\\\\\\\\\\"details\\\\\\\\\\\\\": {\\\\\\\\\\\\\"selectedColumn\\\\\\\\\\\\\": \\\\\\\\\\\\\"title_sentiment_polarity\\\\\\\\\\\\\"}}, \\\\\\\\\\\\\"typeProperty\\\\\\\\\\\\\": 3}, {\\\\\\\\\\\\\"column\\\\\\\\\\\\\": {\\\\\\\\\\\\\"type\\\\\\\\\\\\\": 2, \\\\\\\\\\\\\"details\\\\\\\\\\\\\": {\\\\\\\\\\\\\"selectedColumn\\\\\\\\\\\\\": \\\\\\\\\\\\\"abs_title_sentiment_polarity\\\\\\\\\\\\\"}}, \\\\\\\\\\\\\"typeProperty\\\\\\\\\\\\\": 3}, {\\\\\\\\\\\\\"column\\\\\\\\\\\\\": {\\\\\\\\\\\\\"type\\\\\\\\\\\\\": 2, \\\\\\\\\\\\\"details\\\\\\\\\\\\\": {\\\\\\\\\\\\\"selectedColumn\\\\\\\\\\\\\": \\\\\\\\\\\\\"label\\\\\\\\\\\\\"}}, \\\\\\\\\\\\\"typeProperty\\\\\\\\\\\\\": 2}]}, \\\\\\\\\\\\\"localData\\\\\\\\\\\\\": {}, \\\\\\\\\\\\\"isEnabled\\\\\\\\\\\\\": true, \\\\\\\\\\\\\"name\\\\\\\\\\\\\": null, \\\\\\\\\\\\\"annotation\\\\\\\\\\\\\": null}], \\\\\\\\\\\\\"inspectors\\\\\\\\\\\\\": [], \\\\\\\\\\\\\"meta\\\\\\\\\\\\\": {\\\\\\\\\\\\\"savedDatasetId\\\\\\\\\\\\\": \\\\\\\\\\\\\"06b83274-3b05-42d5-a4c6-67d645689f83\\\\\\\\\\\\\", \\\\\\\\\\\\\"datasetType\\\\\\\\\\\\\": \\\\\\\\\\\\\"tabular\\\\\\\\\\\\\", \\\\\\\\\\\\\"subscriptionId\\\\\\\\\\\\\": \\\\\\\\\\\\\"48a74bb7-9950-4cc1-9caa-5d50f995cc55\\\\\\\\\\\\\", \\\\\\\\\\\\\"workspaceId\\\\\\\\\\\\\": \\\\\\\\\\\\\"0e7b02d1-7b9f-428a-a5eb-3c05c9619fbe\\\\\\\\\\\\\", \\\\\\\\\\\\\"workspaceLocation\\\\\\\\\\\\\": \\\\\\\\\\\\\"southcentralus\\\\\\\\\\\\\"}}\\\\\", \\\\\"activities\\\\\": 0}',\n",
       "  'EnableSubsampling': None,\n",
       "  'runTemplate': 'AutoML',\n",
       "  'azureml.runsource': 'automl',\n",
       "  'display_task_type': 'classification',\n",
       "  'dependencies_versions': '{\"azureml-widgets\": \"1.23.0\", \"azureml-train\": \"1.23.0\", \"azureml-train-restclients-hyperdrive\": \"1.23.0\", \"azureml-train-core\": \"1.23.0\", \"azureml-train-automl\": \"1.23.0\", \"azureml-train-automl-runtime\": \"1.23.0.post1\", \"azureml-train-automl-client\": \"1.23.0.post1\", \"azureml-telemetry\": \"1.23.0\", \"azureml-sdk\": \"1.23.0\", \"azureml-pipeline\": \"1.23.0\", \"azureml-pipeline-steps\": \"1.23.0\", \"azureml-pipeline-core\": \"1.23.0\", \"azureml-model-management-sdk\": \"1.0.1b6.post1\", \"azureml-interpret\": \"1.23.0\", \"azureml-defaults\": \"1.23.0\", \"azureml-dataset-runtime\": \"1.23.0\", \"azureml-dataprep\": \"2.10.1\", \"azureml-dataprep-rslex\": \"1.8.1\", \"azureml-dataprep-native\": \"30.0.0\", \"azureml-core\": \"1.23.0\", \"azureml-contrib-services\": \"1.23.0\", \"azureml-contrib-server\": \"1.23.0\", \"azureml-contrib-pipeline-steps\": \"1.23.0\", \"azureml-contrib-notebook\": \"1.23.0\", \"azureml-automl-runtime\": \"1.23.0\", \"azureml-automl-core\": \"1.23.0\"}',\n",
       "  '_aml_system_scenario_identification': 'Remote.Parent',\n",
       "  'ClientType': 'SDK',\n",
       "  'environment_cpu_name': 'AzureML-AutoML',\n",
       "  'environment_cpu_label': 'prod',\n",
       "  'environment_gpu_name': 'AzureML-AutoML-GPU',\n",
       "  'environment_gpu_label': 'prod',\n",
       "  'root_attribution': 'automl',\n",
       "  'attribution': 'AutoML',\n",
       "  'Orchestrator': 'AutoML',\n",
       "  'CancelUri': 'https://southcentralus.experiments.azureml.net/jasmine/v1.0/subscriptions/48a74bb7-9950-4cc1-9caa-5d50f995cc55/resourceGroups/aml-quickstarts-142816/providers/Microsoft.MachineLearningServices/workspaces/quick-starts-ws-142816/experimentids/ea8f3e5f-e50e-454b-97dc-ac2c8ed1ee4e/cancel/AutoML_2cff4705-e70a-47d8-b6a8-71c6bc8122df',\n",
       "  'ClientSdkVersion': '1.25.0',\n",
       "  'snapshotId': '00000000-0000-0000-0000-000000000000',\n",
       "  'SetupRunId': 'AutoML_2cff4705-e70a-47d8-b6a8-71c6bc8122df_setup',\n",
       "  'SetupRunContainerId': 'dcid.AutoML_2cff4705-e70a-47d8-b6a8-71c6bc8122df_setup',\n",
       "  'FeaturizationRunJsonPath': 'featurizer_container.json',\n",
       "  'FeaturizationRunId': 'AutoML_2cff4705-e70a-47d8-b6a8-71c6bc8122df_featurize',\n",
       "  'ProblemInfoJsonString': '{\"dataset_num_categorical\": 0, \"is_sparse\": false, \"subsampling\": false, \"dataset_classes\": 2, \"dataset_features\": 47, \"dataset_samples\": 31715, \"single_frequency_class_detected\": false}',\n",
       "  'ModelExplainRunId': 'AutoML_2cff4705-e70a-47d8-b6a8-71c6bc8122df_ModelExplain',\n",
       "  'azureml.git.repository_uri': 'https://github.com/franckess/AzureML_Capstone.git',\n",
       "  'mlflow.source.git.repoURL': 'https://github.com/franckess/AzureML_Capstone.git',\n",
       "  'azureml.git.branch': 'main',\n",
       "  'mlflow.source.git.branch': 'main',\n",
       "  'azureml.git.commit': '875b77ff2054e4163d36880535816d2c3a50c672',\n",
       "  'mlflow.source.git.commit': '875b77ff2054e4163d36880535816d2c3a50c672',\n",
       "  'azureml.git.dirty': 'False'},\n",
       " 'inputDatasets': [{'dataset': {'id': '06b83274-3b05-42d5-a4c6-67d645689f83'}, 'consumptionDetails': {'type': 'RunInput', 'inputName': 'training_data', 'mechanism': 'Direct'}}],\n",
       " 'outputDatasets': [],\n",
       " 'logFiles': {},\n",
       " 'submittedBy': 'ODL_User 142816'}"
      ]
     },
     "execution_count": 12,
     "metadata": {},
     "output_type": "execute_result"
    }
   ],
   "source": [
    "# Submit your automl run\n",
    "automl_exp = Experiment(workspace=ws, name=\"Udacity_capstone_AutoML\")  \n",
    "automl_run = automl_exp.submit(automl_config, show_output = True)\n",
    "RunDetails(automl_run).show()\n",
    "automl_run.wait_for_completion(show_output=True)"
   ]
  },
  {
   "cell_type": "markdown",
   "metadata": {},
   "source": [
    "## Examine Results"
   ]
  },
  {
   "cell_type": "markdown",
   "metadata": {},
   "source": [
    "### Retrieve the Best Model"
   ]
  },
  {
   "cell_type": "code",
   "execution_count": 13,
   "metadata": {},
   "outputs": [
    {
     "name": "stderr",
     "output_type": "stream",
     "text": [
      "WARNING:root:The version of the SDK does not match the version the model was trained on.\n",
      "WARNING:root:The consistency in the result may not be guaranteed.\n",
      "WARNING:root:Package:azureml-automl-core, training version:1.25.0, current version:1.23.0\n",
      "Package:azureml-automl-runtime, training version:1.25.0, current version:1.23.0\n",
      "Package:azureml-core, training version:1.25.0, current version:1.23.0\n",
      "Package:azureml-dataprep, training version:2.11.2, current version:2.10.1\n",
      "Package:azureml-dataprep-rslex, training version:1.9.1, current version:1.8.1\n",
      "Package:azureml-dataset-runtime, training version:1.25.0, current version:1.23.0\n",
      "Package:azureml-defaults, training version:1.25.0, current version:1.23.0\n",
      "Package:azureml-interpret, training version:1.25.0, current version:1.23.0\n",
      "Package:azureml-pipeline-core, training version:1.25.0, current version:1.23.0\n",
      "Package:azureml-telemetry, training version:1.25.0, current version:1.23.0\n",
      "Package:azureml-train-automl-client, training version:1.25.0, current version:1.23.0.post1\n",
      "Package:azureml-train-automl-runtime, training version:1.25.0, current version:1.23.0.post1\n",
      "WARNING:root:Below packages were used for model training but missing in current environment:\n",
      "WARNING:root:Package:azureml-mlflow, training version:1.25.0\n",
      "WARNING:root:Please ensure the version of your local conda dependencies match the version on which your model was trained in order to properly retrieve your model.\n"
     ]
    },
    {
     "name": "stdout",
     "output_type": "stream",
     "text": [
      "[('datatransformer', DataTransformer(enable_dnn=None, enable_feature_sweeping=None,\n",
      "                feature_sweeping_config=None, feature_sweeping_timeout=None,\n",
      "                featurization_config=None, force_text_dnn=None,\n",
      "                is_cross_validation=None, is_onnx_compatible=None, logger=None,\n",
      "                observer=None, task=None, working_dir=None)), ('prefittedsoftvotingclassifier', PreFittedSoftVotingClassifier(classification_labels=None,\n",
      "                              estimators=[('0',\n",
      "                                           Pipeline(memory=None,\n",
      "                                                    steps=[('maxabsscaler',\n",
      "                                                            MaxAbsScaler(copy=True)),\n",
      "                                                           ('lightgbmclassifier',\n",
      "                                                            LightGBMClassifier(boosting_type='gbdt',\n",
      "                                                                               class_weight=None,\n",
      "                                                                               colsample_bytree=1.0,\n",
      "                                                                               importance_type='split',\n",
      "                                                                               learning_rate=0.1,\n",
      "                                                                               max_depth=-1,\n",
      "                                                                               min_child_samples=20,\n",
      "                                                                               min_child_weight=0.001,\n",
      "                                                                               min_spl...\n",
      "                                                                              reg_alpha=0,\n",
      "                                                                              reg_lambda=0.4166666666666667,\n",
      "                                                                              scale_pos_weight=1,\n",
      "                                                                              seed=None,\n",
      "                                                                              silent=None,\n",
      "                                                                              subsample=1,\n",
      "                                                                              tree_method='auto',\n",
      "                                                                              verbose=-10,\n",
      "                                                                              verbosity=0))],\n",
      "                                                    verbose=False))],\n",
      "                              flatten_transform=None,\n",
      "                              weights=[0.2, 0.2, 0.06666666666666667,\n",
      "                                       0.06666666666666667, 0.06666666666666667,\n",
      "                                       0.06666666666666667, 0.06666666666666667,\n",
      "                                       0.06666666666666667, 0.06666666666666667,\n",
      "                                       0.13333333333333333]))]\n"
     ]
    }
   ],
   "source": [
    "best_run, best_model = automl_run.get_output()\n",
    "print(best_model.steps)"
   ]
  },
  {
   "cell_type": "code",
   "execution_count": 14,
   "metadata": {},
   "outputs": [
    {
     "name": "stdout",
     "output_type": "stream",
     "text": [
      "AUC_micro 0.7338737234596842\n",
      "precision_score_weighted 0.6729616090698627\n",
      "precision_score_micro 0.6734668138104999\n",
      "confusion_matrix aml://artifactId/ExperimentRun/dcid.AutoML_2cff4705-e70a-47d8-b6a8-71c6bc8122df_46/confusion_matrix\n",
      "precision_score_macro 0.6725023171927847\n",
      "log_loss 0.6090632455767384\n",
      "recall_score_weighted 0.6734668138104999\n",
      "average_precision_score_macro 0.7221139590591044\n",
      "recall_score_micro 0.6734668138104999\n",
      "matthews_correlation 0.3413271159346133\n",
      "average_precision_score_weighted 0.7241792006315771\n",
      "f1_score_micro 0.6734668138104999\n",
      "AUC_weighted 0.7320465066369046\n",
      "AUC_macro 0.7320465066369047\n",
      "f1_score_macro 0.6691688729872607\n",
      "f1_score_weighted 0.6717266066146178\n",
      "weighted_accuracy 0.6780437313668289\n",
      "norm_macro_recall 0.3376897220168126\n",
      "average_precision_score_micro 0.7260839275378123\n",
      "balanced_accuracy 0.6688448610084063\n",
      "recall_score_macro 0.6688448610084063\n",
      "accuracy 0.6734668138104999\n",
      "accuracy_table aml://artifactId/ExperimentRun/dcid.AutoML_2cff4705-e70a-47d8-b6a8-71c6bc8122df_46/accuracy_table\n"
     ]
    }
   ],
   "source": [
    "get_best_autoML_metrics = best_run.get_metrics()\n",
    "for run_metric in get_best_autoML_metrics:\n",
    "    metric = get_best_autoML_metrics[run_metric]\n",
    "    print(run_metric,metric)"
   ]
  },
  {
   "cell_type": "code",
   "execution_count": 15,
   "metadata": {},
   "outputs": [
    {
     "data": {
      "text/plain": [
       "['accuracy_table',\n",
       " 'automl_driver.py',\n",
       " 'azureml-logs/55_azureml-execution-tvmps_b9724c3e5b0d38a717d4b2f2ca8e8aa897af267d88c291514204f6e40909a9d2_d.txt',\n",
       " 'azureml-logs/65_job_prep-tvmps_b9724c3e5b0d38a717d4b2f2ca8e8aa897af267d88c291514204f6e40909a9d2_d.txt',\n",
       " 'azureml-logs/70_driver_log.txt',\n",
       " 'azureml-logs/75_job_post-tvmps_b9724c3e5b0d38a717d4b2f2ca8e8aa897af267d88c291514204f6e40909a9d2_d.txt',\n",
       " 'azureml-logs/process_info.json',\n",
       " 'azureml-logs/process_status.json',\n",
       " 'confusion_matrix',\n",
       " 'explanation/15c84899/classes.interpret.json',\n",
       " 'explanation/15c84899/eval_data_viz.interpret.json',\n",
       " 'explanation/15c84899/expected_values.interpret.json',\n",
       " 'explanation/15c84899/features.interpret.json',\n",
       " 'explanation/15c84899/global_names/0.interpret.json',\n",
       " 'explanation/15c84899/global_rank/0.interpret.json',\n",
       " 'explanation/15c84899/global_values/0.interpret.json',\n",
       " 'explanation/15c84899/local_importance_values.interpret.json',\n",
       " 'explanation/15c84899/per_class_names/0.interpret.json',\n",
       " 'explanation/15c84899/per_class_rank/0.interpret.json',\n",
       " 'explanation/15c84899/per_class_values/0.interpret.json',\n",
       " 'explanation/15c84899/rich_metadata.interpret.json',\n",
       " 'explanation/15c84899/true_ys_viz.interpret.json',\n",
       " 'explanation/15c84899/visualization_dict.interpret.json',\n",
       " 'explanation/b35f8b3e/classes.interpret.json',\n",
       " 'explanation/b35f8b3e/eval_data_viz.interpret.json',\n",
       " 'explanation/b35f8b3e/expected_values.interpret.json',\n",
       " 'explanation/b35f8b3e/features.interpret.json',\n",
       " 'explanation/b35f8b3e/global_names/0.interpret.json',\n",
       " 'explanation/b35f8b3e/global_rank/0.interpret.json',\n",
       " 'explanation/b35f8b3e/global_values/0.interpret.json',\n",
       " 'explanation/b35f8b3e/local_importance_values.interpret.json',\n",
       " 'explanation/b35f8b3e/per_class_names/0.interpret.json',\n",
       " 'explanation/b35f8b3e/per_class_rank/0.interpret.json',\n",
       " 'explanation/b35f8b3e/per_class_values/0.interpret.json',\n",
       " 'explanation/b35f8b3e/rich_metadata.interpret.json',\n",
       " 'explanation/b35f8b3e/true_ys_viz.interpret.json',\n",
       " 'explanation/b35f8b3e/visualization_dict.interpret.json',\n",
       " 'explanation/b35f8b3e/ys_pred_proba_viz.interpret.json',\n",
       " 'explanation/b35f8b3e/ys_pred_viz.interpret.json',\n",
       " 'logs/azureml/106_azureml.log',\n",
       " 'logs/azureml/azureml_automl.log',\n",
       " 'logs/azureml/job_prep_azureml.log',\n",
       " 'logs/azureml/job_release_azureml.log',\n",
       " 'outputs/conda_env_v_1_0_0.yml',\n",
       " 'outputs/env_dependencies.json',\n",
       " 'outputs/internal_cross_validated_models.pkl',\n",
       " 'outputs/model.pkl',\n",
       " 'outputs/pipeline_graph.json',\n",
       " 'outputs/scoring_file_v_1_0_0.py']"
      ]
     },
     "execution_count": 15,
     "metadata": {},
     "output_type": "execute_result"
    }
   ],
   "source": [
    "best_run.get_file_names()"
   ]
  },
  {
   "cell_type": "code",
   "execution_count": 16,
   "metadata": {},
   "outputs": [
    {
     "name": "stdout",
     "output_type": "stream",
     "text": [
      "Model saved successfully!\n"
     ]
    }
   ],
   "source": [
    "# Save the best model\n",
    "automl_model_name = best_run.properties['model_name']\n",
    "joblib.dump(best_model, filename=\"output/automl_model.pkl\")\n",
    "print(\"Model saved successfully!\")"
   ]
  },
  {
   "cell_type": "code",
   "execution_count": 17,
   "metadata": {},
   "outputs": [
    {
     "data": {
      "text/plain": [
       "Model(workspace=Workspace.create(name='quick-starts-ws-142816', subscription_id='48a74bb7-9950-4cc1-9caa-5d50f995cc55', resource_group='aml-quickstarts-142816'), name=best_autoML_model, id=best_autoML_model:1, version=1, tags={}, properties={})"
      ]
     },
     "execution_count": 17,
     "metadata": {},
     "output_type": "execute_result"
    }
   ],
   "source": [
    "# Register best model\n",
    "AutoML_model = best_run.register_model(model_name = 'best_autoML_model', model_path =  'outputs/model.pkl')\n",
    "AutoML_model"
   ]
  },
  {
   "cell_type": "code",
   "execution_count": 18,
   "metadata": {},
   "outputs": [
    {
     "name": "stdout",
     "output_type": "stream",
     "text": [
      "datatransformer\n",
      "{'enable_dnn': None,\n",
      " 'enable_feature_sweeping': None,\n",
      " 'feature_sweeping_config': None,\n",
      " 'feature_sweeping_timeout': None,\n",
      " 'featurization_config': None,\n",
      " 'force_text_dnn': None,\n",
      " 'is_cross_validation': None,\n",
      " 'is_onnx_compatible': None,\n",
      " 'logger': None,\n",
      " 'observer': None,\n",
      " 'task': None,\n",
      " 'working_dir': None}\n",
      "\n",
      "prefittedsoftvotingclassifier\n",
      "{'estimators': ['0', '8', '26', '27', '1', '20', '24', '37', '31', '22'],\n",
      " 'weights': [0.2,\n",
      "             0.2,\n",
      "             0.06666666666666667,\n",
      "             0.06666666666666667,\n",
      "             0.06666666666666667,\n",
      "             0.06666666666666667,\n",
      "             0.06666666666666667,\n",
      "             0.06666666666666667,\n",
      "             0.06666666666666667,\n",
      "             0.13333333333333333]}\n",
      "\n",
      "0 - maxabsscaler\n",
      "{'copy': True}\n",
      "\n",
      "0 - lightgbmclassifier\n",
      "{'boosting_type': 'gbdt',\n",
      " 'class_weight': None,\n",
      " 'colsample_bytree': 1.0,\n",
      " 'importance_type': 'split',\n",
      " 'learning_rate': 0.1,\n",
      " 'max_depth': -1,\n",
      " 'min_child_samples': 20,\n",
      " 'min_child_weight': 0.001,\n",
      " 'min_split_gain': 0.0,\n",
      " 'n_estimators': 100,\n",
      " 'n_jobs': -1,\n",
      " 'num_leaves': 31,\n",
      " 'objective': None,\n",
      " 'random_state': None,\n",
      " 'reg_alpha': 0.0,\n",
      " 'reg_lambda': 0.0,\n",
      " 'silent': True,\n",
      " 'subsample': 1.0,\n",
      " 'subsample_for_bin': 200000,\n",
      " 'subsample_freq': 0,\n",
      " 'verbose': -10}\n",
      "\n",
      "8 - standardscalerwrapper\n",
      "{'class_name': 'StandardScaler',\n",
      " 'copy': True,\n",
      " 'module_name': 'sklearn.preprocessing._data',\n",
      " 'with_mean': True,\n",
      " 'with_std': True}\n",
      "\n",
      "8 - lightgbmclassifier\n",
      "{'boosting_type': 'gbdt',\n",
      " 'class_weight': None,\n",
      " 'colsample_bytree': 0.5944444444444444,\n",
      " 'importance_type': 'split',\n",
      " 'learning_rate': 0.04211105263157895,\n",
      " 'max_bin': 120,\n",
      " 'max_depth': 10,\n",
      " 'min_child_samples': 2407,\n",
      " 'min_child_weight': 0,\n",
      " 'min_split_gain': 0,\n",
      " 'n_estimators': 800,\n",
      " 'n_jobs': -1,\n",
      " 'num_leaves': 104,\n",
      " 'objective': None,\n",
      " 'random_state': None,\n",
      " 'reg_alpha': 0.3684210526315789,\n",
      " 'reg_lambda': 0.894736842105263,\n",
      " 'silent': True,\n",
      " 'subsample': 0.5942105263157895,\n",
      " 'subsample_for_bin': 200000,\n",
      " 'subsample_freq': 0,\n",
      " 'verbose': -10}\n",
      "\n",
      "26 - robustscaler\n",
      "{'copy': True,\n",
      " 'quantile_range': [25, 75],\n",
      " 'with_centering': True,\n",
      " 'with_scaling': False}\n",
      "\n",
      "26 - lightgbmclassifier\n",
      "{'boosting_type': 'gbdt',\n",
      " 'class_weight': None,\n",
      " 'colsample_bytree': 0.5944444444444444,\n",
      " 'importance_type': 'split',\n",
      " 'learning_rate': 0.1,\n",
      " 'max_bin': 380,\n",
      " 'max_depth': -1,\n",
      " 'min_child_samples': 1094,\n",
      " 'min_child_weight': 1,\n",
      " 'min_split_gain': 0.21052631578947367,\n",
      " 'n_estimators': 100,\n",
      " 'n_jobs': -1,\n",
      " 'num_leaves': 101,\n",
      " 'objective': None,\n",
      " 'random_state': None,\n",
      " 'reg_alpha': 0.9473684210526315,\n",
      " 'reg_lambda': 0.3684210526315789,\n",
      " 'silent': True,\n",
      " 'subsample': 0.9405263157894738,\n",
      " 'subsample_for_bin': 200000,\n",
      " 'subsample_freq': 0,\n",
      " 'verbose': -10}\n",
      "\n",
      "27 - maxabsscaler\n",
      "{'copy': True}\n",
      "\n",
      "27 - lightgbmclassifier\n",
      "{'boosting_type': 'gbdt',\n",
      " 'class_weight': None,\n",
      " 'colsample_bytree': 0.7922222222222222,\n",
      " 'importance_type': 'split',\n",
      " 'learning_rate': 0.04737368421052632,\n",
      " 'max_bin': 360,\n",
      " 'max_depth': 2,\n",
      " 'min_child_samples': 2625,\n",
      " 'min_child_weight': 2,\n",
      " 'min_split_gain': 0.42105263157894735,\n",
      " 'n_estimators': 600,\n",
      " 'n_jobs': -1,\n",
      " 'num_leaves': 113,\n",
      " 'objective': None,\n",
      " 'random_state': None,\n",
      " 'reg_alpha': 0,\n",
      " 'reg_lambda': 0.05263157894736842,\n",
      " 'silent': True,\n",
      " 'subsample': 0.4457894736842105,\n",
      " 'subsample_for_bin': 200000,\n",
      " 'subsample_freq': 0,\n",
      " 'verbose': -10}\n",
      "\n",
      "1 - maxabsscaler\n",
      "{'copy': True}\n",
      "\n",
      "1 - xgboostclassifier\n",
      "{'base_score': 0.5,\n",
      " 'booster': 'gbtree',\n",
      " 'colsample_bylevel': 1,\n",
      " 'colsample_bynode': 1,\n",
      " 'colsample_bytree': 1,\n",
      " 'gamma': 0,\n",
      " 'learning_rate': 0.1,\n",
      " 'max_delta_step': 0,\n",
      " 'max_depth': 3,\n",
      " 'min_child_weight': 1,\n",
      " 'missing': nan,\n",
      " 'n_estimators': 100,\n",
      " 'n_jobs': -1,\n",
      " 'nthread': None,\n",
      " 'objective': 'binary:logistic',\n",
      " 'random_state': 0,\n",
      " 'reg_alpha': 0,\n",
      " 'reg_lambda': 1,\n",
      " 'scale_pos_weight': 1,\n",
      " 'seed': None,\n",
      " 'silent': None,\n",
      " 'subsample': 1,\n",
      " 'tree_method': 'auto',\n",
      " 'verbose': -10,\n",
      " 'verbosity': 0}\n",
      "\n",
      "20 - sparsenormalizer\n",
      "{'copy': True, 'norm': 'l1'}\n",
      "\n",
      "20 - xgboostclassifier\n",
      "{'base_score': 0.5,\n",
      " 'booster': 'gbtree',\n",
      " 'colsample_bylevel': 1,\n",
      " 'colsample_bynode': 1,\n",
      " 'colsample_bytree': 1,\n",
      " 'eta': 0.01,\n",
      " 'gamma': 0,\n",
      " 'learning_rate': 0.1,\n",
      " 'max_delta_step': 0,\n",
      " 'max_depth': 6,\n",
      " 'max_leaves': 31,\n",
      " 'min_child_weight': 1,\n",
      " 'missing': nan,\n",
      " 'n_estimators': 10,\n",
      " 'n_jobs': -1,\n",
      " 'nthread': None,\n",
      " 'objective': 'reg:logistic',\n",
      " 'random_state': 0,\n",
      " 'reg_alpha': 1.0416666666666667,\n",
      " 'reg_lambda': 1.4583333333333335,\n",
      " 'scale_pos_weight': 1,\n",
      " 'seed': None,\n",
      " 'silent': None,\n",
      " 'subsample': 0.9,\n",
      " 'tree_method': 'auto',\n",
      " 'verbose': -10,\n",
      " 'verbosity': 0}\n",
      "\n",
      "24 - maxabsscaler\n",
      "{'copy': True}\n",
      "\n",
      "24 - logisticregression\n",
      "{'C': 5.428675439323859,\n",
      " 'class_weight': None,\n",
      " 'dual': False,\n",
      " 'fit_intercept': True,\n",
      " 'intercept_scaling': 1,\n",
      " 'l1_ratio': None,\n",
      " 'max_iter': 100,\n",
      " 'multi_class': 'ovr',\n",
      " 'n_jobs': -1,\n",
      " 'penalty': 'l1',\n",
      " 'random_state': None,\n",
      " 'solver': 'saga',\n",
      " 'tol': 0.0001,\n",
      " 'verbose': 0,\n",
      " 'warm_start': False}\n",
      "\n",
      "37 - standardscalerwrapper\n",
      "{'class_name': 'StandardScaler',\n",
      " 'copy': True,\n",
      " 'module_name': 'sklearn.preprocessing._data',\n",
      " 'with_mean': False,\n",
      " 'with_std': False}\n",
      "\n",
      "37 - lightgbmclassifier\n",
      "{'boosting_type': 'gbdt',\n",
      " 'class_weight': None,\n",
      " 'colsample_bytree': 0.99,\n",
      " 'importance_type': 'split',\n",
      " 'learning_rate': 0.06842421052631578,\n",
      " 'max_bin': 130,\n",
      " 'max_depth': 5,\n",
      " 'min_child_samples': 1422,\n",
      " 'min_child_weight': 4,\n",
      " 'min_split_gain': 0.6842105263157894,\n",
      " 'n_estimators': 100,\n",
      " 'n_jobs': -1,\n",
      " 'num_leaves': 2,\n",
      " 'objective': None,\n",
      " 'random_state': None,\n",
      " 'reg_alpha': 0.15789473684210525,\n",
      " 'reg_lambda': 0,\n",
      " 'silent': True,\n",
      " 'subsample': 0.8415789473684211,\n",
      " 'subsample_for_bin': 200000,\n",
      " 'subsample_freq': 0,\n",
      " 'verbose': -10}\n",
      "\n",
      "31 - standardscalerwrapper\n",
      "{'class_name': 'StandardScaler',\n",
      " 'copy': True,\n",
      " 'module_name': 'sklearn.preprocessing._data',\n",
      " 'with_mean': False,\n",
      " 'with_std': False}\n",
      "\n",
      "31 - lightgbmclassifier\n",
      "{'boosting_type': 'goss',\n",
      " 'class_weight': None,\n",
      " 'colsample_bytree': 0.1988888888888889,\n",
      " 'importance_type': 'split',\n",
      " 'learning_rate': 0.1,\n",
      " 'max_bin': 270,\n",
      " 'max_depth': 9,\n",
      " 'min_child_samples': 1532,\n",
      " 'min_child_weight': 0,\n",
      " 'min_split_gain': 0.42105263157894735,\n",
      " 'n_estimators': 25,\n",
      " 'n_jobs': -1,\n",
      " 'num_leaves': 191,\n",
      " 'objective': None,\n",
      " 'random_state': None,\n",
      " 'reg_alpha': 0.15789473684210525,\n",
      " 'reg_lambda': 0,\n",
      " 'silent': True,\n",
      " 'subsample': 1,\n",
      " 'subsample_for_bin': 200000,\n",
      " 'subsample_freq': 0,\n",
      " 'verbose': -10}\n",
      "\n",
      "22 - sparsenormalizer\n",
      "{'copy': True, 'norm': 'l2'}\n",
      "\n",
      "22 - xgboostclassifier\n",
      "{'base_score': 0.5,\n",
      " 'booster': 'gbtree',\n",
      " 'colsample_bylevel': 1,\n",
      " 'colsample_bynode': 1,\n",
      " 'colsample_bytree': 0.6,\n",
      " 'eta': 0.5,\n",
      " 'gamma': 0,\n",
      " 'learning_rate': 0.1,\n",
      " 'max_delta_step': 0,\n",
      " 'max_depth': 2,\n",
      " 'max_leaves': 0,\n",
      " 'min_child_weight': 1,\n",
      " 'missing': nan,\n",
      " 'n_estimators': 25,\n",
      " 'n_jobs': -1,\n",
      " 'nthread': None,\n",
      " 'objective': 'reg:logistic',\n",
      " 'random_state': 0,\n",
      " 'reg_alpha': 0,\n",
      " 'reg_lambda': 0.4166666666666667,\n",
      " 'scale_pos_weight': 1,\n",
      " 'seed': None,\n",
      " 'silent': None,\n",
      " 'subsample': 1,\n",
      " 'tree_method': 'auto',\n",
      " 'verbose': -10,\n",
      " 'verbosity': 0}\n",
      "\n"
     ]
    }
   ],
   "source": [
    "def print_model(model, prefix=\"\"):\n",
    "    for step in model.steps:\n",
    "        print(prefix + step[0])\n",
    "        if hasattr(step[1], 'estimators') and hasattr(step[1], 'weights'):\n",
    "            pprint({'estimators': list(e[0] for e in step[1].estimators), 'weights': step[1].weights})\n",
    "            print()\n",
    "            for estimator in step[1].estimators:\n",
    "                print_model(estimator[1], estimator[0]+ ' - ')\n",
    "        elif hasattr(step[1], '_base_learners') and hasattr(step[1], '_meta_learner'):\n",
    "            print(\"\\nMeta Learner\")\n",
    "            pprint(step[1]._meta_learner)\n",
    "            print()\n",
    "            for estimator in step[1]._base_learners:\n",
    "                print_model(estimator[1], estimator[0]+ ' - ')\n",
    "        else:\n",
    "            pprint(step[1].get_params())\n",
    "            print()\n",
    "            \n",
    "print_model(best_model)"
   ]
  },
  {
   "cell_type": "code",
   "execution_count": 19,
   "metadata": {},
   "outputs": [],
   "source": [
    "# Download scoring file \n",
    "best_run.download_file('outputs/scoring_file_v_1_0_0.py', './automl_score.py')"
   ]
  },
  {
   "cell_type": "code",
   "execution_count": 20,
   "metadata": {},
   "outputs": [
    {
     "name": "stdout",
     "output_type": "stream",
     "text": [
      "# ---------------------------------------------------------\n",
      "# Copyright (c) Microsoft Corporation. All rights reserved.\n",
      "# ---------------------------------------------------------\n",
      "import json\n",
      "import logging\n",
      "import os\n",
      "import pickle\n",
      "import numpy as np\n",
      "import pandas as pd\n",
      "import joblib\n",
      "\n",
      "import azureml.automl.core\n",
      "from azureml.automl.core.shared import logging_utilities, log_server\n",
      "from azureml.telemetry import INSTRUMENTATION_KEY\n",
      "\n",
      "from inference_schema.schema_decorators import input_schema, output_schema\n",
      "from inference_schema.parameter_types.numpy_parameter_type import NumpyParameterType\n",
      "from inference_schema.parameter_types.pandas_parameter_type import PandasParameterType\n",
      "\n",
      "\n",
      "input_sample = pd.DataFrame({\"n_tokens_title\": pd.Series([0.0], dtype=\"float64\"), \"n_tokens_content\": pd.Series([0.0], dtype=\"float64\"), \"n_unique_tokens\": pd.Series([0.0], dtype=\"float64\"), \"num_hrefs\": pd.Series([0.0], dtype=\"float64\"), \"num_self_hrefs\": pd.Series([0.0], dtype=\"float64\"), \"num_imgs\": pd.Series([0.0], dtype=\"float64\"), \"num_videos\": pd.Series([0.0], dtype=\"float64\"), \"average_token_length\": pd.Series([0.0], dtype=\"float64\"), \"num_keywords\": pd.Series([0.0], dtype=\"float64\"), \"data_channel_is_entertainment\": pd.Series([0], dtype=\"int64\"), \"data_channel_is_bus\": pd.Series([0], dtype=\"int64\"), \"data_channel_is_socmed\": pd.Series([0], dtype=\"int64\"), \"data_channel_is_tech\": pd.Series([0], dtype=\"int64\"), \"data_channel_is_world\": pd.Series([0], dtype=\"int64\"), \"kw_min_min\": pd.Series([0.0], dtype=\"float64\"), \"kw_max_min\": pd.Series([0.0], dtype=\"float64\"), \"kw_min_max\": pd.Series([0.0], dtype=\"float64\"), \"kw_avg_max\": pd.Series([0.0], dtype=\"float64\"), \"kw_min_avg\": pd.Series([0.0], dtype=\"float64\"), \"kw_max_avg\": pd.Series([0.0], dtype=\"float64\"), \"kw_avg_avg\": pd.Series([0.0], dtype=\"float64\"), \"self_reference_min_shares\": pd.Series([0.0], dtype=\"float64\"), \"self_reference_max_shares\": pd.Series([0.0], dtype=\"float64\"), \"weekday_is_wednesday\": pd.Series([0], dtype=\"int64\"), \"weekday_is_saturday\": pd.Series([0], dtype=\"int64\"), \"weekday_is_sunday\": pd.Series([0], dtype=\"int64\"), \"is_weekend\": pd.Series([0], dtype=\"int64\"), \"LDA_00\": pd.Series([0.0], dtype=\"float64\"), \"LDA_01\": pd.Series([0.0], dtype=\"float64\"), \"LDA_02\": pd.Series([0.0], dtype=\"float64\"), \"LDA_03\": pd.Series([0.0], dtype=\"float64\"), \"LDA_04\": pd.Series([0.0], dtype=\"float64\"), \"global_subjectivity\": pd.Series([0.0], dtype=\"float64\"), \"global_sentiment_polarity\": pd.Series([0.0], dtype=\"float64\"), \"global_rate_positive_words\": pd.Series([0.0], dtype=\"float64\"), \"global_rate_negative_words\": pd.Series([0.0], dtype=\"float64\"), \"rate_positive_words\": pd.Series([0.0], dtype=\"float64\"), \"rate_negative_words\": pd.Series([0.0], dtype=\"float64\"), \"avg_positive_polarity\": pd.Series([0.0], dtype=\"float64\"), \"min_positive_polarity\": pd.Series([0.0], dtype=\"float64\"), \"max_positive_polarity\": pd.Series([0.0], dtype=\"float64\"), \"avg_negative_polarity\": pd.Series([0.0], dtype=\"float64\"), \"min_negative_polarity\": pd.Series([0.0], dtype=\"float64\"), \"max_negative_polarity\": pd.Series([0.0], dtype=\"float64\"), \"title_subjectivity\": pd.Series([0.0], dtype=\"float64\"), \"title_sentiment_polarity\": pd.Series([0.0], dtype=\"float64\"), \"abs_title_sentiment_polarity\": pd.Series([0.0], dtype=\"float64\")})\n",
      "output_sample = np.array([0])\n",
      "try:\n",
      "    log_server.enable_telemetry(INSTRUMENTATION_KEY)\n",
      "    log_server.set_verbosity('INFO')\n",
      "    logger = logging.getLogger('azureml.automl.core.scoring_script')\n",
      "except:\n",
      "    pass\n",
      "\n",
      "\n",
      "def init():\n",
      "    global model\n",
      "    # This name is model.id of model that we want to deploy deserialize the model file back\n",
      "    # into a sklearn model\n",
      "    model_path = os.path.join(os.getenv('AZUREML_MODEL_DIR'), 'model.pkl')\n",
      "    path = os.path.normpath(model_path)\n",
      "    path_split = path.split(os.sep)\n",
      "    log_server.update_custom_dimensions({'model_name': path_split[-3], 'model_version': path_split[-2]})\n",
      "    try:\n",
      "        logger.info(\"Loading model from path.\")\n",
      "        model = joblib.load(model_path)\n",
      "        logger.info(\"Loading successful.\")\n",
      "    except Exception as e:\n",
      "        logging_utilities.log_traceback(e, logger)\n",
      "        raise\n",
      "\n",
      "\n",
      "@input_schema('data', PandasParameterType(input_sample))\n",
      "@output_schema(NumpyParameterType(output_sample))\n",
      "def run(data):\n",
      "    try:\n",
      "        result = model.predict(data)\n",
      "        return json.dumps({\"result\": result.tolist()})\n",
      "    except Exception as e:\n",
      "        result = str(e)\n",
      "        return json.dumps({\"error\": result})\n",
      "\n"
     ]
    }
   ],
   "source": [
    "with open('automl_score.py') as f:\n",
    "    print(f.read())"
   ]
  },
  {
   "cell_type": "code",
   "execution_count": 21,
   "metadata": {},
   "outputs": [],
   "source": [
    "# Download environment file\n",
    "best_run.download_file('outputs/conda_env_v_1_0_0.yml', './AzureML_envFile.yml')"
   ]
  },
  {
   "cell_type": "markdown",
   "metadata": {},
   "source": [
    "## Model Deployment\n",
    "\n",
    "Create an inference config and deploy the model as a web service."
   ]
  },
  {
   "cell_type": "code",
   "execution_count": 22,
   "metadata": {},
   "outputs": [],
   "source": [
    "inference_config = InferenceConfig(entry_script='./automl_score.py')\n",
    "\n",
    "aciconfig = AciWebservice.deploy_configuration(cpu_cores = 2, \n",
    "                                               memory_gb = 2, \n",
    "                                               tags = {'Company': \"Mashable\", 'type': \"capstone_Classifier\"}, \n",
    "                                               description = 'sample service for Capstone Project AutoML Classifier for Online News popularity')"
   ]
  },
  {
   "cell_type": "code",
   "execution_count": 23,
   "metadata": {},
   "outputs": [
    {
     "name": "stdout",
     "output_type": "stream",
     "text": [
      "automl-deployment\n",
      "Tips: You can try get_logs(): https://aka.ms/debugimage#dockerlog or local deployment: https://aka.ms/debugimage#debug-locally to debug if deployment takes longer than 10 minutes.\n",
      "Running.............................................\n",
      "Succeeded\n",
      "ACI service creation operation finished, operation \"Succeeded\"\n",
      "Healthy\n",
      "http://a2363964-7952-40b8-b9f7-8933218819e2.southcentralus.azurecontainer.io/score\n",
      "http://a2363964-7952-40b8-b9f7-8933218819e2.southcentralus.azurecontainer.io/swagger.json\n"
     ]
    }
   ],
   "source": [
    "aci_service_name = 'automl-deployment'\n",
    "print(aci_service_name)\n",
    "aci_service = Model.deploy(ws, aci_service_name, [AutoML_model], inference_config, aciconfig)\n",
    "aci_service.wait_for_deployment(True)\n",
    "print(aci_service.state)\n",
    "print(aci_service.scoring_uri)\n",
    "print(aci_service.swagger_uri)"
   ]
  },
  {
   "cell_type": "markdown",
   "metadata": {},
   "source": [
    "Testing our deployment web service"
   ]
  },
  {
   "cell_type": "code",
   "execution_count": 24,
   "metadata": {},
   "outputs": [
    {
     "data": {
      "text/html": [
       "<div>\n",
       "<style scoped>\n",
       "    .dataframe tbody tr th:only-of-type {\n",
       "        vertical-align: middle;\n",
       "    }\n",
       "\n",
       "    .dataframe tbody tr th {\n",
       "        vertical-align: top;\n",
       "    }\n",
       "\n",
       "    .dataframe thead th {\n",
       "        text-align: right;\n",
       "    }\n",
       "</style>\n",
       "<table border=\"1\" class=\"dataframe\">\n",
       "  <thead>\n",
       "    <tr style=\"text-align: right;\">\n",
       "      <th></th>\n",
       "      <th>n_tokens_title</th>\n",
       "      <th>n_tokens_content</th>\n",
       "      <th>n_unique_tokens</th>\n",
       "      <th>num_hrefs</th>\n",
       "      <th>num_self_hrefs</th>\n",
       "      <th>num_imgs</th>\n",
       "      <th>num_videos</th>\n",
       "      <th>average_token_length</th>\n",
       "      <th>num_keywords</th>\n",
       "      <th>data_channel_is_entertainment</th>\n",
       "      <th>...</th>\n",
       "      <th>avg_positive_polarity</th>\n",
       "      <th>min_positive_polarity</th>\n",
       "      <th>max_positive_polarity</th>\n",
       "      <th>avg_negative_polarity</th>\n",
       "      <th>min_negative_polarity</th>\n",
       "      <th>max_negative_polarity</th>\n",
       "      <th>title_subjectivity</th>\n",
       "      <th>title_sentiment_polarity</th>\n",
       "      <th>abs_title_sentiment_polarity</th>\n",
       "      <th>label</th>\n",
       "    </tr>\n",
       "  </thead>\n",
       "  <tbody>\n",
       "    <tr>\n",
       "      <th>29000</th>\n",
       "      <td>0.52</td>\n",
       "      <td>0.13</td>\n",
       "      <td>0.00</td>\n",
       "      <td>0.04</td>\n",
       "      <td>0.01</td>\n",
       "      <td>0.01</td>\n",
       "      <td>0.01</td>\n",
       "      <td>0.64</td>\n",
       "      <td>0.33</td>\n",
       "      <td>0</td>\n",
       "      <td>...</td>\n",
       "      <td>0.40</td>\n",
       "      <td>0.05</td>\n",
       "      <td>0.80</td>\n",
       "      <td>0.65</td>\n",
       "      <td>0.00</td>\n",
       "      <td>0.93</td>\n",
       "      <td>0.83</td>\n",
       "      <td>0.75</td>\n",
       "      <td>0.50</td>\n",
       "      <td>0</td>\n",
       "    </tr>\n",
       "    <tr>\n",
       "      <th>4914</th>\n",
       "      <td>0.19</td>\n",
       "      <td>0.07</td>\n",
       "      <td>0.00</td>\n",
       "      <td>0.05</td>\n",
       "      <td>0.03</td>\n",
       "      <td>0.09</td>\n",
       "      <td>0.00</td>\n",
       "      <td>0.60</td>\n",
       "      <td>0.33</td>\n",
       "      <td>0</td>\n",
       "      <td>...</td>\n",
       "      <td>0.37</td>\n",
       "      <td>0.03</td>\n",
       "      <td>0.70</td>\n",
       "      <td>0.78</td>\n",
       "      <td>0.60</td>\n",
       "      <td>0.88</td>\n",
       "      <td>1.00</td>\n",
       "      <td>0.75</td>\n",
       "      <td>0.50</td>\n",
       "      <td>1</td>\n",
       "    </tr>\n",
       "    <tr>\n",
       "      <th>19445</th>\n",
       "      <td>0.43</td>\n",
       "      <td>0.05</td>\n",
       "      <td>0.00</td>\n",
       "      <td>0.02</td>\n",
       "      <td>0.04</td>\n",
       "      <td>0.01</td>\n",
       "      <td>0.00</td>\n",
       "      <td>0.57</td>\n",
       "      <td>0.44</td>\n",
       "      <td>0</td>\n",
       "      <td>...</td>\n",
       "      <td>0.46</td>\n",
       "      <td>0.14</td>\n",
       "      <td>0.80</td>\n",
       "      <td>0.68</td>\n",
       "      <td>0.10</td>\n",
       "      <td>0.95</td>\n",
       "      <td>0.00</td>\n",
       "      <td>0.50</td>\n",
       "      <td>0.00</td>\n",
       "      <td>1</td>\n",
       "    </tr>\n",
       "    <tr>\n",
       "      <th>32949</th>\n",
       "      <td>0.24</td>\n",
       "      <td>0.10</td>\n",
       "      <td>0.00</td>\n",
       "      <td>0.04</td>\n",
       "      <td>0.03</td>\n",
       "      <td>0.02</td>\n",
       "      <td>0.01</td>\n",
       "      <td>0.55</td>\n",
       "      <td>0.33</td>\n",
       "      <td>0</td>\n",
       "      <td>...</td>\n",
       "      <td>0.40</td>\n",
       "      <td>0.10</td>\n",
       "      <td>1.00</td>\n",
       "      <td>0.72</td>\n",
       "      <td>0.20</td>\n",
       "      <td>0.95</td>\n",
       "      <td>0.00</td>\n",
       "      <td>0.50</td>\n",
       "      <td>0.00</td>\n",
       "      <td>0</td>\n",
       "    </tr>\n",
       "    <tr>\n",
       "      <th>22685</th>\n",
       "      <td>0.29</td>\n",
       "      <td>0.04</td>\n",
       "      <td>0.00</td>\n",
       "      <td>0.02</td>\n",
       "      <td>0.00</td>\n",
       "      <td>0.01</td>\n",
       "      <td>0.00</td>\n",
       "      <td>0.58</td>\n",
       "      <td>0.44</td>\n",
       "      <td>0</td>\n",
       "      <td>...</td>\n",
       "      <td>0.35</td>\n",
       "      <td>0.03</td>\n",
       "      <td>0.80</td>\n",
       "      <td>0.80</td>\n",
       "      <td>0.69</td>\n",
       "      <td>0.90</td>\n",
       "      <td>0.45</td>\n",
       "      <td>0.57</td>\n",
       "      <td>0.14</td>\n",
       "      <td>0</td>\n",
       "    </tr>\n",
       "  </tbody>\n",
       "</table>\n",
       "<p>5 rows × 48 columns</p>\n",
       "</div>"
      ],
      "text/plain": [
       "       n_tokens_title  n_tokens_content  n_unique_tokens  num_hrefs  \\\n",
       "29000            0.52              0.13             0.00       0.04   \n",
       "4914             0.19              0.07             0.00       0.05   \n",
       "19445            0.43              0.05             0.00       0.02   \n",
       "32949            0.24              0.10             0.00       0.04   \n",
       "22685            0.29              0.04             0.00       0.02   \n",
       "\n",
       "       num_self_hrefs  num_imgs  num_videos  average_token_length  \\\n",
       "29000            0.01      0.01        0.01                  0.64   \n",
       "4914             0.03      0.09        0.00                  0.60   \n",
       "19445            0.04      0.01        0.00                  0.57   \n",
       "32949            0.03      0.02        0.01                  0.55   \n",
       "22685            0.00      0.01        0.00                  0.58   \n",
       "\n",
       "       num_keywords  data_channel_is_entertainment  ...  \\\n",
       "29000          0.33                              0  ...   \n",
       "4914           0.33                              0  ...   \n",
       "19445          0.44                              0  ...   \n",
       "32949          0.33                              0  ...   \n",
       "22685          0.44                              0  ...   \n",
       "\n",
       "       avg_positive_polarity  min_positive_polarity  max_positive_polarity  \\\n",
       "29000                   0.40                   0.05                   0.80   \n",
       "4914                    0.37                   0.03                   0.70   \n",
       "19445                   0.46                   0.14                   0.80   \n",
       "32949                   0.40                   0.10                   1.00   \n",
       "22685                   0.35                   0.03                   0.80   \n",
       "\n",
       "       avg_negative_polarity  min_negative_polarity  max_negative_polarity  \\\n",
       "29000                   0.65                   0.00                   0.93   \n",
       "4914                    0.78                   0.60                   0.88   \n",
       "19445                   0.68                   0.10                   0.95   \n",
       "32949                   0.72                   0.20                   0.95   \n",
       "22685                   0.80                   0.69                   0.90   \n",
       "\n",
       "       title_subjectivity  title_sentiment_polarity  \\\n",
       "29000                0.83                      0.75   \n",
       "4914                 1.00                      0.75   \n",
       "19445                0.00                      0.50   \n",
       "32949                0.00                      0.50   \n",
       "22685                0.45                      0.57   \n",
       "\n",
       "       abs_title_sentiment_polarity  label  \n",
       "29000                          0.50      0  \n",
       "4914                           0.50      1  \n",
       "19445                          0.00      1  \n",
       "32949                          0.00      0  \n",
       "22685                          0.14      0  \n",
       "\n",
       "[5 rows x 48 columns]"
      ]
     },
     "metadata": {},
     "output_type": "display_data"
    }
   ],
   "source": [
    "test_data = pd.concat([X_test, y_test], axis=1)\n",
    "test_data = test_data[10:15]\n",
    "display(test_data)"
   ]
  },
  {
   "cell_type": "code",
   "execution_count": 25,
   "metadata": {},
   "outputs": [
    {
     "name": "stdout",
     "output_type": "stream",
     "text": [
      "{\"data\": [{\"n_tokens_title\": 0.5238095238095238, \"n_tokens_content\": 0.13323105971206042, \"n_unique_tokens\": 0.0006325920646276748, \"num_hrefs\": 0.042763157894736836, \"num_self_hrefs\": 0.008620689655172414, \"num_imgs\": 0.0078125, \"num_videos\": 0.01098901098901099, \"average_token_length\": 0.6387343741908725, \"num_keywords\": 0.3333333333333333, \"data_channel_is_entertainment\": 0, \"data_channel_is_bus\": 0, \"data_channel_is_socmed\": 0, \"data_channel_is_tech\": 0, \"data_channel_is_world\": 1, \"kw_min_min\": 0.0, \"kw_max_min\": 0.002047587131367292, \"kw_min_max\": 0.012332503260998459, \"kw_avg_max\": 0.47818095576900277, \"kw_min_avg\": 0.5908604678089657, \"kw_max_avg\": 0.01182515012030831, \"kw_avg_avg\": 0.05734695866517057, \"self_reference_min_shares\": 0.001152614727854856, \"self_reference_max_shares\": 0.001152614727854856, \"weekday_is_wednesday\": 1, \"weekday_is_saturday\": 0, \"weekday_is_sunday\": 0, \"is_weekend\": 0, \"LDA_00\": 0.05393875832876898, \"LDA_01\": 0.3236042844264332, \"LDA_02\": 0.5982119195998494, \"LDA_03\": 0.05396522856706139, \"LDA_04\": 0.053930251835667194, \"global_subjectivity\": 0.49757416267899995, \"global_sentiment_polarity\": 0.3950170766327542, \"global_rate_positive_words\": 0.2449504159505239, \"global_rate_negative_words\": 0.16284486435072187, \"rate_positive_words\": 0.558441558442, \"rate_negative_words\": 0.441558441558, \"avg_positive_polarity\": 0.401116983791, \"min_positive_polarity\": 0.05, \"max_positive_polarity\": 0.8, \"avg_negative_polarity\": 0.6535364145660001, \"min_negative_polarity\": 0.0, \"max_negative_polarity\": 0.9285714285714, \"title_subjectivity\": 0.833333333333, \"title_sentiment_polarity\": 0.75, \"abs_title_sentiment_polarity\": 0.5}, {\"n_tokens_title\": 0.19047619047619047, \"n_tokens_content\": 0.06962473448194477, \"n_unique_tokens\": 0.000744605370379458, \"num_hrefs\": 0.046052631578947366, \"num_self_hrefs\": 0.034482758620689655, \"num_imgs\": 0.0859375, \"num_videos\": 0.0, \"average_token_length\": 0.5983764637748782, \"num_keywords\": 0.3333333333333333, \"data_channel_is_entertainment\": 0, \"data_channel_is_bus\": 0, \"data_channel_is_socmed\": 1, \"data_channel_is_tech\": 0, \"data_channel_is_world\": 0, \"kw_min_min\": 0.013227513227513227, \"kw_max_min\": 0.002550268096514745, \"kw_min_max\": 0.020277481323372468, \"kw_avg_max\": 0.2266097474208467, \"kw_min_avg\": 0.922283449140619, \"kw_max_avg\": 0.013643434767359248, \"kw_avg_avg\": 0.08472303532693719, \"self_reference_min_shares\": 0.0009024072097711372, \"self_reference_max_shares\": 0.020277481323372468, \"weekday_is_wednesday\": 0, \"weekday_is_saturday\": 0, \"weekday_is_sunday\": 0, \"is_weekend\": 0, \"LDA_00\": 0.8621355826953756, \"LDA_01\": 0.054075608761080377, \"LDA_02\": 0.05450107948911606, \"LDA_03\": 0.05421178467075573, \"LDA_04\": 0.05431893351240685, \"global_subjectivity\": 0.4905946255, \"global_sentiment_polarity\": 0.5780906501502268, \"global_rate_positive_words\": 0.4251246261220628, \"global_rate_negative_words\": 0.03666038920282912, \"rate_positive_words\": 0.9069767441859999, \"rate_negative_words\": 0.09302325581399999, \"avg_positive_polarity\": 0.374028749029, \"min_positive_polarity\": 0.0333333333333, \"max_positive_polarity\": 0.7, \"avg_negative_polarity\": 0.777083333333, \"min_negative_polarity\": 0.6, \"max_negative_polarity\": 0.875, \"title_subjectivity\": 1.0, \"title_sentiment_polarity\": 0.75, \"abs_title_sentiment_polarity\": 0.5}, {\"n_tokens_title\": 0.4285714285714285, \"n_tokens_content\": 0.04826528203917866, \"n_unique_tokens\": 0.0007765120884864479, \"num_hrefs\": 0.019736842105263157, \"num_self_hrefs\": 0.04310344827586207, \"num_imgs\": 0.0078125, \"num_videos\": 0.0, \"average_token_length\": 0.573732846472499, \"num_keywords\": 0.4444444444444445, \"data_channel_is_entertainment\": 0, \"data_channel_is_bus\": 0, \"data_channel_is_socmed\": 0, \"data_channel_is_tech\": 0, \"data_channel_is_world\": 1, \"kw_min_min\": 0.0, \"kw_max_min\": 0.0016454423592493297, \"kw_min_max\": 0.06344124273686708, \"kw_avg_max\": 0.4523419898019685, \"kw_min_avg\": 0.6096003960810814, \"kw_max_avg\": 0.03982007488203753, \"kw_avg_avg\": 0.10742015202795313, \"self_reference_min_shares\": 0.0028459622909996446, \"self_reference_max_shares\": 0.003676034625874541, \"weekday_is_wednesday\": 0, \"weekday_is_saturday\": 0, \"weekday_is_sunday\": 0, \"is_weekend\": 0, \"LDA_00\": 0.04315531901468344, \"LDA_01\": 0.043929010419002316, \"LDA_02\": 0.6126789315229797, \"LDA_03\": 0.3406804313699961, \"LDA_04\": 0.04314466774839296, \"global_subjectivity\": 0.48423091458800005, \"global_sentiment_polarity\": 0.5012176434236676, \"global_rate_positive_words\": 0.3459417997025869, \"global_rate_negative_words\": 0.09254731504120951, \"rate_positive_words\": 0.758620689655, \"rate_negative_words\": 0.241379310345, \"avg_positive_polarity\": 0.45771349862300004, \"min_positive_polarity\": 0.13636363636399998, \"max_positive_polarity\": 0.8, \"avg_negative_polarity\": 0.679081632653, \"min_negative_polarity\": 0.09999999999999998, \"max_negative_polarity\": 0.95, \"title_subjectivity\": 0.0, \"title_sentiment_polarity\": 0.5, \"abs_title_sentiment_polarity\": 0.0}, {\"n_tokens_title\": 0.23809523809523808, \"n_tokens_content\": 0.09676658012744867, \"n_unique_tokens\": 0.0007906967412824537, \"num_hrefs\": 0.039473684210526314, \"num_self_hrefs\": 0.034482758620689655, \"num_imgs\": 0.015625, \"num_videos\": 0.01098901098901099, \"average_token_length\": 0.5482208785141449, \"num_keywords\": 0.3333333333333333, \"data_channel_is_entertainment\": 0, \"data_channel_is_bus\": 1, \"data_channel_is_socmed\": 0, \"data_channel_is_tech\": 0, \"data_channel_is_world\": 0, \"kw_min_min\": 0.0, \"kw_max_min\": 0.002530160857908847, \"kw_min_max\": 0.002608798766749674, \"kw_avg_max\": 0.4589114194236927, \"kw_min_avg\": 0.374281063360597, \"kw_max_avg\": 0.012407004021447721, \"kw_avg_avg\": 0.06732012144004866, \"self_reference_min_shares\": 0.001304399383374837, \"self_reference_max_shares\": 0.04209652555436974, \"weekday_is_wednesday\": 0, \"weekday_is_saturday\": 0, \"weekday_is_sunday\": 0, \"is_weekend\": 0, \"LDA_00\": 0.5951773063105151, \"LDA_01\": 0.05400400676421386, \"LDA_02\": 0.05435133140577854, \"LDA_03\": 0.053967673136965176, \"LDA_04\": 0.321684685995421, \"global_subjectivity\": 0.455740740741, \"global_sentiment_polarity\": 0.4394639573717415, \"global_rate_positive_words\": 0.17254901960800706, \"global_rate_negative_words\": 0.10551038843766124, \"rate_positive_words\": 0.578947368421, \"rate_negative_words\": 0.42105263157899997, \"avg_positive_polarity\": 0.39756198347099997, \"min_positive_polarity\": 0.1, \"max_positive_polarity\": 1.0, \"avg_negative_polarity\": 0.722048611111, \"min_negative_polarity\": 0.19999999999999996, \"max_negative_polarity\": 0.95, \"title_subjectivity\": 0.0, \"title_sentiment_polarity\": 0.5, \"abs_title_sentiment_polarity\": 0.0}, {\"n_tokens_title\": 0.2857142857142857, \"n_tokens_content\": 0.04106679254189285, \"n_unique_tokens\": 0.0009524086762039943, \"num_hrefs\": 0.023026315789473683, \"num_self_hrefs\": 0.0, \"num_imgs\": 0.0078125, \"num_videos\": 0.0, \"average_token_length\": 0.5806778275545574, \"num_keywords\": 0.4444444444444445, \"data_channel_is_entertainment\": 0, \"data_channel_is_bus\": 0, \"data_channel_is_socmed\": 0, \"data_channel_is_tech\": 1, \"data_channel_is_world\": 0, \"kw_min_min\": 0.0, \"kw_max_min\": 0.002017426273458445, \"kw_min_max\": 0.0, \"kw_avg_max\": 0.24721925767816913, \"kw_min_avg\": 0.00027669866685042484, \"kw_max_avg\": 0.011984092525435655, \"kw_avg_avg\": 0.05679011509518813, \"self_reference_min_shares\": 0.0, \"self_reference_max_shares\": 0.0, \"weekday_is_wednesday\": 0, \"weekday_is_saturday\": 0, \"weekday_is_sunday\": 0, \"is_weekend\": 0, \"LDA_00\": 0.04315057952879876, \"LDA_01\": 0.47598768348419646, \"LDA_02\": 0.043480099459014085, \"LDA_03\": 0.04317233966060284, \"LDA_04\": 0.4737514724002965, \"global_subjectivity\": 0.5153467908899999, \"global_sentiment_polarity\": 0.48819435267157135, \"global_rate_positive_words\": 0.2772143340097968, \"global_rate_negative_words\": 0.062154108131424406, \"rate_positive_words\": 0.7894736842110001, \"rate_negative_words\": 0.210526315789, \"avg_positive_polarity\": 0.34833333333300004, \"min_positive_polarity\": 0.0333333333333, \"max_positive_polarity\": 0.8, \"avg_negative_polarity\": 0.803125, \"min_negative_polarity\": 0.6875, \"max_negative_polarity\": 0.9, \"title_subjectivity\": 0.45454545454499995, \"title_sentiment_polarity\": 0.568181818182, \"abs_title_sentiment_polarity\": 0.13636363636399998}]}\n"
     ]
    }
   ],
   "source": [
    "# remove label column\n",
    "label_data = test_data.pop('label')\n",
    "\n",
    "# convert test input data to dictionary form\n",
    "input_data = json.dumps({'data': test_data.to_dict(orient='records')})\n",
    "\n",
    "# print test input data\n",
    "print(input_data)"
   ]
  },
  {
   "cell_type": "code",
   "execution_count": 26,
   "metadata": {},
   "outputs": [
    {
     "name": "stdout",
     "output_type": "stream",
     "text": [
      "{\"result\": [0, 1, 0, 1, 1]}\n"
     ]
    }
   ],
   "source": [
    "output = aci_service.run(input_data)\n",
    "print(output)"
   ]
  },
  {
   "cell_type": "code",
   "execution_count": 27,
   "metadata": {},
   "outputs": [
    {
     "name": "stdout",
     "output_type": "stream",
     "text": [
      "2021-04-16T06:12:08,821807800+00:00 - gunicorn/run \n",
      "2021-04-16T06:12:08,824846900+00:00 - rsyslog/run \n",
      "2021-04-16T06:12:08,825948800+00:00 - iot-server/run \n",
      "2021-04-16T06:12:08,832464100+00:00 - nginx/run \n",
      "/usr/sbin/nginx: /azureml-envs/azureml_8e5a5a51349877e7d47c6a2872e0ebfd/lib/libcrypto.so.1.0.0: no version information available (required by /usr/sbin/nginx)\n",
      "/usr/sbin/nginx: /azureml-envs/azureml_8e5a5a51349877e7d47c6a2872e0ebfd/lib/libcrypto.so.1.0.0: no version information available (required by /usr/sbin/nginx)\n",
      "/usr/sbin/nginx: /azureml-envs/azureml_8e5a5a51349877e7d47c6a2872e0ebfd/lib/libssl.so.1.0.0: no version information available (required by /usr/sbin/nginx)\n",
      "/usr/sbin/nginx: /azureml-envs/azureml_8e5a5a51349877e7d47c6a2872e0ebfd/lib/libssl.so.1.0.0: no version information available (required by /usr/sbin/nginx)\n",
      "/usr/sbin/nginx: /azureml-envs/azureml_8e5a5a51349877e7d47c6a2872e0ebfd/lib/libssl.so.1.0.0: no version information available (required by /usr/sbin/nginx)\n",
      "rsyslogd: /azureml-envs/azureml_8e5a5a51349877e7d47c6a2872e0ebfd/lib/libuuid.so.1: no version information available (required by rsyslogd)\n",
      "EdgeHubConnectionString and IOTEDGE_IOTHUBHOSTNAME are not set. Exiting...\n",
      "2021-04-16T06:12:08,978792000+00:00 - iot-server/finish 1 0\n",
      "2021-04-16T06:12:08,983098100+00:00 - Exit code 1 is normal. Not restarting iot-server.\n",
      "Starting gunicorn 19.9.0\n",
      "Listening at: http://127.0.0.1:31311 (77)\n",
      "Using worker: sync\n",
      "worker timeout is set to 300\n",
      "Booting worker with pid: 105\n",
      "SPARK_HOME not set. Skipping PySpark Initialization.\n",
      "Generating new fontManager, this may take some time...\n",
      "Initializing logger\n",
      "2021-04-16 06:12:10,982 | root | INFO | Starting up app insights client\n",
      "2021-04-16 06:12:10,983 | root | INFO | Starting up request id generator\n",
      "2021-04-16 06:12:10,983 | root | INFO | Starting up app insight hooks\n",
      "2021-04-16 06:12:10,984 | root | INFO | Invoking user's init function\n",
      "2021-04-16 06:12:14,533 | azureml.core | WARNING | Failure while loading azureml_run_type_providers. Failed to load entrypoint automl = azureml.train.automl.run:AutoMLRun._from_run_dto with exception cannot import name 'RunType'.\n",
      "Failure while loading azureml_run_type_providers. Failed to load entrypoint automl = azureml.train.automl.run:AutoMLRun._from_run_dto with exception cannot import name 'RunType'.\n",
      "2021-04-16 06:12:14,942 | root | INFO | Users's init has completed successfully\n",
      "2021-04-16 06:12:14,946 | root | INFO | Skipping middleware: dbg_model_info as it's not enabled.\n",
      "2021-04-16 06:12:14,946 | root | INFO | Skipping middleware: dbg_resource_usage as it's not enabled.\n",
      "2021-04-16 06:12:14,948 | root | INFO | Scoring timeout is found from os.environ: 60000 ms\n",
      "2021-04-16 06:12:16,020 | root | INFO | 200\n",
      "127.0.0.1 - - [16/Apr/2021:06:12:16 +0000] \"GET /swagger.json HTTP/1.0\" 200 5993 \"-\" \"Go-http-client/1.1\"\n",
      "2021-04-16 06:12:23,747 | root | INFO | 200\n",
      "127.0.0.1 - - [16/Apr/2021:06:12:23 +0000] \"GET /swagger.json HTTP/1.0\" 200 5993 \"-\" \"Go-http-client/1.1\"\n",
      "2021-04-16 06:16:11,345 | root | INFO | Validation Request Content-Type\n",
      "2021-04-16 06:16:11,350 | root | INFO | Scoring Timer is set to 60.0 seconds\n",
      "2021-04-16 06:16:11,706 | root | INFO | 200\n",
      "127.0.0.1 - - [16/Apr/2021:06:16:11 +0000] \"POST /score HTTP/1.0\" 200 31 \"-\" \"python-requests/2.25.1\"\n",
      "\n"
     ]
    }
   ],
   "source": [
    "print(aci_service.get_logs())"
   ]
  },
  {
   "cell_type": "markdown",
   "metadata": {},
   "source": [
    "### Create Pipeline and AutoMLStep\n",
    "\n",
    "Define outputs for the AutoMLStep using TrainingOutput."
   ]
  },
  {
   "cell_type": "code",
   "execution_count": null,
   "metadata": {},
   "outputs": [],
   "source": [
    "ds = ws.get_default_datastore()\n",
    "metrics_output_name = 'metrics_output'\n",
    "best_model_output_name = 'best_model_output'\n",
    "\n",
    "metrics_data = PipelineData(name='metrics_data',\n",
    "                           datastore=ds,\n",
    "                           pipeline_output_name=metrics_output_name,\n",
    "                           training_output=TrainingOutput(type='Metrics'))\n",
    "model_data = PipelineData(name='model_data',\n",
    "                           datastore=ds,\n",
    "                           pipeline_output_name=best_model_output_name,\n",
    "                           training_output=TrainingOutput(type='Model'))"
   ]
  },
  {
   "cell_type": "code",
   "execution_count": null,
   "metadata": {},
   "outputs": [],
   "source": [
    "# Create AutoMLStep\n",
    "automl_step = AutoMLStep(name='automl_module',\n",
    "                         automl_config=automl_config,\n",
    "                         outputs=[metrics_data, model_data],\n",
    "                         allow_reuse=True)"
   ]
  },
  {
   "cell_type": "code",
   "execution_count": null,
   "metadata": {},
   "outputs": [],
   "source": [
    "pipeline = Pipeline(description=\"pipeline_with_automlstep\",\n",
    "                    workspace=ws,    \n",
    "                    steps=[automl_step])\n",
    "\n",
    "pipeline_run = experiment.submit(pipeline)"
   ]
  },
  {
   "cell_type": "code",
   "execution_count": null,
   "metadata": {},
   "outputs": [],
   "source": [
    "RunDetails(pipeline_run).show()\n",
    "pipeline_run.wait_for_completion()"
   ]
  },
  {
   "cell_type": "markdown",
   "metadata": {},
   "source": [
    "## Examine Results"
   ]
  },
  {
   "cell_type": "markdown",
   "metadata": {},
   "source": [
    "### Retrieve the metrics of all child runs\n",
    "\n",
    "Outputs of above run can be used as inputs of other steps in pipeline. In this tutorial, we will examine the outputs by retrieve output data and running some tests."
   ]
  },
  {
   "cell_type": "code",
   "execution_count": null,
   "metadata": {},
   "outputs": [],
   "source": [
    "metrics_output = pipeline_run.get_pipeline_output(metrics_output_name)\n",
    "num_file_downloaded = metrics_output.download('.', show_progress=True)"
   ]
  },
  {
   "cell_type": "code",
   "execution_count": null,
   "metadata": {},
   "outputs": [],
   "source": [
    "with open(metrics_output._path_on_datastore) as f:\n",
    "    metrics_output_result = f.read()\n",
    "    \n",
    "deserialized_metrics_output = json.loads(metrics_output_result)\n",
    "df = pd.DataFrame(deserialized_metrics_output)\n",
    "df"
   ]
  },
  {
   "cell_type": "markdown",
   "metadata": {},
   "source": [
    "### Retrieve the Best Model"
   ]
  },
  {
   "cell_type": "code",
   "execution_count": null,
   "metadata": {},
   "outputs": [],
   "source": [
    "# Retrieve best model from Pipeline Run\n",
    "best_model_output = pipeline_run.get_pipeline_output(best_model_output_name)\n",
    "num_file_downloaded = best_model_output.download('.', show_progress=True)"
   ]
  },
  {
   "cell_type": "code",
   "execution_count": null,
   "metadata": {},
   "outputs": [],
   "source": [
    "with open(best_model_output._path_on_datastore, \"rb\" ) as f:\n",
    "    best_model = pickle.load(f)\n",
    "best_model"
   ]
  },
  {
   "cell_type": "code",
   "execution_count": null,
   "metadata": {},
   "outputs": [],
   "source": [
    "best_model.steps"
   ]
  },
  {
   "cell_type": "markdown",
   "metadata": {},
   "source": [
    "### Test Model\n",
    "\n",
    "Testing our best fitted model"
   ]
  },
  {
   "cell_type": "code",
   "execution_count": null,
   "metadata": {},
   "outputs": [],
   "source": [
    "ypred = best_model.predict(X_test)\n",
    "cm = confusion_matrix(y_test, ypred)"
   ]
  },
  {
   "cell_type": "code",
   "execution_count": null,
   "metadata": {},
   "outputs": [],
   "source": [
    "# Visualize the confusion matrix\n",
    "pd.DataFrame(cm).style.background_gradient(cmap='Blues', low=0, high=0.9)"
   ]
  }
 ],
 "metadata": {
  "authors": [
   {
    "name": "sanpil"
   }
  ],
  "categories": [
   "how-to-use-azureml",
   "machine-learning-pipelines",
   "intro-to-pipelines"
  ],
  "category": "tutorial",
  "compute": [
   "AML Compute"
  ],
  "datasets": [
   "Custom"
  ],
  "deployment": [
   "None"
  ],
  "exclude_from_index": false,
  "framework": [
   "Automated Machine Learning"
  ],
  "friendly_name": "How to use AutoMLStep with AML Pipelines",
  "kernel_info": {
   "name": "python3"
  },
  "kernelspec": {
   "display_name": "UdacityEnv",
   "language": "python",
   "name": "udacityenv"
  },
  "language_info": {
   "codemirror_mode": {
    "name": "ipython",
    "version": 3
   },
   "file_extension": ".py",
   "mimetype": "text/x-python",
   "name": "python",
   "nbconvert_exporter": "python",
   "pygments_lexer": "ipython3",
   "version": "3.6.13"
  },
  "nteract": {
   "version": "nteract-front-end@1.0.0"
  },
  "order_index": 11,
  "star_tag": [
   "featured"
  ],
  "tags": [
   "None"
  ],
  "task": "Demonstrates the use of AutoMLStep"
 },
 "nbformat": 4,
 "nbformat_minor": 2
}
