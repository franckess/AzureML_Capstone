{
 "cells": [
  {
   "cell_type": "markdown",
   "id": "vocal-mentor",
   "metadata": {},
   "source": [
    "# Hyperparameter Tuning using HyperDrive"
   ]
  },
  {
   "cell_type": "code",
   "execution_count": 2,
   "id": "caring-touch",
   "metadata": {},
   "outputs": [
    {
     "name": "stdout",
     "output_type": "stream",
     "text": [
      "System version: 3.6.13 |Anaconda, Inc.| (default, Feb 23 2021, 12:58:59) \n",
      "[GCC Clang 10.0.0 ]\n",
      "SDK version: 1.23.0\n"
     ]
    }
   ],
   "source": [
    "import os\n",
    "import sys\n",
    "import json\n",
    "import azureml\n",
    "import logging\n",
    "import requests\n",
    "import pandas as pd\n",
    "import numpy as np\n",
    "from io import BytesIO\n",
    "import joblib\n",
    "\n",
    "from azureml.core.workspace import Workspace\n",
    "from azureml.core.experiment import Experiment\n",
    "from azureml.core import Environment\n",
    "\n",
    "from azureml.core.compute import ComputeTarget, AmlCompute\n",
    "from azureml.core.compute_target import ComputeTargetException\n",
    "from azureml.train.estimator import Estimator\n",
    "from azureml.core import ScriptRunConfig\n",
    "from azureml.train.automl import AutoMLConfig\n",
    "from azureml.core.dataset import Dataset\n",
    "\n",
    "from azureml.pipeline.steps import AutoMLStep\n",
    "\n",
    "from azureml.core.dataset import Dataset\n",
    "from azureml.widgets import RunDetails\n",
    "from azureml.train.sklearn import SKLearn\n",
    "from azureml.train.hyperdrive.run import PrimaryMetricGoal\n",
    "from azureml.train.hyperdrive.policy import BanditPolicy\n",
    "from azureml.train.hyperdrive.sampling import RandomParameterSampling, BayesianParameterSampling\n",
    "from azureml.core.authentication import InteractiveLoginAuthentication\n",
    "from azureml.train.hyperdrive.runconfig import HyperDriveConfig\n",
    "from azureml.train.hyperdrive.parameter_expressions import uniform, quniform, choice\n",
    "\n",
    "from azureml.core.runconfig import RunConfiguration\n",
    "from azureml.core.runconfig import EnvironmentDefinition\n",
    "from azureml.core.runconfig import CondaDependencies\n",
    "from azureml.core.model import InferenceConfig, Model\n",
    "\n",
    "from azureml.core.webservice import AciWebservice, Webservice\n",
    "from azureml.core.model import Model, InferenceConfig\n",
    "\n",
    "from azureml.train.automl import constants\n",
    "\n",
    "from train import *\n",
    "\n",
    "import warnings\n",
    "warnings.filterwarnings(\"ignore\")\n",
    "\n",
    "pd.set_option('display.max_rows', None)\n",
    "\n",
    "# Check system and core SDK version number\n",
    "print(\"System version: {}\".format(sys.version))\n",
    "print(\"SDK version:\", azureml.core.VERSION)"
   ]
  },
  {
   "cell_type": "code",
   "execution_count": 3,
   "id": "breeding-packing",
   "metadata": {},
   "outputs": [
    {
     "data": {
      "text/html": [
       "<table style=\"width:100%\"><tr><th>Name</th><th>Workspace</th><th>Report Page</th><th>Docs Page</th></tr><tr><td>online_news_project</td><td>quick-starts-ws-142350</td><td><a href=\"https://ml.azure.com/experiments/online_news_project?wsid=/subscriptions/f5091c60-1c3c-430f-8d81-d802f6bf2414/resourcegroups/aml-quickstarts-142350/workspaces/quick-starts-ws-142350\" target=\"_blank\" rel=\"noopener\">Link to Azure Machine Learning studio</a></td><td><a href=\"https://docs.microsoft.com/en-us/python/api/azureml-core/azureml.core.experiment.Experiment?view=azure-ml-py\" target=\"_blank\" rel=\"noopener\">Link to Documentation</a></td></tr></table>"
      ],
      "text/plain": [
       "Experiment(Name: online_news_project,\n",
       "Workspace: quick-starts-ws-142350)"
      ]
     },
     "execution_count": 3,
     "metadata": {},
     "output_type": "execute_result"
    }
   ],
   "source": [
    "interactive_auth = InteractiveLoginAuthentication(tenant_id=\"660b3398-b80e-49d2-bc5b-ac1dc93b5254\")\n",
    "ws = Workspace(subscription_id=\"f5091c60-1c3c-430f-8d81-d802f6bf2414\",\n",
    "                   resource_group=\"aml-quickstarts-142350\",\n",
    "                   workspace_name=\"quick-starts-ws-142350\",\n",
    "                   auth=interactive_auth)\n",
    "\n",
    "experiment_name = 'online_news_project'\n",
    "experiment=Experiment(ws, experiment_name)\n",
    "experiment\n",
    "\n",
    "# ws = Workspace.from_config()\n",
    "# print(ws.name, ws.resource_group, ws.location, ws.subscription_id, sep = '\\n')"
   ]
  },
  {
   "cell_type": "code",
   "execution_count": 4,
   "id": "proud-occasions",
   "metadata": {},
   "outputs": [
    {
     "data": {
      "text/html": [
       "<div>\n",
       "<style scoped>\n",
       "    .dataframe tbody tr th:only-of-type {\n",
       "        vertical-align: middle;\n",
       "    }\n",
       "\n",
       "    .dataframe tbody tr th {\n",
       "        vertical-align: top;\n",
       "    }\n",
       "\n",
       "    .dataframe thead th {\n",
       "        text-align: right;\n",
       "    }\n",
       "</style>\n",
       "<table border=\"1\" class=\"dataframe\">\n",
       "  <thead>\n",
       "    <tr style=\"text-align: right;\">\n",
       "      <th></th>\n",
       "      <th></th>\n",
       "    </tr>\n",
       "  </thead>\n",
       "  <tbody>\n",
       "    <tr>\n",
       "      <th>Workspace name</th>\n",
       "      <td>quick-starts-ws-142350</td>\n",
       "    </tr>\n",
       "    <tr>\n",
       "      <th>Azure region</th>\n",
       "      <td>southcentralus</td>\n",
       "    </tr>\n",
       "    <tr>\n",
       "      <th>Subscription id</th>\n",
       "      <td>f5091c60-1c3c-430f-8d81-d802f6bf2414</td>\n",
       "    </tr>\n",
       "    <tr>\n",
       "      <th>Resource group</th>\n",
       "      <td>aml-quickstarts-142350</td>\n",
       "    </tr>\n",
       "    <tr>\n",
       "      <th>Experiment Name</th>\n",
       "      <td>online_news_project</td>\n",
       "    </tr>\n",
       "  </tbody>\n",
       "</table>\n",
       "</div>"
      ],
      "text/plain": [
       "                                                     \n",
       "Workspace name                 quick-starts-ws-142350\n",
       "Azure region                           southcentralus\n",
       "Subscription id  f5091c60-1c3c-430f-8d81-d802f6bf2414\n",
       "Resource group                 aml-quickstarts-142350\n",
       "Experiment Name                   online_news_project"
      ]
     },
     "execution_count": 4,
     "metadata": {},
     "output_type": "execute_result"
    }
   ],
   "source": [
    "dic_data = {'Workspace name': ws.name,\n",
    "            'Azure region': ws.location,\n",
    "            'Subscription id': ws.subscription_id,\n",
    "            'Resource group': ws.resource_group,\n",
    "            'Experiment Name': experiment.name}\n",
    "\n",
    "az_data = pd.DataFrame.from_dict(data = dic_data, orient='index')\n",
    "az_data.rename(columns={0:''}, inplace = True)\n",
    "az_data"
   ]
  },
  {
   "cell_type": "markdown",
   "id": "sound-vegetation",
   "metadata": {},
   "source": [
    "## Create or Attach an AmlCompute cluster"
   ]
  },
  {
   "cell_type": "code",
   "execution_count": 5,
   "id": "charming-sender",
   "metadata": {},
   "outputs": [
    {
     "name": "stdout",
     "output_type": "stream",
     "text": [
      "Found existing cpu-cluster. Use it.\n",
      "Succeeded\n",
      "AmlCompute wait for completion finished\n",
      "\n",
      "Minimum number of nodes requested have been provisioned\n",
      "{'currentNodeCount': 3, 'targetNodeCount': 1, 'nodeStateCounts': {'preparingNodeCount': 0, 'runningNodeCount': 0, 'idleNodeCount': 1, 'unusableNodeCount': 0, 'leavingNodeCount': 2, 'preemptedNodeCount': 0}, 'allocationState': 'Resizing', 'allocationStateTransitionTime': '2021-04-11T01:44:29.130000+00:00', 'errors': None, 'creationTime': '2021-04-10T23:22:27.803998+00:00', 'modifiedTime': '2021-04-10T23:22:43.243621+00:00', 'provisioningState': 'Succeeded', 'provisioningStateTransitionTime': None, 'scaleSettings': {'minNodeCount': 1, 'maxNodeCount': 4, 'nodeIdleTimeBeforeScaleDown': 'PT120S'}, 'vmPriority': 'Dedicated', 'vmSize': 'STANDARD_DS12_V2'}\n"
     ]
    }
   ],
   "source": [
    "# Define CPU cluster name\n",
    "compute_target_name = \"cpu-cluster\"\n",
    "\n",
    "try:\n",
    "    compute_target = ComputeTarget(workspace=ws, name=compute_target_name)\n",
    "    print(\"Found existing cpu-cluster. Use it.\")\n",
    "except ComputeTargetException:\n",
    "    compute_config = AmlCompute.provisioning_configuration(vm_size=\"STANDARD_DS12_V2\",\n",
    "                                                           min_nodes=1, \n",
    "                                                           max_nodes=4) \n",
    "    compute_target = ComputeTarget.create(ws, compute_target_name, compute_config)\n",
    "\n",
    "compute_target.wait_for_completion(show_output=True)\n",
    "print(compute_target.get_status().serialize())"
   ]
  },
  {
   "cell_type": "markdown",
   "id": "miniature-estonia",
   "metadata": {},
   "source": [
    "## Dataset\n",
    "\n",
    "The dataset used in this project is a dataset made available on UCI Machine Learning Repository called [Online News Popularity Data Set](https://archive.ics.uci.edu/ml/datasets/Online+News+Popularity#).\n",
    "\n",
    "The dataset summarizes heterogeneous set of features about the articles published by Mashable between 2013 and 2015.\n",
    "\n",
    "- Number of Instances: 39797\n",
    "- Number of Attributes: 61 \n",
    "    - 58 predictive attributes \n",
    "    - 2 non-predictive (`url` and `timedelta`) \n",
    "    - 1 target column\n",
    "    \n",
    "We will also apply the `Boruta` step for feature selection before exporting the data to our defined Datastore"
   ]
  },
  {
   "cell_type": "code",
   "execution_count": 6,
   "id": "compliant-barcelona",
   "metadata": {},
   "outputs": [
    {
     "name": "stdout",
     "output_type": "stream",
     "text": [
      "31715 x 47 table of data:\n",
      "<class 'pandas.core.frame.DataFrame'>\n",
      "Int64Index: 31715 entries, 38512 to 35050\n",
      "Data columns (total 47 columns):\n",
      "n_tokens_title                   31715 non-null float64\n",
      "n_tokens_content                 31715 non-null float64\n",
      "n_unique_tokens                  31715 non-null float64\n",
      "num_hrefs                        31715 non-null float64\n",
      "num_self_hrefs                   31715 non-null float64\n",
      "num_imgs                         31715 non-null float64\n",
      "num_videos                       31715 non-null float64\n",
      "average_token_length             31715 non-null float64\n",
      "num_keywords                     31715 non-null float64\n",
      "data_channel_is_entertainment    31715 non-null int64\n",
      "data_channel_is_bus              31715 non-null int64\n",
      "data_channel_is_socmed           31715 non-null int64\n",
      "data_channel_is_tech             31715 non-null int64\n",
      "data_channel_is_world            31715 non-null int64\n",
      "kw_min_min                       31715 non-null float64\n",
      "kw_max_min                       31715 non-null float64\n",
      "kw_min_max                       31715 non-null float64\n",
      "kw_avg_max                       31715 non-null float64\n",
      "kw_min_avg                       31715 non-null float64\n",
      "kw_max_avg                       31715 non-null float64\n",
      "kw_avg_avg                       31715 non-null float64\n",
      "self_reference_min_shares        31715 non-null float64\n",
      "self_reference_max_shares        31715 non-null float64\n",
      "weekday_is_wednesday             31715 non-null int64\n",
      "weekday_is_saturday              31715 non-null int64\n",
      "weekday_is_sunday                31715 non-null int64\n",
      "is_weekend                       31715 non-null int64\n",
      "LDA_00                           31715 non-null float64\n",
      "LDA_01                           31715 non-null float64\n",
      "LDA_02                           31715 non-null float64\n",
      "LDA_03                           31715 non-null float64\n",
      "LDA_04                           31715 non-null float64\n",
      "global_subjectivity              31715 non-null float64\n",
      "global_sentiment_polarity        31715 non-null float64\n",
      "global_rate_positive_words       31715 non-null float64\n",
      "global_rate_negative_words       31715 non-null float64\n",
      "rate_positive_words              31715 non-null float64\n",
      "rate_negative_words              31715 non-null float64\n",
      "avg_positive_polarity            31715 non-null float64\n",
      "min_positive_polarity            31715 non-null float64\n",
      "max_positive_polarity            31715 non-null float64\n",
      "avg_negative_polarity            31715 non-null float64\n",
      "min_negative_polarity            31715 non-null float64\n",
      "max_negative_polarity            31715 non-null float64\n",
      "title_subjectivity               31715 non-null float64\n",
      "title_sentiment_polarity         31715 non-null float64\n",
      "abs_title_sentiment_polarity     31715 non-null float64\n",
      "dtypes: float64(38), int64(9)\n",
      "memory usage: 11.6 MB\n"
     ]
    }
   ],
   "source": [
    "DATA_LOC = \"https://raw.githubusercontent.com/franckess/AzureML_Capstone/main/data/OnlineNewsPopularity.csv\"\n",
    "BORUTA_LOC = \"https://github.com/franckess/AzureML_Capstone/releases/download/1.1/boruta_model_final.pkl\"\n",
    "\n",
    "# Loading data\n",
    "df = pd.read_csv(DATA_LOC)\n",
    "\n",
    "# Removing space character in the feature names\n",
    "df.columns=df.columns.str.replace(' ','')\n",
    "\n",
    "# Drop URL column\n",
    "df = df.drop(['url'], axis=1)\n",
    "\n",
    "# Perform Data pre-processing\n",
    "df = corr_drop_cols(df)\n",
    "df = create_label(df)\n",
    "df = scaling_num(df)\n",
    "df = feature_selection(df, BORUTA_LOC)\n",
    "    \n",
    "# Split train data into train & test\n",
    "X_train, X_test, y_train, y_test = split_train_test(df)\n",
    "\n",
    "m, k = X_train.shape\n",
    "print(\"{} x {} table of data:\".format(m, k))\n",
    "X_train.info()"
   ]
  },
  {
   "cell_type": "markdown",
   "id": "descending-reality",
   "metadata": {},
   "source": [
    "## Upload data to Azure Datatore"
   ]
  },
  {
   "cell_type": "code",
   "execution_count": null,
   "id": "proper-graphics",
   "metadata": {},
   "outputs": [],
   "source": [
    "datastore = ws.get_default_datastore()\n",
    "datastore.upload_files(files = ['./data/OnlineNewsPopularity.csv'], target_path='data/', overwrite=True, show_progress=True)"
   ]
  },
  {
   "cell_type": "code",
   "execution_count": null,
   "id": "angry-configuration",
   "metadata": {},
   "outputs": [],
   "source": [
    "print(\n",
    "    \"Datastore type: \" + datastore.datastore_type,\n",
    "    \"Account name: \" + datastore.account_name,\n",
    "    \"Container name: \" + datastore.container_name,\n",
    "    sep=\"\\n\",\n",
    ")"
   ]
  },
  {
   "cell_type": "code",
   "execution_count": null,
   "id": "convenient-johnson",
   "metadata": {},
   "outputs": [],
   "source": [
    "# Get data reference object for the data path\n",
    "ds_data = datastore.path('data/')\n",
    "print(ds_data)"
   ]
  },
  {
   "cell_type": "markdown",
   "id": "fossil-ireland",
   "metadata": {},
   "source": [
    "## HyperDrive Configuration"
   ]
  },
  {
   "cell_type": "markdown",
   "id": "grateful-james",
   "metadata": {},
   "source": [
    "### Create an environment\n",
    "\n",
    "Define a conda environment YAML file with your training script dependencies and create an Azure ML environment."
   ]
  },
  {
   "cell_type": "code",
   "execution_count": 17,
   "id": "revised-flower",
   "metadata": {},
   "outputs": [
    {
     "name": "stdout",
     "output_type": "stream",
     "text": [
      "Overwriting hyperdrive_dependencies.yml\n"
     ]
    }
   ],
   "source": [
    "%%writefile hyperdrive_dependencies.yml\n",
    "\n",
    "channels:\n",
    "- conda-forge\n",
    "- anaconda\n",
    "dependencies:\n",
    "- python=3.6.2\n",
    "- scikit-learn\n",
    "- pandas\n",
    "- numpy\n",
    "- pip:\n",
    "  - azureml-defaults \n",
    "  - pingouin\n",
    "  - lightgbm\n",
    "  - joblib  \n",
    "  - Boruta\n",
    "  - inference-schema\n",
    "  - azureml-interpret\n",
    "  - azureml-train-automl-runtime"
   ]
  },
  {
   "cell_type": "code",
   "execution_count": 18,
   "id": "mexican-growing",
   "metadata": {},
   "outputs": [],
   "source": [
    "udacity_env = Environment.from_conda_specification(name = 'udacity-env', file_path = './hyperdrive_dependencies.yml')\n",
    "udacity_env.register(ws)\n",
    "\n",
    "# Specify an Ubuntu base image\n",
    "udacity_env.docker.enabled = True\n",
    "udacity_env.python.user_managed_dependencies = False\n",
    "udacity_env.docker.base_image = 'mcr.microsoft.com/azureml/base:openmpi3.1.2-ubuntu18.04'"
   ]
  },
  {
   "cell_type": "markdown",
   "id": "biblical-reynolds",
   "metadata": {},
   "source": [
    "Build the image just to confirm it works appropriately or identify any errors prior to deployment"
   ]
  },
  {
   "cell_type": "code",
   "execution_count": null,
   "id": "encouraging-eligibility",
   "metadata": {
    "scrolled": false
   },
   "outputs": [],
   "source": [
    "# build = udacity_env.build(workspace=ws)\n",
    "# build.wait_for_completion(show_output=True)"
   ]
  },
  {
   "cell_type": "code",
   "execution_count": null,
   "id": "liked-secretary",
   "metadata": {},
   "outputs": [],
   "source": [
    "# details = udacity_env.get_image_details(ws)\n",
    "# print(details.dockerfile)"
   ]
  },
  {
   "cell_type": "markdown",
   "id": "focused-numbers",
   "metadata": {},
   "source": [
    "### Tune hyperparameters using `HyperDrive`"
   ]
  },
  {
   "cell_type": "markdown",
   "id": "weekly-contact",
   "metadata": {},
   "source": [
    "In the following block, I tune my set of hyperparameters for the `LightGBM` model. The ranges of parameters for the `LightGBM` used were chosen considering the parameters tuning guides for different scenarios provided here.\n",
    "\n",
    "The code below does a parallel search of the hyperparameter space using a Bayesian sampling method which does not support termination policy. Therefore, `policy=None`.\n",
    "\n",
    "> __Note that when using Bayesian sampling, the number of concurrent runs has an impact on the effectiveness of the tuning process. Typically, a smaller number of concurrent runs leads to better sampling convergence. That is because some runs start without fully benefiting from runs that are still running.__\n",
    "\n",
    "In order to compare the performance of HyperDrive with the one of AutoML we chose as objective metric of `LightGBM` __Accuracy__ score."
   ]
  },
  {
   "cell_type": "code",
   "execution_count": 19,
   "id": "formed-istanbul",
   "metadata": {},
   "outputs": [],
   "source": [
    "# Create a SKLearn estimator for use with train.py\n",
    "src = ScriptRunConfig(source_directory='.',\n",
    "                      script='train.py',\n",
    "                      compute_target=compute_target,\n",
    "                      environment=udacity_env)\n",
    "\n",
    "# Specify a Policy\n",
    "#early_termination_policy = BanditPolicy(slack_factor = 0.1, evaluation_interval=2, delay_evaluation=5)\n",
    "\n",
    "# Specify hyperparameter space\n",
    "param_sampling = BayesianParameterSampling(\n",
    "    {\n",
    "        \"--num-leaves\": quniform(8, 128, 1),\n",
    "        \"--min-data-in-leaf\": quniform(20, 500, 10),\n",
    "        \"--learning-rate\": choice(\n",
    "            1e-4, 1e-3, 5e-3, 1e-2, 1.5e-2, 2e-2, 3e-2, 5e-2, 1e-1\n",
    "        ),\n",
    "        \"--feature-fraction\": uniform(0.1, 1),\n",
    "        \"--bagging-fraction\": uniform(0.1, 1),\n",
    "        \"--bagging-freq\": quniform(1, 30, 1),\n",
    "        \"--max-depth\": quniform(5, 50, 5)\n",
    "    }\n",
    ")\n",
    "\n",
    "# Create a HyperDriveConfig using the estimator, hyperparameter sampler, and policy.\n",
    "hyperdrive_config = HyperDriveConfig(run_config=src,\n",
    "                                     hyperparameter_sampling=param_sampling,\n",
    "                                     policy=None ,\n",
    "                                     primary_metric_name=\"Accuracy\",\n",
    "                                     primary_metric_goal=PrimaryMetricGoal.MAXIMIZE,\n",
    "                                     max_total_runs=50,\n",
    "                                     max_concurrent_runs=10)"
   ]
  },
  {
   "cell_type": "code",
   "execution_count": 20,
   "id": "likely-coupon",
   "metadata": {},
   "outputs": [],
   "source": [
    "# Submit hyperdrive run to the experiment \n",
    "hyperdrive_run = experiment.submit(config=hyperdrive_config, show_output=True)"
   ]
  },
  {
   "cell_type": "markdown",
   "id": "functional-waters",
   "metadata": {},
   "source": [
    "## Run Details"
   ]
  },
  {
   "cell_type": "code",
   "execution_count": 21,
   "id": "brutal-revolution",
   "metadata": {
    "scrolled": false
   },
   "outputs": [
    {
     "data": {
      "application/vnd.jupyter.widget-view+json": {
       "model_id": "33da6f11d36d43f1b33e02c48e08f718",
       "version_major": 2,
       "version_minor": 0
      },
      "text/plain": [
       "_HyperDriveWidget(widget_settings={'childWidgetDisplay': 'popup', 'send_telemetry': False, 'log_level': 'INFO'…"
      ]
     },
     "metadata": {},
     "output_type": "display_data"
    },
    {
     "data": {
      "application/aml.mini.widget.v1": "\"ServiceException:\\n\\tCode: 404\\n\\tMessage: (UserError) Arm resource not found\\n\\tDetails:\\n\\n\\tHeaders: {\\n\\t    \\\"Date\\\": \\\"Sun, 11 Apr 2021 03:24:55 GMT\\\",\\n\\t    \\\"Content-Type\\\": \\\"application/json; charset=utf-8\\\",\\n\\t    \\\"Transfer-Encoding\\\": \\\"chunked\\\",\\n\\t    \\\"Connection\\\": \\\"keep-alive\\\",\\n\\t    \\\"Vary\\\": \\\"Accept-Encoding\\\",\\n\\t    \\\"Request-Context\\\": \\\"appId=cid-v1:2d2e8e63-272e-4b3c-8598-4ee570a0e70d\\\",\\n\\t    \\\"x-ms-response-type\\\": \\\"error\\\",\\n\\t    \\\"Strict-Transport-Security\\\": \\\"max-age=15724800; includeSubDomains; preload\\\",\\n\\t    \\\"X-Content-Type-Options\\\": \\\"nosniff\\\",\\n\\t    \\\"x-request-time\\\": \\\"0.061\\\",\\n\\t    \\\"Content-Encoding\\\": \\\"gzip\\\"\\n\\t}\\n\\tInnerException: {\\n    \\\"additional_properties\\\": {},\\n    \\\"error\\\": {\\n        \\\"additional_properties\\\": {\\n            \\\"debugInfo\\\": null\\n        },\\n        \\\"code\\\": \\\"UserError\\\",\\n        \\\"severity\\\": null,\\n        \\\"message\\\": \\\"Arm resource not found\\\",\\n        \\\"message_format\\\": null,\\n        \\\"message_parameters\\\": null,\\n        \\\"reference_code\\\": null,\\n        \\\"details_uri\\\": null,\\n        \\\"target\\\": null,\\n        \\\"details\\\": [],\\n        \\\"inner_error\\\": {\\n            \\\"additional_properties\\\": {},\\n            \\\"code\\\": \\\"NotFoundError\\\",\\n            \\\"inner_error\\\": null\\n        }\\n    },\\n    \\\"correlation\\\": {\\n        \\\"operation\\\": \\\"0190127dcd005f4a840f3ec5701739d8\\\",\\n        \\\"request\\\": \\\"6b0787444384c749\\\"\\n    },\\n    \\\"environment\\\": \\\"southcentralus\\\",\\n    \\\"location\\\": \\\"southcentralus\\\",\\n    \\\"time\\\": {},\\n    \\\"component_name\\\": \\\"run-history\\\"\\n}\""
     },
     "metadata": {},
     "output_type": "display_data"
    },
    {
     "name": "stdout",
     "output_type": "stream",
     "text": [
      "RunId: HD_74fb10e2-6617-418a-87ba-0fe657f41206\n",
      "Web View: https://ml.azure.com/experiments/online_news_project/runs/HD_74fb10e2-6617-418a-87ba-0fe657f41206?wsid=/subscriptions/f5091c60-1c3c-430f-8d81-d802f6bf2414/resourcegroups/aml-quickstarts-142350/workspaces/quick-starts-ws-142350\n",
      "\n",
      "Streaming azureml-logs/hyperdrive.txt\n",
      "=====================================\n",
      "\n",
      "\"<START>[2021-04-11T02:19:40.734091][API][INFO]Experiment created<END>\\n\"\"<START>[2021-04-11T02:19:41.514124][GENERATOR][INFO]Trying to sample '10' jobs from the hyperparameter space<END>\\n\"\"<START>[2021-04-11T02:19:42.025826][GENERATOR][INFO]Successfully sampled '10' jobs, they will soon be submitted to the execution target.<END>\\n\"\n",
      "\n",
      "Execution Summary\n",
      "=================\n",
      "RunId: HD_74fb10e2-6617-418a-87ba-0fe657f41206\n",
      "Web View: https://ml.azure.com/experiments/online_news_project/runs/HD_74fb10e2-6617-418a-87ba-0fe657f41206?wsid=/subscriptions/f5091c60-1c3c-430f-8d81-d802f6bf2414/resourcegroups/aml-quickstarts-142350/workspaces/quick-starts-ws-142350\n",
      "\n"
     ]
    },
    {
     "data": {
      "text/plain": [
       "{'HD_74fb10e2-6617-418a-87ba-0fe657f41206_49': {'Accuracy': 0.677639046538025},\n",
       " 'HD_74fb10e2-6617-418a-87ba-0fe657f41206_48': {'Accuracy': 0.6757472569050321},\n",
       " 'HD_74fb10e2-6617-418a-87ba-0fe657f41206_47': {'Accuracy': 0.6739815865809056},\n",
       " 'HD_74fb10e2-6617-418a-87ba-0fe657f41206_46': {'Accuracy': 0.533610795812839},\n",
       " 'HD_74fb10e2-6617-418a-87ba-0fe657f41206_44': {'Accuracy': 0.6501450372051961},\n",
       " 'HD_74fb10e2-6617-418a-87ba-0fe657f41206_45': {'Accuracy': 0.6762517341404969},\n",
       " 'HD_74fb10e2-6617-418a-87ba-0fe657f41206_43': {'Accuracy': 0.6505233951317947},\n",
       " 'HD_74fb10e2-6617-418a-87ba-0fe657f41206_40': {'Accuracy': 0.6761256148316307},\n",
       " 'HD_74fb10e2-6617-418a-87ba-0fe657f41206_42': {'Accuracy': 0.6741077058897718},\n",
       " 'HD_74fb10e2-6617-418a-87ba-0fe657f41206_41': {'Accuracy': 0.6732248707277084},\n",
       " 'HD_74fb10e2-6617-418a-87ba-0fe657f41206_39': {'Accuracy': 0.6791524782444193},\n",
       " 'HD_74fb10e2-6617-418a-87ba-0fe657f41206_38': {'Accuracy': 0.6741077058897718},\n",
       " 'HD_74fb10e2-6617-418a-87ba-0fe657f41206_37': {'Accuracy': 0.6781435237734897},\n",
       " 'HD_74fb10e2-6617-418a-87ba-0fe657f41206_36': {'Accuracy': 0.6778912851557574},\n",
       " 'HD_74fb10e2-6617-418a-87ba-0fe657f41206_34': {'Accuracy': 0.6800353134064825},\n",
       " 'HD_74fb10e2-6617-418a-87ba-0fe657f41206_35': {'Accuracy': 0.677639046538025},\n",
       " 'HD_74fb10e2-6617-418a-87ba-0fe657f41206_32': {'Accuracy': 0.6800353134064825},\n",
       " 'HD_74fb10e2-6617-418a-87ba-0fe657f41206_33': {'Accuracy': 0.6796569554798839},\n",
       " 'HD_74fb10e2-6617-418a-87ba-0fe657f41206_31': {'Accuracy': 0.6800353134064825},\n",
       " 'HD_74fb10e2-6617-418a-87ba-0fe657f41206_28': {'Accuracy': 0.6686845756085257},\n",
       " 'HD_74fb10e2-6617-418a-87ba-0fe657f41206_30': {'Accuracy': 0.6772606886114264},\n",
       " 'HD_74fb10e2-6617-418a-87ba-0fe657f41206_29': {'Accuracy': 0.6800353134064825},\n",
       " 'HD_74fb10e2-6617-418a-87ba-0fe657f41206_27': {'Accuracy': 0.6645226384159415},\n",
       " 'HD_74fb10e2-6617-418a-87ba-0fe657f41206_26': {'Accuracy': 0.6791524782444193},\n",
       " 'HD_74fb10e2-6617-418a-87ba-0fe657f41206_25': {'Accuracy': 0.6752427796695674},\n",
       " 'HD_74fb10e2-6617-418a-87ba-0fe657f41206_24': {'Accuracy': 0.6645226384159415},\n",
       " 'HD_74fb10e2-6617-418a-87ba-0fe657f41206_22': {'Accuracy': 0.6766300920670955},\n",
       " 'HD_74fb10e2-6617-418a-87ba-0fe657f41206_23': {'Accuracy': 0.6759994955227645},\n",
       " 'HD_74fb10e2-6617-418a-87ba-0fe657f41206_20': {'Accuracy': 0.533610795812839},\n",
       " 'HD_74fb10e2-6617-418a-87ba-0fe657f41206_21': {'Accuracy': 0.6550636902509774},\n",
       " 'HD_74fb10e2-6617-418a-87ba-0fe657f41206_18': {'Accuracy': 0.6787741203178207},\n",
       " 'HD_74fb10e2-6617-418a-87ba-0fe657f41206_17': {'Accuracy': 0.6775129272291588},\n",
       " 'HD_74fb10e2-6617-418a-87ba-0fe657f41206_19': {'Accuracy': 0.6754950182872997},\n",
       " 'HD_74fb10e2-6617-418a-87ba-0fe657f41206_16': {'Accuracy': 0.6791524782444193},\n",
       " 'HD_74fb10e2-6617-418a-87ba-0fe657f41206_15': {'Accuracy': 0.6609912977676883},\n",
       " 'HD_74fb10e2-6617-418a-87ba-0fe657f41206_13': {'Accuracy': 0.6789002396266869},\n",
       " 'HD_74fb10e2-6617-418a-87ba-0fe657f41206_14': {'Accuracy': 0.6664144280489342},\n",
       " 'HD_74fb10e2-6617-418a-87ba-0fe657f41206_12': {'Accuracy': 0.6778912851557574},\n",
       " 'HD_74fb10e2-6617-418a-87ba-0fe657f41206_10': {'Accuracy': 0.6720897969479127},\n",
       " 'HD_74fb10e2-6617-418a-87ba-0fe657f41206_11': {'Accuracy': 0.6712069617858494},\n",
       " 'HD_74fb10e2-6617-418a-87ba-0fe657f41206_1': {'Accuracy': 0.677008449993694},\n",
       " 'HD_74fb10e2-6617-418a-87ba-0fe657f41206_0': {'Accuracy': 0.533610795812839},\n",
       " 'HD_74fb10e2-6617-418a-87ba-0fe657f41206_2': {'Accuracy': 0.6656577121957372},\n",
       " 'HD_74fb10e2-6617-418a-87ba-0fe657f41206_3': {'Accuracy': 0.6704502459326523},\n",
       " 'HD_74fb10e2-6617-418a-87ba-0fe657f41206_8': {'Accuracy': 0.533610795812839},\n",
       " 'HD_74fb10e2-6617-418a-87ba-0fe657f41206_5': {'Accuracy': 0.6713330810947156},\n",
       " 'HD_74fb10e2-6617-418a-87ba-0fe657f41206_9': {'Accuracy': 0.6758733762138983},\n",
       " 'HD_74fb10e2-6617-418a-87ba-0fe657f41206_7': {'Accuracy': 0.6756211375961659},\n",
       " 'HD_74fb10e2-6617-418a-87ba-0fe657f41206_6': {'Accuracy': 0.6622524908563501},\n",
       " 'HD_74fb10e2-6617-418a-87ba-0fe657f41206_4': {'Accuracy': 0.6462353386303443}}"
      ]
     },
     "execution_count": 21,
     "metadata": {},
     "output_type": "execute_result"
    }
   ],
   "source": [
    "# Show run details with the Jupyter widget\n",
    "RunDetails(hyperdrive_run).show()\n",
    "hyperdrive_run.wait_for_completion(show_output=True)\n",
    "hyperdrive_run.get_metrics()"
   ]
  },
  {
   "cell_type": "markdown",
   "id": "polish-conditioning",
   "metadata": {},
   "source": [
    "## Retrieve and Save Best Model\n",
    "\n",
    "Here I retrieve and save the best model as well as display all the properties of the model."
   ]
  },
  {
   "cell_type": "code",
   "execution_count": 22,
   "id": "local-lying",
   "metadata": {},
   "outputs": [
    {
     "name": "stdout",
     "output_type": "stream",
     "text": [
      "Best Run Id:  HD_74fb10e2-6617-418a-87ba-0fe657f41206_29\n",
      "Best Run Accuracy: 0.6800353134064825\n",
      "Best model hyperparameter values ['--num-leaves', '50', '--min-data-in-leaf', '350', '--learning-rate', '0.03', '--feature-fraction', '0.9010982437467641', '--bagging-fraction', '1', '--bagging-freq', '26', '--max-depth', '25']\n"
     ]
    }
   ],
   "source": [
    "get_best_performance = hyperdrive_run.get_best_run_by_primary_metric() \n",
    "get_best_metrics = get_best_performance.get_metrics()\n",
    "parameter_values = get_best_performance.get_details()[\"runDefinition\"][\"arguments\"]\n",
    "\n",
    "print('Best Run Id: ', get_best_performance.id)\n",
    "print('Best Run Accuracy:', get_best_metrics['Accuracy'])\n",
    "print('Best model hyperparameter values', parameter_values)"
   ]
  },
  {
   "cell_type": "code",
   "execution_count": 23,
   "id": "excessive-falls",
   "metadata": {},
   "outputs": [
    {
     "data": {
      "text/plain": [
       "['azureml-logs/55_azureml-execution-tvmps_af281b0470a9de5e88951593a7cb59c2a95b736aefc5aeb7831a2b61e6aa5f20_d.txt',\n",
       " 'azureml-logs/65_job_prep-tvmps_af281b0470a9de5e88951593a7cb59c2a95b736aefc5aeb7831a2b61e6aa5f20_d.txt',\n",
       " 'azureml-logs/70_driver_log.txt',\n",
       " 'azureml-logs/75_job_post-tvmps_af281b0470a9de5e88951593a7cb59c2a95b736aefc5aeb7831a2b61e6aa5f20_d.txt',\n",
       " 'azureml-logs/process_info.json',\n",
       " 'azureml-logs/process_status.json',\n",
       " 'logs/azureml/97_azureml.log',\n",
       " 'logs/azureml/job_prep_azureml.log',\n",
       " 'logs/azureml/job_release_azureml.log',\n",
       " 'outputs/lgb_model.pkl']"
      ]
     },
     "execution_count": 23,
     "metadata": {},
     "output_type": "execute_result"
    }
   ],
   "source": [
    "get_best_performance.get_file_names()"
   ]
  },
  {
   "cell_type": "code",
   "execution_count": 35,
   "id": "saved-surge",
   "metadata": {},
   "outputs": [
    {
     "name": "stdout",
     "output_type": "stream",
     "text": [
      "Model successfully registered.\n"
     ]
    }
   ],
   "source": [
    "model = get_best_performance.register_model(model_name = 'best_model', \n",
    "                                            model_path = './outputs/lgb_model.pkl')\n",
    "print(\"Model successfully registered.\")"
   ]
  },
  {
   "cell_type": "code",
   "execution_count": 36,
   "id": "initial-imperial",
   "metadata": {},
   "outputs": [
    {
     "data": {
      "text/plain": [
       "Model(workspace=Workspace.create(name='quick-starts-ws-142350', subscription_id='f5091c60-1c3c-430f-8d81-d802f6bf2414', resource_group='aml-quickstarts-142350'), name=best_model, id=best_model:1, version=1, tags={}, properties={})"
      ]
     },
     "execution_count": 36,
     "metadata": {},
     "output_type": "execute_result"
    }
   ],
   "source": [
    "model"
   ]
  },
  {
   "cell_type": "code",
   "execution_count": 25,
   "id": "stunning-flashing",
   "metadata": {},
   "outputs": [],
   "source": [
    "get_best_performance.download_file(\"outputs/lgb_model.pkl\",\"output/hyperdrive_model.pkl\")"
   ]
  },
  {
   "cell_type": "code",
   "execution_count": 26,
   "id": "sacred-publicity",
   "metadata": {},
   "outputs": [
    {
     "data": {
      "text/html": [
       "<table style=\"width:100%\"><tr><th>Experiment</th><th>Id</th><th>Type</th><th>Status</th><th>Details Page</th><th>Docs Page</th></tr><tr><td>online_news_project</td><td>HD_74fb10e2-6617-418a-87ba-0fe657f41206_29</td><td>azureml.scriptrun</td><td>Completed</td><td><a href=\"https://ml.azure.com/experiments/online_news_project/runs/HD_74fb10e2-6617-418a-87ba-0fe657f41206_29?wsid=/subscriptions/f5091c60-1c3c-430f-8d81-d802f6bf2414/resourcegroups/aml-quickstarts-142350/workspaces/quick-starts-ws-142350\" target=\"_blank\" rel=\"noopener\">Link to Azure Machine Learning studio</a></td><td><a href=\"https://docs.microsoft.com/en-us/python/api/azureml-core/azureml.core.run.Run?view=azure-ml-py\" target=\"_blank\" rel=\"noopener\">Link to Documentation</a></td></tr></table>"
      ],
      "text/plain": [
       "Run(Experiment: online_news_project,\n",
       "Id: HD_74fb10e2-6617-418a-87ba-0fe657f41206_29,\n",
       "Type: azureml.scriptrun,\n",
       "Status: Completed)"
      ]
     },
     "execution_count": 26,
     "metadata": {},
     "output_type": "execute_result"
    }
   ],
   "source": [
    "get_best_performance"
   ]
  },
  {
   "cell_type": "markdown",
   "id": "latter-policy",
   "metadata": {},
   "source": [
    "## Model Deployment"
   ]
  },
  {
   "cell_type": "markdown",
   "id": "together-outside",
   "metadata": {},
   "source": [
    "Create an inference config and deploy the model as a web service."
   ]
  },
  {
   "cell_type": "code",
   "execution_count": 38,
   "id": "twelve-caution",
   "metadata": {},
   "outputs": [
    {
     "name": "stdout",
     "output_type": "stream",
     "text": [
      "hyperdrive-deployment\n",
      "Tips: You can try get_logs(): https://aka.ms/debugimage#dockerlog or local deployment: https://aka.ms/debugimage#debug-locally to debug if deployment takes longer than 10 minutes.\n",
      "Running...........................\n",
      "Failed\n"
     ]
    },
    {
     "name": "stderr",
     "output_type": "stream",
     "text": [
      "Service deployment polling reached non-successful terminal state, current service state: Failed\n",
      "Operation ID: 9f1344a1-c80d-4850-a562-532a2ac5a6b2\n",
      "More information can be found using '.get_logs()'\n",
      "Error:\n",
      "{\n",
      "  \"code\": \"AciDeploymentFailed\",\n",
      "  \"statusCode\": 400,\n",
      "  \"message\": \"Aci Deployment failed with exception: Error in entry script, FileNotFoundError: [Errno 2] No such file or directory: 'azureml-models/best_model/1/model.pkl', please run print(service.get_logs()) to get details.\",\n",
      "  \"details\": [\n",
      "    {\n",
      "      \"code\": \"CrashLoopBackOff\",\n",
      "      \"message\": \"Error in entry script, FileNotFoundError: [Errno 2] No such file or directory: 'azureml-models/best_model/1/model.pkl', please run print(service.get_logs()) to get details.\"\n",
      "    }\n",
      "  ]\n",
      "}\n",
      "\n"
     ]
    },
    {
     "ename": "WebserviceException",
     "evalue": "WebserviceException:\n\tMessage: Service deployment polling reached non-successful terminal state, current service state: Failed\nOperation ID: 9f1344a1-c80d-4850-a562-532a2ac5a6b2\nMore information can be found using '.get_logs()'\nError:\n{\n  \"code\": \"AciDeploymentFailed\",\n  \"statusCode\": 400,\n  \"message\": \"Aci Deployment failed with exception: Error in entry script, FileNotFoundError: [Errno 2] No such file or directory: 'azureml-models/best_model/1/model.pkl', please run print(service.get_logs()) to get details.\",\n  \"details\": [\n    {\n      \"code\": \"CrashLoopBackOff\",\n      \"message\": \"Error in entry script, FileNotFoundError: [Errno 2] No such file or directory: 'azureml-models/best_model/1/model.pkl', please run print(service.get_logs()) to get details.\"\n    }\n  ]\n}\n\tInnerException None\n\tErrorResponse \n{\n    \"error\": {\n        \"message\": \"Service deployment polling reached non-successful terminal state, current service state: Failed\\nOperation ID: 9f1344a1-c80d-4850-a562-532a2ac5a6b2\\nMore information can be found using '.get_logs()'\\nError:\\n{\\n  \\\"code\\\": \\\"AciDeploymentFailed\\\",\\n  \\\"statusCode\\\": 400,\\n  \\\"message\\\": \\\"Aci Deployment failed with exception: Error in entry script, FileNotFoundError: [Errno 2] No such file or directory: 'azureml-models/best_model/1/model.pkl', please run print(service.get_logs()) to get details.\\\",\\n  \\\"details\\\": [\\n    {\\n      \\\"code\\\": \\\"CrashLoopBackOff\\\",\\n      \\\"message\\\": \\\"Error in entry script, FileNotFoundError: [Errno 2] No such file or directory: 'azureml-models/best_model/1/model.pkl', please run print(service.get_logs()) to get details.\\\"\\n    }\\n  ]\\n}\"\n    }\n}",
     "output_type": "error",
     "traceback": [
      "\u001b[0;31m---------------------------------------------------------------------------\u001b[0m",
      "\u001b[0;31mWebserviceException\u001b[0m                       Traceback (most recent call last)",
      "\u001b[0;32m<ipython-input-38-86e358348027>\u001b[0m in \u001b[0;36m<module>\u001b[0;34m\u001b[0m\n\u001b[1;32m      9\u001b[0m \u001b[0mprint\u001b[0m\u001b[0;34m(\u001b[0m\u001b[0maci_service_name\u001b[0m\u001b[0;34m)\u001b[0m\u001b[0;34m\u001b[0m\u001b[0;34m\u001b[0m\u001b[0m\n\u001b[1;32m     10\u001b[0m \u001b[0maci_service\u001b[0m \u001b[0;34m=\u001b[0m \u001b[0mModel\u001b[0m\u001b[0;34m.\u001b[0m\u001b[0mdeploy\u001b[0m\u001b[0;34m(\u001b[0m\u001b[0mws\u001b[0m\u001b[0;34m,\u001b[0m \u001b[0maci_service_name\u001b[0m\u001b[0;34m,\u001b[0m \u001b[0;34m[\u001b[0m\u001b[0mmodel\u001b[0m\u001b[0;34m]\u001b[0m\u001b[0;34m,\u001b[0m \u001b[0minference_config\u001b[0m\u001b[0;34m,\u001b[0m \u001b[0maciconfig\u001b[0m\u001b[0;34m)\u001b[0m\u001b[0;34m\u001b[0m\u001b[0;34m\u001b[0m\u001b[0m\n\u001b[0;32m---> 11\u001b[0;31m \u001b[0maci_service\u001b[0m\u001b[0;34m.\u001b[0m\u001b[0mwait_for_deployment\u001b[0m\u001b[0;34m(\u001b[0m\u001b[0;32mTrue\u001b[0m\u001b[0;34m)\u001b[0m\u001b[0;34m\u001b[0m\u001b[0;34m\u001b[0m\u001b[0m\n\u001b[0m\u001b[1;32m     12\u001b[0m \u001b[0mprint\u001b[0m\u001b[0;34m(\u001b[0m\u001b[0maci_service\u001b[0m\u001b[0;34m.\u001b[0m\u001b[0mstate\u001b[0m\u001b[0;34m)\u001b[0m\u001b[0;34m\u001b[0m\u001b[0;34m\u001b[0m\u001b[0m\n\u001b[1;32m     13\u001b[0m \u001b[0mprint\u001b[0m\u001b[0;34m(\u001b[0m\u001b[0maci_service\u001b[0m\u001b[0;34m.\u001b[0m\u001b[0mscoring_uri\u001b[0m\u001b[0;34m)\u001b[0m\u001b[0;34m\u001b[0m\u001b[0;34m\u001b[0m\u001b[0m\n",
      "\u001b[0;32m/opt/anaconda3/envs/udacity/lib/python3.6/site-packages/azureml/core/webservice/webservice.py\u001b[0m in \u001b[0;36mwait_for_deployment\u001b[0;34m(self, show_output, timeout_sec)\u001b[0m\n\u001b[1;32m    914\u001b[0m                                           \u001b[0;34m'Error:\\n'\u001b[0m\u001b[0;34m\u001b[0m\u001b[0;34m\u001b[0m\u001b[0m\n\u001b[1;32m    915\u001b[0m                                           '{}'.format(self.state, self._operation_endpoint.split('/')[-1],\n\u001b[0;32m--> 916\u001b[0;31m                                                       logs_response, format_error_response), logger=module_logger)\n\u001b[0m\u001b[1;32m    917\u001b[0m             print('{} service creation operation finished, operation \"{}\"'.format(self._webservice_type,\n\u001b[1;32m    918\u001b[0m                                                                                   operation_state))\n",
      "\u001b[0;31mWebserviceException\u001b[0m: WebserviceException:\n\tMessage: Service deployment polling reached non-successful terminal state, current service state: Failed\nOperation ID: 9f1344a1-c80d-4850-a562-532a2ac5a6b2\nMore information can be found using '.get_logs()'\nError:\n{\n  \"code\": \"AciDeploymentFailed\",\n  \"statusCode\": 400,\n  \"message\": \"Aci Deployment failed with exception: Error in entry script, FileNotFoundError: [Errno 2] No such file or directory: 'azureml-models/best_model/1/model.pkl', please run print(service.get_logs()) to get details.\",\n  \"details\": [\n    {\n      \"code\": \"CrashLoopBackOff\",\n      \"message\": \"Error in entry script, FileNotFoundError: [Errno 2] No such file or directory: 'azureml-models/best_model/1/model.pkl', please run print(service.get_logs()) to get details.\"\n    }\n  ]\n}\n\tInnerException None\n\tErrorResponse \n{\n    \"error\": {\n        \"message\": \"Service deployment polling reached non-successful terminal state, current service state: Failed\\nOperation ID: 9f1344a1-c80d-4850-a562-532a2ac5a6b2\\nMore information can be found using '.get_logs()'\\nError:\\n{\\n  \\\"code\\\": \\\"AciDeploymentFailed\\\",\\n  \\\"statusCode\\\": 400,\\n  \\\"message\\\": \\\"Aci Deployment failed with exception: Error in entry script, FileNotFoundError: [Errno 2] No such file or directory: 'azureml-models/best_model/1/model.pkl', please run print(service.get_logs()) to get details.\\\",\\n  \\\"details\\\": [\\n    {\\n      \\\"code\\\": \\\"CrashLoopBackOff\\\",\\n      \\\"message\\\": \\\"Error in entry script, FileNotFoundError: [Errno 2] No such file or directory: 'azureml-models/best_model/1/model.pkl', please run print(service.get_logs()) to get details.\\\"\\n    }\\n  ]\\n}\"\n    }\n}"
     ]
    }
   ],
   "source": [
    "script_file_name = './score.py'\n",
    "inference_config = InferenceConfig(entry_script=script_file_name)\n",
    "\n",
    "aciconfig = AciWebservice.deploy_configuration(cpu_cores = 2, \n",
    "                                               memory_gb = 4, \n",
    "                                               tags = {'Company': \"Mashable\", 'type': \"Hyperdrive\"}, \n",
    "                                               description = 'sample service for Capstone Project Hyperdrive Classifier for Online News popularity')\n",
    "aci_service_name = 'hyperdrive-deployment'\n",
    "print(aci_service_name)\n",
    "aci_service = Model.deploy(ws, aci_service_name, [model], inference_config, aciconfig)\n",
    "aci_service.wait_for_deployment(True)\n",
    "print(aci_service.state)\n",
    "print(aci_service.scoring_uri)\n",
    "print(aci_service.swagger_uri)"
   ]
  },
  {
   "cell_type": "code",
   "execution_count": null,
   "id": "charitable-explosion",
   "metadata": {},
   "outputs": [],
   "source": [
    "aci_service.get_logs()"
   ]
  },
  {
   "cell_type": "code",
   "execution_count": null,
   "id": "voluntary-hudson",
   "metadata": {},
   "outputs": [],
   "source": [
    "test_data = pd.concat([X_test, y_test], axis=1)\n",
    "test_data = test_data[10:15]\n",
    "display(test_data)"
   ]
  }
 ],
 "metadata": {
  "kernelspec": {
   "display_name": "UdacityEnv",
   "language": "python",
   "name": "udacityenv"
  },
  "language_info": {
   "codemirror_mode": {
    "name": "ipython",
    "version": 3
   },
   "file_extension": ".py",
   "mimetype": "text/x-python",
   "name": "python",
   "nbconvert_exporter": "python",
   "pygments_lexer": "ipython3",
   "version": "3.6.13"
  }
 },
 "nbformat": 4,
 "nbformat_minor": 5
}
